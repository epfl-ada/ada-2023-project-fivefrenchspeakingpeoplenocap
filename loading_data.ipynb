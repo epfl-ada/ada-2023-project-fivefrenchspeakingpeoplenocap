{
 "cells": [
  {
   "cell_type": "markdown",
   "source": [
    "# Section 0: Importing libraries"
   ],
   "metadata": {
    "collapsed": false
   },
   "id": "b2db9e70c3040687"
  },
  {
   "cell_type": "code",
   "execution_count": 1,
   "id": "initial_id",
   "metadata": {
    "collapsed": true,
    "ExecuteTime": {
     "end_time": "2023-11-11T15:16:53.598492218Z",
     "start_time": "2023-11-11T15:16:53.303345171Z"
    }
   },
   "outputs": [],
   "source": [
    "import pandas as pd\n",
    "import datetime as dt"
   ]
  },
  {
   "cell_type": "markdown",
   "source": [
    "# Section 1: Data pre-processing\n",
    "---\n",
    "(fix broken links and add numbers)\n",
    "[Loading the data](#loading-the-data) \\\n",
    "[Dataset properties](#data-properties)"
   ],
   "metadata": {
    "collapsed": false
   },
   "id": "98b87868d5a62c40"
  },
  {
   "cell_type": "markdown",
   "source": [
    "### Loading the data"
   ],
   "metadata": {
    "collapsed": false
   },
   "id": "9b694b4092d577bd"
  },
  {
   "cell_type": "code",
   "execution_count": 76,
   "outputs": [],
   "source": [
    "# main data path and relative paths to the datasets\n",
    "DATA_PATH = \"./data/\"\n",
    "DATASET_PATH = {\n",
    "    \"movie_metadata\": DATA_PATH + \"movie.metadata.tsv\",\n",
    "    \"character_metadata\": DATA_PATH + \"character.metadata.tsv\",\n",
    "    \"movie_budget\": DATA_PATH + \"movies_metadata.csv\"\n",
    "}"
   ],
   "metadata": {
    "collapsed": false,
    "ExecuteTime": {
     "end_time": "2023-11-11T15:37:32.084482076Z",
     "start_time": "2023-11-11T15:37:32.038110901Z"
    }
   },
   "id": "3ff3c03426fdbad0"
  },
  {
   "cell_type": "code",
   "execution_count": 77,
   "outputs": [],
   "source": [
    "# columns used when loading a specific dataset (for the attribute \"names\" in pandas.read_csv)\n",
    "DATASET_COLUMNS = {\n",
    "    \"movie_metadata\": [\"wikipedia_id\", \"freebase_movie_id\", \"name\", \"release_date\", \"revenue\", \"runtime\", \"languages\", \"countries\", \"genres\"],\n",
    "    \"character_metadata\": [\"wikipedia_id\", \"freebase_movie_id\", \"release_date\", \"character_name\", \"birthday\", \"gender\", \"height\", \"ethnicity\", \"name\", \"age_at_release\", \"freebase_map\", \"freebase_char_id\", \"freebase_actor_id\"],\n",
    "    \"movie_budget\": [\"budget\", \"imdb_id\", \"original_title\", \"popularity\", \"release_date\", \"revenue\", \"runtime\", \"title\", \"vote_average\", \"vote_count\"]\n",
    "}"
   ],
   "metadata": {
    "collapsed": false,
    "ExecuteTime": {
     "end_time": "2023-11-11T15:37:32.484985062Z",
     "start_time": "2023-11-11T15:37:32.483275835Z"
    }
   },
   "id": "70a83259d9c6ec7d"
  },
  {
   "cell_type": "markdown",
   "source": [
    "TODO: Add dtypes for all datasets"
   ],
   "metadata": {
    "collapsed": false
   },
   "id": "bc8361400e574fb6"
  },
  {
   "cell_type": "code",
   "execution_count": 78,
   "outputs": [],
   "source": [
    "DATASET_TYPES = {\n",
    "    \"movie_metadata\": {\n",
    "        \"wikipedia_id\": \"string\",\n",
    "        \"freebase_movie_id\": \"string\",\n",
    "        \"name\": \"string\",\n",
    "        \"release_date\": \"string\",\n",
    "        \"revenue\": \"float64\",\n",
    "        \"runtime\": \"float64\",\n",
    "        \"languages\": \"object\",\n",
    "        \"countries\": \"object\",\n",
    "        \"genres\": \"object\"\n",
    "    },\n",
    "    \"movie_budget\": {\n",
    "        \"budget\": \"o\",\n",
    "        \"imdb_id\": \"string\",\n",
    "        \"original_title\": \"object\",\n",
    "        \"popularity\": \"float64\",\n",
    "        \"release_date\": \"object\",\n",
    "        \"revenue\": \"float64\",\n",
    "        \"runtime\": \"float64\",\n",
    "        \"title\": \"object\",\n",
    "        \"vote_average\": \"float64\",\n",
    "        \"vote_count\": \"float64\"\n",
    "    }\n",
    "}"
   ],
   "metadata": {
    "collapsed": false,
    "ExecuteTime": {
     "end_time": "2023-11-11T15:37:33.350327056Z",
     "start_time": "2023-11-11T15:37:33.347079119Z"
    }
   },
   "id": "a3f5ef5b5fc91091"
  },
  {
   "cell_type": "code",
   "execution_count": 92,
   "outputs": [
    {
     "name": "stderr",
     "output_type": "stream",
     "text": [
      "/tmp/ipykernel_27451/606755449.py:6: DtypeWarning: Columns (10) have mixed types. Specify dtype option on import or set low_memory=False.\n",
      "  movie_budget = pd.read_csv(DATASET_PATH[\"movie_budget\"], sep=',', index_col=False, header=0, usecols=DATASET_COLUMNS[\"movie_budget\"])\n"
     ]
    }
   ],
   "source": [
    "# load the datasets as pandas dataframes\n",
    "movie_metadata = pd.read_csv(DATASET_PATH[\"movie_metadata\"], sep='\\t', names=DATASET_COLUMNS[\"movie_metadata\"], index_col=False, header=None, dtype=DATASET_TYPES[\"movie_metadata\"])\n",
    "\n",
    "character_metadata = pd.read_csv(DATASET_PATH[\"character_metadata\"], sep='\\t', names=DATASET_COLUMNS[\"character_metadata\"], index_col=False, header=None)\n",
    "\n",
    "movie_budget = pd.read_csv(DATASET_PATH[\"movie_budget\"], sep=',', index_col=False, header=0, usecols=DATASET_COLUMNS[\"movie_budget\"])"
   ],
   "metadata": {
    "collapsed": false,
    "ExecuteTime": {
     "end_time": "2023-11-11T15:42:18.297017048Z",
     "start_time": "2023-11-11T15:42:16.706690809Z"
    }
   },
   "id": "ea1c938277b3886c"
  },
  {
   "cell_type": "markdown",
   "source": [
    "### Dataset properties"
   ],
   "metadata": {
    "collapsed": false
   },
   "id": "65ad11dd83924d1a"
  },
  {
   "cell_type": "code",
   "execution_count": 80,
   "outputs": [
    {
     "name": "stdout",
     "output_type": "stream",
     "text": [
      "Number of movie rows:  81741\n",
      "Number of features per movie:  9\n"
     ]
    },
    {
     "data": {
      "text/plain": "      wikipedia_id freebase_movie_id       name release_date  revenue  \\\n14414     22841607         /m/0dysp_  Half-Life         2006      NaN   \n\n       runtime languages                                  countries  \\\n14414    106.0        {}  {\"/m/09c7w0\": \"United States of America\"}   \n\n                                                  genres  \n14414  {\"/m/07s9rl0\": \"Drama\", \"/m/06n90\": \"Science F...  ",
      "text/html": "<div>\n<style scoped>\n    .dataframe tbody tr th:only-of-type {\n        vertical-align: middle;\n    }\n\n    .dataframe tbody tr th {\n        vertical-align: top;\n    }\n\n    .dataframe thead th {\n        text-align: right;\n    }\n</style>\n<table border=\"1\" class=\"dataframe\">\n  <thead>\n    <tr style=\"text-align: right;\">\n      <th></th>\n      <th>wikipedia_id</th>\n      <th>freebase_movie_id</th>\n      <th>name</th>\n      <th>release_date</th>\n      <th>revenue</th>\n      <th>runtime</th>\n      <th>languages</th>\n      <th>countries</th>\n      <th>genres</th>\n    </tr>\n  </thead>\n  <tbody>\n    <tr>\n      <th>14414</th>\n      <td>22841607</td>\n      <td>/m/0dysp_</td>\n      <td>Half-Life</td>\n      <td>2006</td>\n      <td>NaN</td>\n      <td>106.0</td>\n      <td>{}</td>\n      <td>{\"/m/09c7w0\": \"United States of America\"}</td>\n      <td>{\"/m/07s9rl0\": \"Drama\", \"/m/06n90\": \"Science F...</td>\n    </tr>\n  </tbody>\n</table>\n</div>"
     },
     "execution_count": 80,
     "metadata": {},
     "output_type": "execute_result"
    }
   ],
   "source": [
    "print(\"Number of movie rows: \", movie_metadata.shape[0])\n",
    "print(\"Number of features per movie: \", movie_metadata.shape[1])\n",
    "# a random movie sample\n",
    "movie_metadata.sample(1)"
   ],
   "metadata": {
    "collapsed": false,
    "ExecuteTime": {
     "end_time": "2023-11-11T15:37:35.773082200Z",
     "start_time": "2023-11-11T15:37:35.728978980Z"
    }
   },
   "id": "f4d43a49882d8a85"
  },
  {
   "cell_type": "code",
   "execution_count": 81,
   "outputs": [
    {
     "name": "stdout",
     "output_type": "stream",
     "text": [
      "Number of movie budget rows:  45466\n",
      "Number of features per movie budget:  10\n"
     ]
    },
    {
     "data": {
      "text/plain": "     budget    imdb_id original_title popularity release_date  revenue  \\\n3742      0  tt0178050   Sunset Strip   1.172956   2000-08-18      0.0   \n\n      runtime         title  vote_average  vote_count  \n3742     90.0  Sunset Strip           6.0         1.0  ",
      "text/html": "<div>\n<style scoped>\n    .dataframe tbody tr th:only-of-type {\n        vertical-align: middle;\n    }\n\n    .dataframe tbody tr th {\n        vertical-align: top;\n    }\n\n    .dataframe thead th {\n        text-align: right;\n    }\n</style>\n<table border=\"1\" class=\"dataframe\">\n  <thead>\n    <tr style=\"text-align: right;\">\n      <th></th>\n      <th>budget</th>\n      <th>imdb_id</th>\n      <th>original_title</th>\n      <th>popularity</th>\n      <th>release_date</th>\n      <th>revenue</th>\n      <th>runtime</th>\n      <th>title</th>\n      <th>vote_average</th>\n      <th>vote_count</th>\n    </tr>\n  </thead>\n  <tbody>\n    <tr>\n      <th>3742</th>\n      <td>0</td>\n      <td>tt0178050</td>\n      <td>Sunset Strip</td>\n      <td>1.172956</td>\n      <td>2000-08-18</td>\n      <td>0.0</td>\n      <td>90.0</td>\n      <td>Sunset Strip</td>\n      <td>6.0</td>\n      <td>1.0</td>\n    </tr>\n  </tbody>\n</table>\n</div>"
     },
     "execution_count": 81,
     "metadata": {},
     "output_type": "execute_result"
    }
   ],
   "source": [
    "print(\"Number of movie budget rows: \", movie_budget.shape[0])\n",
    "print(\"Number of features per movie budget: \", movie_budget.shape[1])\n",
    "# a random movie budget sample\n",
    "movie_budget.sample(1)"
   ],
   "metadata": {
    "collapsed": false,
    "ExecuteTime": {
     "end_time": "2023-11-11T15:37:35.773910568Z",
     "start_time": "2023-11-11T15:37:35.772505811Z"
    }
   },
   "id": "d1f08f1c402afe59"
  },
  {
   "cell_type": "code",
   "execution_count": 82,
   "outputs": [
    {
     "name": "stdout",
     "output_type": "stream",
     "text": [
      "Number of character rows:  450669\n",
      "Number of features per character:  13\n"
     ]
    },
    {
     "data": {
      "text/plain": "        wikipedia_id freebase_movie_id release_date character_name  \\\n268569       5566343         /m/0dswnn         1932            NaN   \n\n          birthday gender  height ethnicity           name  age_at_release  \\\n268569  1883-04-05      M    1.83       NaN  Walter Huston             NaN   \n\n       freebase_map freebase_char_id freebase_actor_id  \n268569   /m/02vd68w              NaN         /m/012dtw  ",
      "text/html": "<div>\n<style scoped>\n    .dataframe tbody tr th:only-of-type {\n        vertical-align: middle;\n    }\n\n    .dataframe tbody tr th {\n        vertical-align: top;\n    }\n\n    .dataframe thead th {\n        text-align: right;\n    }\n</style>\n<table border=\"1\" class=\"dataframe\">\n  <thead>\n    <tr style=\"text-align: right;\">\n      <th></th>\n      <th>wikipedia_id</th>\n      <th>freebase_movie_id</th>\n      <th>release_date</th>\n      <th>character_name</th>\n      <th>birthday</th>\n      <th>gender</th>\n      <th>height</th>\n      <th>ethnicity</th>\n      <th>name</th>\n      <th>age_at_release</th>\n      <th>freebase_map</th>\n      <th>freebase_char_id</th>\n      <th>freebase_actor_id</th>\n    </tr>\n  </thead>\n  <tbody>\n    <tr>\n      <th>268569</th>\n      <td>5566343</td>\n      <td>/m/0dswnn</td>\n      <td>1932</td>\n      <td>NaN</td>\n      <td>1883-04-05</td>\n      <td>M</td>\n      <td>1.83</td>\n      <td>NaN</td>\n      <td>Walter Huston</td>\n      <td>NaN</td>\n      <td>/m/02vd68w</td>\n      <td>NaN</td>\n      <td>/m/012dtw</td>\n    </tr>\n  </tbody>\n</table>\n</div>"
     },
     "execution_count": 82,
     "metadata": {},
     "output_type": "execute_result"
    }
   ],
   "source": [
    "print(\"Number of character rows: \", character_metadata.shape[0])\n",
    "print(\"Number of features per character: \", character_metadata.shape[1])\n",
    "# a random character sample\n",
    "character_metadata.sample(1)"
   ],
   "metadata": {
    "collapsed": false,
    "ExecuteTime": {
     "end_time": "2023-11-11T15:37:36.410853387Z",
     "start_time": "2023-11-11T15:37:36.387559888Z"
    }
   },
   "id": "39ae5c73f7a1d7c7"
  },
  {
   "cell_type": "markdown",
   "source": [
    "#### Nan values"
   ],
   "metadata": {
    "collapsed": false
   },
   "id": "e71f2e9031326e9b"
  },
  {
   "cell_type": "code",
   "execution_count": 73,
   "outputs": [
    {
     "data": {
      "text/plain": "                   nan_sum  nan_percentage\nwikipedia_id             0        0.000000\nfreebase_movie_id        0        0.000000\nname                     0        0.000000\nrelease_date          6902        8.443743\nrevenue              73340       89.722416\nruntime              20450       25.018045\nlanguages                0        0.000000\ncountries                0        0.000000\ngenres                   0        0.000000",
      "text/html": "<div>\n<style scoped>\n    .dataframe tbody tr th:only-of-type {\n        vertical-align: middle;\n    }\n\n    .dataframe tbody tr th {\n        vertical-align: top;\n    }\n\n    .dataframe thead th {\n        text-align: right;\n    }\n</style>\n<table border=\"1\" class=\"dataframe\">\n  <thead>\n    <tr style=\"text-align: right;\">\n      <th></th>\n      <th>nan_sum</th>\n      <th>nan_percentage</th>\n    </tr>\n  </thead>\n  <tbody>\n    <tr>\n      <th>wikipedia_id</th>\n      <td>0</td>\n      <td>0.000000</td>\n    </tr>\n    <tr>\n      <th>freebase_movie_id</th>\n      <td>0</td>\n      <td>0.000000</td>\n    </tr>\n    <tr>\n      <th>name</th>\n      <td>0</td>\n      <td>0.000000</td>\n    </tr>\n    <tr>\n      <th>release_date</th>\n      <td>6902</td>\n      <td>8.443743</td>\n    </tr>\n    <tr>\n      <th>revenue</th>\n      <td>73340</td>\n      <td>89.722416</td>\n    </tr>\n    <tr>\n      <th>runtime</th>\n      <td>20450</td>\n      <td>25.018045</td>\n    </tr>\n    <tr>\n      <th>languages</th>\n      <td>0</td>\n      <td>0.000000</td>\n    </tr>\n    <tr>\n      <th>countries</th>\n      <td>0</td>\n      <td>0.000000</td>\n    </tr>\n    <tr>\n      <th>genres</th>\n      <td>0</td>\n      <td>0.000000</td>\n    </tr>\n  </tbody>\n</table>\n</div>"
     },
     "execution_count": 73,
     "metadata": {},
     "output_type": "execute_result"
    }
   ],
   "source": [
    "# Create dataframe for nan values with actual sum and percentage\n",
    "pd.DataFrame({'nan_sum': movie_metadata.isna().sum(), 'nan_percentage': movie_metadata.isna().mean() * 100})"
   ],
   "metadata": {
    "collapsed": false,
    "ExecuteTime": {
     "end_time": "2023-11-11T15:35:26.849862677Z",
     "start_time": "2023-11-11T15:35:26.732384713Z"
    }
   },
   "id": "341643cc5e0edfa2"
  },
  {
   "cell_type": "markdown",
   "source": [
    "TODO: Add why we drop the revenue rows with nan"
   ],
   "metadata": {
    "collapsed": false
   },
   "id": "fa996d15d7a709ee"
  },
  {
   "cell_type": "code",
   "execution_count": 74,
   "outputs": [
    {
     "name": "stdout",
     "output_type": "stream",
     "text": [
      "Number of movies before filtering:  81741\n",
      "Number of movies after filtering:  8401\n"
     ]
    }
   ],
   "source": [
    "# create a new movies dataframe without nan values in the revenue column and confirm dimensions\n",
    "movies = movie_metadata.dropna(subset=['revenue']).copy()\n",
    "assert movies.shape[0] == movie_metadata.shape[0] - movie_metadata['revenue'].isna().sum()\n",
    "\n",
    "print(\"Number of movies before filtering: \", movie_metadata.shape[0])\n",
    "print(\"Number of movies after filtering: \", movies.shape[0])"
   ],
   "metadata": {
    "collapsed": false,
    "ExecuteTime": {
     "end_time": "2023-11-11T15:35:28.329776859Z",
     "start_time": "2023-11-11T15:35:28.298068393Z"
    }
   },
   "id": "436465caf147cae2"
  },
  {
   "cell_type": "code",
   "execution_count": null,
   "outputs": [],
   "source": [],
   "metadata": {
    "collapsed": false
   },
   "id": "60fa70012958a2e8"
  }
 ],
 "metadata": {
  "kernelspec": {
   "display_name": "Python 3",
   "language": "python",
   "name": "python3"
  },
  "language_info": {
   "codemirror_mode": {
    "name": "ipython",
    "version": 2
   },
   "file_extension": ".py",
   "mimetype": "text/x-python",
   "name": "python",
   "nbconvert_exporter": "python",
   "pygments_lexer": "ipython2",
   "version": "2.7.6"
  }
 },
 "nbformat": 4,
 "nbformat_minor": 5
}
