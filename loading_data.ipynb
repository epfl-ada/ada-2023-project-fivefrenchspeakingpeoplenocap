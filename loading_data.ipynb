{
 "cells": [
  {
   "cell_type": "markdown",
   "source": [
    "# Section 0: Importing libraries"
   ],
   "metadata": {
    "collapsed": false
   },
   "id": "b2db9e70c3040687"
  },
  {
   "cell_type": "code",
   "execution_count": 49,
   "id": "initial_id",
   "metadata": {
    "collapsed": true,
    "ExecuteTime": {
     "end_time": "2023-11-09T17:17:23.041716299Z",
     "start_time": "2023-11-09T17:17:23.030002308Z"
    }
   },
   "outputs": [],
   "source": [
    "import pandas as pd"
   ]
  },
  {
   "cell_type": "markdown",
   "source": [
    "# Section 1: Data pre-processing\n",
    "---\n",
    "[Loading the data](#loading-the-data) \\\n",
    "[Dataset properties](#data-properties)"
   ],
   "metadata": {
    "collapsed": false
   },
   "id": "98b87868d5a62c40"
  },
  {
   "cell_type": "markdown",
   "source": [
    "### Loading the data"
   ],
   "metadata": {
    "collapsed": false
   },
   "id": "9b694b4092d577bd"
  },
  {
   "cell_type": "code",
   "execution_count": 50,
   "outputs": [],
   "source": [
    "# main data path and relative paths to the datasets\n",
    "DATA_PATH = \"./data/\"\n",
    "DATASET_PATH = {\n",
    "    \"movie_metadata\": DATA_PATH + \"movie.metadata.tsv\",\n",
    "    \"character_metadata\": DATA_PATH + \"character.metadata.tsv\",\n",
    "    \"plot_summaries\": DATA_PATH + \"plot_summaries.txt\",\n",
    "}"
   ],
   "metadata": {
    "collapsed": false,
    "ExecuteTime": {
     "end_time": "2023-11-09T17:17:23.672334040Z",
     "start_time": "2023-11-09T17:17:23.663270593Z"
    }
   },
   "id": "3ff3c03426fdbad0"
  },
  {
   "cell_type": "code",
   "execution_count": 51,
   "outputs": [],
   "source": [
    "# columns used when loading a specific dataset (for the attribute \"names\" in pandas.read_csv)\n",
    "DATASET_COLUMNS = {\n",
    "    \"movie_metadata\": [\"wikipedia_id\", \"freebase_movie_id\", \"name\", \"release_date\", \"revenue\", \"runtime\", \"languages\", \"countries\", \"genres\"],\n",
    "    \"character_metadata\": [\"wikipedia_id\", \"freebase_movie_id\", \"release_date\", \"character_name\", \"birthday\", \"gender\", \"height\", \"ethnicity\", \"name\", \"age_at_release\", \"freebase_map\", \"freebase_char_id\", \"freebase_actor_id\"]\n",
    "}"
   ],
   "metadata": {
    "collapsed": false,
    "ExecuteTime": {
     "end_time": "2023-11-09T17:17:23.921498792Z",
     "start_time": "2023-11-09T17:17:23.906006439Z"
    }
   },
   "id": "70a83259d9c6ec7d"
  },
  {
   "cell_type": "code",
   "execution_count": 52,
   "outputs": [],
   "source": [
    "# load the datasets as pandas dataframes\n",
    "movie_metadata = pd.read_csv(DATASET_PATH[\"movie_metadata\"], sep='\\t', names=DATASET_COLUMNS[\"movie_metadata\"], index_col=False, header=None)\n",
    "character_metadata = pd.read_csv(DATASET_PATH[\"character_metadata\"], sep='\\t', names=DATASET_COLUMNS[\"character_metadata\"], index_col=False, header=None)"
   ],
   "metadata": {
    "collapsed": false,
    "ExecuteTime": {
     "end_time": "2023-11-09T17:17:25.729085452Z",
     "start_time": "2023-11-09T17:17:24.132294083Z"
    }
   },
   "id": "ea1c938277b3886c"
  },
  {
   "cell_type": "markdown",
   "source": [
    "### Dataset properties"
   ],
   "metadata": {
    "collapsed": false
   },
   "id": "65ad11dd83924d1a"
  },
  {
   "cell_type": "code",
   "execution_count": 53,
   "outputs": [
    {
     "name": "stdout",
     "output_type": "stream",
     "text": [
      "Number of movie rows:  81741\n",
      "Number of features per movie:  9\n"
     ]
    },
    {
     "data": {
      "text/plain": "       wikipedia_id freebase_movie_id             name release_date  revenue  \\\n41788       3320322         /m/095mql  Sixth Happiness         1997      NaN   \n\n       runtime languages                       countries  \\\n41788     97.0        {}  {\"/m/07ssc\": \"United Kingdom\"}   \n\n                                                  genres  \n41788  {\"/m/07s9rl0\": \"Drama\", \"/m/01f9r0\": \"Docudram...  ",
      "text/html": "<div>\n<style scoped>\n    .dataframe tbody tr th:only-of-type {\n        vertical-align: middle;\n    }\n\n    .dataframe tbody tr th {\n        vertical-align: top;\n    }\n\n    .dataframe thead th {\n        text-align: right;\n    }\n</style>\n<table border=\"1\" class=\"dataframe\">\n  <thead>\n    <tr style=\"text-align: right;\">\n      <th></th>\n      <th>wikipedia_id</th>\n      <th>freebase_movie_id</th>\n      <th>name</th>\n      <th>release_date</th>\n      <th>revenue</th>\n      <th>runtime</th>\n      <th>languages</th>\n      <th>countries</th>\n      <th>genres</th>\n    </tr>\n  </thead>\n  <tbody>\n    <tr>\n      <th>41788</th>\n      <td>3320322</td>\n      <td>/m/095mql</td>\n      <td>Sixth Happiness</td>\n      <td>1997</td>\n      <td>NaN</td>\n      <td>97.0</td>\n      <td>{}</td>\n      <td>{\"/m/07ssc\": \"United Kingdom\"}</td>\n      <td>{\"/m/07s9rl0\": \"Drama\", \"/m/01f9r0\": \"Docudram...</td>\n    </tr>\n  </tbody>\n</table>\n</div>"
     },
     "execution_count": 53,
     "metadata": {},
     "output_type": "execute_result"
    }
   ],
   "source": [
    "print(\"Number of movie rows: \", movie_metadata.shape[0])\n",
    "print(\"Number of features per movie: \", movie_metadata.shape[1])\n",
    "# a random movie sample\n",
    "movie_metadata.sample(1)"
   ],
   "metadata": {
    "collapsed": false,
    "ExecuteTime": {
     "end_time": "2023-11-09T17:17:25.794667227Z",
     "start_time": "2023-11-09T17:17:25.738818155Z"
    }
   },
   "id": "f4d43a49882d8a85"
  },
  {
   "cell_type": "code",
   "execution_count": 54,
   "outputs": [
    {
     "name": "stdout",
     "output_type": "stream",
     "text": [
      "Number of character rows:  450669\n",
      "Number of features per character:  13\n"
     ]
    },
    {
     "data": {
      "text/plain": "        wikipedia_id freebase_movie_id release_date character_name  \\\n217138      35861350        /m/0jwschy   1927-10-21            NaN   \n\n          birthday gender  height ethnicity             name  age_at_release  \\\n217138  1892-01-19      F    1.65       NaN  Mady Christians             NaN   \n\n       freebase_map freebase_char_id freebase_actor_id  \n217138   /m/0mzndcj              NaN         /m/039m2r  ",
      "text/html": "<div>\n<style scoped>\n    .dataframe tbody tr th:only-of-type {\n        vertical-align: middle;\n    }\n\n    .dataframe tbody tr th {\n        vertical-align: top;\n    }\n\n    .dataframe thead th {\n        text-align: right;\n    }\n</style>\n<table border=\"1\" class=\"dataframe\">\n  <thead>\n    <tr style=\"text-align: right;\">\n      <th></th>\n      <th>wikipedia_id</th>\n      <th>freebase_movie_id</th>\n      <th>release_date</th>\n      <th>character_name</th>\n      <th>birthday</th>\n      <th>gender</th>\n      <th>height</th>\n      <th>ethnicity</th>\n      <th>name</th>\n      <th>age_at_release</th>\n      <th>freebase_map</th>\n      <th>freebase_char_id</th>\n      <th>freebase_actor_id</th>\n    </tr>\n  </thead>\n  <tbody>\n    <tr>\n      <th>217138</th>\n      <td>35861350</td>\n      <td>/m/0jwschy</td>\n      <td>1927-10-21</td>\n      <td>NaN</td>\n      <td>1892-01-19</td>\n      <td>F</td>\n      <td>1.65</td>\n      <td>NaN</td>\n      <td>Mady Christians</td>\n      <td>NaN</td>\n      <td>/m/0mzndcj</td>\n      <td>NaN</td>\n      <td>/m/039m2r</td>\n    </tr>\n  </tbody>\n</table>\n</div>"
     },
     "execution_count": 54,
     "metadata": {},
     "output_type": "execute_result"
    }
   ],
   "source": [
    "print(\"Number of character rows: \", character_metadata.shape[0])\n",
    "print(\"Number of features per character: \", character_metadata.shape[1])\n",
    "# a random character sample\n",
    "character_metadata.sample(1)"
   ],
   "metadata": {
    "collapsed": false,
    "ExecuteTime": {
     "end_time": "2023-11-09T17:17:25.821027217Z",
     "start_time": "2023-11-09T17:17:25.781904102Z"
    }
   },
   "id": "39ae5c73f7a1d7c7"
  },
  {
   "cell_type": "code",
   "execution_count": 44,
   "outputs": [],
   "source": [],
   "metadata": {
    "collapsed": false,
    "ExecuteTime": {
     "end_time": "2023-11-09T17:13:55.389646604Z",
     "start_time": "2023-11-09T17:13:55.348297803Z"
    }
   },
   "id": "341643cc5e0edfa2"
  }
 ],
 "metadata": {
  "kernelspec": {
   "display_name": "Python 3",
   "language": "python",
   "name": "python3"
  },
  "language_info": {
   "codemirror_mode": {
    "name": "ipython",
    "version": 2
   },
   "file_extension": ".py",
   "mimetype": "text/x-python",
   "name": "python",
   "nbconvert_exporter": "python",
   "pygments_lexer": "ipython2",
   "version": "2.7.6"
  }
 },
 "nbformat": 4,
 "nbformat_minor": 5
}
