{
 "cells": [
  {
   "cell_type": "markdown",
   "source": [
    "# Section 0: Importing libraries"
   ],
   "metadata": {
    "collapsed": false
   },
   "id": "b2db9e70c3040687"
  },
  {
   "cell_type": "code",
   "execution_count": 2,
   "id": "initial_id",
   "metadata": {
    "collapsed": true,
    "ExecuteTime": {
     "end_time": "2023-11-09T15:27:41.995572896Z",
     "start_time": "2023-11-09T15:27:41.704243686Z"
    }
   },
   "outputs": [],
   "source": [
    "import pandas as pd"
   ]
  },
  {
   "cell_type": "markdown",
   "source": [
    "# Section 1: Data pre-processing\n",
    "---\n",
    "1.1 [Loading the data](#1.1-Loading-the-data)\n",
    "1.2 [Dataset properties](#1.2-Dataset-properties)"
   ],
   "metadata": {
    "collapsed": false
   },
   "id": "98b87868d5a62c40"
  },
  {
   "cell_type": "markdown",
   "source": [
    "### 1.1 Loading the data"
   ],
   "metadata": {
    "collapsed": false
   },
   "id": "9b694b4092d577bd"
  },
  {
   "cell_type": "code",
   "execution_count": 29,
   "outputs": [],
   "source": [
    "# main data path and relative paths to the datasets\n",
    "DATA_PATH = \"./data/\"\n",
    "DATASET_PATH = {\n",
    "    \"movie_metadata\": DATA_PATH + \"movie.metadata.tsv\",\n",
    "    \"character_metadata\": DATA_PATH + \"character.metadata.tsv\",\n",
    "    \"plot_summaries\": DATA_PATH + \"plot_summaries.txt\",\n",
    "}"
   ],
   "metadata": {
    "collapsed": false,
    "ExecuteTime": {
     "end_time": "2023-11-09T17:02:03.330073392Z",
     "start_time": "2023-11-09T17:02:03.285676280Z"
    }
   },
   "id": "3ff3c03426fdbad0"
  },
  {
   "cell_type": "code",
   "execution_count": 30,
   "outputs": [],
   "source": [
    "# columns used when loading a specific dataset (for the attribute \"names\" in pandas.read_csv)\n",
    "DATASET_COLUMNS = {\n",
    "    \"movie_metadata\": [\"wikipedia_id\", \"freebase_movie_id\", \"name\", \"release_date\", \"revenue\", \"runtime\", \"languages\", \"countries\", \"genres\"],\n",
    "    \"character_metadata\": [\"wikipedia_id\", \"freebase_movie_id\", \"release_date\", \"character_name\", \"birthday\", \"gender\", \"height\", \"ethnicity\", \"name\", \"age_at_release\", \"freebase_map\", \"freebase_char_id\", \"freebase_actor_id\"]\n",
    "}"
   ],
   "metadata": {
    "collapsed": false,
    "ExecuteTime": {
     "end_time": "2023-11-09T17:02:03.630265155Z",
     "start_time": "2023-11-09T17:02:03.619907521Z"
    }
   },
   "id": "70a83259d9c6ec7d"
  },
  {
   "cell_type": "code",
   "execution_count": 31,
   "outputs": [],
   "source": [
    "# load the datasets as pandas dataframes\n",
    "movie_metadata = pd.read_csv(DATASET_PATH[\"movie_metadata\"], sep='\\t', names=DATASET_COLUMNS[\"movie_metadata\"], index_col=False, header=None)\n",
    "character_metadata = pd.read_csv(DATASET_PATH[\"character_metadata\"], sep='\\t', names=DATASET_COLUMNS[\"character_metadata\"], index_col=False, header=None)"
   ],
   "metadata": {
    "collapsed": false,
    "ExecuteTime": {
     "end_time": "2023-11-09T17:02:05.800257733Z",
     "start_time": "2023-11-09T17:02:04.173550788Z"
    }
   },
   "id": "ea1c938277b3886c"
  },
  {
   "cell_type": "markdown",
   "source": [
    "### 1.2 Dataset properties"
   ],
   "metadata": {
    "collapsed": false
   },
   "id": "65ad11dd83924d1a"
  },
  {
   "cell_type": "code",
   "execution_count": 38,
   "outputs": [
    {
     "name": "stdout",
     "output_type": "stream",
     "text": [
      "Number of movie rows:  81741\n",
      "Number of features per movie:  9\n"
     ]
    },
    {
     "data": {
      "text/plain": "       wikipedia_id freebase_movie_id    name release_date      revenue  \\\n51124         44302          /m/0c296  Amélie   2001-04-25  173921954.0   \n\n       runtime                                          languages  \\\n51124    120.0  {\"/m/064_8sq\": \"French Language\", \"/m/06b_j\": ...   \n\n                                            countries  \\\n51124  {\"/m/0f8l9c\": \"France\", \"/m/0345h\": \"Germany\"}   \n\n                                                  genres  \n51124  {\"/m/06cvj\": \"Romantic comedy\", \"/m/03q4nz\": \"...  ",
      "text/html": "<div>\n<style scoped>\n    .dataframe tbody tr th:only-of-type {\n        vertical-align: middle;\n    }\n\n    .dataframe tbody tr th {\n        vertical-align: top;\n    }\n\n    .dataframe thead th {\n        text-align: right;\n    }\n</style>\n<table border=\"1\" class=\"dataframe\">\n  <thead>\n    <tr style=\"text-align: right;\">\n      <th></th>\n      <th>wikipedia_id</th>\n      <th>freebase_movie_id</th>\n      <th>name</th>\n      <th>release_date</th>\n      <th>revenue</th>\n      <th>runtime</th>\n      <th>languages</th>\n      <th>countries</th>\n      <th>genres</th>\n    </tr>\n  </thead>\n  <tbody>\n    <tr>\n      <th>51124</th>\n      <td>44302</td>\n      <td>/m/0c296</td>\n      <td>Amélie</td>\n      <td>2001-04-25</td>\n      <td>173921954.0</td>\n      <td>120.0</td>\n      <td>{\"/m/064_8sq\": \"French Language\", \"/m/06b_j\": ...</td>\n      <td>{\"/m/0f8l9c\": \"France\", \"/m/0345h\": \"Germany\"}</td>\n      <td>{\"/m/06cvj\": \"Romantic comedy\", \"/m/03q4nz\": \"...</td>\n    </tr>\n  </tbody>\n</table>\n</div>"
     },
     "execution_count": 38,
     "metadata": {},
     "output_type": "execute_result"
    }
   ],
   "source": [
    "print(\"Number of movie rows: \", movie_metadata.shape[0])\n",
    "print(\"Number of features per movie: \", movie_metadata.shape[1])\n",
    "# a random movie sample\n",
    "movie_metadata.sample(1)"
   ],
   "metadata": {
    "collapsed": false,
    "ExecuteTime": {
     "end_time": "2023-11-09T17:02:35.585301834Z",
     "start_time": "2023-11-09T17:02:35.565773596Z"
    }
   },
   "id": "f4d43a49882d8a85"
  },
  {
   "cell_type": "code",
   "execution_count": 37,
   "outputs": [
    {
     "name": "stdout",
     "output_type": "stream",
     "text": [
      "Number of character rows:  450669\n",
      "Number of features per character:  13\n"
     ]
    },
    {
     "data": {
      "text/plain": "        wikipedia_id freebase_movie_id release_date character_name  \\\n407080        160047        /m/025rxjq   2000-03-17         Anaugh   \n\n          birthday gender  height ethnicity          name  age_at_release  \\\n407080  1975-01-29      F     1.6  /m/041rx  Sara Gilbert            25.0   \n\n       freebase_map freebase_char_id freebase_actor_id  \n407080   /m/03l601j       /m/09j601l         /m/026l1g  ",
      "text/html": "<div>\n<style scoped>\n    .dataframe tbody tr th:only-of-type {\n        vertical-align: middle;\n    }\n\n    .dataframe tbody tr th {\n        vertical-align: top;\n    }\n\n    .dataframe thead th {\n        text-align: right;\n    }\n</style>\n<table border=\"1\" class=\"dataframe\">\n  <thead>\n    <tr style=\"text-align: right;\">\n      <th></th>\n      <th>wikipedia_id</th>\n      <th>freebase_movie_id</th>\n      <th>release_date</th>\n      <th>character_name</th>\n      <th>birthday</th>\n      <th>gender</th>\n      <th>height</th>\n      <th>ethnicity</th>\n      <th>name</th>\n      <th>age_at_release</th>\n      <th>freebase_map</th>\n      <th>freebase_char_id</th>\n      <th>freebase_actor_id</th>\n    </tr>\n  </thead>\n  <tbody>\n    <tr>\n      <th>407080</th>\n      <td>160047</td>\n      <td>/m/025rxjq</td>\n      <td>2000-03-17</td>\n      <td>Anaugh</td>\n      <td>1975-01-29</td>\n      <td>F</td>\n      <td>1.6</td>\n      <td>/m/041rx</td>\n      <td>Sara Gilbert</td>\n      <td>25.0</td>\n      <td>/m/03l601j</td>\n      <td>/m/09j601l</td>\n      <td>/m/026l1g</td>\n    </tr>\n  </tbody>\n</table>\n</div>"
     },
     "execution_count": 37,
     "metadata": {},
     "output_type": "execute_result"
    }
   ],
   "source": [
    "print(\"Number of character rows: \", character_metadata.shape[0])\n",
    "print(\"Number of features per character: \", character_metadata.shape[1])\n",
    "# a random character sample\n",
    "character_metadata.sample(1)"
   ],
   "metadata": {
    "collapsed": false,
    "ExecuteTime": {
     "end_time": "2023-11-09T17:02:31.453598913Z",
     "start_time": "2023-11-09T17:02:31.422187723Z"
    }
   },
   "id": "39ae5c73f7a1d7c7"
  },
  {
   "cell_type": "code",
   "execution_count": null,
   "outputs": [],
   "source": [],
   "metadata": {
    "collapsed": false
   },
   "id": "48d66ccd3ac31667"
  }
 ],
 "metadata": {
  "kernelspec": {
   "display_name": "Python 3",
   "language": "python",
   "name": "python3"
  },
  "language_info": {
   "codemirror_mode": {
    "name": "ipython",
    "version": 2
   },
   "file_extension": ".py",
   "mimetype": "text/x-python",
   "name": "python",
   "nbconvert_exporter": "python",
   "pygments_lexer": "ipython2",
   "version": "2.7.6"
  }
 },
 "nbformat": 4,
 "nbformat_minor": 5
}
