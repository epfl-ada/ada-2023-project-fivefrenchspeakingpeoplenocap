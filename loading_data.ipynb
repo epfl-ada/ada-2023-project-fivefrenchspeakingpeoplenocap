{
 "cells": [
  {
   "cell_type": "markdown",
   "source": [
    "# Section 0: Importing libraries"
   ],
   "metadata": {
    "collapsed": false
   },
   "id": "b2db9e70c3040687"
  },
  {
   "cell_type": "code",
   "execution_count": 99,
   "id": "initial_id",
   "metadata": {
    "collapsed": true,
    "ExecuteTime": {
     "end_time": "2023-11-13T18:21:04.551075876Z",
     "start_time": "2023-11-13T18:21:04.208265853Z"
    }
   },
   "outputs": [],
   "source": [
    "import pandas as pd\n",
    "import numpy as np\n",
    "import matplotlib.pyplot as plt\n",
    "import seaborn as sns\n",
    "\n",
    "from scipy import stats\n",
    "from statsmodels.stats import diagnostic"
   ]
  },
  {
   "cell_type": "markdown",
   "source": [
    "# Section 1: Data pre-processing\n",
    "---\n",
    "(fix broken links and add numbers)\n",
    "[Loading the data](#loading-the-data) \\\n",
    "[Dataset properties](#data-properties)"
   ],
   "metadata": {
    "collapsed": false
   },
   "id": "98b87868d5a62c40"
  },
  {
   "cell_type": "markdown",
   "source": [
    "### Loading the data"
   ],
   "metadata": {
    "collapsed": false
   },
   "id": "9b694b4092d577bd"
  },
  {
   "cell_type": "code",
   "execution_count": 2,
   "outputs": [],
   "source": [
    "# main data path and relative paths to the datasets\n",
    "DATA_PATH = \"./data/\"\n",
    "DATA_PATH_MOVIESUMMARIES = DATA_PATH + \"MovieSummaries/\"\n",
    "DATA_PATH_MOVIELENS = DATA_PATH + \"MovieLens/\"\n",
    "DATA_PATH_IMDB = DATA_PATH + \"IMDBData/\"\n",
    "DATASET_PATH = {\n",
    "    \"movie_metadata\": DATA_PATH_MOVIESUMMARIES + \"movie.metadata.tsv\",\n",
    "    \"movie_budget\": DATA_PATH_MOVIELENS + \"movies_metadata.csv\",\n",
    "    \"imdb_ratings\": DATA_PATH_IMDB + \"title.ratings.tsv\",\n",
    "    \"imdb_basics\": DATA_PATH_IMDB + \"title.basics.tsv\",\n",
    "}\n",
    "DATASET_COLUMNS = {\n",
    "    \"movie_metadata\": [\n",
    "        \"wikipedia_id\",\n",
    "        \"freebase_movie_id\",\n",
    "        \"title\",\n",
    "        \"release_date\",\n",
    "        \"revenue\",\n",
    "        \"runtime\",\n",
    "        \"languages\",\n",
    "        \"countries\",\n",
    "        \"genres\",\n",
    "    ],\n",
    "    \"movie_budget\": [\n",
    "        \"budget\",\n",
    "        \"imdb_id\",\n",
    "        \"original_title\",\n",
    "        \"popularity\",\n",
    "        \"release_date\",\n",
    "        \"revenue\",\n",
    "        \"runtime\",\n",
    "        \"title\",\n",
    "        \"vote_average\",\n",
    "        \"vote_count\",\n",
    "    ],\n",
    "    \"imdb_ratings\": [\"imdb_id\", \"imdb_rating\", \"num_votes\"],\n",
    "    \"imdb_basics\": [\n",
    "        \"imdb_id\",\n",
    "        \"title_type\",\n",
    "        \"primary_title\",\n",
    "        \"title\",\n",
    "        \"is_adult\",\n",
    "        \"year\",\n",
    "        \"end_year\",\n",
    "        \"runtime\",\n",
    "        \"genres\",\n",
    "    ],\n",
    "}"
   ],
   "metadata": {
    "collapsed": false,
    "ExecuteTime": {
     "end_time": "2023-11-13T17:27:02.893155014Z",
     "start_time": "2023-11-13T17:27:02.871371055Z"
    }
   },
   "id": "3ff3c03426fdbad0"
  },
  {
   "cell_type": "markdown",
   "source": [
    "TODO: Add dtypes for all datasets"
   ],
   "metadata": {
    "collapsed": false
   },
   "id": "bc8361400e574fb6"
  },
  {
   "cell_type": "code",
   "execution_count": 3,
   "outputs": [],
   "source": [
    "DATASET_TYPES = {\n",
    "    \"movie_metadata\": {\n",
    "        \"wikipedia_id\": \"string\",\n",
    "        \"freebase_movie_id\": \"string\",\n",
    "        \"title\": \"string\",\n",
    "        \"release_date\": \"string\",\n",
    "        \"revenue\": \"float64\",\n",
    "        \"runtime\": \"string\",\n",
    "        \"languages\": \"object\",\n",
    "        \"countries\": \"object\",\n",
    "        \"genres\": \"object\",\n",
    "    },\n",
    "    \"movie_budget\": {\n",
    "        \"budget\": \"object\",\n",
    "        \"imdb_id\": \"string\",\n",
    "        \"original_title\": \"object\",\n",
    "        \"popularity\": \"object\",\n",
    "        \"release_date\": \"object\",\n",
    "        \"revenue\": \"float64\",\n",
    "        \"runtime\": \"string\",\n",
    "        \"title\": \"object\",\n",
    "        \"vote_average\": \"float64\",\n",
    "        \"vote_count\": \"float64\",\n",
    "    },\n",
    "    \"imdb_ratings\": {\n",
    "        \"imdb_id\": \"string\",\n",
    "        \"imdb_rating\": \"float64\",\n",
    "        \"num_votes\": \"int64\",\n",
    "    },\n",
    "    \"imdb_basics\": {\n",
    "        \"imdb_id\": \"string\",\n",
    "        \"title_type\": \"string\",\n",
    "        \"primary_title\": \"string\",\n",
    "        \"title\": \"string\",\n",
    "        \"is_adult\": \"string\",\n",
    "        \"year\": \"string\",\n",
    "        \"end_year\": \"string\",\n",
    "        \"runtime\": \"string\",\n",
    "        \"genres\": \"string\",\n",
    "    },\n",
    "}"
   ],
   "metadata": {
    "collapsed": false,
    "ExecuteTime": {
     "end_time": "2023-11-13T17:27:02.895644389Z",
     "start_time": "2023-11-13T17:27:02.875672552Z"
    }
   },
   "id": "a3f5ef5b5fc91091"
  },
  {
   "cell_type": "code",
   "execution_count": 4,
   "outputs": [],
   "source": [
    "# load the datasets as pandas dataframes\n",
    "movie_metadata = pd.read_csv(\n",
    "    DATASET_PATH[\"movie_metadata\"],\n",
    "    sep=\"\\t\",\n",
    "    names=DATASET_COLUMNS[\"movie_metadata\"],\n",
    "    index_col=False,\n",
    "    header=None,\n",
    "    dtype=DATASET_TYPES[\"movie_metadata\"],\n",
    ")\n",
    "movie_budget = pd.read_csv(\n",
    "    DATASET_PATH[\"movie_budget\"],\n",
    "    sep=\",\",\n",
    "    usecols=DATASET_COLUMNS[\"movie_budget\"],\n",
    "    index_col=False,\n",
    "    header=0,\n",
    "    dtype=DATASET_TYPES[\"movie_budget\"],\n",
    ")\n",
    "imdb_ratings = pd.read_csv(\n",
    "    DATASET_PATH[\"imdb_ratings\"],\n",
    "    sep=\"\\t\",\n",
    "    names=DATASET_COLUMNS[\"imdb_ratings\"],\n",
    "    index_col=False,\n",
    "    header=0,\n",
    "    dtype=DATASET_TYPES[\"imdb_ratings\"],\n",
    ")\n",
    "imdb_basics = pd.read_csv(\n",
    "    DATASET_PATH[\"imdb_basics\"],\n",
    "    sep=\"\\t\",\n",
    "    names=DATASET_COLUMNS[\"imdb_basics\"],\n",
    "    index_col=False,\n",
    "    header=0,\n",
    "    dtype=DATASET_TYPES[\"imdb_basics\"],\n",
    ")"
   ],
   "metadata": {
    "collapsed": false,
    "ExecuteTime": {
     "end_time": "2023-11-13T17:27:25.525196442Z",
     "start_time": "2023-11-13T17:27:02.887320933Z"
    }
   },
   "id": "ea1c938277b3886c"
  },
  {
   "cell_type": "markdown",
   "source": [
    "### Dataset overview"
   ],
   "metadata": {
    "collapsed": false
   },
   "id": "65ad11dd83924d1a"
  },
  {
   "cell_type": "code",
   "execution_count": 5,
   "outputs": [
    {
     "name": "stdout",
     "output_type": "stream",
     "text": [
      "Movie Metadata Shape:  (81741, 9)\n",
      "MovieLens Budget Shape:  (45466, 10)\n",
      "IMDB Ratings Shape:  (1368131, 3)\n",
      "IMDB Basics Shape:  (10309011, 9)\n"
     ]
    }
   ],
   "source": [
    "# Print the shapes of the datasets\n",
    "print(\"Movie Metadata Shape: \", movie_metadata.shape)\n",
    "print(\"MovieLens Budget Shape: \", movie_budget.shape)\n",
    "print(\"IMDB Ratings Shape: \", imdb_ratings.shape)\n",
    "print(\"IMDB Basics Shape: \", imdb_basics.shape)"
   ],
   "metadata": {
    "collapsed": false,
    "ExecuteTime": {
     "end_time": "2023-11-13T17:27:25.552253120Z",
     "start_time": "2023-11-13T17:27:25.527486311Z"
    }
   },
   "id": "cc845839d0dfe618"
  },
  {
   "cell_type": "markdown",
   "source": [
    "Below we show a sample from each dataframe to get a feel for the data:"
   ],
   "metadata": {
    "collapsed": false
   },
   "id": "18c935873a844f5f"
  },
  {
   "cell_type": "code",
   "execution_count": 6,
   "outputs": [
    {
     "data": {
      "text/plain": "      wikipedia_id freebase_movie_id           title release_date     revenue  \\\n77860      5123642         /m/0d3rr9  Never Cry Wolf   1983-10-07  27668764.0   \n\n      runtime                                          languages  \\\n77860    91.0  {\"/m/0322q8\": \"Inuktitut\", \"/m/02h40lc\": \"Engl...   \n\n                                       countries  \\\n77860  {\"/m/09c7w0\": \"United States of America\"}   \n\n                                                  genres  \n77860  {\"/m/03btsm8\": \"Action/Adventure\", \"/m/0hj3mtj...  ",
      "text/html": "<div>\n<style scoped>\n    .dataframe tbody tr th:only-of-type {\n        vertical-align: middle;\n    }\n\n    .dataframe tbody tr th {\n        vertical-align: top;\n    }\n\n    .dataframe thead th {\n        text-align: right;\n    }\n</style>\n<table border=\"1\" class=\"dataframe\">\n  <thead>\n    <tr style=\"text-align: right;\">\n      <th></th>\n      <th>wikipedia_id</th>\n      <th>freebase_movie_id</th>\n      <th>title</th>\n      <th>release_date</th>\n      <th>revenue</th>\n      <th>runtime</th>\n      <th>languages</th>\n      <th>countries</th>\n      <th>genres</th>\n    </tr>\n  </thead>\n  <tbody>\n    <tr>\n      <th>77860</th>\n      <td>5123642</td>\n      <td>/m/0d3rr9</td>\n      <td>Never Cry Wolf</td>\n      <td>1983-10-07</td>\n      <td>27668764.0</td>\n      <td>91.0</td>\n      <td>{\"/m/0322q8\": \"Inuktitut\", \"/m/02h40lc\": \"Engl...</td>\n      <td>{\"/m/09c7w0\": \"United States of America\"}</td>\n      <td>{\"/m/03btsm8\": \"Action/Adventure\", \"/m/0hj3mtj...</td>\n    </tr>\n  </tbody>\n</table>\n</div>"
     },
     "execution_count": 6,
     "metadata": {},
     "output_type": "execute_result"
    }
   ],
   "source": [
    "movie_metadata.sample(1)"
   ],
   "metadata": {
    "collapsed": false,
    "ExecuteTime": {
     "end_time": "2023-11-13T17:27:25.588402084Z",
     "start_time": "2023-11-13T17:27:25.532571508Z"
    }
   },
   "id": "f4d43a49882d8a85"
  },
  {
   "cell_type": "code",
   "execution_count": 7,
   "outputs": [
    {
     "data": {
      "text/plain": "      budget    imdb_id original_title popularity release_date  revenue  \\\n19006      0  tt1753995          친구사이?   0.239151   2009-12-17      0.0   \n\n      runtime          title  vote_average  vote_count  \n19006    29.0  Just Friends?           6.5         4.0  ",
      "text/html": "<div>\n<style scoped>\n    .dataframe tbody tr th:only-of-type {\n        vertical-align: middle;\n    }\n\n    .dataframe tbody tr th {\n        vertical-align: top;\n    }\n\n    .dataframe thead th {\n        text-align: right;\n    }\n</style>\n<table border=\"1\" class=\"dataframe\">\n  <thead>\n    <tr style=\"text-align: right;\">\n      <th></th>\n      <th>budget</th>\n      <th>imdb_id</th>\n      <th>original_title</th>\n      <th>popularity</th>\n      <th>release_date</th>\n      <th>revenue</th>\n      <th>runtime</th>\n      <th>title</th>\n      <th>vote_average</th>\n      <th>vote_count</th>\n    </tr>\n  </thead>\n  <tbody>\n    <tr>\n      <th>19006</th>\n      <td>0</td>\n      <td>tt1753995</td>\n      <td>친구사이?</td>\n      <td>0.239151</td>\n      <td>2009-12-17</td>\n      <td>0.0</td>\n      <td>29.0</td>\n      <td>Just Friends?</td>\n      <td>6.5</td>\n      <td>4.0</td>\n    </tr>\n  </tbody>\n</table>\n</div>"
     },
     "execution_count": 7,
     "metadata": {},
     "output_type": "execute_result"
    }
   ],
   "source": [
    "movie_budget.sample(1)"
   ],
   "metadata": {
    "collapsed": false,
    "ExecuteTime": {
     "end_time": "2023-11-13T17:27:25.598720095Z",
     "start_time": "2023-11-13T17:27:25.562193512Z"
    }
   },
   "id": "d1f08f1c402afe59"
  },
  {
   "cell_type": "code",
   "execution_count": 8,
   "outputs": [
    {
     "data": {
      "text/plain": "          imdb_id  imdb_rating  num_votes\n240057  tt0438255          8.0          6",
      "text/html": "<div>\n<style scoped>\n    .dataframe tbody tr th:only-of-type {\n        vertical-align: middle;\n    }\n\n    .dataframe tbody tr th {\n        vertical-align: top;\n    }\n\n    .dataframe thead th {\n        text-align: right;\n    }\n</style>\n<table border=\"1\" class=\"dataframe\">\n  <thead>\n    <tr style=\"text-align: right;\">\n      <th></th>\n      <th>imdb_id</th>\n      <th>imdb_rating</th>\n      <th>num_votes</th>\n    </tr>\n  </thead>\n  <tbody>\n    <tr>\n      <th>240057</th>\n      <td>tt0438255</td>\n      <td>8.0</td>\n      <td>6</td>\n    </tr>\n  </tbody>\n</table>\n</div>"
     },
     "execution_count": 8,
     "metadata": {},
     "output_type": "execute_result"
    }
   ],
   "source": [
    "imdb_ratings.sample(1)"
   ],
   "metadata": {
    "collapsed": false,
    "ExecuteTime": {
     "end_time": "2023-11-13T17:27:25.685351774Z",
     "start_time": "2023-11-13T17:27:25.567047193Z"
    }
   },
   "id": "1e86285495de0941"
  },
  {
   "cell_type": "code",
   "execution_count": 9,
   "outputs": [
    {
     "data": {
      "text/plain": "            imdb_id title_type            primary_title  \\\n6660068  tt27813267   tvSeries  Le château de mes rêves   \n\n                           title is_adult  year end_year runtime      genres  \n6660068  Le château de mes rêves        0  2022       \\N      52  Reality-TV  ",
      "text/html": "<div>\n<style scoped>\n    .dataframe tbody tr th:only-of-type {\n        vertical-align: middle;\n    }\n\n    .dataframe tbody tr th {\n        vertical-align: top;\n    }\n\n    .dataframe thead th {\n        text-align: right;\n    }\n</style>\n<table border=\"1\" class=\"dataframe\">\n  <thead>\n    <tr style=\"text-align: right;\">\n      <th></th>\n      <th>imdb_id</th>\n      <th>title_type</th>\n      <th>primary_title</th>\n      <th>title</th>\n      <th>is_adult</th>\n      <th>year</th>\n      <th>end_year</th>\n      <th>runtime</th>\n      <th>genres</th>\n    </tr>\n  </thead>\n  <tbody>\n    <tr>\n      <th>6660068</th>\n      <td>tt27813267</td>\n      <td>tvSeries</td>\n      <td>Le château de mes rêves</td>\n      <td>Le château de mes rêves</td>\n      <td>0</td>\n      <td>2022</td>\n      <td>\\N</td>\n      <td>52</td>\n      <td>Reality-TV</td>\n    </tr>\n  </tbody>\n</table>\n</div>"
     },
     "execution_count": 9,
     "metadata": {},
     "output_type": "execute_result"
    }
   ],
   "source": [
    "imdb_basics.sample(1)"
   ],
   "metadata": {
    "collapsed": false,
    "ExecuteTime": {
     "end_time": "2023-11-13T17:27:26.199754250Z",
     "start_time": "2023-11-13T17:27:25.655030037Z"
    }
   },
   "id": "b285c50deecb5c0b"
  },
  {
   "cell_type": "markdown",
   "source": [
    "#### Data Handling"
   ],
   "metadata": {
    "collapsed": false
   },
   "id": "3f55b454e84e17d8"
  },
  {
   "cell_type": "markdown",
   "source": [
    "---\n",
    "##### Dataset: `movie_metadata`"
   ],
   "metadata": {
    "collapsed": false
   },
   "id": "6d66f13d7f18dc36"
  },
  {
   "cell_type": "code",
   "execution_count": 10,
   "outputs": [
    {
     "name": "stdout",
     "output_type": "stream",
     "text": [
      "Total amount of rows that contain a NaN value:  73498\n"
     ]
    },
    {
     "data": {
      "text/plain": "                   nan_sum  nan_percentage\nwikipedia_id             0        0.000000\nfreebase_movie_id        0        0.000000\ntitle                    0        0.000000\nrelease_date          6902        8.443743\nrevenue              73340       89.722416\nruntime              20450       25.018045\nlanguages                0        0.000000\ncountries                0        0.000000\ngenres                   0        0.000000",
      "text/html": "<div>\n<style scoped>\n    .dataframe tbody tr th:only-of-type {\n        vertical-align: middle;\n    }\n\n    .dataframe tbody tr th {\n        vertical-align: top;\n    }\n\n    .dataframe thead th {\n        text-align: right;\n    }\n</style>\n<table border=\"1\" class=\"dataframe\">\n  <thead>\n    <tr style=\"text-align: right;\">\n      <th></th>\n      <th>nan_sum</th>\n      <th>nan_percentage</th>\n    </tr>\n  </thead>\n  <tbody>\n    <tr>\n      <th>wikipedia_id</th>\n      <td>0</td>\n      <td>0.000000</td>\n    </tr>\n    <tr>\n      <th>freebase_movie_id</th>\n      <td>0</td>\n      <td>0.000000</td>\n    </tr>\n    <tr>\n      <th>title</th>\n      <td>0</td>\n      <td>0.000000</td>\n    </tr>\n    <tr>\n      <th>release_date</th>\n      <td>6902</td>\n      <td>8.443743</td>\n    </tr>\n    <tr>\n      <th>revenue</th>\n      <td>73340</td>\n      <td>89.722416</td>\n    </tr>\n    <tr>\n      <th>runtime</th>\n      <td>20450</td>\n      <td>25.018045</td>\n    </tr>\n    <tr>\n      <th>languages</th>\n      <td>0</td>\n      <td>0.000000</td>\n    </tr>\n    <tr>\n      <th>countries</th>\n      <td>0</td>\n      <td>0.000000</td>\n    </tr>\n    <tr>\n      <th>genres</th>\n      <td>0</td>\n      <td>0.000000</td>\n    </tr>\n  </tbody>\n</table>\n</div>"
     },
     "execution_count": 10,
     "metadata": {},
     "output_type": "execute_result"
    }
   ],
   "source": [
    "print(\"Total amount of rows that contain a NaN value: \", movie_metadata.isna().any(axis=1).sum())\n",
    "pd.DataFrame({'nan_sum': movie_metadata.isna().sum(), 'nan_percentage': movie_metadata.isna().mean() * 100})"
   ],
   "metadata": {
    "collapsed": false,
    "ExecuteTime": {
     "end_time": "2023-11-13T17:27:30.727090895Z",
     "start_time": "2023-11-13T17:27:30.569401254Z"
    }
   },
   "id": "3d430600de538dcb"
  },
  {
   "cell_type": "markdown",
   "source": [
    "This shows that some of the rows that contain NaN values could also be overlapping. We will drop all rows that contain NaN values in order to be able to properly merge to the corresponding external datasets. "
   ],
   "metadata": {
    "collapsed": false
   },
   "id": "1036b07dc2e45b24"
  },
  {
   "cell_type": "code",
   "execution_count": 11,
   "outputs": [
    {
     "name": "stdout",
     "output_type": "stream",
     "text": [
      "Number of movies before dropping NaNs: 81741\n",
      "Number of movies after dropping NaNs: 8243\n",
      "The dataset shrinked by 89.92%\n"
     ]
    }
   ],
   "source": [
    "# find the percentage of the dataframe reduction after dropping NaNs\n",
    "original_rows = movie_metadata.shape[0]\n",
    "print(\"Number of movies before dropping NaNs:\", original_rows)\n",
    "movie_metadata = movie_metadata.dropna()\n",
    "print(\"Number of movies after dropping NaNs:\", movie_metadata.shape[0])\n",
    "print(\"The dataset shrinked by {:.2f}%\".format((original_rows - movie_metadata.shape[0]) / original_rows * 100))"
   ],
   "metadata": {
    "collapsed": false,
    "ExecuteTime": {
     "end_time": "2023-11-13T17:27:31.782978184Z",
     "start_time": "2023-11-13T17:27:31.770543155Z"
    }
   },
   "id": "84a6232f8929a8ad"
  },
  {
   "cell_type": "markdown",
   "source": [
    "It is important to also check if there are movies with a revenue of value 0 as it has an equal meaning and impact as NaNs in our scenario. Movies that have 0 revenue, means that they have missing (or did not generate) any revenue. We will drop these movies as well (if any)."
   ],
   "metadata": {
    "collapsed": false
   },
   "id": "fbd3cc87a263d5dd"
  },
  {
   "cell_type": "code",
   "execution_count": 12,
   "outputs": [
    {
     "name": "stdout",
     "output_type": "stream",
     "text": [
      "Number of movies with 0 revenue: 0\n"
     ]
    }
   ],
   "source": [
    "# find if there are any movies with 0 revenue\n",
    "print(\"Number of movies with 0 revenue:\", movie_metadata[movie_metadata[\"revenue\"] == 0].shape[0])"
   ],
   "metadata": {
    "collapsed": false,
    "ExecuteTime": {
     "end_time": "2023-11-13T17:27:32.774232244Z",
     "start_time": "2023-11-13T17:27:32.729103407Z"
    }
   },
   "id": "d8daa92413ebabcd"
  },
  {
   "cell_type": "markdown",
   "source": [
    "In order to be able to merge the datasets, we need to do some small adjustments to some of the features of the current dataset. Particularly, from all values in `release_date` we will extract the release year and store it in a new column `year` as dates do not all follow the same format, but they all contain the release year."
   ],
   "metadata": {
    "collapsed": false
   },
   "id": "44d3ffa26e62a9f4"
  },
  {
   "cell_type": "code",
   "execution_count": 13,
   "outputs": [
    {
     "data": {
      "text/plain": "      wikipedia_id freebase_movie_id                  title release_date  \\\n51022     10296498        /m/02q7q1w  The Nutcracker Prince   1990-11-21   \n\n         revenue runtime                           languages  \\\n51022  1781694.0      75  {\"/m/02h40lc\": \"English Language\"}   \n\n                     countries  \\\n51022  {\"/m/0d060g\": \"Canada\"}   \n\n                                                  genres  year  \n51022  {\"/m/03k9fj\": \"Adventure\", \"/m/0hj3myq\": \"Chil...  1990  ",
      "text/html": "<div>\n<style scoped>\n    .dataframe tbody tr th:only-of-type {\n        vertical-align: middle;\n    }\n\n    .dataframe tbody tr th {\n        vertical-align: top;\n    }\n\n    .dataframe thead th {\n        text-align: right;\n    }\n</style>\n<table border=\"1\" class=\"dataframe\">\n  <thead>\n    <tr style=\"text-align: right;\">\n      <th></th>\n      <th>wikipedia_id</th>\n      <th>freebase_movie_id</th>\n      <th>title</th>\n      <th>release_date</th>\n      <th>revenue</th>\n      <th>runtime</th>\n      <th>languages</th>\n      <th>countries</th>\n      <th>genres</th>\n      <th>year</th>\n    </tr>\n  </thead>\n  <tbody>\n    <tr>\n      <th>51022</th>\n      <td>10296498</td>\n      <td>/m/02q7q1w</td>\n      <td>The Nutcracker Prince</td>\n      <td>1990-11-21</td>\n      <td>1781694.0</td>\n      <td>75</td>\n      <td>{\"/m/02h40lc\": \"English Language\"}</td>\n      <td>{\"/m/0d060g\": \"Canada\"}</td>\n      <td>{\"/m/03k9fj\": \"Adventure\", \"/m/0hj3myq\": \"Chil...</td>\n      <td>1990</td>\n    </tr>\n  </tbody>\n</table>\n</div>"
     },
     "execution_count": 13,
     "metadata": {},
     "output_type": "execute_result"
    }
   ],
   "source": [
    "# runtime was converted from float to string, so the substring \".0\" needs to be removed\n",
    "movie_metadata[\"runtime\"] = movie_metadata[\"runtime\"].astype(str).str.replace(\".0\", \"\", regex=False)\n",
    "\n",
    "# make a column year extracting the year from the release date\n",
    "movie_metadata[\"year\"] = movie_metadata[\"release_date\"].str[:4]\n",
    "\n",
    "movie_metadata.sample(1)"
   ],
   "metadata": {
    "collapsed": false,
    "ExecuteTime": {
     "end_time": "2023-11-13T17:27:33.697743594Z",
     "start_time": "2023-11-13T17:27:33.663708065Z"
    }
   },
   "id": "184ff06fd3bd223e"
  },
  {
   "cell_type": "markdown",
   "source": [
    "We also need to check if all duplicate movies have been removed. We do this by checking if the `wikipedia_id` column contains only unique values. Since we will later on merge on the columns `title`, `year` and `runtime` with the external datasets, we will also check if there are any duplicate values by combining these columns."
   ],
   "metadata": {
    "collapsed": false
   },
   "id": "2bac94926b720796"
  },
  {
   "cell_type": "code",
   "execution_count": 14,
   "outputs": [
    {
     "name": "stdout",
     "output_type": "stream",
     "text": [
      "Number of duplicated wikipedia_id values: 0\n",
      "Number of duplicated title, year and runtime combined values: 0\n"
     ]
    }
   ],
   "source": [
    "# check if wikipedia_id contains duplicated values\n",
    "print(\"Number of duplicated wikipedia_id values:\", movie_metadata[\"wikipedia_id\"].duplicated().sum())\n",
    "\n",
    "# check if title, year and runtime combined contain duplicated values\n",
    "print(\n",
    "    \"Number of duplicated title, year and runtime combined values:\",\n",
    "    movie_metadata[[\"title\", \"year\", \"runtime\"]].duplicated().sum(),\n",
    ")"
   ],
   "metadata": {
    "collapsed": false,
    "ExecuteTime": {
     "end_time": "2023-11-13T17:27:34.905480772Z",
     "start_time": "2023-11-13T17:27:34.894191385Z"
    }
   },
   "id": "a4eabc5f5a0baf02"
  },
  {
   "cell_type": "markdown",
   "source": [
    "Now that we have cleaned the initial movie dataset, we can perform some basic analysis on the data and explore further the ways we can enrich it with external datasets."
   ],
   "metadata": {
    "collapsed": false
   },
   "id": "807dad0f07f7a1e0"
  },
  {
   "cell_type": "code",
   "execution_count": 15,
   "outputs": [
    {
     "data": {
      "text/plain": "<Figure size 2000x1000 with 1 Axes>",
      "image/png": "[encoded data removed]"
     },
     "metadata": {},
     "output_type": "display_data"
    }
   ],
   "source": [
    "# plot number of movies released per year\n",
    "movie_metadata[\"year\"].value_counts().sort_index().plot(kind=\"bar\", figsize=(20, 10))\n",
    "plt.title(\"Number of movies released per year\")\n",
    "plt.xlabel(\"Year\")\n",
    "plt.ylabel(\"Number of movies\")\n",
    "plt.show()"
   ],
   "metadata": {
    "collapsed": false,
    "ExecuteTime": {
     "end_time": "2023-11-13T17:27:36.702475357Z",
     "start_time": "2023-11-13T17:27:35.871391049Z"
    }
   },
   "id": "f91bf315cb4f9812"
  },
  {
   "cell_type": "markdown",
   "source": [
    "We can see that the number of movies released per year has been increasing over the years. This is expected as the movie industry has been growing and expanding over the years. We can also see that there is a significant increase in the number of movies released after 2000. This could be due to the fact that the dataset contains more recent movies than older ones."
   ],
   "metadata": {
    "collapsed": false
   },
   "id": "70a90b086a12a858"
  },
  {
   "cell_type": "markdown",
   "source": [],
   "metadata": {
    "collapsed": false
   },
   "id": "cc108cfda84e2ce7"
  },
  {
   "cell_type": "markdown",
   "source": [
    "---\n",
    "##### Dataset: `movie_budget`\n",
    "With this external dataset, we aim to also append the budget of the movies to our main movie dataset. This would help us to better understand the correlation between the budget and the revenue of the movies and explore the profitability of the movies.\n",
    "\n"
   ],
   "metadata": {
    "collapsed": false
   },
   "id": "b0399cd33f4727ef"
  },
  {
   "cell_type": "markdown",
   "source": [
    "We follow a similar procedure for data preprocessing and cleaning as previously. We first check for NaN values and drop them if any."
   ],
   "metadata": {
    "collapsed": false
   },
   "id": "2692fab88c8b5c1e"
  },
  {
   "cell_type": "code",
   "execution_count": 16,
   "outputs": [
    {
     "data": {
      "text/plain": "                nan_sum  nan_percentage\nbudget                0        0.000000\nimdb_id              17        0.037391\noriginal_title        0        0.000000\npopularity            5        0.010997\nrelease_date         87        0.191352\nrevenue               6        0.013197\nruntime             263        0.578454\ntitle                 6        0.013197\nvote_average          6        0.013197\nvote_count            6        0.013197",
      "text/html": "<div>\n<style scoped>\n    .dataframe tbody tr th:only-of-type {\n        vertical-align: middle;\n    }\n\n    .dataframe tbody tr th {\n        vertical-align: top;\n    }\n\n    .dataframe thead th {\n        text-align: right;\n    }\n</style>\n<table border=\"1\" class=\"dataframe\">\n  <thead>\n    <tr style=\"text-align: right;\">\n      <th></th>\n      <th>nan_sum</th>\n      <th>nan_percentage</th>\n    </tr>\n  </thead>\n  <tbody>\n    <tr>\n      <th>budget</th>\n      <td>0</td>\n      <td>0.000000</td>\n    </tr>\n    <tr>\n      <th>imdb_id</th>\n      <td>17</td>\n      <td>0.037391</td>\n    </tr>\n    <tr>\n      <th>original_title</th>\n      <td>0</td>\n      <td>0.000000</td>\n    </tr>\n    <tr>\n      <th>popularity</th>\n      <td>5</td>\n      <td>0.010997</td>\n    </tr>\n    <tr>\n      <th>release_date</th>\n      <td>87</td>\n      <td>0.191352</td>\n    </tr>\n    <tr>\n      <th>revenue</th>\n      <td>6</td>\n      <td>0.013197</td>\n    </tr>\n    <tr>\n      <th>runtime</th>\n      <td>263</td>\n      <td>0.578454</td>\n    </tr>\n    <tr>\n      <th>title</th>\n      <td>6</td>\n      <td>0.013197</td>\n    </tr>\n    <tr>\n      <th>vote_average</th>\n      <td>6</td>\n      <td>0.013197</td>\n    </tr>\n    <tr>\n      <th>vote_count</th>\n      <td>6</td>\n      <td>0.013197</td>\n    </tr>\n  </tbody>\n</table>\n</div>"
     },
     "execution_count": 16,
     "metadata": {},
     "output_type": "execute_result"
    }
   ],
   "source": [
    "# \n",
    "movie_budget = movie_budget.replace(\"\\\\N\", np.nan)\n",
    "pd.DataFrame({'nan_sum': movie_budget.isna().sum(), 'nan_percentage': movie_budget.isna().mean() * 100})"
   ],
   "metadata": {
    "collapsed": false,
    "ExecuteTime": {
     "end_time": "2023-11-13T17:28:19.822677323Z",
     "start_time": "2023-11-13T17:28:19.731663348Z"
    }
   },
   "id": "3e0fa8571eaa5e0d"
  },
  {
   "cell_type": "code",
   "execution_count": 17,
   "outputs": [],
   "source": [
    "movie_budget = movie_budget.dropna()"
   ],
   "metadata": {
    "collapsed": false,
    "ExecuteTime": {
     "end_time": "2023-11-13T17:28:26.077446733Z",
     "start_time": "2023-11-13T17:28:26.029653939Z"
    }
   },
   "id": "56f94194b763049f"
  },
  {
   "cell_type": "code",
   "execution_count": 18,
   "outputs": [],
   "source": [
    "movie_budget.drop_duplicates(subset=\"imdb_id\", inplace=True)"
   ],
   "metadata": {
    "collapsed": false,
    "ExecuteTime": {
     "end_time": "2023-11-13T17:28:27.342451629Z",
     "start_time": "2023-11-13T17:28:27.290579118Z"
    }
   },
   "id": "9634bbd2c8f07261"
  },
  {
   "cell_type": "markdown",
   "source": [
    "IMDB"
   ],
   "metadata": {
    "collapsed": false
   },
   "id": "84a8458267191831"
  },
  {
   "cell_type": "code",
   "execution_count": 19,
   "outputs": [
    {
     "data": {
      "text/plain": "             nan_sum  nan_percentage\nimdb_id            0             0.0\nimdb_rating        0             0.0\nnum_votes          0             0.0",
      "text/html": "<div>\n<style scoped>\n    .dataframe tbody tr th:only-of-type {\n        vertical-align: middle;\n    }\n\n    .dataframe tbody tr th {\n        vertical-align: top;\n    }\n\n    .dataframe thead th {\n        text-align: right;\n    }\n</style>\n<table border=\"1\" class=\"dataframe\">\n  <thead>\n    <tr style=\"text-align: right;\">\n      <th></th>\n      <th>nan_sum</th>\n      <th>nan_percentage</th>\n    </tr>\n  </thead>\n  <tbody>\n    <tr>\n      <th>imdb_id</th>\n      <td>0</td>\n      <td>0.0</td>\n    </tr>\n    <tr>\n      <th>imdb_rating</th>\n      <td>0</td>\n      <td>0.0</td>\n    </tr>\n    <tr>\n      <th>num_votes</th>\n      <td>0</td>\n      <td>0.0</td>\n    </tr>\n  </tbody>\n</table>\n</div>"
     },
     "execution_count": 19,
     "metadata": {},
     "output_type": "execute_result"
    }
   ],
   "source": [
    "imdb_ratings = imdb_ratings.replace(\"\\\\N\", np.nan)\n",
    "pd.DataFrame({'nan_sum': imdb_ratings.isna().sum(), 'nan_percentage': imdb_ratings.isna().mean() * 100})"
   ],
   "metadata": {
    "collapsed": false,
    "ExecuteTime": {
     "end_time": "2023-11-13T17:28:31.128397694Z",
     "start_time": "2023-11-13T17:28:30.780100682Z"
    }
   },
   "id": "64a5b880e0950acc"
  },
  {
   "cell_type": "code",
   "execution_count": 20,
   "outputs": [
    {
     "data": {
      "text/plain": "                nan_sum  nan_percentage\nimdb_id               0        0.000000\ntitle_type            0        0.000000\nprimary_title        11        0.000107\ntitle                11        0.000107\nis_adult              1        0.000010\nyear            1381604       13.401906\nend_year       10194381       98.888060\nruntime         7203485       69.875617\ngenres           460237        4.464415",
      "text/html": "<div>\n<style scoped>\n    .dataframe tbody tr th:only-of-type {\n        vertical-align: middle;\n    }\n\n    .dataframe tbody tr th {\n        vertical-align: top;\n    }\n\n    .dataframe thead th {\n        text-align: right;\n    }\n</style>\n<table border=\"1\" class=\"dataframe\">\n  <thead>\n    <tr style=\"text-align: right;\">\n      <th></th>\n      <th>nan_sum</th>\n      <th>nan_percentage</th>\n    </tr>\n  </thead>\n  <tbody>\n    <tr>\n      <th>imdb_id</th>\n      <td>0</td>\n      <td>0.000000</td>\n    </tr>\n    <tr>\n      <th>title_type</th>\n      <td>0</td>\n      <td>0.000000</td>\n    </tr>\n    <tr>\n      <th>primary_title</th>\n      <td>11</td>\n      <td>0.000107</td>\n    </tr>\n    <tr>\n      <th>title</th>\n      <td>11</td>\n      <td>0.000107</td>\n    </tr>\n    <tr>\n      <th>is_adult</th>\n      <td>1</td>\n      <td>0.000010</td>\n    </tr>\n    <tr>\n      <th>year</th>\n      <td>1381604</td>\n      <td>13.401906</td>\n    </tr>\n    <tr>\n      <th>end_year</th>\n      <td>10194381</td>\n      <td>98.888060</td>\n    </tr>\n    <tr>\n      <th>runtime</th>\n      <td>7203485</td>\n      <td>69.875617</td>\n    </tr>\n    <tr>\n      <th>genres</th>\n      <td>460237</td>\n      <td>4.464415</td>\n    </tr>\n  </tbody>\n</table>\n</div>"
     },
     "execution_count": 20,
     "metadata": {},
     "output_type": "execute_result"
    }
   ],
   "source": [
    "imdb_basics = imdb_basics.replace(\"\\\\N\", np.nan)\n",
    "pd.DataFrame({'nan_sum': imdb_basics.isna().sum(), 'nan_percentage': imdb_basics.isna().mean() * 100})"
   ],
   "metadata": {
    "collapsed": false,
    "ExecuteTime": {
     "end_time": "2023-11-13T17:28:46.974451723Z",
     "start_time": "2023-11-13T17:28:31.803541590Z"
    }
   },
   "id": "dac382a1ca1ac03"
  },
  {
   "cell_type": "code",
   "execution_count": 21,
   "outputs": [],
   "source": [
    "imdb_basics = imdb_basics.drop(columns=[\"end_year\"])"
   ],
   "metadata": {
    "collapsed": false,
    "ExecuteTime": {
     "end_time": "2023-11-13T17:28:46.974772174Z",
     "start_time": "2023-11-13T17:28:46.930823753Z"
    }
   },
   "id": "f5d15f8e3901f853"
  },
  {
   "cell_type": "code",
   "execution_count": 22,
   "outputs": [],
   "source": [
    "imdb_basics.dropna(subset=[\"year\", \"title\", \"runtime\"], inplace=True)"
   ],
   "metadata": {
    "collapsed": false,
    "ExecuteTime": {
     "end_time": "2023-11-13T17:28:49.477421566Z",
     "start_time": "2023-11-13T17:28:48.140713802Z"
    }
   },
   "id": "bb81e002d8a1f96d"
  },
  {
   "cell_type": "code",
   "execution_count": 23,
   "outputs": [
    {
     "data": {
      "text/plain": "               nan_sum  nan_percentage\nimdb_id              0        0.000000\ntitle_type           0        0.000000\nprimary_title        0        0.000000\ntitle                0        0.000000\nis_adult             0        0.000000\nyear                 0        0.000000\nruntime              0        0.000000\ngenres           77146        2.651581",
      "text/html": "<div>\n<style scoped>\n    .dataframe tbody tr th:only-of-type {\n        vertical-align: middle;\n    }\n\n    .dataframe tbody tr th {\n        vertical-align: top;\n    }\n\n    .dataframe thead th {\n        text-align: right;\n    }\n</style>\n<table border=\"1\" class=\"dataframe\">\n  <thead>\n    <tr style=\"text-align: right;\">\n      <th></th>\n      <th>nan_sum</th>\n      <th>nan_percentage</th>\n    </tr>\n  </thead>\n  <tbody>\n    <tr>\n      <th>imdb_id</th>\n      <td>0</td>\n      <td>0.000000</td>\n    </tr>\n    <tr>\n      <th>title_type</th>\n      <td>0</td>\n      <td>0.000000</td>\n    </tr>\n    <tr>\n      <th>primary_title</th>\n      <td>0</td>\n      <td>0.000000</td>\n    </tr>\n    <tr>\n      <th>title</th>\n      <td>0</td>\n      <td>0.000000</td>\n    </tr>\n    <tr>\n      <th>is_adult</th>\n      <td>0</td>\n      <td>0.000000</td>\n    </tr>\n    <tr>\n      <th>year</th>\n      <td>0</td>\n      <td>0.000000</td>\n    </tr>\n    <tr>\n      <th>runtime</th>\n      <td>0</td>\n      <td>0.000000</td>\n    </tr>\n    <tr>\n      <th>genres</th>\n      <td>77146</td>\n      <td>2.651581</td>\n    </tr>\n  </tbody>\n</table>\n</div>"
     },
     "execution_count": 23,
     "metadata": {},
     "output_type": "execute_result"
    }
   ],
   "source": [
    "pd.DataFrame({'nan_sum': imdb_basics.isna().sum(), 'nan_percentage': imdb_basics.isna().mean() * 100})"
   ],
   "metadata": {
    "collapsed": false,
    "ExecuteTime": {
     "end_time": "2023-11-13T17:28:51.767224717Z",
     "start_time": "2023-11-13T17:28:50.548294721Z"
    }
   },
   "id": "95d4dbb7b63ed0d"
  },
  {
   "cell_type": "code",
   "execution_count": 24,
   "outputs": [],
   "source": [
    "imdb_dataset_temp = pd.merge(imdb_basics, imdb_ratings, on=\"imdb_id\", how=\"left\")\n",
    "imdb_dataset = pd.merge(\n",
    "    imdb_dataset_temp,\n",
    "    movie_budget,\n",
    "    on=\"imdb_id\",\n",
    "    how=\"left\",\n",
    "    suffixes=(\"\", \"_movie_budget\"),\n",
    ")"
   ],
   "metadata": {
    "collapsed": false,
    "ExecuteTime": {
     "end_time": "2023-11-13T17:28:58.833716569Z",
     "start_time": "2023-11-13T17:28:51.828239154Z"
    }
   },
   "id": "390f3591802ba452"
  },
  {
   "cell_type": "code",
   "execution_count": 25,
   "outputs": [
    {
     "data": {
      "text/plain": "     imdb_id title_type           primary_title                   title  \\\n0  tt0000001      short              Carmencita              Carmencita   \n1  tt0000002      short  Le clown et ses chiens  Le clown et ses chiens   \n2  tt0000003      short          Pauvre Pierrot          Pauvre Pierrot   \n3  tt0000004      short             Un bon bock             Un bon bock   \n4  tt0000005      short        Blacksmith Scene        Blacksmith Scene   \n\n  is_adult  year runtime                    genres  imdb_rating  num_votes  \\\n0        0  1894       1         Documentary,Short          5.7     2007.0   \n1        0  1892       5           Animation,Short          5.8      269.0   \n2        0  1892       4  Animation,Comedy,Romance          6.5     1909.0   \n3        0  1892      12           Animation,Short          5.5      178.0   \n4        0  1893       1              Comedy,Short          6.2     2691.0   \n\n  budget    original_title popularity release_date  revenue  \\\n0      0        Carmencita   1.273072   1894-03-14      0.0   \n1    NaN               NaN        NaN          NaN      NaN   \n2      0    Pauvre Pierrot   0.673164   1892-10-28      0.0   \n3    NaN               NaN        NaN          NaN      NaN   \n4      0  Blacksmith Scene   1.061591   1893-05-08      0.0   \n\n  runtime_movie_budget title_movie_budget  vote_average  vote_count  \n0                  1.0         Carmencita           4.9        18.0  \n1                 <NA>                NaN           NaN         NaN  \n2                  4.0       Poor Pierrot           6.1        19.0  \n3                 <NA>                NaN           NaN         NaN  \n4                  1.0   Blacksmith Scene           5.8        19.0  ",
      "text/html": "<div>\n<style scoped>\n    .dataframe tbody tr th:only-of-type {\n        vertical-align: middle;\n    }\n\n    .dataframe tbody tr th {\n        vertical-align: top;\n    }\n\n    .dataframe thead th {\n        text-align: right;\n    }\n</style>\n<table border=\"1\" class=\"dataframe\">\n  <thead>\n    <tr style=\"text-align: right;\">\n      <th></th>\n      <th>imdb_id</th>\n      <th>title_type</th>\n      <th>primary_title</th>\n      <th>title</th>\n      <th>is_adult</th>\n      <th>year</th>\n      <th>runtime</th>\n      <th>genres</th>\n      <th>imdb_rating</th>\n      <th>num_votes</th>\n      <th>budget</th>\n      <th>original_title</th>\n      <th>popularity</th>\n      <th>release_date</th>\n      <th>revenue</th>\n      <th>runtime_movie_budget</th>\n      <th>title_movie_budget</th>\n      <th>vote_average</th>\n      <th>vote_count</th>\n    </tr>\n  </thead>\n  <tbody>\n    <tr>\n      <th>0</th>\n      <td>tt0000001</td>\n      <td>short</td>\n      <td>Carmencita</td>\n      <td>Carmencita</td>\n      <td>0</td>\n      <td>1894</td>\n      <td>1</td>\n      <td>Documentary,Short</td>\n      <td>5.7</td>\n      <td>2007.0</td>\n      <td>0</td>\n      <td>Carmencita</td>\n      <td>1.273072</td>\n      <td>1894-03-14</td>\n      <td>0.0</td>\n      <td>1.0</td>\n      <td>Carmencita</td>\n      <td>4.9</td>\n      <td>18.0</td>\n    </tr>\n    <tr>\n      <th>1</th>\n      <td>tt0000002</td>\n      <td>short</td>\n      <td>Le clown et ses chiens</td>\n      <td>Le clown et ses chiens</td>\n      <td>0</td>\n      <td>1892</td>\n      <td>5</td>\n      <td>Animation,Short</td>\n      <td>5.8</td>\n      <td>269.0</td>\n      <td>NaN</td>\n      <td>NaN</td>\n      <td>NaN</td>\n      <td>NaN</td>\n      <td>NaN</td>\n      <td>&lt;NA&gt;</td>\n      <td>NaN</td>\n      <td>NaN</td>\n      <td>NaN</td>\n    </tr>\n    <tr>\n      <th>2</th>\n      <td>tt0000003</td>\n      <td>short</td>\n      <td>Pauvre Pierrot</td>\n      <td>Pauvre Pierrot</td>\n      <td>0</td>\n      <td>1892</td>\n      <td>4</td>\n      <td>Animation,Comedy,Romance</td>\n      <td>6.5</td>\n      <td>1909.0</td>\n      <td>0</td>\n      <td>Pauvre Pierrot</td>\n      <td>0.673164</td>\n      <td>1892-10-28</td>\n      <td>0.0</td>\n      <td>4.0</td>\n      <td>Poor Pierrot</td>\n      <td>6.1</td>\n      <td>19.0</td>\n    </tr>\n    <tr>\n      <th>3</th>\n      <td>tt0000004</td>\n      <td>short</td>\n      <td>Un bon bock</td>\n      <td>Un bon bock</td>\n      <td>0</td>\n      <td>1892</td>\n      <td>12</td>\n      <td>Animation,Short</td>\n      <td>5.5</td>\n      <td>178.0</td>\n      <td>NaN</td>\n      <td>NaN</td>\n      <td>NaN</td>\n      <td>NaN</td>\n      <td>NaN</td>\n      <td>&lt;NA&gt;</td>\n      <td>NaN</td>\n      <td>NaN</td>\n      <td>NaN</td>\n    </tr>\n    <tr>\n      <th>4</th>\n      <td>tt0000005</td>\n      <td>short</td>\n      <td>Blacksmith Scene</td>\n      <td>Blacksmith Scene</td>\n      <td>0</td>\n      <td>1893</td>\n      <td>1</td>\n      <td>Comedy,Short</td>\n      <td>6.2</td>\n      <td>2691.0</td>\n      <td>0</td>\n      <td>Blacksmith Scene</td>\n      <td>1.061591</td>\n      <td>1893-05-08</td>\n      <td>0.0</td>\n      <td>1.0</td>\n      <td>Blacksmith Scene</td>\n      <td>5.8</td>\n      <td>19.0</td>\n    </tr>\n  </tbody>\n</table>\n</div>"
     },
     "execution_count": 25,
     "metadata": {},
     "output_type": "execute_result"
    }
   ],
   "source": [
    "imdb_dataset.head()"
   ],
   "metadata": {
    "collapsed": false,
    "ExecuteTime": {
     "end_time": "2023-11-13T17:28:58.861148724Z",
     "start_time": "2023-11-13T17:28:58.848349964Z"
    }
   },
   "id": "f0ef2bbbe7e5060c"
  },
  {
   "cell_type": "code",
   "execution_count": 26,
   "outputs": [],
   "source": [
    "imdb_dataset = imdb_dataset.loc[\n",
    "    :, ~imdb_dataset.columns.str.endswith(\"_movie_budget\")\n",
    "]  # keep only the columns from the imdb dataset"
   ],
   "metadata": {
    "collapsed": false,
    "ExecuteTime": {
     "end_time": "2023-11-13T17:28:59.067421579Z",
     "start_time": "2023-11-13T17:28:58.855644861Z"
    }
   },
   "id": "4e191b1a893a684b"
  },
  {
   "cell_type": "code",
   "execution_count": 27,
   "outputs": [
    {
     "data": {
      "text/plain": "(2909434, 17)"
     },
     "execution_count": 27,
     "metadata": {},
     "output_type": "execute_result"
    }
   ],
   "source": [
    "imdb_dataset.shape"
   ],
   "metadata": {
    "collapsed": false,
    "ExecuteTime": {
     "end_time": "2023-11-13T17:28:59.107999088Z",
     "start_time": "2023-11-13T17:28:59.070044720Z"
    }
   },
   "id": "19819712d446ba8e"
  },
  {
   "cell_type": "code",
   "execution_count": 80,
   "outputs": [],
   "source": [
    "movies_merged = pd.merge(\n",
    "    movie_metadata,\n",
    "    imdb_dataset,\n",
    "    on=[\"title\", \"year\", \"runtime\"],\n",
    "    how=\"left\",\n",
    ")"
   ],
   "metadata": {
    "collapsed": false,
    "ExecuteTime": {
     "end_time": "2023-11-13T18:10:27.634755062Z",
     "start_time": "2023-11-13T18:10:24.843469313Z"
    }
   },
   "id": "185e27b9549a15e0"
  },
  {
   "cell_type": "code",
   "execution_count": 81,
   "outputs": [
    {
     "data": {
      "text/plain": "     wikipedia_id freebase_movie_id                title release_date_x  \\\n7365      4894733         /m/0cs_w9  The Fourth Protocol           1987   \n\n       revenue_x runtime                           languages  \\\n7365  12423831.0     118  {\"/m/02h40lc\": \"English Language\"}   \n\n                           countries  \\\n7365  {\"/m/07ssc\": \"United Kingdom\"}   \n\n                                               genres_x  year  ... genres_y  \\\n7365  {\"/m/01jfsb\": \"Thriller\", \"/m/0cq22f9\": \"Actio...  1987  ...     <NA>   \n\n     imdb_rating num_votes budget original_title  popularity  release_date_y  \\\n7365         NaN       NaN    NaN            NaN         NaN             NaN   \n\n     revenue_y vote_average vote_count  \n7365       NaN          NaN        NaN  \n\n[1 rows x 24 columns]",
      "text/html": "<div>\n<style scoped>\n    .dataframe tbody tr th:only-of-type {\n        vertical-align: middle;\n    }\n\n    .dataframe tbody tr th {\n        vertical-align: top;\n    }\n\n    .dataframe thead th {\n        text-align: right;\n    }\n</style>\n<table border=\"1\" class=\"dataframe\">\n  <thead>\n    <tr style=\"text-align: right;\">\n      <th></th>\n      <th>wikipedia_id</th>\n      <th>freebase_movie_id</th>\n      <th>title</th>\n      <th>release_date_x</th>\n      <th>revenue_x</th>\n      <th>runtime</th>\n      <th>languages</th>\n      <th>countries</th>\n      <th>genres_x</th>\n      <th>year</th>\n      <th>...</th>\n      <th>genres_y</th>\n      <th>imdb_rating</th>\n      <th>num_votes</th>\n      <th>budget</th>\n      <th>original_title</th>\n      <th>popularity</th>\n      <th>release_date_y</th>\n      <th>revenue_y</th>\n      <th>vote_average</th>\n      <th>vote_count</th>\n    </tr>\n  </thead>\n  <tbody>\n    <tr>\n      <th>7365</th>\n      <td>4894733</td>\n      <td>/m/0cs_w9</td>\n      <td>The Fourth Protocol</td>\n      <td>1987</td>\n      <td>12423831.0</td>\n      <td>118</td>\n      <td>{\"/m/02h40lc\": \"English Language\"}</td>\n      <td>{\"/m/07ssc\": \"United Kingdom\"}</td>\n      <td>{\"/m/01jfsb\": \"Thriller\", \"/m/0cq22f9\": \"Actio...</td>\n      <td>1987</td>\n      <td>...</td>\n      <td>&lt;NA&gt;</td>\n      <td>NaN</td>\n      <td>NaN</td>\n      <td>NaN</td>\n      <td>NaN</td>\n      <td>NaN</td>\n      <td>NaN</td>\n      <td>NaN</td>\n      <td>NaN</td>\n      <td>NaN</td>\n    </tr>\n  </tbody>\n</table>\n<p>1 rows × 24 columns</p>\n</div>"
     },
     "execution_count": 81,
     "metadata": {},
     "output_type": "execute_result"
    }
   ],
   "source": [
    "movies_merged.sample(1)"
   ],
   "metadata": {
    "collapsed": false,
    "ExecuteTime": {
     "end_time": "2023-11-13T18:10:28.320408591Z",
     "start_time": "2023-11-13T18:10:28.292786770Z"
    }
   },
   "id": "649e85f52baf4dc7"
  },
  {
   "cell_type": "code",
   "execution_count": 82,
   "outputs": [
    {
     "data": {
      "text/plain": "wikipedia_id          string\nfreebase_movie_id     string\ntitle                 string\nrelease_date_x        string\nrevenue_x            float64\nruntime               object\nlanguages             object\ncountries             object\ngenres_x              object\nyear                  string\nimdb_id               string\ntitle_type            string\nprimary_title         string\nis_adult              string\ngenres_y              string\nimdb_rating          float64\nnum_votes            float64\nbudget                object\noriginal_title        object\npopularity            object\nrelease_date_y        object\nrevenue_y            float64\nvote_average         float64\nvote_count           float64\ndtype: object"
     },
     "execution_count": 82,
     "metadata": {},
     "output_type": "execute_result"
    }
   ],
   "source": [
    "# TODO: fix the dtypes, drop unnecessary columns (maybe even better at import time)\n",
    "movies_merged.dtypes"
   ],
   "metadata": {
    "collapsed": false,
    "ExecuteTime": {
     "end_time": "2023-11-13T18:10:29.387559642Z",
     "start_time": "2023-11-13T18:10:29.296289999Z"
    }
   },
   "id": "b8239246ebbbefe7"
  },
  {
   "cell_type": "code",
   "execution_count": 83,
   "outputs": [],
   "source": [
    "# switch dtype of budget to float\n",
    "movies_merged[\"budget\"] = movies_merged[\"budget\"].astype(float)"
   ],
   "metadata": {
    "collapsed": false,
    "ExecuteTime": {
     "end_time": "2023-11-13T18:10:30.107517391Z",
     "start_time": "2023-11-13T18:10:30.092401695Z"
    }
   },
   "id": "17511d2213e9346a"
  },
  {
   "cell_type": "code",
   "execution_count": 84,
   "outputs": [
    {
     "data": {
      "text/plain": "<Figure size 2000x1000 with 1 Axes>",
      "image/png": "[encoded data removed]"
     },
     "metadata": {},
     "output_type": "display_data"
    }
   ],
   "source": [
    "# scatter plot between budget > 0 and revenue\n",
    "movies_merged[movies_merged[\"budget\"] > 0].plot.scatter(\n",
    "    x=\"budget\", y=\"revenue_x\", figsize=(20, 10)\n",
    ")\n",
    "plt.title(\"Budget vs Revenue\")\n",
    "plt.xlabel(\"Budget\")\n",
    "plt.ylabel(\"Revenue\")\n",
    "# limit y to 1.5 to remove outlier and have better representation of the data\n",
    "plt.ylim(0, 1.5 * 1e9)\n",
    "plt.show()"
   ],
   "metadata": {
    "collapsed": false,
    "ExecuteTime": {
     "end_time": "2023-11-13T18:10:31.162171495Z",
     "start_time": "2023-11-13T18:10:30.994879724Z"
    }
   },
   "id": "8822c03115cd97ee"
  },
  {
   "cell_type": "code",
   "execution_count": 85,
   "outputs": [
    {
     "name": "stdout",
     "output_type": "stream",
     "text": [
      "PearsonRResult(statistic=0.686527149370736, pvalue=1.5343438100764493e-256)\n",
      "SignificanceResult(statistic=0.6592064061806329, pvalue=1.0529351531182339e-229)\n"
     ]
    }
   ],
   "source": [
    "# Check if budget and revenue are correlated with pearson correlation coefficient\n",
    "budget_revenue_stats_p = stats.pearsonr(\n",
    "    movies_merged[movies_merged[\"budget\"] > 0][\"budget\"],\n",
    "    movies_merged[movies_merged[\"budget\"] > 0][\"revenue_x\"])\n",
    "print(budget_revenue_stats_p)\n",
    "\n",
    "budget_revenue_stats_s = stats.spearmanr(\n",
    "    movies_merged[movies_merged[\"budget\"] > 0][\"budget\"],\n",
    "    movies_merged[movies_merged[\"budget\"] > 0][\"revenue_x\"])\n",
    "print(budget_revenue_stats_s)"
   ],
   "metadata": {
    "collapsed": false,
    "ExecuteTime": {
     "end_time": "2023-11-13T18:10:32.008690974Z",
     "start_time": "2023-11-13T18:10:31.963970772Z"
    }
   },
   "id": "30b0c955572b2dee"
  },
  {
   "cell_type": "markdown",
   "source": [
    "Conducting both Pearson and Spearman statistics, we notice that the relationship between `budget` and `revenue`, for those movie entries where `budget < 0` is significant and strong (roughly 0.65)"
   ],
   "metadata": {
    "collapsed": false
   },
   "id": "8ce47d9cbf3707eb"
  },
  {
   "cell_type": "markdown",
   "source": [
    "TODO: Do we care about inflation when comparing budget and revenue? I think not as we are not comparing the actual values, but the relationship between them."
   ],
   "metadata": {
    "collapsed": false
   },
   "id": "e6e0c59f72343fcd"
  },
  {
   "cell_type": "markdown",
   "source": [
    "What movie genres have the highest budget? Are these the same as the ones with the highest revenue?"
   ],
   "metadata": {
    "collapsed": false
   },
   "id": "766d5eb67cdc5fe8"
  },
  {
   "cell_type": "code",
   "execution_count": 86,
   "outputs": [],
   "source": [
    "from collections import Counter\n",
    "import ast\n",
    "#TODO: Check if can fix the dtype in advance to load genres as dict instead of string\n",
    "\n",
    "# transform the string of genres to a dict of genres\n",
    "movies_merged[\"genres_x\"] = movies_merged[\"genres_x\"].apply(lambda x: ast.literal_eval(x))"
   ],
   "metadata": {
    "collapsed": false,
    "ExecuteTime": {
     "end_time": "2023-11-13T18:10:37.866459358Z",
     "start_time": "2023-11-13T18:10:37.701179898Z"
    }
   },
   "id": "b9d3031261fcc3c0"
  },
  {
   "cell_type": "code",
   "execution_count": 106,
   "outputs": [],
   "source": [
    "genre_counter = Counter(genre for genres in movies_merged[\"genres_x\"] for genre in genres.values())"
   ],
   "metadata": {
    "collapsed": false,
    "ExecuteTime": {
     "end_time": "2023-11-13T18:25:57.480772525Z",
     "start_time": "2023-11-13T18:25:57.469998537Z"
    }
   },
   "id": "ee1864b04e21dd30"
  },
  {
   "cell_type": "code",
   "execution_count": 103,
   "outputs": [
    {
     "data": {
      "text/plain": "                avg_budget   avg_revenue\nDrama         1.426029e+07  4.002168e+07\nComedy        1.690536e+07  5.067283e+07\nRomance Film  1.334103e+07  4.416072e+07\nThriller      2.691257e+07  7.064535e+07\nAction        3.197183e+07  8.902345e+07",
      "text/html": "<div>\n<style scoped>\n    .dataframe tbody tr th:only-of-type {\n        vertical-align: middle;\n    }\n\n    .dataframe tbody tr th {\n        vertical-align: top;\n    }\n\n    .dataframe thead th {\n        text-align: right;\n    }\n</style>\n<table border=\"1\" class=\"dataframe\">\n  <thead>\n    <tr style=\"text-align: right;\">\n      <th></th>\n      <th>avg_budget</th>\n      <th>avg_revenue</th>\n    </tr>\n  </thead>\n  <tbody>\n    <tr>\n      <th>Drama</th>\n      <td>1.426029e+07</td>\n      <td>4.002168e+07</td>\n    </tr>\n    <tr>\n      <th>Comedy</th>\n      <td>1.690536e+07</td>\n      <td>5.067283e+07</td>\n    </tr>\n    <tr>\n      <th>Romance Film</th>\n      <td>1.334103e+07</td>\n      <td>4.416072e+07</td>\n    </tr>\n    <tr>\n      <th>Thriller</th>\n      <td>2.691257e+07</td>\n      <td>7.064535e+07</td>\n    </tr>\n    <tr>\n      <th>Action</th>\n      <td>3.197183e+07</td>\n      <td>8.902345e+07</td>\n    </tr>\n  </tbody>\n</table>\n</div>"
     },
     "execution_count": 103,
     "metadata": {},
     "output_type": "execute_result"
    }
   ],
   "source": [
    "# budget\n",
    "top_10_genres = genre_counter.most_common(5)\n",
    "top_10_genres_budget = {}\n",
    "for genre in top_10_genres:\n",
    "    top_10_genres_budget[genre[0]] = movies_merged[movies_merged[\"genres_x\"].apply(lambda x: genre[0] in x.values())][\"budget\"].mean()\n",
    "\n",
    "# revenue\n",
    "top_10_genres_revenue = {}\n",
    "for genre in top_10_genres:\n",
    "    top_10_genres_revenue[genre[0]] = movies_merged[movies_merged[\"genres_x\"].apply(lambda x: genre[0] in x.values())][\"revenue_x\"].mean()\n",
    "\n",
    "top_10_genres_df = pd.DataFrame.from_dict(top_10_genres_budget, orient=\"index\", columns=[\"avg_budget\"])\n",
    "top_10_genres_df[\"avg_revenue\"] = top_10_genres_revenue.values()\n",
    "top_10_genres_df"
   ],
   "metadata": {
    "collapsed": false,
    "ExecuteTime": {
     "end_time": "2023-11-13T18:24:13.110593195Z",
     "start_time": "2023-11-13T18:24:13.032864242Z"
    }
   },
   "id": "d261356fcb959d29"
  },
  {
   "cell_type": "code",
   "execution_count": 105,
   "outputs": [
    {
     "data": {
      "text/plain": "<Figure size 2000x1000 with 1 Axes>",
      "image/png": "[encoded data removed]"
     },
     "metadata": {},
     "output_type": "display_data"
    }
   ],
   "source": [
    "# plot the average budget and revenue per genre\n",
    "top_10_genres_df.plot.bar(figsize=(20, 10))\n",
    "plt.title(\"Average budget and revenue for top 5 genres\")\n",
    "plt.xlabel(\"Genre\")\n",
    "plt.ylabel(\"Amount\")\n",
    "plt.show()"
   ],
   "metadata": {
    "collapsed": false,
    "ExecuteTime": {
     "end_time": "2023-11-13T18:25:37.366199620Z",
     "start_time": "2023-11-13T18:25:37.229465755Z"
    }
   },
   "id": "5f65d782d6943754"
  },
  {
   "cell_type": "code",
   "execution_count": null,
   "outputs": [],
   "source": [],
   "metadata": {
    "collapsed": false
   },
   "id": "53608bd31c9c3ca1"
  }
 ],
 "metadata": {
  "kernelspec": {
   "display_name": "Python 3",
   "language": "python",
   "name": "python3"
  },
  "language_info": {
   "codemirror_mode": {
    "name": "ipython",
    "version": 2
   },
   "file_extension": ".py",
   "mimetype": "text/x-python",
   "name": "python",
   "nbconvert_exporter": "python",
   "pygments_lexer": "ipython2",
   "version": "2.7.6"
  }
 },
 "nbformat": 4,
 "nbformat_minor": 5
}
