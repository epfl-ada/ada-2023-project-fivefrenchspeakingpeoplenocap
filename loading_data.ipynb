{
 "cells": [
  {
   "cell_type": "markdown",
   "source": [
    "# Section 0: Importing libraries"
   ],
   "metadata": {
    "collapsed": false
   },
   "id": "b2db9e70c3040687"
  },
  {
   "cell_type": "code",
   "execution_count": 39,
   "id": "initial_id",
   "metadata": {
    "collapsed": true,
    "ExecuteTime": {
     "end_time": "2023-11-09T17:13:51.742490522Z",
     "start_time": "2023-11-09T17:13:51.694986451Z"
    }
   },
   "outputs": [],
   "source": [
    "import pandas as pd"
   ]
  },
  {
   "cell_type": "markdown",
   "source": [
    "# Section 1: Data pre-processing\n",
    "---\n",
    "1.1 [Loading the data](#loading)\n",
    "\n",
    "1.2 [Dataset properties](#properties)"
   ],
   "metadata": {
    "collapsed": false
   },
   "id": "98b87868d5a62c40"
  },
  {
   "cell_type": "markdown",
   "source": [
    "### Loading the data <a id=\"loading\"></a>"
   ],
   "metadata": {
    "collapsed": false
   },
   "id": "9b694b4092d577bd"
  },
  {
   "cell_type": "code",
   "execution_count": 40,
   "outputs": [],
   "source": [
    "# main data path and relative paths to the datasets\n",
    "DATA_PATH = \"./data/\"\n",
    "DATASET_PATH = {\n",
    "    \"movie_metadata\": DATA_PATH + \"movie.metadata.tsv\",\n",
    "    \"character_metadata\": DATA_PATH + \"character.metadata.tsv\",\n",
    "    \"plot_summaries\": DATA_PATH + \"plot_summaries.txt\",\n",
    "}"
   ],
   "metadata": {
    "collapsed": false,
    "ExecuteTime": {
     "end_time": "2023-11-09T17:13:52.262782102Z",
     "start_time": "2023-11-09T17:13:52.251428257Z"
    }
   },
   "id": "3ff3c03426fdbad0"
  },
  {
   "cell_type": "code",
   "execution_count": 41,
   "outputs": [],
   "source": [
    "# columns used when loading a specific dataset (for the attribute \"names\" in pandas.read_csv)\n",
    "DATASET_COLUMNS = {\n",
    "    \"movie_metadata\": [\"wikipedia_id\", \"freebase_movie_id\", \"name\", \"release_date\", \"revenue\", \"runtime\", \"languages\", \"countries\", \"genres\"],\n",
    "    \"character_metadata\": [\"wikipedia_id\", \"freebase_movie_id\", \"release_date\", \"character_name\", \"birthday\", \"gender\", \"height\", \"ethnicity\", \"name\", \"age_at_release\", \"freebase_map\", \"freebase_char_id\", \"freebase_actor_id\"]\n",
    "}"
   ],
   "metadata": {
    "collapsed": false,
    "ExecuteTime": {
     "end_time": "2023-11-09T17:13:52.484652429Z",
     "start_time": "2023-11-09T17:13:52.467946321Z"
    }
   },
   "id": "70a83259d9c6ec7d"
  },
  {
   "cell_type": "code",
   "execution_count": 42,
   "outputs": [],
   "source": [
    "# load the datasets as pandas dataframes\n",
    "movie_metadata = pd.read_csv(DATASET_PATH[\"movie_metadata\"], sep='\\t', names=DATASET_COLUMNS[\"movie_metadata\"], index_col=False, header=None)\n",
    "character_metadata = pd.read_csv(DATASET_PATH[\"character_metadata\"], sep='\\t', names=DATASET_COLUMNS[\"character_metadata\"], index_col=False, header=None)"
   ],
   "metadata": {
    "collapsed": false,
    "ExecuteTime": {
     "end_time": "2023-11-09T17:13:54.030463956Z",
     "start_time": "2023-11-09T17:13:52.693506226Z"
    }
   },
   "id": "ea1c938277b3886c"
  },
  {
   "cell_type": "markdown",
   "source": [
    "### 1.2 Dataset properties <a id=\"properties\"></a>"
   ],
   "metadata": {
    "collapsed": false
   },
   "id": "65ad11dd83924d1a"
  },
  {
   "cell_type": "code",
   "execution_count": 43,
   "outputs": [
    {
     "name": "stdout",
     "output_type": "stream",
     "text": [
      "Number of movie rows:  81741\n",
      "Number of features per movie:  9\n"
     ]
    },
    {
     "data": {
      "text/plain": "      wikipedia_id freebase_movie_id            name release_date  revenue  \\\n3298      27329170        /m/0by00vv  Tōki Rakujitsu   1992-07-04      NaN   \n\n      runtime languages              countries  \\\n3298    119.0        {}  {\"/m/03_3d\": \"Japan\"}   \n\n                                 genres  \n3298  {\"/m/0gw5n2f\": \"Japanese Movies\"}  ",
      "text/html": "<div>\n<style scoped>\n    .dataframe tbody tr th:only-of-type {\n        vertical-align: middle;\n    }\n\n    .dataframe tbody tr th {\n        vertical-align: top;\n    }\n\n    .dataframe thead th {\n        text-align: right;\n    }\n</style>\n<table border=\"1\" class=\"dataframe\">\n  <thead>\n    <tr style=\"text-align: right;\">\n      <th></th>\n      <th>wikipedia_id</th>\n      <th>freebase_movie_id</th>\n      <th>name</th>\n      <th>release_date</th>\n      <th>revenue</th>\n      <th>runtime</th>\n      <th>languages</th>\n      <th>countries</th>\n      <th>genres</th>\n    </tr>\n  </thead>\n  <tbody>\n    <tr>\n      <th>3298</th>\n      <td>27329170</td>\n      <td>/m/0by00vv</td>\n      <td>Tōki Rakujitsu</td>\n      <td>1992-07-04</td>\n      <td>NaN</td>\n      <td>119.0</td>\n      <td>{}</td>\n      <td>{\"/m/03_3d\": \"Japan\"}</td>\n      <td>{\"/m/0gw5n2f\": \"Japanese Movies\"}</td>\n    </tr>\n  </tbody>\n</table>\n</div>"
     },
     "execution_count": 43,
     "metadata": {},
     "output_type": "execute_result"
    }
   ],
   "source": [
    "print(\"Number of movie rows: \", movie_metadata.shape[0])\n",
    "print(\"Number of features per movie: \", movie_metadata.shape[1])\n",
    "# a random movie sample\n",
    "movie_metadata.sample(1)"
   ],
   "metadata": {
    "collapsed": false,
    "ExecuteTime": {
     "end_time": "2023-11-09T17:13:54.464930043Z",
     "start_time": "2023-11-09T17:13:54.449104006Z"
    }
   },
   "id": "f4d43a49882d8a85"
  },
  {
   "cell_type": "code",
   "execution_count": 44,
   "outputs": [
    {
     "name": "stdout",
     "output_type": "stream",
     "text": [
      "Number of character rows:  450669\n",
      "Number of features per character:  13\n"
     ]
    },
    {
     "data": {
      "text/plain": "       wikipedia_id freebase_movie_id release_date character_name birthday  \\\n53384      20935471        /m/05b2d7t   1988-10-27        Natalie      NaN   \n\n      gender  height ethnicity             name  age_at_release freebase_map  \\\n53384      F     NaN       NaN  Saskia Schlicht             NaN   /m/0n50p17   \n\n      freebase_char_id freebase_actor_id  \n53384       /m/0n537wh        /m/0n50p1b  ",
      "text/html": "<div>\n<style scoped>\n    .dataframe tbody tr th:only-of-type {\n        vertical-align: middle;\n    }\n\n    .dataframe tbody tr th {\n        vertical-align: top;\n    }\n\n    .dataframe thead th {\n        text-align: right;\n    }\n</style>\n<table border=\"1\" class=\"dataframe\">\n  <thead>\n    <tr style=\"text-align: right;\">\n      <th></th>\n      <th>wikipedia_id</th>\n      <th>freebase_movie_id</th>\n      <th>release_date</th>\n      <th>character_name</th>\n      <th>birthday</th>\n      <th>gender</th>\n      <th>height</th>\n      <th>ethnicity</th>\n      <th>name</th>\n      <th>age_at_release</th>\n      <th>freebase_map</th>\n      <th>freebase_char_id</th>\n      <th>freebase_actor_id</th>\n    </tr>\n  </thead>\n  <tbody>\n    <tr>\n      <th>53384</th>\n      <td>20935471</td>\n      <td>/m/05b2d7t</td>\n      <td>1988-10-27</td>\n      <td>Natalie</td>\n      <td>NaN</td>\n      <td>F</td>\n      <td>NaN</td>\n      <td>NaN</td>\n      <td>Saskia Schlicht</td>\n      <td>NaN</td>\n      <td>/m/0n50p17</td>\n      <td>/m/0n537wh</td>\n      <td>/m/0n50p1b</td>\n    </tr>\n  </tbody>\n</table>\n</div>"
     },
     "execution_count": 44,
     "metadata": {},
     "output_type": "execute_result"
    }
   ],
   "source": [
    "print(\"Number of character rows: \", character_metadata.shape[0])\n",
    "print(\"Number of features per character: \", character_metadata.shape[1])\n",
    "# a random character sample\n",
    "character_metadata.sample(1)"
   ],
   "metadata": {
    "collapsed": false,
    "ExecuteTime": {
     "end_time": "2023-11-09T17:13:54.955102670Z",
     "start_time": "2023-11-09T17:13:54.909244376Z"
    }
   },
   "id": "39ae5c73f7a1d7c7"
  },
  {
   "cell_type": "code",
   "execution_count": 44,
   "outputs": [],
   "source": [],
   "metadata": {
    "collapsed": false,
    "ExecuteTime": {
     "end_time": "2023-11-09T17:13:55.389646604Z",
     "start_time": "2023-11-09T17:13:55.348297803Z"
    }
   },
   "id": "341643cc5e0edfa2"
  }
 ],
 "metadata": {
  "kernelspec": {
   "display_name": "Python 3",
   "language": "python",
   "name": "python3"
  },
  "language_info": {
   "codemirror_mode": {
    "name": "ipython",
    "version": 2
   },
   "file_extension": ".py",
   "mimetype": "text/x-python",
   "name": "python",
   "nbconvert_exporter": "python",
   "pygments_lexer": "ipython2",
   "version": "2.7.6"
  }
 },
 "nbformat": 4,
 "nbformat_minor": 5
}
