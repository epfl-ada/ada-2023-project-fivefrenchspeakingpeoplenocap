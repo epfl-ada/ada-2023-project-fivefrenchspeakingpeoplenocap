{
 "cells": [
  {
   "cell_type": "code",
   "execution_count": 21,
   "metadata": {},
   "outputs": [],
   "source": [
    "import numpy as np\n",
    "import pandas as pd\n",
    "import seaborn as sns\n",
    "import matplotlib.pyplot as plt\n",
    "from helpers import find_duplicates\n",
    "from scipy.stats import ttest_ind\n",
    "from scipy import stats\n",
    "import statsmodels.formula.api as smf"
   ]
  },
  {
   "cell_type": "code",
   "execution_count": 22,
   "metadata": {},
   "outputs": [],
   "source": [
    "# set color blind friendly palette\n",
    "sns.set_palette(\"colorblind\") "
   ]
  },
  {
   "cell_type": "markdown",
   "metadata": {},
   "source": [
    "# Project Milestone 2"
   ]
  },
  {
   "cell_type": "markdown",
   "metadata": {},
   "source": [
    "TODO: Abstract"
   ]
  },
  {
   "cell_type": "markdown",
   "metadata": {},
   "source": [
    "TODO: Table of Contents:"
   ]
  },
  {
   "cell_type": "markdown",
   "metadata": {},
   "source": [
    "____________________________"
   ]
  },
  {
   "cell_type": "markdown",
   "metadata": {},
   "source": [
    "## Data Processing"
   ]
  },
  {
   "cell_type": "markdown",
   "metadata": {},
   "source": [
    "### Loading the Data"
   ]
  },
  {
   "cell_type": "code",
   "execution_count": 23,
   "metadata": {},
   "outputs": [],
   "source": [
    "# main data path and relative paths to the datasets\n",
    "DATA_PATH = \"data/\"\n",
    "DATA_PATH_MOVIESUMMARIES = DATA_PATH + \"MovieSummaries/\"\n",
    "DATA_PATH_MOVIELENS = DATA_PATH + \"MovieLens/\"\n",
    "DATA_PATH_IMDB = DATA_PATH + \"IMDBData/\"\n",
    "DATA_PATH_FINANCIAL = DATA_PATH + \"Financial/\"\n",
    "\n",
    "DATASET_PATH = {\n",
    "    \"movie_metadata\": DATA_PATH_MOVIESUMMARIES + \"movie.metadata.tsv\",\n",
    "    \"movie_budget\": DATA_PATH_MOVIELENS + \"movies_metadata.csv\",\n",
    "    \"imdb_ratings\": DATA_PATH_IMDB + \"title.ratings.tsv\",\n",
    "    \"imdb_basics\": DATA_PATH_IMDB + \"title.basics.tsv\",\n",
    "    \"cpi_data\": DATA_PATH_FINANCIAL + \"CPI.csv\",\n",
    "    \"gdp_data\": DATA_PATH_FINANCIAL + \"GDP.csv\",\n",
    "}\n",
    "\n",
    "DATASET_COLUMNS = {\n",
    "    \"movie_metadata\": [\n",
    "        \"wikipedia_id\",\n",
    "        \"freebase_movie_id\",\n",
    "        \"title\",\n",
    "        \"release_date\",\n",
    "        \"revenue\",\n",
    "        \"runtime\",\n",
    "        \"languages\",\n",
    "        \"countries\",\n",
    "        \"genres\",\n",
    "    ],\n",
    "    \"movie_budget\": [\n",
    "        \"budget\",\n",
    "        \"imdb_id\",\n",
    "        \"original_title\",\n",
    "        \"popularity\",\n",
    "        \"release_date\",\n",
    "        \"revenue\",\n",
    "        \"runtime\",\n",
    "        \"title\",\n",
    "        \"vote_average\",\n",
    "        \"vote_count\",\n",
    "    ],\n",
    "    \"imdb_ratings\": [\"imdb_id\", \"imdb_rating\", \"num_votes\"],\n",
    "    \"imdb_basics\": [\n",
    "        \"imdb_id\",\n",
    "        \"title_type\",\n",
    "        \"primary_title\",\n",
    "        \"title\",\n",
    "        \"is_adult\",\n",
    "        \"year\",\n",
    "        \"end_year\",\n",
    "        \"runtime\",\n",
    "        \"genres\",\n",
    "    ],\n",
    "}"
   ]
  },
  {
   "cell_type": "code",
   "execution_count": 24,
   "metadata": {},
   "outputs": [],
   "source": [
    "# data types for the datasets\n",
    "DATASET_TYPES = {\n",
    "    \"movie_metadata\": {\n",
    "        \"wikipedia_id\": \"string\",\n",
    "        \"freebase_movie_id\": \"string\",\n",
    "        \"title\": \"string\",\n",
    "        \"release_date\": \"string\",\n",
    "        \"revenue\": \"float64\",\n",
    "        \"runtime\": \"float64\",\n",
    "        \"languages\": \"object\",\n",
    "        \"countries\": \"object\",\n",
    "        \"genres\": \"object\",\n",
    "    },\n",
    "    \"movie_budget\": {\n",
    "        \"budget\": \"object\",\n",
    "        \"imdb_id\": \"string\",\n",
    "        \"original_title\": \"object\",\n",
    "        \"popularity\": \"object\",\n",
    "        \"release_date\": \"object\",\n",
    "        \"revenue\": \"float64\",\n",
    "        \"runtime\": \"float64\",\n",
    "        \"title\": \"object\",\n",
    "        \"vote_average\": \"float64\",\n",
    "        \"vote_count\": \"float64\",\n",
    "    },\n",
    "    \"imdb_ratings\": {\n",
    "        \"imdb_id\": \"string\",\n",
    "        \"imdb_rating\": \"float64\",\n",
    "        \"num_votes\": \"int64\",\n",
    "    },\n",
    "    \"imdb_basics\": {\n",
    "        \"imdb_id\": \"string\",\n",
    "        \"title_type\": \"string\",\n",
    "        \"primary_title\": \"string\",\n",
    "        \"title\": \"string\",\n",
    "        \"is_adult\": \"string\",\n",
    "        \"year\": \"string\",\n",
    "        \"end_year\": \"string\",\n",
    "        \"runtime\": \"string\",\n",
    "        \"genres\": \"string\",\n",
    "    },\n",
    "}"
   ]
  },
  {
   "cell_type": "code",
   "execution_count": 25,
   "metadata": {},
   "outputs": [],
   "source": [
    "# load the datasets as pandas dataframes\n",
    "movie_metadata = pd.read_csv(\n",
    "    DATASET_PATH[\"movie_metadata\"],\n",
    "    sep=\"\\t\",\n",
    "    names=DATASET_COLUMNS[\"movie_metadata\"],\n",
    "    index_col=False,\n",
    "    header=None,\n",
    "    dtype=DATASET_TYPES[\"movie_metadata\"],\n",
    ")\n",
    "movie_budget = pd.read_csv(\n",
    "    DATASET_PATH[\"movie_budget\"],\n",
    "    sep=\",\",\n",
    "    usecols=DATASET_COLUMNS[\"movie_budget\"],\n",
    "    index_col=False,\n",
    "    header=0,\n",
    "    dtype=DATASET_TYPES[\"movie_budget\"],\n",
    ")\n",
    "imdb_ratings = pd.read_csv(\n",
    "    DATASET_PATH[\"imdb_ratings\"],\n",
    "    sep=\"\\t\",\n",
    "    names=DATASET_COLUMNS[\"imdb_ratings\"],\n",
    "    index_col=False,\n",
    "    header=0,\n",
    "    dtype=DATASET_TYPES[\"imdb_ratings\"],\n",
    ")\n",
    "imdb_basics = pd.read_csv(\n",
    "    DATASET_PATH[\"imdb_basics\"],\n",
    "    sep=\"\\t\",\n",
    "    names=DATASET_COLUMNS[\"imdb_basics\"],\n",
    "    index_col=False,\n",
    "    header=0,\n",
    "    dtype=DATASET_TYPES[\"imdb_basics\"],\n",
    ")\n",
    "cpi_data = pd.read_csv(\n",
    "    DATASET_PATH[\"cpi_data\"],\n",
    "    sep=\",\",\n",
    "    index_col=False,\n",
    "    skiprows=4,\n",
    "    header=0,\n",
    ")\n",
    "gdp_data = pd.read_csv(\n",
    "    DATASET_PATH[\"gdp_data\"],\n",
    "    sep=\",\",\n",
    "    index_col=False,\n",
    "    skiprows=4,\n",
    "    header=0,\n",
    ")"
   ]
  },
  {
   "cell_type": "code",
   "execution_count": 26,
   "metadata": {},
   "outputs": [
    {
     "name": "stdout",
     "output_type": "stream",
     "text": [
      "Movie Metadata Shape:  (81741, 9)\n",
      "MovieLens Budget Shape:  (45466, 10)\n",
      "IMDB Ratings Shape:  (1368131, 3)\n",
      "IMDB Basics Shape:  (10309011, 9)\n",
      "CPI Data Shape:  (266, 68)\n",
      "GDP Data Shape:  (266, 68)\n"
     ]
    }
   ],
   "source": [
    "# print the shapes of the datasets\n",
    "print(\"Movie Metadata Shape: \", movie_metadata.shape)\n",
    "print(\"MovieLens Budget Shape: \", movie_budget.shape)\n",
    "print(\"IMDB Ratings Shape: \", imdb_ratings.shape)\n",
    "print(\"IMDB Basics Shape: \", imdb_basics.shape)\n",
    "print(\"CPI Data Shape: \", cpi_data.shape)\n",
    "print(\"GDP Data Shape: \", gdp_data.shape)"
   ]
  },
  {
   "cell_type": "markdown",
   "metadata": {},
   "source": [
    "### Data Handling"
   ]
  },
  {
   "cell_type": "markdown",
   "metadata": {},
   "source": [
    "In this section we will clean and preprocess six datasets: `movie_metadata`, `movie_budget`, `imdb_ratings`, `imdb_basics`, `us_cpi`, and `us_gdp`, ensuring the removal of NaN values in order to prepare the data for accurate analysis. At the end we will have merged our six datasets into one single `movie` dataset, enriched with additional features gathered from each individual dataset."
   ]
  },
  {
   "cell_type": "markdown",
   "metadata": {},
   "source": [
    "##### Dataset: `movie_metadata`"
   ]
  },
  {
   "cell_type": "markdown",
   "metadata": {},
   "source": [
    "The \"CMU Movie Summary Corpus\" provides an dataset of movie metadata containing 81,741 movies, extracted from the November 4, 2012 dump of Freebase. Every movie has details including movie box office revenue, genre, release date, runtime, and language."
   ]
  },
  {
   "cell_type": "code",
   "execution_count": 27,
   "metadata": {},
   "outputs": [
    {
     "data": {
      "text/html": [
       "<div>\n",
       "<style scoped>\n",
       "    .dataframe tbody tr th:only-of-type {\n",
       "        vertical-align: middle;\n",
       "    }\n",
       "\n",
       "    .dataframe tbody tr th {\n",
       "        vertical-align: top;\n",
       "    }\n",
       "\n",
       "    .dataframe thead th {\n",
       "        text-align: right;\n",
       "    }\n",
       "</style>\n",
       "<table border=\"1\" class=\"dataframe\">\n",
       "  <thead>\n",
       "    <tr style=\"text-align: right;\">\n",
       "      <th></th>\n",
       "      <th>wikipedia_id</th>\n",
       "      <th>freebase_movie_id</th>\n",
       "      <th>title</th>\n",
       "      <th>release_date</th>\n",
       "      <th>revenue</th>\n",
       "      <th>runtime</th>\n",
       "      <th>languages</th>\n",
       "      <th>countries</th>\n",
       "      <th>genres</th>\n",
       "    </tr>\n",
       "  </thead>\n",
       "  <tbody>\n",
       "    <tr>\n",
       "      <th>0</th>\n",
       "      <td>975900</td>\n",
       "      <td>/m/03vyhn</td>\n",
       "      <td>Ghosts of Mars</td>\n",
       "      <td>2001-08-24</td>\n",
       "      <td>14010832.0</td>\n",
       "      <td>98.0</td>\n",
       "      <td>{\"/m/02h40lc\": \"English Language\"}</td>\n",
       "      <td>{\"/m/09c7w0\": \"United States of America\"}</td>\n",
       "      <td>{\"/m/01jfsb\": \"Thriller\", \"/m/06n90\": \"Science...</td>\n",
       "    </tr>\n",
       "    <tr>\n",
       "      <th>1</th>\n",
       "      <td>3196793</td>\n",
       "      <td>/m/08yl5d</td>\n",
       "      <td>Getting Away with Murder: The JonBenét Ramsey ...</td>\n",
       "      <td>2000-02-16</td>\n",
       "      <td>NaN</td>\n",
       "      <td>95.0</td>\n",
       "      <td>{\"/m/02h40lc\": \"English Language\"}</td>\n",
       "      <td>{\"/m/09c7w0\": \"United States of America\"}</td>\n",
       "      <td>{\"/m/02n4kr\": \"Mystery\", \"/m/03bxz7\": \"Biograp...</td>\n",
       "    </tr>\n",
       "    <tr>\n",
       "      <th>2</th>\n",
       "      <td>28463795</td>\n",
       "      <td>/m/0crgdbh</td>\n",
       "      <td>Brun bitter</td>\n",
       "      <td>1988</td>\n",
       "      <td>NaN</td>\n",
       "      <td>83.0</td>\n",
       "      <td>{\"/m/05f_3\": \"Norwegian Language\"}</td>\n",
       "      <td>{\"/m/05b4w\": \"Norway\"}</td>\n",
       "      <td>{\"/m/0lsxr\": \"Crime Fiction\", \"/m/07s9rl0\": \"D...</td>\n",
       "    </tr>\n",
       "    <tr>\n",
       "      <th>3</th>\n",
       "      <td>9363483</td>\n",
       "      <td>/m/0285_cd</td>\n",
       "      <td>White Of The Eye</td>\n",
       "      <td>1987</td>\n",
       "      <td>NaN</td>\n",
       "      <td>110.0</td>\n",
       "      <td>{\"/m/02h40lc\": \"English Language\"}</td>\n",
       "      <td>{\"/m/07ssc\": \"United Kingdom\"}</td>\n",
       "      <td>{\"/m/01jfsb\": \"Thriller\", \"/m/0glj9q\": \"Erotic...</td>\n",
       "    </tr>\n",
       "    <tr>\n",
       "      <th>4</th>\n",
       "      <td>261236</td>\n",
       "      <td>/m/01mrr1</td>\n",
       "      <td>A Woman in Flames</td>\n",
       "      <td>1983</td>\n",
       "      <td>NaN</td>\n",
       "      <td>106.0</td>\n",
       "      <td>{\"/m/04306rv\": \"German Language\"}</td>\n",
       "      <td>{\"/m/0345h\": \"Germany\"}</td>\n",
       "      <td>{\"/m/07s9rl0\": \"Drama\"}</td>\n",
       "    </tr>\n",
       "    <tr>\n",
       "      <th>...</th>\n",
       "      <td>...</td>\n",
       "      <td>...</td>\n",
       "      <td>...</td>\n",
       "      <td>...</td>\n",
       "      <td>...</td>\n",
       "      <td>...</td>\n",
       "      <td>...</td>\n",
       "      <td>...</td>\n",
       "      <td>...</td>\n",
       "    </tr>\n",
       "    <tr>\n",
       "      <th>81736</th>\n",
       "      <td>35228177</td>\n",
       "      <td>/m/0j7hxnt</td>\n",
       "      <td>Mermaids: The Body Found</td>\n",
       "      <td>2011-03-19</td>\n",
       "      <td>NaN</td>\n",
       "      <td>120.0</td>\n",
       "      <td>{\"/m/02h40lc\": \"English Language\"}</td>\n",
       "      <td>{\"/m/09c7w0\": \"United States of America\"}</td>\n",
       "      <td>{\"/m/07s9rl0\": \"Drama\"}</td>\n",
       "    </tr>\n",
       "    <tr>\n",
       "      <th>81737</th>\n",
       "      <td>34980460</td>\n",
       "      <td>/m/0g4pl34</td>\n",
       "      <td>Knuckle</td>\n",
       "      <td>2011-01-21</td>\n",
       "      <td>NaN</td>\n",
       "      <td>96.0</td>\n",
       "      <td>{\"/m/02h40lc\": \"English Language\"}</td>\n",
       "      <td>{\"/m/03rt9\": \"Ireland\", \"/m/07ssc\": \"United Ki...</td>\n",
       "      <td>{\"/m/03bxz7\": \"Biographical film\", \"/m/07s9rl0...</td>\n",
       "    </tr>\n",
       "    <tr>\n",
       "      <th>81738</th>\n",
       "      <td>9971909</td>\n",
       "      <td>/m/02pygw1</td>\n",
       "      <td>Another Nice Mess</td>\n",
       "      <td>1972-09-22</td>\n",
       "      <td>NaN</td>\n",
       "      <td>66.0</td>\n",
       "      <td>{\"/m/02h40lc\": \"English Language\"}</td>\n",
       "      <td>{\"/m/09c7w0\": \"United States of America\"}</td>\n",
       "      <td>{\"/m/06nbt\": \"Satire\", \"/m/01z4y\": \"Comedy\"}</td>\n",
       "    </tr>\n",
       "    <tr>\n",
       "      <th>81739</th>\n",
       "      <td>913762</td>\n",
       "      <td>/m/03pcrp</td>\n",
       "      <td>The Super Dimension Fortress Macross II: Lover...</td>\n",
       "      <td>1992-05-21</td>\n",
       "      <td>NaN</td>\n",
       "      <td>150.0</td>\n",
       "      <td>{\"/m/03_9r\": \"Japanese Language\"}</td>\n",
       "      <td>{\"/m/03_3d\": \"Japan\"}</td>\n",
       "      <td>{\"/m/06n90\": \"Science Fiction\", \"/m/0gw5n2f\": ...</td>\n",
       "    </tr>\n",
       "    <tr>\n",
       "      <th>81740</th>\n",
       "      <td>12476867</td>\n",
       "      <td>/m/02w7zz8</td>\n",
       "      <td>Spliced</td>\n",
       "      <td>2002</td>\n",
       "      <td>NaN</td>\n",
       "      <td>86.0</td>\n",
       "      <td>{\"/m/02h40lc\": \"English Language\"}</td>\n",
       "      <td>{\"/m/0d060g\": \"Canada\"}</td>\n",
       "      <td>{\"/m/01jfsb\": \"Thriller\", \"/m/03npn\": \"Horror\"...</td>\n",
       "    </tr>\n",
       "  </tbody>\n",
       "</table>\n",
       "<p>81741 rows × 9 columns</p>\n",
       "</div>"
      ],
      "text/plain": [
       "      wikipedia_id freebase_movie_id  \\\n",
       "0           975900         /m/03vyhn   \n",
       "1          3196793         /m/08yl5d   \n",
       "2         28463795        /m/0crgdbh   \n",
       "3          9363483        /m/0285_cd   \n",
       "4           261236         /m/01mrr1   \n",
       "...            ...               ...   \n",
       "81736     35228177        /m/0j7hxnt   \n",
       "81737     34980460        /m/0g4pl34   \n",
       "81738      9971909        /m/02pygw1   \n",
       "81739       913762         /m/03pcrp   \n",
       "81740     12476867        /m/02w7zz8   \n",
       "\n",
       "                                                   title release_date  \\\n",
       "0                                         Ghosts of Mars   2001-08-24   \n",
       "1      Getting Away with Murder: The JonBenét Ramsey ...   2000-02-16   \n",
       "2                                            Brun bitter         1988   \n",
       "3                                       White Of The Eye         1987   \n",
       "4                                      A Woman in Flames         1983   \n",
       "...                                                  ...          ...   \n",
       "81736                           Mermaids: The Body Found   2011-03-19   \n",
       "81737                                            Knuckle   2011-01-21   \n",
       "81738                                  Another Nice Mess   1972-09-22   \n",
       "81739  The Super Dimension Fortress Macross II: Lover...   1992-05-21   \n",
       "81740                                            Spliced         2002   \n",
       "\n",
       "          revenue  runtime                           languages  \\\n",
       "0      14010832.0     98.0  {\"/m/02h40lc\": \"English Language\"}   \n",
       "1             NaN     95.0  {\"/m/02h40lc\": \"English Language\"}   \n",
       "2             NaN     83.0  {\"/m/05f_3\": \"Norwegian Language\"}   \n",
       "3             NaN    110.0  {\"/m/02h40lc\": \"English Language\"}   \n",
       "4             NaN    106.0   {\"/m/04306rv\": \"German Language\"}   \n",
       "...           ...      ...                                 ...   \n",
       "81736         NaN    120.0  {\"/m/02h40lc\": \"English Language\"}   \n",
       "81737         NaN     96.0  {\"/m/02h40lc\": \"English Language\"}   \n",
       "81738         NaN     66.0  {\"/m/02h40lc\": \"English Language\"}   \n",
       "81739         NaN    150.0   {\"/m/03_9r\": \"Japanese Language\"}   \n",
       "81740         NaN     86.0  {\"/m/02h40lc\": \"English Language\"}   \n",
       "\n",
       "                                               countries  \\\n",
       "0              {\"/m/09c7w0\": \"United States of America\"}   \n",
       "1              {\"/m/09c7w0\": \"United States of America\"}   \n",
       "2                                 {\"/m/05b4w\": \"Norway\"}   \n",
       "3                         {\"/m/07ssc\": \"United Kingdom\"}   \n",
       "4                                {\"/m/0345h\": \"Germany\"}   \n",
       "...                                                  ...   \n",
       "81736          {\"/m/09c7w0\": \"United States of America\"}   \n",
       "81737  {\"/m/03rt9\": \"Ireland\", \"/m/07ssc\": \"United Ki...   \n",
       "81738          {\"/m/09c7w0\": \"United States of America\"}   \n",
       "81739                              {\"/m/03_3d\": \"Japan\"}   \n",
       "81740                            {\"/m/0d060g\": \"Canada\"}   \n",
       "\n",
       "                                                  genres  \n",
       "0      {\"/m/01jfsb\": \"Thriller\", \"/m/06n90\": \"Science...  \n",
       "1      {\"/m/02n4kr\": \"Mystery\", \"/m/03bxz7\": \"Biograp...  \n",
       "2      {\"/m/0lsxr\": \"Crime Fiction\", \"/m/07s9rl0\": \"D...  \n",
       "3      {\"/m/01jfsb\": \"Thriller\", \"/m/0glj9q\": \"Erotic...  \n",
       "4                                {\"/m/07s9rl0\": \"Drama\"}  \n",
       "...                                                  ...  \n",
       "81736                            {\"/m/07s9rl0\": \"Drama\"}  \n",
       "81737  {\"/m/03bxz7\": \"Biographical film\", \"/m/07s9rl0...  \n",
       "81738       {\"/m/06nbt\": \"Satire\", \"/m/01z4y\": \"Comedy\"}  \n",
       "81739  {\"/m/06n90\": \"Science Fiction\", \"/m/0gw5n2f\": ...  \n",
       "81740  {\"/m/01jfsb\": \"Thriller\", \"/m/03npn\": \"Horror\"...  \n",
       "\n",
       "[81741 rows x 9 columns]"
      ]
     },
     "metadata": {},
     "output_type": "display_data"
    }
   ],
   "source": [
    "display(movie_metadata)"
   ]
  },
  {
   "cell_type": "code",
   "execution_count": 28,
   "metadata": {},
   "outputs": [
    {
     "name": "stdout",
     "output_type": "stream",
     "text": [
      "Total amount of rows that contain a NaN value:  73498\n"
     ]
    },
    {
     "data": {
      "text/html": [
       "<div>\n",
       "<style scoped>\n",
       "    .dataframe tbody tr th:only-of-type {\n",
       "        vertical-align: middle;\n",
       "    }\n",
       "\n",
       "    .dataframe tbody tr th {\n",
       "        vertical-align: top;\n",
       "    }\n",
       "\n",
       "    .dataframe thead th {\n",
       "        text-align: right;\n",
       "    }\n",
       "</style>\n",
       "<table border=\"1\" class=\"dataframe\">\n",
       "  <thead>\n",
       "    <tr style=\"text-align: right;\">\n",
       "      <th></th>\n",
       "      <th>nan_sum</th>\n",
       "      <th>nan_percentage</th>\n",
       "    </tr>\n",
       "  </thead>\n",
       "  <tbody>\n",
       "    <tr>\n",
       "      <th>wikipedia_id</th>\n",
       "      <td>0</td>\n",
       "      <td>0.000000</td>\n",
       "    </tr>\n",
       "    <tr>\n",
       "      <th>freebase_movie_id</th>\n",
       "      <td>0</td>\n",
       "      <td>0.000000</td>\n",
       "    </tr>\n",
       "    <tr>\n",
       "      <th>title</th>\n",
       "      <td>0</td>\n",
       "      <td>0.000000</td>\n",
       "    </tr>\n",
       "    <tr>\n",
       "      <th>release_date</th>\n",
       "      <td>6902</td>\n",
       "      <td>8.443743</td>\n",
       "    </tr>\n",
       "    <tr>\n",
       "      <th>revenue</th>\n",
       "      <td>73340</td>\n",
       "      <td>89.722416</td>\n",
       "    </tr>\n",
       "    <tr>\n",
       "      <th>runtime</th>\n",
       "      <td>20450</td>\n",
       "      <td>25.018045</td>\n",
       "    </tr>\n",
       "    <tr>\n",
       "      <th>languages</th>\n",
       "      <td>0</td>\n",
       "      <td>0.000000</td>\n",
       "    </tr>\n",
       "    <tr>\n",
       "      <th>countries</th>\n",
       "      <td>0</td>\n",
       "      <td>0.000000</td>\n",
       "    </tr>\n",
       "    <tr>\n",
       "      <th>genres</th>\n",
       "      <td>0</td>\n",
       "      <td>0.000000</td>\n",
       "    </tr>\n",
       "  </tbody>\n",
       "</table>\n",
       "</div>"
      ],
      "text/plain": [
       "                   nan_sum  nan_percentage\n",
       "wikipedia_id             0        0.000000\n",
       "freebase_movie_id        0        0.000000\n",
       "title                    0        0.000000\n",
       "release_date          6902        8.443743\n",
       "revenue              73340       89.722416\n",
       "runtime              20450       25.018045\n",
       "languages                0        0.000000\n",
       "countries                0        0.000000\n",
       "genres                   0        0.000000"
      ]
     },
     "execution_count": 28,
     "metadata": {},
     "output_type": "execute_result"
    }
   ],
   "source": [
    "initial_movie_shape = movie_metadata.shape\n",
    "\n",
    "print(\n",
    "    \"Total amount of rows that contain a NaN value: \",\n",
    "    movie_metadata.isna().any(axis=1).sum(),\n",
    ")\n",
    "pd.DataFrame(\n",
    "    {\n",
    "        \"nan_sum\": movie_metadata.isna().sum(),\n",
    "        \"nan_percentage\": movie_metadata.isna().mean() * 100,\n",
    "    }\n",
    ")"
   ]
  },
  {
   "cell_type": "markdown",
   "metadata": {},
   "source": [
    "We are mainly interested in the box office revenue, so we will drop all rows where this value is missing.\n",
    "Additionally, we want to merge the CMU movies dataset with the IMDB dataset on title, year and runtime, so we need to drop the rows with missing values in these columns as well. Finally, we extract the year from the movie release date."
   ]
  },
  {
   "cell_type": "code",
   "execution_count": 29,
   "metadata": {},
   "outputs": [],
   "source": [
    "# drop all rows with missing values in the revenue, release_date or runtime column\n",
    "movie_metadata = movie_metadata.dropna(subset=[\"revenue\", \"release_date\", \"runtime\"])\n",
    "\n",
    "# make a column year extracting the year from the release date\n",
    "movie_metadata[\"year\"] = movie_metadata[\"release_date\"].str[:4]"
   ]
  },
  {
   "cell_type": "markdown",
   "metadata": {},
   "source": [
    "We need to check for duplicates in order to only have unique movies in the dataset."
   ]
  },
  {
   "cell_type": "code",
   "execution_count": 30,
   "metadata": {},
   "outputs": [
    {
     "data": {
      "text/plain": [
       "\"No duplicates found in the specified columns: ['title', 'release_date', 'runtime']\""
      ]
     },
     "execution_count": 30,
     "metadata": {},
     "output_type": "execute_result"
    }
   ],
   "source": [
    "# see if there are any duplicates in the movie metadata dataset\n",
    "find_duplicates(movie_metadata, [\"title\", \"release_date\", \"runtime\"])"
   ]
  },
  {
   "cell_type": "code",
   "execution_count": 31,
   "metadata": {},
   "outputs": [
    {
     "name": "stdout",
     "output_type": "stream",
     "text": [
      "Percentage of rows dropped after cleaning:  89.91570937473239\n"
     ]
    }
   ],
   "source": [
    "print(\"Percentage of rows dropped after cleaning: \", ((1 - movie_metadata.shape[0]/initial_movie_shape[0]) * 100))"
   ]
  },
  {
   "cell_type": "markdown",
   "metadata": {},
   "source": [
    "Approximately 90% of the initial movie dataset was filtered out, resulting in a selection of 8,243 movies. This provides a sufficient basis for our intended analysis.\n"
   ]
  },
  {
   "cell_type": "code",
   "execution_count": 32,
   "metadata": {},
   "outputs": [
    {
     "data": {
      "text/html": [
       "<div>\n",
       "<style scoped>\n",
       "    .dataframe tbody tr th:only-of-type {\n",
       "        vertical-align: middle;\n",
       "    }\n",
       "\n",
       "    .dataframe tbody tr th {\n",
       "        vertical-align: top;\n",
       "    }\n",
       "\n",
       "    .dataframe thead th {\n",
       "        text-align: right;\n",
       "    }\n",
       "</style>\n",
       "<table border=\"1\" class=\"dataframe\">\n",
       "  <thead>\n",
       "    <tr style=\"text-align: right;\">\n",
       "      <th></th>\n",
       "      <th>wikipedia_id</th>\n",
       "      <th>freebase_movie_id</th>\n",
       "      <th>title</th>\n",
       "      <th>release_date</th>\n",
       "      <th>revenue</th>\n",
       "      <th>runtime</th>\n",
       "      <th>languages</th>\n",
       "      <th>countries</th>\n",
       "      <th>genres</th>\n",
       "      <th>year</th>\n",
       "    </tr>\n",
       "  </thead>\n",
       "  <tbody>\n",
       "    <tr>\n",
       "      <th>0</th>\n",
       "      <td>975900</td>\n",
       "      <td>/m/03vyhn</td>\n",
       "      <td>Ghosts of Mars</td>\n",
       "      <td>2001-08-24</td>\n",
       "      <td>14010832.0</td>\n",
       "      <td>98.0</td>\n",
       "      <td>{\"/m/02h40lc\": \"English Language\"}</td>\n",
       "      <td>{\"/m/09c7w0\": \"United States of America\"}</td>\n",
       "      <td>{\"/m/01jfsb\": \"Thriller\", \"/m/06n90\": \"Science...</td>\n",
       "      <td>2001</td>\n",
       "    </tr>\n",
       "    <tr>\n",
       "      <th>7</th>\n",
       "      <td>10408933</td>\n",
       "      <td>/m/02qc0j7</td>\n",
       "      <td>Alexander's Ragtime Band</td>\n",
       "      <td>1938-08-16</td>\n",
       "      <td>3600000.0</td>\n",
       "      <td>106.0</td>\n",
       "      <td>{\"/m/02h40lc\": \"English Language\"}</td>\n",
       "      <td>{\"/m/09c7w0\": \"United States of America\"}</td>\n",
       "      <td>{\"/m/04t36\": \"Musical\", \"/m/01z4y\": \"Comedy\", ...</td>\n",
       "      <td>1938</td>\n",
       "    </tr>\n",
       "    <tr>\n",
       "      <th>13</th>\n",
       "      <td>171005</td>\n",
       "      <td>/m/016ywb</td>\n",
       "      <td>Henry V</td>\n",
       "      <td>1989-11-08</td>\n",
       "      <td>10161099.0</td>\n",
       "      <td>137.0</td>\n",
       "      <td>{\"/m/02h40lc\": \"English Language\"}</td>\n",
       "      <td>{\"/m/07ssc\": \"United Kingdom\"}</td>\n",
       "      <td>{\"/m/04xvh5\": \"Costume drama\", \"/m/082gq\": \"Wa...</td>\n",
       "      <td>1989</td>\n",
       "    </tr>\n",
       "    <tr>\n",
       "      <th>17</th>\n",
       "      <td>77856</td>\n",
       "      <td>/m/0kcn7</td>\n",
       "      <td>Mary Poppins</td>\n",
       "      <td>1964-08-27</td>\n",
       "      <td>102272727.0</td>\n",
       "      <td>139.0</td>\n",
       "      <td>{\"/m/02h40lc\": \"English Language\"}</td>\n",
       "      <td>{\"/m/09c7w0\": \"United States of America\"}</td>\n",
       "      <td>{\"/m/0hj3myq\": \"Children's/Family\", \"/m/04t36\"...</td>\n",
       "      <td>1964</td>\n",
       "    </tr>\n",
       "    <tr>\n",
       "      <th>21</th>\n",
       "      <td>612710</td>\n",
       "      <td>/m/02wjqm</td>\n",
       "      <td>New Rose Hotel</td>\n",
       "      <td>1999-10-01</td>\n",
       "      <td>21521.0</td>\n",
       "      <td>92.0</td>\n",
       "      <td>{\"/m/02h40lc\": \"English Language\"}</td>\n",
       "      <td>{\"/m/09c7w0\": \"United States of America\"}</td>\n",
       "      <td>{\"/m/01jfsb\": \"Thriller\", \"/m/06n90\": \"Science...</td>\n",
       "      <td>1999</td>\n",
       "    </tr>\n",
       "    <tr>\n",
       "      <th>...</th>\n",
       "      <td>...</td>\n",
       "      <td>...</td>\n",
       "      <td>...</td>\n",
       "      <td>...</td>\n",
       "      <td>...</td>\n",
       "      <td>...</td>\n",
       "      <td>...</td>\n",
       "      <td>...</td>\n",
       "      <td>...</td>\n",
       "      <td>...</td>\n",
       "    </tr>\n",
       "    <tr>\n",
       "      <th>81694</th>\n",
       "      <td>1191380</td>\n",
       "      <td>/m/04f_y7</td>\n",
       "      <td>Wilde</td>\n",
       "      <td>1997</td>\n",
       "      <td>2158775.0</td>\n",
       "      <td>118.0</td>\n",
       "      <td>{\"/m/02h40lc\": \"English Language\"}</td>\n",
       "      <td>{\"/m/014tss\": \"Kingdom of Great Britain\", \"/m/...</td>\n",
       "      <td>{\"/m/0hn10\": \"LGBT\", \"/m/017fp\": \"Biography\", ...</td>\n",
       "      <td>1997</td>\n",
       "    </tr>\n",
       "    <tr>\n",
       "      <th>81695</th>\n",
       "      <td>54540</td>\n",
       "      <td>/m/0f7hw</td>\n",
       "      <td>Coming to America</td>\n",
       "      <td>1988-06-29</td>\n",
       "      <td>288752301.0</td>\n",
       "      <td>117.0</td>\n",
       "      <td>{\"/m/02h40lc\": \"English Language\"}</td>\n",
       "      <td>{\"/m/09c7w0\": \"United States of America\"}</td>\n",
       "      <td>{\"/m/06cvj\": \"Romantic comedy\", \"/m/03p5xs\": \"...</td>\n",
       "      <td>1988</td>\n",
       "    </tr>\n",
       "    <tr>\n",
       "      <th>81720</th>\n",
       "      <td>7761830</td>\n",
       "      <td>/m/0kvgqb</td>\n",
       "      <td>Spaced Invaders</td>\n",
       "      <td>1990</td>\n",
       "      <td>15369573.0</td>\n",
       "      <td>100.0</td>\n",
       "      <td>{\"/m/02h40lc\": \"English Language\"}</td>\n",
       "      <td>{\"/m/09c7w0\": \"United States of America\"}</td>\n",
       "      <td>{\"/m/0hj3mt0\": \"Alien Film\", \"/m/06n90\": \"Scie...</td>\n",
       "      <td>1990</td>\n",
       "    </tr>\n",
       "    <tr>\n",
       "      <th>81725</th>\n",
       "      <td>1918494</td>\n",
       "      <td>/m/0660qx</td>\n",
       "      <td>State and Main</td>\n",
       "      <td>2000-08-26</td>\n",
       "      <td>6944471.0</td>\n",
       "      <td>106.0</td>\n",
       "      <td>{\"/m/02bjrlw\": \"Italian Language\", \"/m/02h40lc...</td>\n",
       "      <td>{\"/m/0f8l9c\": \"France\", \"/m/09c7w0\": \"United S...</td>\n",
       "      <td>{\"/m/0gf28\": \"Parody\", \"/m/09n5t_\": \"Americana...</td>\n",
       "      <td>2000</td>\n",
       "    </tr>\n",
       "    <tr>\n",
       "      <th>81726</th>\n",
       "      <td>664006</td>\n",
       "      <td>/m/030xw6</td>\n",
       "      <td>Guilty as Sin</td>\n",
       "      <td>1993-06-04</td>\n",
       "      <td>22886222.0</td>\n",
       "      <td>107.0</td>\n",
       "      <td>{}</td>\n",
       "      <td>{\"/m/09c7w0\": \"United States of America\"}</td>\n",
       "      <td>{\"/m/01jfsb\": \"Thriller\", \"/m/0glj9q\": \"Erotic...</td>\n",
       "      <td>1993</td>\n",
       "    </tr>\n",
       "  </tbody>\n",
       "</table>\n",
       "<p>8243 rows × 10 columns</p>\n",
       "</div>"
      ],
      "text/plain": [
       "      wikipedia_id freebase_movie_id                     title release_date  \\\n",
       "0           975900         /m/03vyhn            Ghosts of Mars   2001-08-24   \n",
       "7         10408933        /m/02qc0j7  Alexander's Ragtime Band   1938-08-16   \n",
       "13          171005         /m/016ywb                   Henry V   1989-11-08   \n",
       "17           77856          /m/0kcn7              Mary Poppins   1964-08-27   \n",
       "21          612710         /m/02wjqm            New Rose Hotel   1999-10-01   \n",
       "...            ...               ...                       ...          ...   \n",
       "81694      1191380         /m/04f_y7                     Wilde         1997   \n",
       "81695        54540          /m/0f7hw         Coming to America   1988-06-29   \n",
       "81720      7761830         /m/0kvgqb           Spaced Invaders         1990   \n",
       "81725      1918494         /m/0660qx            State and Main   2000-08-26   \n",
       "81726       664006         /m/030xw6             Guilty as Sin   1993-06-04   \n",
       "\n",
       "           revenue  runtime  \\\n",
       "0       14010832.0     98.0   \n",
       "7        3600000.0    106.0   \n",
       "13      10161099.0    137.0   \n",
       "17     102272727.0    139.0   \n",
       "21         21521.0     92.0   \n",
       "...            ...      ...   \n",
       "81694    2158775.0    118.0   \n",
       "81695  288752301.0    117.0   \n",
       "81720   15369573.0    100.0   \n",
       "81725    6944471.0    106.0   \n",
       "81726   22886222.0    107.0   \n",
       "\n",
       "                                               languages  \\\n",
       "0                     {\"/m/02h40lc\": \"English Language\"}   \n",
       "7                     {\"/m/02h40lc\": \"English Language\"}   \n",
       "13                    {\"/m/02h40lc\": \"English Language\"}   \n",
       "17                    {\"/m/02h40lc\": \"English Language\"}   \n",
       "21                    {\"/m/02h40lc\": \"English Language\"}   \n",
       "...                                                  ...   \n",
       "81694                 {\"/m/02h40lc\": \"English Language\"}   \n",
       "81695                 {\"/m/02h40lc\": \"English Language\"}   \n",
       "81720                 {\"/m/02h40lc\": \"English Language\"}   \n",
       "81725  {\"/m/02bjrlw\": \"Italian Language\", \"/m/02h40lc...   \n",
       "81726                                                 {}   \n",
       "\n",
       "                                               countries  \\\n",
       "0              {\"/m/09c7w0\": \"United States of America\"}   \n",
       "7              {\"/m/09c7w0\": \"United States of America\"}   \n",
       "13                        {\"/m/07ssc\": \"United Kingdom\"}   \n",
       "17             {\"/m/09c7w0\": \"United States of America\"}   \n",
       "21             {\"/m/09c7w0\": \"United States of America\"}   \n",
       "...                                                  ...   \n",
       "81694  {\"/m/014tss\": \"Kingdom of Great Britain\", \"/m/...   \n",
       "81695          {\"/m/09c7w0\": \"United States of America\"}   \n",
       "81720          {\"/m/09c7w0\": \"United States of America\"}   \n",
       "81725  {\"/m/0f8l9c\": \"France\", \"/m/09c7w0\": \"United S...   \n",
       "81726          {\"/m/09c7w0\": \"United States of America\"}   \n",
       "\n",
       "                                                  genres  year  \n",
       "0      {\"/m/01jfsb\": \"Thriller\", \"/m/06n90\": \"Science...  2001  \n",
       "7      {\"/m/04t36\": \"Musical\", \"/m/01z4y\": \"Comedy\", ...  1938  \n",
       "13     {\"/m/04xvh5\": \"Costume drama\", \"/m/082gq\": \"Wa...  1989  \n",
       "17     {\"/m/0hj3myq\": \"Children's/Family\", \"/m/04t36\"...  1964  \n",
       "21     {\"/m/01jfsb\": \"Thriller\", \"/m/06n90\": \"Science...  1999  \n",
       "...                                                  ...   ...  \n",
       "81694  {\"/m/0hn10\": \"LGBT\", \"/m/017fp\": \"Biography\", ...  1997  \n",
       "81695  {\"/m/06cvj\": \"Romantic comedy\", \"/m/03p5xs\": \"...  1988  \n",
       "81720  {\"/m/0hj3mt0\": \"Alien Film\", \"/m/06n90\": \"Scie...  1990  \n",
       "81725  {\"/m/0gf28\": \"Parody\", \"/m/09n5t_\": \"Americana...  2000  \n",
       "81726  {\"/m/01jfsb\": \"Thriller\", \"/m/0glj9q\": \"Erotic...  1993  \n",
       "\n",
       "[8243 rows x 10 columns]"
      ]
     },
     "metadata": {},
     "output_type": "display_data"
    }
   ],
   "source": [
    "# the dataset after cleaning\n",
    "display(movie_metadata)"
   ]
  },
  {
   "cell_type": "markdown",
   "metadata": {},
   "source": [
    "##### Dataset: `movie_budget`\n",
    "\n",
    "We will use this external dataset to append the budget of the movies to our main movie dataset. This would help us to better understand the correlation between the budget and the revenue of the movies and explore the profitability of the movies."
   ]
  },
  {
   "cell_type": "code",
   "execution_count": 33,
   "metadata": {},
   "outputs": [
    {
     "data": {
      "text/html": [
       "<div>\n",
       "<style scoped>\n",
       "    .dataframe tbody tr th:only-of-type {\n",
       "        vertical-align: middle;\n",
       "    }\n",
       "\n",
       "    .dataframe tbody tr th {\n",
       "        vertical-align: top;\n",
       "    }\n",
       "\n",
       "    .dataframe thead th {\n",
       "        text-align: right;\n",
       "    }\n",
       "</style>\n",
       "<table border=\"1\" class=\"dataframe\">\n",
       "  <thead>\n",
       "    <tr style=\"text-align: right;\">\n",
       "      <th></th>\n",
       "      <th>budget</th>\n",
       "      <th>imdb_id</th>\n",
       "      <th>original_title</th>\n",
       "      <th>popularity</th>\n",
       "      <th>release_date</th>\n",
       "      <th>revenue</th>\n",
       "      <th>runtime</th>\n",
       "      <th>title</th>\n",
       "      <th>vote_average</th>\n",
       "      <th>vote_count</th>\n",
       "    </tr>\n",
       "  </thead>\n",
       "  <tbody>\n",
       "    <tr>\n",
       "      <th>0</th>\n",
       "      <td>30000000</td>\n",
       "      <td>tt0114709</td>\n",
       "      <td>Toy Story</td>\n",
       "      <td>21.946943</td>\n",
       "      <td>1995-10-30</td>\n",
       "      <td>373554033.0</td>\n",
       "      <td>81.0</td>\n",
       "      <td>Toy Story</td>\n",
       "      <td>7.7</td>\n",
       "      <td>5415.0</td>\n",
       "    </tr>\n",
       "    <tr>\n",
       "      <th>1</th>\n",
       "      <td>65000000</td>\n",
       "      <td>tt0113497</td>\n",
       "      <td>Jumanji</td>\n",
       "      <td>17.015539</td>\n",
       "      <td>1995-12-15</td>\n",
       "      <td>262797249.0</td>\n",
       "      <td>104.0</td>\n",
       "      <td>Jumanji</td>\n",
       "      <td>6.9</td>\n",
       "      <td>2413.0</td>\n",
       "    </tr>\n",
       "    <tr>\n",
       "      <th>2</th>\n",
       "      <td>0</td>\n",
       "      <td>tt0113228</td>\n",
       "      <td>Grumpier Old Men</td>\n",
       "      <td>11.7129</td>\n",
       "      <td>1995-12-22</td>\n",
       "      <td>0.0</td>\n",
       "      <td>101.0</td>\n",
       "      <td>Grumpier Old Men</td>\n",
       "      <td>6.5</td>\n",
       "      <td>92.0</td>\n",
       "    </tr>\n",
       "    <tr>\n",
       "      <th>3</th>\n",
       "      <td>16000000</td>\n",
       "      <td>tt0114885</td>\n",
       "      <td>Waiting to Exhale</td>\n",
       "      <td>3.859495</td>\n",
       "      <td>1995-12-22</td>\n",
       "      <td>81452156.0</td>\n",
       "      <td>127.0</td>\n",
       "      <td>Waiting to Exhale</td>\n",
       "      <td>6.1</td>\n",
       "      <td>34.0</td>\n",
       "    </tr>\n",
       "    <tr>\n",
       "      <th>4</th>\n",
       "      <td>0</td>\n",
       "      <td>tt0113041</td>\n",
       "      <td>Father of the Bride Part II</td>\n",
       "      <td>8.387519</td>\n",
       "      <td>1995-02-10</td>\n",
       "      <td>76578911.0</td>\n",
       "      <td>106.0</td>\n",
       "      <td>Father of the Bride Part II</td>\n",
       "      <td>5.7</td>\n",
       "      <td>173.0</td>\n",
       "    </tr>\n",
       "    <tr>\n",
       "      <th>...</th>\n",
       "      <td>...</td>\n",
       "      <td>...</td>\n",
       "      <td>...</td>\n",
       "      <td>...</td>\n",
       "      <td>...</td>\n",
       "      <td>...</td>\n",
       "      <td>...</td>\n",
       "      <td>...</td>\n",
       "      <td>...</td>\n",
       "      <td>...</td>\n",
       "    </tr>\n",
       "    <tr>\n",
       "      <th>45461</th>\n",
       "      <td>0</td>\n",
       "      <td>tt6209470</td>\n",
       "      <td>رگ خواب</td>\n",
       "      <td>0.072051</td>\n",
       "      <td>NaN</td>\n",
       "      <td>0.0</td>\n",
       "      <td>90.0</td>\n",
       "      <td>Subdue</td>\n",
       "      <td>4.0</td>\n",
       "      <td>1.0</td>\n",
       "    </tr>\n",
       "    <tr>\n",
       "      <th>45462</th>\n",
       "      <td>0</td>\n",
       "      <td>tt2028550</td>\n",
       "      <td>Siglo ng Pagluluwal</td>\n",
       "      <td>0.178241</td>\n",
       "      <td>2011-11-17</td>\n",
       "      <td>0.0</td>\n",
       "      <td>360.0</td>\n",
       "      <td>Century of Birthing</td>\n",
       "      <td>9.0</td>\n",
       "      <td>3.0</td>\n",
       "    </tr>\n",
       "    <tr>\n",
       "      <th>45463</th>\n",
       "      <td>0</td>\n",
       "      <td>tt0303758</td>\n",
       "      <td>Betrayal</td>\n",
       "      <td>0.903007</td>\n",
       "      <td>2003-08-01</td>\n",
       "      <td>0.0</td>\n",
       "      <td>90.0</td>\n",
       "      <td>Betrayal</td>\n",
       "      <td>3.8</td>\n",
       "      <td>6.0</td>\n",
       "    </tr>\n",
       "    <tr>\n",
       "      <th>45464</th>\n",
       "      <td>0</td>\n",
       "      <td>tt0008536</td>\n",
       "      <td>Satana likuyushchiy</td>\n",
       "      <td>0.003503</td>\n",
       "      <td>1917-10-21</td>\n",
       "      <td>0.0</td>\n",
       "      <td>87.0</td>\n",
       "      <td>Satan Triumphant</td>\n",
       "      <td>0.0</td>\n",
       "      <td>0.0</td>\n",
       "    </tr>\n",
       "    <tr>\n",
       "      <th>45465</th>\n",
       "      <td>0</td>\n",
       "      <td>tt6980792</td>\n",
       "      <td>Queerama</td>\n",
       "      <td>0.163015</td>\n",
       "      <td>2017-06-09</td>\n",
       "      <td>0.0</td>\n",
       "      <td>75.0</td>\n",
       "      <td>Queerama</td>\n",
       "      <td>0.0</td>\n",
       "      <td>0.0</td>\n",
       "    </tr>\n",
       "  </tbody>\n",
       "</table>\n",
       "<p>45466 rows × 10 columns</p>\n",
       "</div>"
      ],
      "text/plain": [
       "         budget    imdb_id               original_title popularity  \\\n",
       "0      30000000  tt0114709                    Toy Story  21.946943   \n",
       "1      65000000  tt0113497                      Jumanji  17.015539   \n",
       "2             0  tt0113228             Grumpier Old Men    11.7129   \n",
       "3      16000000  tt0114885            Waiting to Exhale   3.859495   \n",
       "4             0  tt0113041  Father of the Bride Part II   8.387519   \n",
       "...         ...        ...                          ...        ...   \n",
       "45461         0  tt6209470                      رگ خواب   0.072051   \n",
       "45462         0  tt2028550          Siglo ng Pagluluwal   0.178241   \n",
       "45463         0  tt0303758                     Betrayal   0.903007   \n",
       "45464         0  tt0008536          Satana likuyushchiy   0.003503   \n",
       "45465         0  tt6980792                     Queerama   0.163015   \n",
       "\n",
       "      release_date      revenue  runtime                        title  \\\n",
       "0       1995-10-30  373554033.0     81.0                    Toy Story   \n",
       "1       1995-12-15  262797249.0    104.0                      Jumanji   \n",
       "2       1995-12-22          0.0    101.0             Grumpier Old Men   \n",
       "3       1995-12-22   81452156.0    127.0            Waiting to Exhale   \n",
       "4       1995-02-10   76578911.0    106.0  Father of the Bride Part II   \n",
       "...            ...          ...      ...                          ...   \n",
       "45461          NaN          0.0     90.0                       Subdue   \n",
       "45462   2011-11-17          0.0    360.0          Century of Birthing   \n",
       "45463   2003-08-01          0.0     90.0                     Betrayal   \n",
       "45464   1917-10-21          0.0     87.0             Satan Triumphant   \n",
       "45465   2017-06-09          0.0     75.0                     Queerama   \n",
       "\n",
       "       vote_average  vote_count  \n",
       "0               7.7      5415.0  \n",
       "1               6.9      2413.0  \n",
       "2               6.5        92.0  \n",
       "3               6.1        34.0  \n",
       "4               5.7       173.0  \n",
       "...             ...         ...  \n",
       "45461           4.0         1.0  \n",
       "45462           9.0         3.0  \n",
       "45463           3.8         6.0  \n",
       "45464           0.0         0.0  \n",
       "45465           0.0         0.0  \n",
       "\n",
       "[45466 rows x 10 columns]"
      ]
     },
     "metadata": {},
     "output_type": "display_data"
    }
   ],
   "source": [
    "display(movie_budget)"
   ]
  },
  {
   "cell_type": "markdown",
   "metadata": {},
   "source": [
    "It is important to note that this dataset contains some budget values that are either zero or near-zero, which are realistically improbable. To maintain data integrity, these entries will be excluded from our analysis. According to [movieweb](https://movieweb.com/cheapest-movies-ever-made/#tarnation-218-32), an exceptional case in low-budget filmmaking is the documentary [Tarnation](https://en.wikipedia.org/wiki/Tarnation_(2003_film)) directed by Jonathan Caouette, with a budget of just \\\\$218.32. Consequently, we will exclude movies with reported budgets below \\\\$218 from our analysis, considering them likely to be inaccuracies or data entry errors. "
   ]
  },
  {
   "cell_type": "code",
   "execution_count": 34,
   "metadata": {},
   "outputs": [
    {
     "name": "stdout",
     "output_type": "stream",
     "text": [
      "Total amount of rows that contain a NaN value:  36772\n"
     ]
    },
    {
     "data": {
      "text/html": [
       "<div>\n",
       "<style scoped>\n",
       "    .dataframe tbody tr th:only-of-type {\n",
       "        vertical-align: middle;\n",
       "    }\n",
       "\n",
       "    .dataframe tbody tr th {\n",
       "        vertical-align: top;\n",
       "    }\n",
       "\n",
       "    .dataframe thead th {\n",
       "        text-align: right;\n",
       "    }\n",
       "</style>\n",
       "<table border=\"1\" class=\"dataframe\">\n",
       "  <thead>\n",
       "    <tr style=\"text-align: right;\">\n",
       "      <th></th>\n",
       "      <th>nan_sum</th>\n",
       "      <th>nan_percentage</th>\n",
       "    </tr>\n",
       "  </thead>\n",
       "  <tbody>\n",
       "    <tr>\n",
       "      <th>budget</th>\n",
       "      <td>36758</td>\n",
       "      <td>80.847226</td>\n",
       "    </tr>\n",
       "    <tr>\n",
       "      <th>imdb_id</th>\n",
       "      <td>17</td>\n",
       "      <td>0.037391</td>\n",
       "    </tr>\n",
       "    <tr>\n",
       "      <th>original_title</th>\n",
       "      <td>0</td>\n",
       "      <td>0.000000</td>\n",
       "    </tr>\n",
       "    <tr>\n",
       "      <th>popularity</th>\n",
       "      <td>5</td>\n",
       "      <td>0.010997</td>\n",
       "    </tr>\n",
       "    <tr>\n",
       "      <th>release_date</th>\n",
       "      <td>87</td>\n",
       "      <td>0.191352</td>\n",
       "    </tr>\n",
       "    <tr>\n",
       "      <th>revenue</th>\n",
       "      <td>6</td>\n",
       "      <td>0.013197</td>\n",
       "    </tr>\n",
       "    <tr>\n",
       "      <th>runtime</th>\n",
       "      <td>263</td>\n",
       "      <td>0.578454</td>\n",
       "    </tr>\n",
       "    <tr>\n",
       "      <th>title</th>\n",
       "      <td>6</td>\n",
       "      <td>0.013197</td>\n",
       "    </tr>\n",
       "    <tr>\n",
       "      <th>vote_average</th>\n",
       "      <td>6</td>\n",
       "      <td>0.013197</td>\n",
       "    </tr>\n",
       "    <tr>\n",
       "      <th>vote_count</th>\n",
       "      <td>6</td>\n",
       "      <td>0.013197</td>\n",
       "    </tr>\n",
       "  </tbody>\n",
       "</table>\n",
       "</div>"
      ],
      "text/plain": [
       "                nan_sum  nan_percentage\n",
       "budget            36758       80.847226\n",
       "imdb_id              17        0.037391\n",
       "original_title        0        0.000000\n",
       "popularity            5        0.010997\n",
       "release_date         87        0.191352\n",
       "revenue               6        0.013197\n",
       "runtime             263        0.578454\n",
       "title                 6        0.013197\n",
       "vote_average          6        0.013197\n",
       "vote_count            6        0.013197"
      ]
     },
     "execution_count": 34,
     "metadata": {},
     "output_type": "execute_result"
    }
   ],
   "source": [
    "# the nans in this dataset are represented as \"\\\\N\" and <NAN>, so we need to replace them with NaN\n",
    "movie_budget = movie_budget.replace(\"\\\\N\", np.nan)\n",
    "movie_budget = movie_budget.replace(\"<NAN>\", np.nan)\n",
    "\n",
    "# convert to float, non-convertible values become NaN\n",
    "movie_budget[\"budget\"] = pd.to_numeric(movie_budget[\"budget\"], errors=\"coerce\")\n",
    "\n",
    "# replace budget values < $218 with NaN\n",
    "movie_budget.loc[movie_budget[\"budget\"] < 218, \"budget\"] = np.nan\n",
    "\n",
    "print(\n",
    "    \"Total amount of rows that contain a NaN value: \",\n",
    "    movie_budget.isna().any(axis=1).sum(),\n",
    ")\n",
    "pd.DataFrame(\n",
    "    {\n",
    "        \"nan_sum\": movie_budget.isna().sum(),\n",
    "        \"nan_percentage\": movie_budget.isna().mean() * 100,\n",
    "    }\n",
    ")"
   ]
  },
  {
   "cell_type": "markdown",
   "metadata": {},
   "source": [
    "We will be merging this dataset with the imdb datasets by imdb_id, so we drop all of the rows where this value is NaN. Additionally, we drop the columns that overlap with our initial movie_metadata dataset. Finally, since we are interested in populating the `movie_metadata` dataset with the budget, we drop all of the rows where this value is missing."
   ]
  },
  {
   "cell_type": "code",
   "execution_count": 35,
   "metadata": {},
   "outputs": [],
   "source": [
    "# drop all rows with missing value in the imdb_id column\n",
    "movie_budget = movie_budget.dropna(subset=[\"imdb_id\"])\n",
    "\n",
    "# drop the columns which are present in movie_metadata\n",
    "common_columns = movie_budget.columns.intersection(movie_metadata.columns)\n",
    "movie_budget = movie_budget.drop(columns=common_columns)\n",
    "\n",
    "# drop all rows with missing value in the budget column\n",
    "movie_budget.dropna(subset=[\"budget\"], inplace=True)"
   ]
  },
  {
   "cell_type": "markdown",
   "metadata": {},
   "source": [
    "We need to check for duplicates in order to only have unique movies in the dataset."
   ]
  },
  {
   "cell_type": "code",
   "execution_count": 36,
   "metadata": {},
   "outputs": [
    {
     "data": {
      "text/html": [
       "<div>\n",
       "<style scoped>\n",
       "    .dataframe tbody tr th:only-of-type {\n",
       "        vertical-align: middle;\n",
       "    }\n",
       "\n",
       "    .dataframe tbody tr th {\n",
       "        vertical-align: top;\n",
       "    }\n",
       "\n",
       "    .dataframe thead th {\n",
       "        text-align: right;\n",
       "    }\n",
       "</style>\n",
       "<table border=\"1\" class=\"dataframe\">\n",
       "  <thead>\n",
       "    <tr style=\"text-align: right;\">\n",
       "      <th></th>\n",
       "      <th>budget</th>\n",
       "      <th>imdb_id</th>\n",
       "      <th>original_title</th>\n",
       "      <th>popularity</th>\n",
       "      <th>vote_average</th>\n",
       "      <th>vote_count</th>\n",
       "    </tr>\n",
       "  </thead>\n",
       "  <tbody>\n",
       "    <tr>\n",
       "      <th>26625</th>\n",
       "      <td>10000000.0</td>\n",
       "      <td>tt0100361</td>\n",
       "      <td>The Phantom of the Opera</td>\n",
       "      <td>0.43849</td>\n",
       "      <td>5.0</td>\n",
       "      <td>3.0</td>\n",
       "    </tr>\n",
       "    <tr>\n",
       "      <th>9576</th>\n",
       "      <td>10000000.0</td>\n",
       "      <td>tt0100361</td>\n",
       "      <td>The Phantom of the Opera</td>\n",
       "      <td>0.441872</td>\n",
       "      <td>5.0</td>\n",
       "      <td>3.0</td>\n",
       "    </tr>\n",
       "    <tr>\n",
       "      <th>33743</th>\n",
       "      <td>26000000.0</td>\n",
       "      <td>tt0157472</td>\n",
       "      <td>Clockstoppers</td>\n",
       "      <td>4.920175</td>\n",
       "      <td>4.9</td>\n",
       "      <td>90.0</td>\n",
       "    </tr>\n",
       "    <tr>\n",
       "      <th>5130</th>\n",
       "      <td>26000000.0</td>\n",
       "      <td>tt0157472</td>\n",
       "      <td>Clockstoppers</td>\n",
       "      <td>5.373623</td>\n",
       "      <td>4.9</td>\n",
       "      <td>89.0</td>\n",
       "    </tr>\n",
       "    <tr>\n",
       "      <th>4114</th>\n",
       "      <td>16000000.0</td>\n",
       "      <td>tt0235679</td>\n",
       "      <td>Pokémon 3: The Movie</td>\n",
       "      <td>10.264597</td>\n",
       "      <td>6.0</td>\n",
       "      <td>143.0</td>\n",
       "    </tr>\n",
       "    <tr>\n",
       "      <th>44821</th>\n",
       "      <td>16000000.0</td>\n",
       "      <td>tt0235679</td>\n",
       "      <td>Pokémon 3: The Movie</td>\n",
       "      <td>6.480376</td>\n",
       "      <td>6.0</td>\n",
       "      <td>144.0</td>\n",
       "    </tr>\n",
       "    <tr>\n",
       "      <th>5865</th>\n",
       "      <td>30000000.0</td>\n",
       "      <td>tt0270288</td>\n",
       "      <td>Confessions of a Dangerous Mind</td>\n",
       "      <td>11.331072</td>\n",
       "      <td>6.6</td>\n",
       "      <td>281.0</td>\n",
       "    </tr>\n",
       "    <tr>\n",
       "      <th>33826</th>\n",
       "      <td>30000000.0</td>\n",
       "      <td>tt0270288</td>\n",
       "      <td>Confessions of a Dangerous Mind</td>\n",
       "      <td>7.645827</td>\n",
       "      <td>6.6</td>\n",
       "      <td>281.0</td>\n",
       "    </tr>\n",
       "    <tr>\n",
       "      <th>10419</th>\n",
       "      <td>1600000.0</td>\n",
       "      <td>tt0454792</td>\n",
       "      <td>Bubble</td>\n",
       "      <td>3.185256</td>\n",
       "      <td>6.4</td>\n",
       "      <td>36.0</td>\n",
       "    </tr>\n",
       "    <tr>\n",
       "      <th>12066</th>\n",
       "      <td>1600000.0</td>\n",
       "      <td>tt0454792</td>\n",
       "      <td>Bubble</td>\n",
       "      <td>3.008299</td>\n",
       "      <td>6.4</td>\n",
       "      <td>36.0</td>\n",
       "    </tr>\n",
       "    <tr>\n",
       "      <th>11342</th>\n",
       "      <td>2500.0</td>\n",
       "      <td>tt0499537</td>\n",
       "      <td>Offside</td>\n",
       "      <td>1.52896</td>\n",
       "      <td>6.7</td>\n",
       "      <td>27.0</td>\n",
       "    </tr>\n",
       "    <tr>\n",
       "      <th>15765</th>\n",
       "      <td>2500.0</td>\n",
       "      <td>tt0499537</td>\n",
       "      <td>Offside</td>\n",
       "      <td>1.529879</td>\n",
       "      <td>6.7</td>\n",
       "      <td>27.0</td>\n",
       "    </tr>\n",
       "    <tr>\n",
       "      <th>11155</th>\n",
       "      <td>40000000.0</td>\n",
       "      <td>tt1701210</td>\n",
       "      <td>Black Gold</td>\n",
       "      <td>6.652197</td>\n",
       "      <td>5.9</td>\n",
       "      <td>77.0</td>\n",
       "    </tr>\n",
       "    <tr>\n",
       "      <th>20843</th>\n",
       "      <td>40000000.0</td>\n",
       "      <td>tt1701210</td>\n",
       "      <td>Black Gold</td>\n",
       "      <td>6.475665</td>\n",
       "      <td>5.9</td>\n",
       "      <td>77.0</td>\n",
       "    </tr>\n",
       "    <tr>\n",
       "      <th>23534</th>\n",
       "      <td>3512454.0</td>\n",
       "      <td>tt2018086</td>\n",
       "      <td>Camille Claudel 1915</td>\n",
       "      <td>0.110065</td>\n",
       "      <td>7.0</td>\n",
       "      <td>20.0</td>\n",
       "    </tr>\n",
       "    <tr>\n",
       "      <th>4356</th>\n",
       "      <td>3512454.0</td>\n",
       "      <td>tt2018086</td>\n",
       "      <td>Camille Claudel 1915</td>\n",
       "      <td>0.134014</td>\n",
       "      <td>7.0</td>\n",
       "      <td>20.0</td>\n",
       "    </tr>\n",
       "    <tr>\n",
       "      <th>40040</th>\n",
       "      <td>980000.0</td>\n",
       "      <td>tt2818654</td>\n",
       "      <td>รักที่ขอนแก่น</td>\n",
       "      <td>2.535419</td>\n",
       "      <td>4.4</td>\n",
       "      <td>50.0</td>\n",
       "    </tr>\n",
       "    <tr>\n",
       "      <th>33184</th>\n",
       "      <td>980000.0</td>\n",
       "      <td>tt2818654</td>\n",
       "      <td>รักที่ขอนแก่น</td>\n",
       "      <td>2.535419</td>\n",
       "      <td>4.4</td>\n",
       "      <td>50.0</td>\n",
       "    </tr>\n",
       "  </tbody>\n",
       "</table>\n",
       "</div>"
      ],
      "text/plain": [
       "           budget    imdb_id                   original_title popularity  \\\n",
       "26625  10000000.0  tt0100361         The Phantom of the Opera    0.43849   \n",
       "9576   10000000.0  tt0100361         The Phantom of the Opera   0.441872   \n",
       "33743  26000000.0  tt0157472                    Clockstoppers   4.920175   \n",
       "5130   26000000.0  tt0157472                    Clockstoppers   5.373623   \n",
       "4114   16000000.0  tt0235679             Pokémon 3: The Movie  10.264597   \n",
       "44821  16000000.0  tt0235679             Pokémon 3: The Movie   6.480376   \n",
       "5865   30000000.0  tt0270288  Confessions of a Dangerous Mind  11.331072   \n",
       "33826  30000000.0  tt0270288  Confessions of a Dangerous Mind   7.645827   \n",
       "10419   1600000.0  tt0454792                           Bubble   3.185256   \n",
       "12066   1600000.0  tt0454792                           Bubble   3.008299   \n",
       "11342      2500.0  tt0499537                          Offside    1.52896   \n",
       "15765      2500.0  tt0499537                          Offside   1.529879   \n",
       "11155  40000000.0  tt1701210                       Black Gold   6.652197   \n",
       "20843  40000000.0  tt1701210                       Black Gold   6.475665   \n",
       "23534   3512454.0  tt2018086             Camille Claudel 1915   0.110065   \n",
       "4356    3512454.0  tt2018086             Camille Claudel 1915   0.134014   \n",
       "40040    980000.0  tt2818654                    รักที่ขอนแก่น   2.535419   \n",
       "33184    980000.0  tt2818654                    รักที่ขอนแก่น   2.535419   \n",
       "\n",
       "       vote_average  vote_count  \n",
       "26625           5.0         3.0  \n",
       "9576            5.0         3.0  \n",
       "33743           4.9        90.0  \n",
       "5130            4.9        89.0  \n",
       "4114            6.0       143.0  \n",
       "44821           6.0       144.0  \n",
       "5865            6.6       281.0  \n",
       "33826           6.6       281.0  \n",
       "10419           6.4        36.0  \n",
       "12066           6.4        36.0  \n",
       "11342           6.7        27.0  \n",
       "15765           6.7        27.0  \n",
       "11155           5.9        77.0  \n",
       "20843           5.9        77.0  \n",
       "23534           7.0        20.0  \n",
       "4356            7.0        20.0  \n",
       "40040           4.4        50.0  \n",
       "33184           4.4        50.0  "
      ]
     },
     "execution_count": 36,
     "metadata": {},
     "output_type": "execute_result"
    }
   ],
   "source": [
    "# see if there are any duplicates in the movie budget dataset\n",
    "find_duplicates(movie_budget, [\"imdb_id\"])"
   ]
  },
  {
   "cell_type": "markdown",
   "metadata": {},
   "source": [
    "As we can see there are some movies that are present more than once, so we need to exclude them from the dataset."
   ]
  },
  {
   "cell_type": "code",
   "execution_count": 37,
   "metadata": {},
   "outputs": [],
   "source": [
    "# drop duplicates since there are some movies with the same imdb id\n",
    "movie_budget = movie_budget.drop_duplicates(subset=[\"imdb_id\"])"
   ]
  },
  {
   "cell_type": "code",
   "execution_count": 38,
   "metadata": {},
   "outputs": [
    {
     "data": {
      "text/html": [
       "<div>\n",
       "<style scoped>\n",
       "    .dataframe tbody tr th:only-of-type {\n",
       "        vertical-align: middle;\n",
       "    }\n",
       "\n",
       "    .dataframe tbody tr th {\n",
       "        vertical-align: top;\n",
       "    }\n",
       "\n",
       "    .dataframe thead th {\n",
       "        text-align: right;\n",
       "    }\n",
       "</style>\n",
       "<table border=\"1\" class=\"dataframe\">\n",
       "  <thead>\n",
       "    <tr style=\"text-align: right;\">\n",
       "      <th></th>\n",
       "      <th>budget</th>\n",
       "      <th>imdb_id</th>\n",
       "      <th>original_title</th>\n",
       "      <th>popularity</th>\n",
       "      <th>vote_average</th>\n",
       "      <th>vote_count</th>\n",
       "    </tr>\n",
       "  </thead>\n",
       "  <tbody>\n",
       "    <tr>\n",
       "      <th>0</th>\n",
       "      <td>30000000.0</td>\n",
       "      <td>tt0114709</td>\n",
       "      <td>Toy Story</td>\n",
       "      <td>21.946943</td>\n",
       "      <td>7.7</td>\n",
       "      <td>5415.0</td>\n",
       "    </tr>\n",
       "    <tr>\n",
       "      <th>1</th>\n",
       "      <td>65000000.0</td>\n",
       "      <td>tt0113497</td>\n",
       "      <td>Jumanji</td>\n",
       "      <td>17.015539</td>\n",
       "      <td>6.9</td>\n",
       "      <td>2413.0</td>\n",
       "    </tr>\n",
       "    <tr>\n",
       "      <th>3</th>\n",
       "      <td>16000000.0</td>\n",
       "      <td>tt0114885</td>\n",
       "      <td>Waiting to Exhale</td>\n",
       "      <td>3.859495</td>\n",
       "      <td>6.1</td>\n",
       "      <td>34.0</td>\n",
       "    </tr>\n",
       "    <tr>\n",
       "      <th>5</th>\n",
       "      <td>60000000.0</td>\n",
       "      <td>tt0113277</td>\n",
       "      <td>Heat</td>\n",
       "      <td>17.924927</td>\n",
       "      <td>7.7</td>\n",
       "      <td>1886.0</td>\n",
       "    </tr>\n",
       "    <tr>\n",
       "      <th>6</th>\n",
       "      <td>58000000.0</td>\n",
       "      <td>tt0114319</td>\n",
       "      <td>Sabrina</td>\n",
       "      <td>6.677277</td>\n",
       "      <td>6.2</td>\n",
       "      <td>141.0</td>\n",
       "    </tr>\n",
       "    <tr>\n",
       "      <th>...</th>\n",
       "      <td>...</td>\n",
       "      <td>...</td>\n",
       "      <td>...</td>\n",
       "      <td>...</td>\n",
       "      <td>...</td>\n",
       "      <td>...</td>\n",
       "    </tr>\n",
       "    <tr>\n",
       "      <th>45402</th>\n",
       "      <td>2000000.0</td>\n",
       "      <td>tt3761706</td>\n",
       "      <td>Корпоратив</td>\n",
       "      <td>0.52437</td>\n",
       "      <td>3.5</td>\n",
       "      <td>4.0</td>\n",
       "    </tr>\n",
       "    <tr>\n",
       "      <th>45408</th>\n",
       "      <td>2000000.0</td>\n",
       "      <td>tt0417949</td>\n",
       "      <td>Марс</td>\n",
       "      <td>0.380933</td>\n",
       "      <td>5.0</td>\n",
       "      <td>2.0</td>\n",
       "    </tr>\n",
       "    <tr>\n",
       "      <th>45409</th>\n",
       "      <td>800000.0</td>\n",
       "      <td>tt0933361</td>\n",
       "      <td>Dikari</td>\n",
       "      <td>0.903061</td>\n",
       "      <td>5.8</td>\n",
       "      <td>6.0</td>\n",
       "    </tr>\n",
       "    <tr>\n",
       "      <th>45412</th>\n",
       "      <td>2000000.0</td>\n",
       "      <td>tt1718881</td>\n",
       "      <td>Про любоff</td>\n",
       "      <td>0.121844</td>\n",
       "      <td>4.0</td>\n",
       "      <td>3.0</td>\n",
       "    </tr>\n",
       "    <tr>\n",
       "      <th>45422</th>\n",
       "      <td>5000000.0</td>\n",
       "      <td>tt1110037</td>\n",
       "      <td>Антидурь</td>\n",
       "      <td>0.039793</td>\n",
       "      <td>1.0</td>\n",
       "      <td>1.0</td>\n",
       "    </tr>\n",
       "  </tbody>\n",
       "</table>\n",
       "<p>8697 rows × 6 columns</p>\n",
       "</div>"
      ],
      "text/plain": [
       "           budget    imdb_id     original_title popularity  vote_average  \\\n",
       "0      30000000.0  tt0114709          Toy Story  21.946943           7.7   \n",
       "1      65000000.0  tt0113497            Jumanji  17.015539           6.9   \n",
       "3      16000000.0  tt0114885  Waiting to Exhale   3.859495           6.1   \n",
       "5      60000000.0  tt0113277               Heat  17.924927           7.7   \n",
       "6      58000000.0  tt0114319            Sabrina   6.677277           6.2   \n",
       "...           ...        ...                ...        ...           ...   \n",
       "45402   2000000.0  tt3761706         Корпоратив    0.52437           3.5   \n",
       "45408   2000000.0  tt0417949               Марс   0.380933           5.0   \n",
       "45409    800000.0  tt0933361             Dikari   0.903061           5.8   \n",
       "45412   2000000.0  tt1718881         Про любоff   0.121844           4.0   \n",
       "45422   5000000.0  tt1110037           Антидурь   0.039793           1.0   \n",
       "\n",
       "       vote_count  \n",
       "0          5415.0  \n",
       "1          2413.0  \n",
       "3            34.0  \n",
       "5          1886.0  \n",
       "6           141.0  \n",
       "...           ...  \n",
       "45402         4.0  \n",
       "45408         2.0  \n",
       "45409         6.0  \n",
       "45412         3.0  \n",
       "45422         1.0  \n",
       "\n",
       "[8697 rows x 6 columns]"
      ]
     },
     "metadata": {},
     "output_type": "display_data"
    }
   ],
   "source": [
    "# the dataset after cleaning\n",
    "display(movie_budget)"
   ]
  },
  {
   "cell_type": "markdown",
   "metadata": {},
   "source": [
    "##### Dataset: `imdb_basics`"
   ]
  },
  {
   "cell_type": "markdown",
   "metadata": {},
   "source": [
    "The `imdb_basics`(\"title.basics.tsv.gz\") dataset contains information about different types of movies and TV shows. This dataset is used as a connection between `movie_metadata` and `imdb_ratings dataset`."
   ]
  },
  {
   "cell_type": "code",
   "execution_count": 39,
   "metadata": {},
   "outputs": [
    {
     "data": {
      "text/html": [
       "<div>\n",
       "<style scoped>\n",
       "    .dataframe tbody tr th:only-of-type {\n",
       "        vertical-align: middle;\n",
       "    }\n",
       "\n",
       "    .dataframe tbody tr th {\n",
       "        vertical-align: top;\n",
       "    }\n",
       "\n",
       "    .dataframe thead th {\n",
       "        text-align: right;\n",
       "    }\n",
       "</style>\n",
       "<table border=\"1\" class=\"dataframe\">\n",
       "  <thead>\n",
       "    <tr style=\"text-align: right;\">\n",
       "      <th></th>\n",
       "      <th>imdb_id</th>\n",
       "      <th>title_type</th>\n",
       "      <th>primary_title</th>\n",
       "      <th>title</th>\n",
       "      <th>is_adult</th>\n",
       "      <th>year</th>\n",
       "      <th>end_year</th>\n",
       "      <th>runtime</th>\n",
       "      <th>genres</th>\n",
       "    </tr>\n",
       "  </thead>\n",
       "  <tbody>\n",
       "    <tr>\n",
       "      <th>0</th>\n",
       "      <td>tt0000001</td>\n",
       "      <td>short</td>\n",
       "      <td>Carmencita</td>\n",
       "      <td>Carmencita</td>\n",
       "      <td>0</td>\n",
       "      <td>1894</td>\n",
       "      <td>\\N</td>\n",
       "      <td>1</td>\n",
       "      <td>Documentary,Short</td>\n",
       "    </tr>\n",
       "    <tr>\n",
       "      <th>1</th>\n",
       "      <td>tt0000002</td>\n",
       "      <td>short</td>\n",
       "      <td>Le clown et ses chiens</td>\n",
       "      <td>Le clown et ses chiens</td>\n",
       "      <td>0</td>\n",
       "      <td>1892</td>\n",
       "      <td>\\N</td>\n",
       "      <td>5</td>\n",
       "      <td>Animation,Short</td>\n",
       "    </tr>\n",
       "    <tr>\n",
       "      <th>2</th>\n",
       "      <td>tt0000003</td>\n",
       "      <td>short</td>\n",
       "      <td>Pauvre Pierrot</td>\n",
       "      <td>Pauvre Pierrot</td>\n",
       "      <td>0</td>\n",
       "      <td>1892</td>\n",
       "      <td>\\N</td>\n",
       "      <td>4</td>\n",
       "      <td>Animation,Comedy,Romance</td>\n",
       "    </tr>\n",
       "    <tr>\n",
       "      <th>3</th>\n",
       "      <td>tt0000004</td>\n",
       "      <td>short</td>\n",
       "      <td>Un bon bock</td>\n",
       "      <td>Un bon bock</td>\n",
       "      <td>0</td>\n",
       "      <td>1892</td>\n",
       "      <td>\\N</td>\n",
       "      <td>12</td>\n",
       "      <td>Animation,Short</td>\n",
       "    </tr>\n",
       "    <tr>\n",
       "      <th>4</th>\n",
       "      <td>tt0000005</td>\n",
       "      <td>short</td>\n",
       "      <td>Blacksmith Scene</td>\n",
       "      <td>Blacksmith Scene</td>\n",
       "      <td>0</td>\n",
       "      <td>1893</td>\n",
       "      <td>\\N</td>\n",
       "      <td>1</td>\n",
       "      <td>Comedy,Short</td>\n",
       "    </tr>\n",
       "    <tr>\n",
       "      <th>...</th>\n",
       "      <td>...</td>\n",
       "      <td>...</td>\n",
       "      <td>...</td>\n",
       "      <td>...</td>\n",
       "      <td>...</td>\n",
       "      <td>...</td>\n",
       "      <td>...</td>\n",
       "      <td>...</td>\n",
       "      <td>...</td>\n",
       "    </tr>\n",
       "    <tr>\n",
       "      <th>10309006</th>\n",
       "      <td>tt9916848</td>\n",
       "      <td>tvEpisode</td>\n",
       "      <td>Episode #3.17</td>\n",
       "      <td>Episode #3.17</td>\n",
       "      <td>0</td>\n",
       "      <td>2009</td>\n",
       "      <td>\\N</td>\n",
       "      <td>\\N</td>\n",
       "      <td>Action,Drama,Family</td>\n",
       "    </tr>\n",
       "    <tr>\n",
       "      <th>10309007</th>\n",
       "      <td>tt9916850</td>\n",
       "      <td>tvEpisode</td>\n",
       "      <td>Episode #3.19</td>\n",
       "      <td>Episode #3.19</td>\n",
       "      <td>0</td>\n",
       "      <td>2010</td>\n",
       "      <td>\\N</td>\n",
       "      <td>\\N</td>\n",
       "      <td>Action,Drama,Family</td>\n",
       "    </tr>\n",
       "    <tr>\n",
       "      <th>10309008</th>\n",
       "      <td>tt9916852</td>\n",
       "      <td>tvEpisode</td>\n",
       "      <td>Episode #3.20</td>\n",
       "      <td>Episode #3.20</td>\n",
       "      <td>0</td>\n",
       "      <td>2010</td>\n",
       "      <td>\\N</td>\n",
       "      <td>\\N</td>\n",
       "      <td>Action,Drama,Family</td>\n",
       "    </tr>\n",
       "    <tr>\n",
       "      <th>10309009</th>\n",
       "      <td>tt9916856</td>\n",
       "      <td>short</td>\n",
       "      <td>The Wind</td>\n",
       "      <td>The Wind</td>\n",
       "      <td>0</td>\n",
       "      <td>2015</td>\n",
       "      <td>\\N</td>\n",
       "      <td>27</td>\n",
       "      <td>Short</td>\n",
       "    </tr>\n",
       "    <tr>\n",
       "      <th>10309010</th>\n",
       "      <td>tt9916880</td>\n",
       "      <td>tvEpisode</td>\n",
       "      <td>Horrid Henry Knows It All</td>\n",
       "      <td>Horrid Henry Knows It All</td>\n",
       "      <td>0</td>\n",
       "      <td>2014</td>\n",
       "      <td>\\N</td>\n",
       "      <td>10</td>\n",
       "      <td>Adventure,Animation,Comedy</td>\n",
       "    </tr>\n",
       "  </tbody>\n",
       "</table>\n",
       "<p>10309011 rows × 9 columns</p>\n",
       "</div>"
      ],
      "text/plain": [
       "            imdb_id title_type              primary_title  \\\n",
       "0         tt0000001      short                 Carmencita   \n",
       "1         tt0000002      short     Le clown et ses chiens   \n",
       "2         tt0000003      short             Pauvre Pierrot   \n",
       "3         tt0000004      short                Un bon bock   \n",
       "4         tt0000005      short           Blacksmith Scene   \n",
       "...             ...        ...                        ...   \n",
       "10309006  tt9916848  tvEpisode              Episode #3.17   \n",
       "10309007  tt9916850  tvEpisode              Episode #3.19   \n",
       "10309008  tt9916852  tvEpisode              Episode #3.20   \n",
       "10309009  tt9916856      short                   The Wind   \n",
       "10309010  tt9916880  tvEpisode  Horrid Henry Knows It All   \n",
       "\n",
       "                              title is_adult  year end_year runtime  \\\n",
       "0                        Carmencita        0  1894       \\N       1   \n",
       "1            Le clown et ses chiens        0  1892       \\N       5   \n",
       "2                    Pauvre Pierrot        0  1892       \\N       4   \n",
       "3                       Un bon bock        0  1892       \\N      12   \n",
       "4                  Blacksmith Scene        0  1893       \\N       1   \n",
       "...                             ...      ...   ...      ...     ...   \n",
       "10309006              Episode #3.17        0  2009       \\N      \\N   \n",
       "10309007              Episode #3.19        0  2010       \\N      \\N   \n",
       "10309008              Episode #3.20        0  2010       \\N      \\N   \n",
       "10309009                   The Wind        0  2015       \\N      27   \n",
       "10309010  Horrid Henry Knows It All        0  2014       \\N      10   \n",
       "\n",
       "                              genres  \n",
       "0                  Documentary,Short  \n",
       "1                    Animation,Short  \n",
       "2           Animation,Comedy,Romance  \n",
       "3                    Animation,Short  \n",
       "4                       Comedy,Short  \n",
       "...                              ...  \n",
       "10309006         Action,Drama,Family  \n",
       "10309007         Action,Drama,Family  \n",
       "10309008         Action,Drama,Family  \n",
       "10309009                       Short  \n",
       "10309010  Adventure,Animation,Comedy  \n",
       "\n",
       "[10309011 rows x 9 columns]"
      ]
     },
     "metadata": {},
     "output_type": "display_data"
    }
   ],
   "source": [
    "display(imdb_basics)"
   ]
  },
  {
   "cell_type": "markdown",
   "metadata": {},
   "source": [
    "Convert all of the missing values to be the same format (NaN)"
   ]
  },
  {
   "cell_type": "code",
   "execution_count": 40,
   "metadata": {},
   "outputs": [
    {
     "name": "stdout",
     "output_type": "stream",
     "text": [
      "Total amount of rows that contain a NaN value:  10255916\n"
     ]
    },
    {
     "data": {
      "text/html": [
       "<div>\n",
       "<style scoped>\n",
       "    .dataframe tbody tr th:only-of-type {\n",
       "        vertical-align: middle;\n",
       "    }\n",
       "\n",
       "    .dataframe tbody tr th {\n",
       "        vertical-align: top;\n",
       "    }\n",
       "\n",
       "    .dataframe thead th {\n",
       "        text-align: right;\n",
       "    }\n",
       "</style>\n",
       "<table border=\"1\" class=\"dataframe\">\n",
       "  <thead>\n",
       "    <tr style=\"text-align: right;\">\n",
       "      <th></th>\n",
       "      <th>nan_sum</th>\n",
       "      <th>nan_percentage</th>\n",
       "    </tr>\n",
       "  </thead>\n",
       "  <tbody>\n",
       "    <tr>\n",
       "      <th>imdb_id</th>\n",
       "      <td>0</td>\n",
       "      <td>0.000000</td>\n",
       "    </tr>\n",
       "    <tr>\n",
       "      <th>title_type</th>\n",
       "      <td>0</td>\n",
       "      <td>0.000000</td>\n",
       "    </tr>\n",
       "    <tr>\n",
       "      <th>primary_title</th>\n",
       "      <td>17</td>\n",
       "      <td>0.000165</td>\n",
       "    </tr>\n",
       "    <tr>\n",
       "      <th>title</th>\n",
       "      <td>17</td>\n",
       "      <td>0.000165</td>\n",
       "    </tr>\n",
       "    <tr>\n",
       "      <th>is_adult</th>\n",
       "      <td>1</td>\n",
       "      <td>0.000010</td>\n",
       "    </tr>\n",
       "    <tr>\n",
       "      <th>year</th>\n",
       "      <td>1381604</td>\n",
       "      <td>13.401906</td>\n",
       "    </tr>\n",
       "    <tr>\n",
       "      <th>end_year</th>\n",
       "      <td>10194381</td>\n",
       "      <td>98.888060</td>\n",
       "    </tr>\n",
       "    <tr>\n",
       "      <th>runtime</th>\n",
       "      <td>7203485</td>\n",
       "      <td>69.875617</td>\n",
       "    </tr>\n",
       "    <tr>\n",
       "      <th>genres</th>\n",
       "      <td>460237</td>\n",
       "      <td>4.464415</td>\n",
       "    </tr>\n",
       "  </tbody>\n",
       "</table>\n",
       "</div>"
      ],
      "text/plain": [
       "                nan_sum  nan_percentage\n",
       "imdb_id               0        0.000000\n",
       "title_type            0        0.000000\n",
       "primary_title        17        0.000165\n",
       "title                17        0.000165\n",
       "is_adult              1        0.000010\n",
       "year            1381604       13.401906\n",
       "end_year       10194381       98.888060\n",
       "runtime         7203485       69.875617\n",
       "genres           460237        4.464415"
      ]
     },
     "execution_count": 40,
     "metadata": {},
     "output_type": "execute_result"
    }
   ],
   "source": [
    "# the nans in this dataset are represented as \"\\\\N\" and <NAN>, so we need to replace them\n",
    "imdb_basics = imdb_basics.replace(\"\\\\N\", np.nan)\n",
    "imdb_basics = imdb_basics.replace(\"<NAN>\", np.nan)\n",
    "\n",
    "print(\n",
    "    \"Total amount of rows that contain a NaN value: \",\n",
    "    imdb_basics.isna().any(axis=1).sum(),\n",
    ")\n",
    "pd.DataFrame(\n",
    "    {\n",
    "        \"nan_sum\": imdb_basics.isna().sum(),\n",
    "        \"nan_percentage\": imdb_basics.isna().mean() * 100,\n",
    "    }\n",
    ")"
   ]
  },
  {
   "cell_type": "markdown",
   "metadata": {},
   "source": [
    "First, the invalid values (those that are not numerical) in the runtime column are converted to NaN. Next, we drop all rows with missing values in the title, year and runtime columns, since we are joining the `movie_metadata` on these keys later. Additionally we drop the column end year, since it has 98.8\\\\% missing values, and the genre column since it is already present in `movie_metadata`. "
   ]
  },
  {
   "cell_type": "code",
   "execution_count": 41,
   "metadata": {},
   "outputs": [],
   "source": [
    "# convert runtime to float so it matches runtime from movie_metadata, the non-convertable values in runtime to NaN\n",
    "imdb_basics[\"runtime\"] = pd.to_numeric(imdb_basics[\"runtime\"], errors='coerce').astype(float)\n",
    "\n",
    "# drop all rows with missing value in the title, year or runtime column\n",
    "imdb_basics = imdb_basics.dropna(subset=[\"title\", \"year\", \"runtime\"])\n",
    "\n",
    "# drop the columns which are present in movie_metadata and column end_year since it is almost always NaN\n",
    "imdb_basics = imdb_basics.drop(columns=[\"end_year\", \"genres\"])"
   ]
  },
  {
   "cell_type": "markdown",
   "metadata": {},
   "source": [
    "We need to check for duplicates in order to only have unique movies in the dataset."
   ]
  },
  {
   "cell_type": "code",
   "execution_count": 42,
   "metadata": {},
   "outputs": [
    {
     "data": {
      "text/plain": [
       "\"No duplicates found in the specified columns: ['imdb_id']\""
      ]
     },
     "execution_count": 42,
     "metadata": {},
     "output_type": "execute_result"
    }
   ],
   "source": [
    "find_duplicates(imdb_basics, [\"imdb_id\"])"
   ]
  },
  {
   "cell_type": "code",
   "execution_count": 43,
   "metadata": {},
   "outputs": [
    {
     "data": {
      "text/html": [
       "<div>\n",
       "<style scoped>\n",
       "    .dataframe tbody tr th:only-of-type {\n",
       "        vertical-align: middle;\n",
       "    }\n",
       "\n",
       "    .dataframe tbody tr th {\n",
       "        vertical-align: top;\n",
       "    }\n",
       "\n",
       "    .dataframe thead th {\n",
       "        text-align: right;\n",
       "    }\n",
       "</style>\n",
       "<table border=\"1\" class=\"dataframe\">\n",
       "  <thead>\n",
       "    <tr style=\"text-align: right;\">\n",
       "      <th></th>\n",
       "      <th>imdb_id</th>\n",
       "      <th>title_type</th>\n",
       "      <th>primary_title</th>\n",
       "      <th>title</th>\n",
       "      <th>is_adult</th>\n",
       "      <th>year</th>\n",
       "      <th>runtime</th>\n",
       "    </tr>\n",
       "  </thead>\n",
       "  <tbody>\n",
       "    <tr>\n",
       "      <th>0</th>\n",
       "      <td>tt0000001</td>\n",
       "      <td>short</td>\n",
       "      <td>Carmencita</td>\n",
       "      <td>Carmencita</td>\n",
       "      <td>0</td>\n",
       "      <td>1894</td>\n",
       "      <td>1.0</td>\n",
       "    </tr>\n",
       "    <tr>\n",
       "      <th>1</th>\n",
       "      <td>tt0000002</td>\n",
       "      <td>short</td>\n",
       "      <td>Le clown et ses chiens</td>\n",
       "      <td>Le clown et ses chiens</td>\n",
       "      <td>0</td>\n",
       "      <td>1892</td>\n",
       "      <td>5.0</td>\n",
       "    </tr>\n",
       "    <tr>\n",
       "      <th>2</th>\n",
       "      <td>tt0000003</td>\n",
       "      <td>short</td>\n",
       "      <td>Pauvre Pierrot</td>\n",
       "      <td>Pauvre Pierrot</td>\n",
       "      <td>0</td>\n",
       "      <td>1892</td>\n",
       "      <td>4.0</td>\n",
       "    </tr>\n",
       "    <tr>\n",
       "      <th>3</th>\n",
       "      <td>tt0000004</td>\n",
       "      <td>short</td>\n",
       "      <td>Un bon bock</td>\n",
       "      <td>Un bon bock</td>\n",
       "      <td>0</td>\n",
       "      <td>1892</td>\n",
       "      <td>12.0</td>\n",
       "    </tr>\n",
       "    <tr>\n",
       "      <th>4</th>\n",
       "      <td>tt0000005</td>\n",
       "      <td>short</td>\n",
       "      <td>Blacksmith Scene</td>\n",
       "      <td>Blacksmith Scene</td>\n",
       "      <td>0</td>\n",
       "      <td>1893</td>\n",
       "      <td>1.0</td>\n",
       "    </tr>\n",
       "    <tr>\n",
       "      <th>...</th>\n",
       "      <td>...</td>\n",
       "      <td>...</td>\n",
       "      <td>...</td>\n",
       "      <td>...</td>\n",
       "      <td>...</td>\n",
       "      <td>...</td>\n",
       "      <td>...</td>\n",
       "    </tr>\n",
       "    <tr>\n",
       "      <th>10308961</th>\n",
       "      <td>tt9916754</td>\n",
       "      <td>movie</td>\n",
       "      <td>Chico Albuquerque - Revelações</td>\n",
       "      <td>Chico Albuquerque - Revelações</td>\n",
       "      <td>0</td>\n",
       "      <td>2013</td>\n",
       "      <td>49.0</td>\n",
       "    </tr>\n",
       "    <tr>\n",
       "      <th>10308967</th>\n",
       "      <td>tt9916766</td>\n",
       "      <td>tvEpisode</td>\n",
       "      <td>Episode #10.15</td>\n",
       "      <td>Episode #10.15</td>\n",
       "      <td>0</td>\n",
       "      <td>2019</td>\n",
       "      <td>43.0</td>\n",
       "    </tr>\n",
       "    <tr>\n",
       "      <th>10309002</th>\n",
       "      <td>tt9916840</td>\n",
       "      <td>tvEpisode</td>\n",
       "      <td>Horrid Henry's Comic Caper</td>\n",
       "      <td>Horrid Henry's Comic Caper</td>\n",
       "      <td>0</td>\n",
       "      <td>2014</td>\n",
       "      <td>11.0</td>\n",
       "    </tr>\n",
       "    <tr>\n",
       "      <th>10309009</th>\n",
       "      <td>tt9916856</td>\n",
       "      <td>short</td>\n",
       "      <td>The Wind</td>\n",
       "      <td>The Wind</td>\n",
       "      <td>0</td>\n",
       "      <td>2015</td>\n",
       "      <td>27.0</td>\n",
       "    </tr>\n",
       "    <tr>\n",
       "      <th>10309010</th>\n",
       "      <td>tt9916880</td>\n",
       "      <td>tvEpisode</td>\n",
       "      <td>Horrid Henry Knows It All</td>\n",
       "      <td>Horrid Henry Knows It All</td>\n",
       "      <td>0</td>\n",
       "      <td>2014</td>\n",
       "      <td>10.0</td>\n",
       "    </tr>\n",
       "  </tbody>\n",
       "</table>\n",
       "<p>2909431 rows × 7 columns</p>\n",
       "</div>"
      ],
      "text/plain": [
       "            imdb_id title_type                   primary_title  \\\n",
       "0         tt0000001      short                      Carmencita   \n",
       "1         tt0000002      short          Le clown et ses chiens   \n",
       "2         tt0000003      short                  Pauvre Pierrot   \n",
       "3         tt0000004      short                     Un bon bock   \n",
       "4         tt0000005      short                Blacksmith Scene   \n",
       "...             ...        ...                             ...   \n",
       "10308961  tt9916754      movie  Chico Albuquerque - Revelações   \n",
       "10308967  tt9916766  tvEpisode                  Episode #10.15   \n",
       "10309002  tt9916840  tvEpisode      Horrid Henry's Comic Caper   \n",
       "10309009  tt9916856      short                        The Wind   \n",
       "10309010  tt9916880  tvEpisode       Horrid Henry Knows It All   \n",
       "\n",
       "                                   title is_adult  year  runtime  \n",
       "0                             Carmencita        0  1894      1.0  \n",
       "1                 Le clown et ses chiens        0  1892      5.0  \n",
       "2                         Pauvre Pierrot        0  1892      4.0  \n",
       "3                            Un bon bock        0  1892     12.0  \n",
       "4                       Blacksmith Scene        0  1893      1.0  \n",
       "...                                  ...      ...   ...      ...  \n",
       "10308961  Chico Albuquerque - Revelações        0  2013     49.0  \n",
       "10308967                  Episode #10.15        0  2019     43.0  \n",
       "10309002      Horrid Henry's Comic Caper        0  2014     11.0  \n",
       "10309009                        The Wind        0  2015     27.0  \n",
       "10309010       Horrid Henry Knows It All        0  2014     10.0  \n",
       "\n",
       "[2909431 rows x 7 columns]"
      ]
     },
     "metadata": {},
     "output_type": "display_data"
    }
   ],
   "source": [
    "display(imdb_basics)"
   ]
  },
  {
   "cell_type": "markdown",
   "metadata": {},
   "source": [
    "##### Dataset: `imdb_ratings`"
   ]
  },
  {
   "cell_type": "markdown",
   "metadata": {},
   "source": [
    "This dataset will be used in order to enrich the `movie_metadata` with the movie ratings together with the number of votes."
   ]
  },
  {
   "cell_type": "code",
   "execution_count": 44,
   "metadata": {},
   "outputs": [
    {
     "data": {
      "text/html": [
       "<div>\n",
       "<style scoped>\n",
       "    .dataframe tbody tr th:only-of-type {\n",
       "        vertical-align: middle;\n",
       "    }\n",
       "\n",
       "    .dataframe tbody tr th {\n",
       "        vertical-align: top;\n",
       "    }\n",
       "\n",
       "    .dataframe thead th {\n",
       "        text-align: right;\n",
       "    }\n",
       "</style>\n",
       "<table border=\"1\" class=\"dataframe\">\n",
       "  <thead>\n",
       "    <tr style=\"text-align: right;\">\n",
       "      <th></th>\n",
       "      <th>imdb_id</th>\n",
       "      <th>imdb_rating</th>\n",
       "      <th>num_votes</th>\n",
       "    </tr>\n",
       "  </thead>\n",
       "  <tbody>\n",
       "    <tr>\n",
       "      <th>0</th>\n",
       "      <td>tt0000001</td>\n",
       "      <td>5.7</td>\n",
       "      <td>2007</td>\n",
       "    </tr>\n",
       "    <tr>\n",
       "      <th>1</th>\n",
       "      <td>tt0000002</td>\n",
       "      <td>5.8</td>\n",
       "      <td>269</td>\n",
       "    </tr>\n",
       "    <tr>\n",
       "      <th>2</th>\n",
       "      <td>tt0000003</td>\n",
       "      <td>6.5</td>\n",
       "      <td>1909</td>\n",
       "    </tr>\n",
       "    <tr>\n",
       "      <th>3</th>\n",
       "      <td>tt0000004</td>\n",
       "      <td>5.5</td>\n",
       "      <td>178</td>\n",
       "    </tr>\n",
       "    <tr>\n",
       "      <th>4</th>\n",
       "      <td>tt0000005</td>\n",
       "      <td>6.2</td>\n",
       "      <td>2691</td>\n",
       "    </tr>\n",
       "    <tr>\n",
       "      <th>...</th>\n",
       "      <td>...</td>\n",
       "      <td>...</td>\n",
       "      <td>...</td>\n",
       "    </tr>\n",
       "    <tr>\n",
       "      <th>1368126</th>\n",
       "      <td>tt9916730</td>\n",
       "      <td>7.6</td>\n",
       "      <td>11</td>\n",
       "    </tr>\n",
       "    <tr>\n",
       "      <th>1368127</th>\n",
       "      <td>tt9916766</td>\n",
       "      <td>7.0</td>\n",
       "      <td>22</td>\n",
       "    </tr>\n",
       "    <tr>\n",
       "      <th>1368128</th>\n",
       "      <td>tt9916778</td>\n",
       "      <td>7.2</td>\n",
       "      <td>36</td>\n",
       "    </tr>\n",
       "    <tr>\n",
       "      <th>1368129</th>\n",
       "      <td>tt9916840</td>\n",
       "      <td>8.8</td>\n",
       "      <td>6</td>\n",
       "    </tr>\n",
       "    <tr>\n",
       "      <th>1368130</th>\n",
       "      <td>tt9916880</td>\n",
       "      <td>8.2</td>\n",
       "      <td>6</td>\n",
       "    </tr>\n",
       "  </tbody>\n",
       "</table>\n",
       "<p>1368131 rows × 3 columns</p>\n",
       "</div>"
      ],
      "text/plain": [
       "           imdb_id  imdb_rating  num_votes\n",
       "0        tt0000001          5.7       2007\n",
       "1        tt0000002          5.8        269\n",
       "2        tt0000003          6.5       1909\n",
       "3        tt0000004          5.5        178\n",
       "4        tt0000005          6.2       2691\n",
       "...            ...          ...        ...\n",
       "1368126  tt9916730          7.6         11\n",
       "1368127  tt9916766          7.0         22\n",
       "1368128  tt9916778          7.2         36\n",
       "1368129  tt9916840          8.8          6\n",
       "1368130  tt9916880          8.2          6\n",
       "\n",
       "[1368131 rows x 3 columns]"
      ]
     },
     "metadata": {},
     "output_type": "display_data"
    }
   ],
   "source": [
    "display(imdb_ratings)"
   ]
  },
  {
   "cell_type": "code",
   "execution_count": 45,
   "metadata": {},
   "outputs": [
    {
     "name": "stdout",
     "output_type": "stream",
     "text": [
      "Total amount of rows that contain a NaN value:  0\n"
     ]
    }
   ],
   "source": [
    "# the nans in this dataset (if any) are represented as \"\\\\N\" and <NAN>, so we need to replace them\n",
    "imdb_ratings = imdb_ratings.replace(\"\\\\N\", np.nan)\n",
    "imdb_ratings = imdb_ratings.replace(\"<NAN>\", np.nan)\n",
    "\n",
    "print(\n",
    "    \"Total amount of rows that contain a NaN value: \",\n",
    "    imdb_ratings.isna().any(axis=1).sum(),\n",
    ")"
   ]
  },
  {
   "cell_type": "markdown",
   "metadata": {},
   "source": [
    "We need to check for duplicates in order to only have unique movies in the dataset."
   ]
  },
  {
   "cell_type": "code",
   "execution_count": 46,
   "metadata": {},
   "outputs": [
    {
     "data": {
      "text/plain": [
       "\"No duplicates found in the specified columns: ['imdb_id']\""
      ]
     },
     "execution_count": 46,
     "metadata": {},
     "output_type": "execute_result"
    }
   ],
   "source": [
    "find_duplicates(imdb_ratings, [\"imdb_id\"])"
   ]
  },
  {
   "cell_type": "code",
   "execution_count": 47,
   "metadata": {},
   "outputs": [
    {
     "data": {
      "text/html": [
       "<div>\n",
       "<style scoped>\n",
       "    .dataframe tbody tr th:only-of-type {\n",
       "        vertical-align: middle;\n",
       "    }\n",
       "\n",
       "    .dataframe tbody tr th {\n",
       "        vertical-align: top;\n",
       "    }\n",
       "\n",
       "    .dataframe thead th {\n",
       "        text-align: right;\n",
       "    }\n",
       "</style>\n",
       "<table border=\"1\" class=\"dataframe\">\n",
       "  <thead>\n",
       "    <tr style=\"text-align: right;\">\n",
       "      <th></th>\n",
       "      <th>imdb_id</th>\n",
       "      <th>imdb_rating</th>\n",
       "      <th>num_votes</th>\n",
       "    </tr>\n",
       "  </thead>\n",
       "  <tbody>\n",
       "    <tr>\n",
       "      <th>0</th>\n",
       "      <td>tt0000001</td>\n",
       "      <td>5.7</td>\n",
       "      <td>2007</td>\n",
       "    </tr>\n",
       "    <tr>\n",
       "      <th>1</th>\n",
       "      <td>tt0000002</td>\n",
       "      <td>5.8</td>\n",
       "      <td>269</td>\n",
       "    </tr>\n",
       "    <tr>\n",
       "      <th>2</th>\n",
       "      <td>tt0000003</td>\n",
       "      <td>6.5</td>\n",
       "      <td>1909</td>\n",
       "    </tr>\n",
       "    <tr>\n",
       "      <th>3</th>\n",
       "      <td>tt0000004</td>\n",
       "      <td>5.5</td>\n",
       "      <td>178</td>\n",
       "    </tr>\n",
       "    <tr>\n",
       "      <th>4</th>\n",
       "      <td>tt0000005</td>\n",
       "      <td>6.2</td>\n",
       "      <td>2691</td>\n",
       "    </tr>\n",
       "    <tr>\n",
       "      <th>...</th>\n",
       "      <td>...</td>\n",
       "      <td>...</td>\n",
       "      <td>...</td>\n",
       "    </tr>\n",
       "    <tr>\n",
       "      <th>1368126</th>\n",
       "      <td>tt9916730</td>\n",
       "      <td>7.6</td>\n",
       "      <td>11</td>\n",
       "    </tr>\n",
       "    <tr>\n",
       "      <th>1368127</th>\n",
       "      <td>tt9916766</td>\n",
       "      <td>7.0</td>\n",
       "      <td>22</td>\n",
       "    </tr>\n",
       "    <tr>\n",
       "      <th>1368128</th>\n",
       "      <td>tt9916778</td>\n",
       "      <td>7.2</td>\n",
       "      <td>36</td>\n",
       "    </tr>\n",
       "    <tr>\n",
       "      <th>1368129</th>\n",
       "      <td>tt9916840</td>\n",
       "      <td>8.8</td>\n",
       "      <td>6</td>\n",
       "    </tr>\n",
       "    <tr>\n",
       "      <th>1368130</th>\n",
       "      <td>tt9916880</td>\n",
       "      <td>8.2</td>\n",
       "      <td>6</td>\n",
       "    </tr>\n",
       "  </tbody>\n",
       "</table>\n",
       "<p>1368131 rows × 3 columns</p>\n",
       "</div>"
      ],
      "text/plain": [
       "           imdb_id  imdb_rating  num_votes\n",
       "0        tt0000001          5.7       2007\n",
       "1        tt0000002          5.8        269\n",
       "2        tt0000003          6.5       1909\n",
       "3        tt0000004          5.5        178\n",
       "4        tt0000005          6.2       2691\n",
       "...            ...          ...        ...\n",
       "1368126  tt9916730          7.6         11\n",
       "1368127  tt9916766          7.0         22\n",
       "1368128  tt9916778          7.2         36\n",
       "1368129  tt9916840          8.8          6\n",
       "1368130  tt9916880          8.2          6\n",
       "\n",
       "[1368131 rows x 3 columns]"
      ]
     },
     "metadata": {},
     "output_type": "display_data"
    }
   ],
   "source": [
    "display(imdb_ratings)"
   ]
  },
  {
   "cell_type": "markdown",
   "metadata": {},
   "source": [
    "##### Dataset: `us_cpi`"
   ]
  },
  {
   "cell_type": "markdown",
   "metadata": {},
   "source": [
    "Our analysis integrates the Consumer Price Index (CPI) data provided by Worldbank. We focus specifically on the CPI data for the United States, which aligns with our dataset's use of USD as the currency for budget and revenue."
   ]
  },
  {
   "cell_type": "code",
   "execution_count": 48,
   "metadata": {},
   "outputs": [],
   "source": [
    "# since revenue, budget are in USD we only need the inflation data for the US\n",
    "us_cpi = cpi_data[cpi_data[\"Country Name\"] == \"United States\"]\n",
    "\n",
    "# keep only the \"year\" column, drop the rest\n",
    "us_cpi = us_cpi[[col for col in us_cpi.columns if col.isdigit()]]\n",
    "\n",
    "# drop columns with year > 2012, since we only need have movie data until 2012\n",
    "us_cpi = us_cpi.drop(columns=us_cpi.columns[us_cpi.columns > \"2012\"])\n",
    "\n",
    "# transpose the dataframe\n",
    "us_cpi = us_cpi.transpose().reset_index()\n",
    "\n",
    "# rename columns to year and cpi\n",
    "us_cpi.columns = [\"year\", \"cpi\"]"
   ]
  },
  {
   "cell_type": "code",
   "execution_count": 49,
   "metadata": {},
   "outputs": [
    {
     "data": {
      "text/html": [
       "<div>\n",
       "<style scoped>\n",
       "    .dataframe tbody tr th:only-of-type {\n",
       "        vertical-align: middle;\n",
       "    }\n",
       "\n",
       "    .dataframe tbody tr th {\n",
       "        vertical-align: top;\n",
       "    }\n",
       "\n",
       "    .dataframe thead th {\n",
       "        text-align: right;\n",
       "    }\n",
       "</style>\n",
       "<table border=\"1\" class=\"dataframe\">\n",
       "  <thead>\n",
       "    <tr style=\"text-align: right;\">\n",
       "      <th></th>\n",
       "      <th>year</th>\n",
       "      <th>cpi</th>\n",
       "    </tr>\n",
       "  </thead>\n",
       "  <tbody>\n",
       "    <tr>\n",
       "      <th>0</th>\n",
       "      <td>1960</td>\n",
       "      <td>13.563061</td>\n",
       "    </tr>\n",
       "    <tr>\n",
       "      <th>1</th>\n",
       "      <td>1961</td>\n",
       "      <td>13.708284</td>\n",
       "    </tr>\n",
       "    <tr>\n",
       "      <th>2</th>\n",
       "      <td>1962</td>\n",
       "      <td>13.872615</td>\n",
       "    </tr>\n",
       "    <tr>\n",
       "      <th>3</th>\n",
       "      <td>1963</td>\n",
       "      <td>14.044590</td>\n",
       "    </tr>\n",
       "    <tr>\n",
       "      <th>4</th>\n",
       "      <td>1964</td>\n",
       "      <td>14.224207</td>\n",
       "    </tr>\n",
       "  </tbody>\n",
       "</table>\n",
       "</div>"
      ],
      "text/plain": [
       "   year        cpi\n",
       "0  1960  13.563061\n",
       "1  1961  13.708284\n",
       "2  1962  13.872615\n",
       "3  1963  14.044590\n",
       "4  1964  14.224207"
      ]
     },
     "metadata": {},
     "output_type": "display_data"
    }
   ],
   "source": [
    "display(us_cpi.head())"
   ]
  },
  {
   "cell_type": "markdown",
   "metadata": {},
   "source": [
    "##### Dataset: `us_gdp`"
   ]
  },
  {
   "cell_type": "markdown",
   "metadata": {},
   "source": [
    "By analyzing the Gross Domestic Product (GDP) data, we aim to examine how cinema gross revenue trends align with changes in the global economy. Again, we focus specifically on the GDP data for the United States, which aligns with our dataset's use of USD as the currency for budget and revenue."
   ]
  },
  {
   "cell_type": "code",
   "execution_count": 50,
   "metadata": {},
   "outputs": [],
   "source": [
    "# since revenue, budget are in USD we only need the data for the US\n",
    "us_gdp = gdp_data[gdp_data[\"Country Name\"] == \"United States\"]\n",
    "\n",
    "# keep only the \"year\" column, drop the rest\n",
    "us_gdp = us_gdp[[col for col in us_gdp.columns if col.isdigit()]]\n",
    "\n",
    "# drop columns with year > 2012\n",
    "us_gdp = us_gdp.drop(columns=us_gdp.columns[us_gdp.columns > \"2012\"])\n",
    "\n",
    "# transpose the dataframe\n",
    "us_gdp = us_gdp.transpose().reset_index()\n",
    "\n",
    "# rename columns to year and gdp\n",
    "us_gdp.columns = [\"year\", \"gdp\"]"
   ]
  },
  {
   "cell_type": "code",
   "execution_count": 51,
   "metadata": {},
   "outputs": [
    {
     "data": {
      "text/html": [
       "<div>\n",
       "<style scoped>\n",
       "    .dataframe tbody tr th:only-of-type {\n",
       "        vertical-align: middle;\n",
       "    }\n",
       "\n",
       "    .dataframe tbody tr th {\n",
       "        vertical-align: top;\n",
       "    }\n",
       "\n",
       "    .dataframe thead th {\n",
       "        text-align: right;\n",
       "    }\n",
       "</style>\n",
       "<table border=\"1\" class=\"dataframe\">\n",
       "  <thead>\n",
       "    <tr style=\"text-align: right;\">\n",
       "      <th></th>\n",
       "      <th>year</th>\n",
       "      <th>gdp</th>\n",
       "    </tr>\n",
       "  </thead>\n",
       "  <tbody>\n",
       "    <tr>\n",
       "      <th>0</th>\n",
       "      <td>1960</td>\n",
       "      <td>5.433000e+11</td>\n",
       "    </tr>\n",
       "    <tr>\n",
       "      <th>1</th>\n",
       "      <td>1961</td>\n",
       "      <td>5.633000e+11</td>\n",
       "    </tr>\n",
       "    <tr>\n",
       "      <th>2</th>\n",
       "      <td>1962</td>\n",
       "      <td>6.051000e+11</td>\n",
       "    </tr>\n",
       "    <tr>\n",
       "      <th>3</th>\n",
       "      <td>1963</td>\n",
       "      <td>6.386000e+11</td>\n",
       "    </tr>\n",
       "    <tr>\n",
       "      <th>4</th>\n",
       "      <td>1964</td>\n",
       "      <td>6.858000e+11</td>\n",
       "    </tr>\n",
       "  </tbody>\n",
       "</table>\n",
       "</div>"
      ],
      "text/plain": [
       "   year           gdp\n",
       "0  1960  5.433000e+11\n",
       "1  1961  5.633000e+11\n",
       "2  1962  6.051000e+11\n",
       "3  1963  6.386000e+11\n",
       "4  1964  6.858000e+11"
      ]
     },
     "metadata": {},
     "output_type": "display_data"
    }
   ],
   "source": [
    "display(us_gdp.head())"
   ]
  },
  {
   "cell_type": "markdown",
   "metadata": {},
   "source": [
    "### Expanding and merging the data"
   ]
  },
  {
   "cell_type": "markdown",
   "metadata": {},
   "source": [
    "Now that we have cleaned all of the data, we can enrich the initial movie dataset with the external datasets."
   ]
  },
  {
   "cell_type": "markdown",
   "metadata": {},
   "source": [
    "In enriching the movie dataset, we first merge `imdb_ratings` with `imdb_basics` to cover a wider range of movies, then combine this with `movie_budget`, and finally merge with the original dataset. This approach is preferred over directly merging `movie_budget` with `imdb_ratings` because the latter has a significantly larger movie count. Merging `movie_budget` directly with `imdb_ratings` would result in losing many ratings due to the lower number of movies in `movie_budget`. By using `imdb_basics`, which has more comprehensive movie data, we ensure maximum retention of movie ratings before adding budget information."
   ]
  },
  {
   "cell_type": "code",
   "execution_count": 52,
   "metadata": {},
   "outputs": [
    {
     "data": {
      "text/html": [
       "<div>\n",
       "<style scoped>\n",
       "    .dataframe tbody tr th:only-of-type {\n",
       "        vertical-align: middle;\n",
       "    }\n",
       "\n",
       "    .dataframe tbody tr th {\n",
       "        vertical-align: top;\n",
       "    }\n",
       "\n",
       "    .dataframe thead th {\n",
       "        text-align: right;\n",
       "    }\n",
       "</style>\n",
       "<table border=\"1\" class=\"dataframe\">\n",
       "  <thead>\n",
       "    <tr style=\"text-align: right;\">\n",
       "      <th></th>\n",
       "      <th>imdb_id</th>\n",
       "      <th>title_type</th>\n",
       "      <th>primary_title</th>\n",
       "      <th>title</th>\n",
       "      <th>is_adult</th>\n",
       "      <th>year</th>\n",
       "      <th>runtime</th>\n",
       "      <th>imdb_rating</th>\n",
       "      <th>num_votes</th>\n",
       "      <th>budget</th>\n",
       "      <th>original_title</th>\n",
       "      <th>popularity</th>\n",
       "      <th>vote_average</th>\n",
       "      <th>vote_count</th>\n",
       "    </tr>\n",
       "  </thead>\n",
       "  <tbody>\n",
       "    <tr>\n",
       "      <th>0</th>\n",
       "      <td>tt0000001</td>\n",
       "      <td>short</td>\n",
       "      <td>Carmencita</td>\n",
       "      <td>Carmencita</td>\n",
       "      <td>0</td>\n",
       "      <td>1894</td>\n",
       "      <td>1.0</td>\n",
       "      <td>5.7</td>\n",
       "      <td>2007.0</td>\n",
       "      <td>NaN</td>\n",
       "      <td>NaN</td>\n",
       "      <td>NaN</td>\n",
       "      <td>NaN</td>\n",
       "      <td>NaN</td>\n",
       "    </tr>\n",
       "    <tr>\n",
       "      <th>1</th>\n",
       "      <td>tt0000002</td>\n",
       "      <td>short</td>\n",
       "      <td>Le clown et ses chiens</td>\n",
       "      <td>Le clown et ses chiens</td>\n",
       "      <td>0</td>\n",
       "      <td>1892</td>\n",
       "      <td>5.0</td>\n",
       "      <td>5.8</td>\n",
       "      <td>269.0</td>\n",
       "      <td>NaN</td>\n",
       "      <td>NaN</td>\n",
       "      <td>NaN</td>\n",
       "      <td>NaN</td>\n",
       "      <td>NaN</td>\n",
       "    </tr>\n",
       "    <tr>\n",
       "      <th>2</th>\n",
       "      <td>tt0000003</td>\n",
       "      <td>short</td>\n",
       "      <td>Pauvre Pierrot</td>\n",
       "      <td>Pauvre Pierrot</td>\n",
       "      <td>0</td>\n",
       "      <td>1892</td>\n",
       "      <td>4.0</td>\n",
       "      <td>6.5</td>\n",
       "      <td>1909.0</td>\n",
       "      <td>NaN</td>\n",
       "      <td>NaN</td>\n",
       "      <td>NaN</td>\n",
       "      <td>NaN</td>\n",
       "      <td>NaN</td>\n",
       "    </tr>\n",
       "    <tr>\n",
       "      <th>3</th>\n",
       "      <td>tt0000004</td>\n",
       "      <td>short</td>\n",
       "      <td>Un bon bock</td>\n",
       "      <td>Un bon bock</td>\n",
       "      <td>0</td>\n",
       "      <td>1892</td>\n",
       "      <td>12.0</td>\n",
       "      <td>5.5</td>\n",
       "      <td>178.0</td>\n",
       "      <td>NaN</td>\n",
       "      <td>NaN</td>\n",
       "      <td>NaN</td>\n",
       "      <td>NaN</td>\n",
       "      <td>NaN</td>\n",
       "    </tr>\n",
       "    <tr>\n",
       "      <th>4</th>\n",
       "      <td>tt0000005</td>\n",
       "      <td>short</td>\n",
       "      <td>Blacksmith Scene</td>\n",
       "      <td>Blacksmith Scene</td>\n",
       "      <td>0</td>\n",
       "      <td>1893</td>\n",
       "      <td>1.0</td>\n",
       "      <td>6.2</td>\n",
       "      <td>2691.0</td>\n",
       "      <td>NaN</td>\n",
       "      <td>NaN</td>\n",
       "      <td>NaN</td>\n",
       "      <td>NaN</td>\n",
       "      <td>NaN</td>\n",
       "    </tr>\n",
       "  </tbody>\n",
       "</table>\n",
       "</div>"
      ],
      "text/plain": [
       "     imdb_id title_type           primary_title                   title  \\\n",
       "0  tt0000001      short              Carmencita              Carmencita   \n",
       "1  tt0000002      short  Le clown et ses chiens  Le clown et ses chiens   \n",
       "2  tt0000003      short          Pauvre Pierrot          Pauvre Pierrot   \n",
       "3  tt0000004      short             Un bon bock             Un bon bock   \n",
       "4  tt0000005      short        Blacksmith Scene        Blacksmith Scene   \n",
       "\n",
       "  is_adult  year  runtime  imdb_rating  num_votes  budget original_title  \\\n",
       "0        0  1894      1.0          5.7     2007.0     NaN            NaN   \n",
       "1        0  1892      5.0          5.8      269.0     NaN            NaN   \n",
       "2        0  1892      4.0          6.5     1909.0     NaN            NaN   \n",
       "3        0  1892     12.0          5.5      178.0     NaN            NaN   \n",
       "4        0  1893      1.0          6.2     2691.0     NaN            NaN   \n",
       "\n",
       "  popularity  vote_average  vote_count  \n",
       "0        NaN           NaN         NaN  \n",
       "1        NaN           NaN         NaN  \n",
       "2        NaN           NaN         NaN  \n",
       "3        NaN           NaN         NaN  \n",
       "4        NaN           NaN         NaN  "
      ]
     },
     "metadata": {},
     "output_type": "display_data"
    }
   ],
   "source": [
    "# merge the imdb datasets\n",
    "imdb_dataset_temp = pd.merge(\n",
    "    imdb_basics,                         \n",
    "    imdb_ratings, \n",
    "    on=\"imdb_id\", \n",
    "    how=\"left\"\n",
    ")\n",
    "\n",
    "# enrich imdb dataset with movie budget data\n",
    "imdb_dataset = pd.merge(\n",
    "    imdb_dataset_temp,\n",
    "    movie_budget,\n",
    "    on=\"imdb_id\",\n",
    "    how=\"left\",\n",
    ")\n",
    "\n",
    "display(imdb_dataset.head())"
   ]
  },
  {
   "cell_type": "markdown",
   "metadata": {},
   "source": [
    "The resulting dataframe consists of many NaN values, but this is expected, since we merged a smaller dataset into a larger one."
   ]
  },
  {
   "cell_type": "markdown",
   "metadata": {},
   "source": [
    "Finally, we will merge the imdb_dataset containing the budget, with the `movie_metadata` dataset. We will do this by using the movie title, runtime, and release year as a key."
   ]
  },
  {
   "cell_type": "code",
   "execution_count": 53,
   "metadata": {
    "scrolled": false
   },
   "outputs": [
    {
     "data": {
      "text/html": [
       "<div>\n",
       "<style scoped>\n",
       "    .dataframe tbody tr th:only-of-type {\n",
       "        vertical-align: middle;\n",
       "    }\n",
       "\n",
       "    .dataframe tbody tr th {\n",
       "        vertical-align: top;\n",
       "    }\n",
       "\n",
       "    .dataframe thead th {\n",
       "        text-align: right;\n",
       "    }\n",
       "</style>\n",
       "<table border=\"1\" class=\"dataframe\">\n",
       "  <thead>\n",
       "    <tr style=\"text-align: right;\">\n",
       "      <th></th>\n",
       "      <th>wikipedia_id</th>\n",
       "      <th>freebase_movie_id</th>\n",
       "      <th>title</th>\n",
       "      <th>release_date</th>\n",
       "      <th>revenue</th>\n",
       "      <th>runtime</th>\n",
       "      <th>languages</th>\n",
       "      <th>countries</th>\n",
       "      <th>genres</th>\n",
       "      <th>year</th>\n",
       "      <th>...</th>\n",
       "      <th>title_type</th>\n",
       "      <th>primary_title</th>\n",
       "      <th>is_adult</th>\n",
       "      <th>imdb_rating</th>\n",
       "      <th>num_votes</th>\n",
       "      <th>budget</th>\n",
       "      <th>original_title</th>\n",
       "      <th>popularity</th>\n",
       "      <th>vote_average</th>\n",
       "      <th>vote_count</th>\n",
       "    </tr>\n",
       "  </thead>\n",
       "  <tbody>\n",
       "    <tr>\n",
       "      <th>0</th>\n",
       "      <td>975900</td>\n",
       "      <td>/m/03vyhn</td>\n",
       "      <td>Ghosts of Mars</td>\n",
       "      <td>2001-08-24</td>\n",
       "      <td>14010832.0</td>\n",
       "      <td>98.0</td>\n",
       "      <td>{\"/m/02h40lc\": \"English Language\"}</td>\n",
       "      <td>{\"/m/09c7w0\": \"United States of America\"}</td>\n",
       "      <td>{\"/m/01jfsb\": \"Thriller\", \"/m/06n90\": \"Science...</td>\n",
       "      <td>2001</td>\n",
       "      <td>...</td>\n",
       "      <td>movie</td>\n",
       "      <td>Ghosts of Mars</td>\n",
       "      <td>0</td>\n",
       "      <td>4.9</td>\n",
       "      <td>56918.0</td>\n",
       "      <td>28000000.0</td>\n",
       "      <td>Ghosts of Mars</td>\n",
       "      <td>7.058599</td>\n",
       "      <td>4.8</td>\n",
       "      <td>299.0</td>\n",
       "    </tr>\n",
       "    <tr>\n",
       "      <th>1</th>\n",
       "      <td>10408933</td>\n",
       "      <td>/m/02qc0j7</td>\n",
       "      <td>Alexander's Ragtime Band</td>\n",
       "      <td>1938-08-16</td>\n",
       "      <td>3600000.0</td>\n",
       "      <td>106.0</td>\n",
       "      <td>{\"/m/02h40lc\": \"English Language\"}</td>\n",
       "      <td>{\"/m/09c7w0\": \"United States of America\"}</td>\n",
       "      <td>{\"/m/04t36\": \"Musical\", \"/m/01z4y\": \"Comedy\", ...</td>\n",
       "      <td>1938</td>\n",
       "      <td>...</td>\n",
       "      <td>movie</td>\n",
       "      <td>Alexander's Ragtime Band</td>\n",
       "      <td>0</td>\n",
       "      <td>6.8</td>\n",
       "      <td>2268.0</td>\n",
       "      <td>2000000.0</td>\n",
       "      <td>Alexander's Ragtime Band</td>\n",
       "      <td>0.632261</td>\n",
       "      <td>4.8</td>\n",
       "      <td>6.0</td>\n",
       "    </tr>\n",
       "    <tr>\n",
       "      <th>2</th>\n",
       "      <td>171005</td>\n",
       "      <td>/m/016ywb</td>\n",
       "      <td>Henry V</td>\n",
       "      <td>1989-11-08</td>\n",
       "      <td>10161099.0</td>\n",
       "      <td>137.0</td>\n",
       "      <td>{\"/m/02h40lc\": \"English Language\"}</td>\n",
       "      <td>{\"/m/07ssc\": \"United Kingdom\"}</td>\n",
       "      <td>{\"/m/04xvh5\": \"Costume drama\", \"/m/082gq\": \"Wa...</td>\n",
       "      <td>1989</td>\n",
       "      <td>...</td>\n",
       "      <td>movie</td>\n",
       "      <td>Henry V</td>\n",
       "      <td>0</td>\n",
       "      <td>7.5</td>\n",
       "      <td>31200.0</td>\n",
       "      <td>9000000.0</td>\n",
       "      <td>Henry V</td>\n",
       "      <td>7.307967</td>\n",
       "      <td>7.4</td>\n",
       "      <td>73.0</td>\n",
       "    </tr>\n",
       "  </tbody>\n",
       "</table>\n",
       "<p>3 rows × 21 columns</p>\n",
       "</div>"
      ],
      "text/plain": [
       "  wikipedia_id freebase_movie_id                     title release_date  \\\n",
       "0       975900         /m/03vyhn            Ghosts of Mars   2001-08-24   \n",
       "1     10408933        /m/02qc0j7  Alexander's Ragtime Band   1938-08-16   \n",
       "2       171005         /m/016ywb                   Henry V   1989-11-08   \n",
       "\n",
       "      revenue  runtime                           languages  \\\n",
       "0  14010832.0     98.0  {\"/m/02h40lc\": \"English Language\"}   \n",
       "1   3600000.0    106.0  {\"/m/02h40lc\": \"English Language\"}   \n",
       "2  10161099.0    137.0  {\"/m/02h40lc\": \"English Language\"}   \n",
       "\n",
       "                                   countries  \\\n",
       "0  {\"/m/09c7w0\": \"United States of America\"}   \n",
       "1  {\"/m/09c7w0\": \"United States of America\"}   \n",
       "2             {\"/m/07ssc\": \"United Kingdom\"}   \n",
       "\n",
       "                                              genres  year  ... title_type  \\\n",
       "0  {\"/m/01jfsb\": \"Thriller\", \"/m/06n90\": \"Science...  2001  ...      movie   \n",
       "1  {\"/m/04t36\": \"Musical\", \"/m/01z4y\": \"Comedy\", ...  1938  ...      movie   \n",
       "2  {\"/m/04xvh5\": \"Costume drama\", \"/m/082gq\": \"Wa...  1989  ...      movie   \n",
       "\n",
       "              primary_title is_adult imdb_rating  num_votes      budget  \\\n",
       "0            Ghosts of Mars        0         4.9    56918.0  28000000.0   \n",
       "1  Alexander's Ragtime Band        0         6.8     2268.0   2000000.0   \n",
       "2                   Henry V        0         7.5    31200.0   9000000.0   \n",
       "\n",
       "             original_title popularity vote_average  vote_count  \n",
       "0            Ghosts of Mars   7.058599          4.8       299.0  \n",
       "1  Alexander's Ragtime Band   0.632261          4.8         6.0  \n",
       "2                   Henry V   7.307967          7.4        73.0  \n",
       "\n",
       "[3 rows x 21 columns]"
      ]
     },
     "metadata": {},
     "output_type": "display_data"
    }
   ],
   "source": [
    "movies = pd.merge(\n",
    "    movie_metadata,\n",
    "    imdb_dataset,\n",
    "    on=[\"title\", \"year\", \"runtime\"],\n",
    "    how=\"left\",\n",
    ")\n",
    "\n",
    "display(movies.head(3))"
   ]
  },
  {
   "cell_type": "markdown",
   "metadata": {},
   "source": [
    "### Inflation Adjusted Revenue and Budget According to CPI"
   ]
  },
  {
   "cell_type": "markdown",
   "metadata": {},
   "source": [
    "The earliest year for CPI and GDP is 1960, so we drop all movies before 1960 "
   ]
  },
  {
   "cell_type": "code",
   "execution_count": 54,
   "metadata": {},
   "outputs": [],
   "source": [
    "movies = movies[movies[\"year\"] >= \"1960\"]"
   ]
  },
  {
   "cell_type": "code",
   "execution_count": 55,
   "metadata": {},
   "outputs": [
    {
     "data": {
      "image/png": "[encoded data removed]",
      "text/plain": [
       "<Figure size 1200x600 with 1 Axes>"
      ]
     },
     "metadata": {},
     "output_type": "display_data"
    }
   ],
   "source": [
    "# plot the mean revenue for each year\n",
    "mean_revenue = movies.groupby(pd.to_datetime(movies[\"year\"]))[\n",
    "    [\"revenue\"]\n",
    "].max()\n",
    "\n",
    "plt.figure(figsize=(12, 6))\n",
    "plt.plot(mean_revenue.index, mean_revenue[\"revenue\"], label=\"Mean Revenue\")\n",
    "plt.title(\"Movie Revenue Over Time - Mean Revenue for Each Year\")\n",
    "plt.xlabel(\"Year\")\n",
    "plt.ylabel(\"Revenue\")\n",
    "plt.legend()\n",
    "plt.show()"
   ]
  },
  {
   "cell_type": "markdown",
   "metadata": {},
   "source": [
    "As we can see, the mean revenue per year is increasing over time. To accurately compare movie revenues over time, we need to account for inflation. Without this adjustment, comparing movies from different eras becomes misleading. Older movies, which might have been very successful, will seem less profitable due to the lower ticket prices at their time."
   ]
  },
  {
   "cell_type": "markdown",
   "metadata": {},
   "source": [
    "The Consumer Price Index is calculated by measuring the price in one period for a fixed basket of consumer goods and services compared to previous periods."
   ]
  },
  {
   "cell_type": "markdown",
   "metadata": {},
   "source": [
    "- **Formula**: \n",
    "  $$ \\text{Adjusted Value} = \\left( \\frac{\\text{Current Value}}{\\text{CPI in Current Year}} \\right) \\times \\text{CPI Base Year} $$\n",
    "\n",
    "- `Current Value`: The original revenue or budget of the movie.\n",
    "- `CPI in Current Year`: The Consumer Price Index in the year the movie was released.\n",
    "- `CPI Base Year`: The Consumer Price Index in the base year (2012).\n"
   ]
  },
  {
   "cell_type": "code",
   "execution_count": 56,
   "metadata": {},
   "outputs": [
    {
     "data": {
      "image/png": "[encoded data removed]",
      "text/plain": [
       "<Figure size 1200x600 with 1 Axes>"
      ]
     },
     "metadata": {},
     "output_type": "display_data"
    }
   ],
   "source": [
    "# plot the cpi for each year\n",
    "\n",
    "plt.figure(figsize=(12, 6))\n",
    "plt.plot(pd.to_datetime(us_cpi[\"year\"]), us_cpi[\"cpi\"], label=\"CPI\")\n",
    "plt.title(\"CPI for Each Year\")\n",
    "plt.xlabel(\"Year\")\n",
    "plt.ylabel(\"CPI\")\n",
    "plt.legend()\n",
    "plt.show()"
   ]
  },
  {
   "cell_type": "markdown",
   "metadata": {},
   "source": [
    "The graph displays the Consumer Price Index (CPI) for each year, showing an upward trend from 1960 through until 2012."
   ]
  },
  {
   "cell_type": "markdown",
   "metadata": {},
   "source": [
    "We'll add two new columns to the dataset, one for the revenue adjusted for inflation and one for the budget adjusted for inflation."
   ]
  },
  {
   "cell_type": "code",
   "execution_count": 57,
   "metadata": {},
   "outputs": [],
   "source": [
    "# as our base year we choose 2012\n",
    "cpi_base_year = us_cpi[us_cpi[\"year\"] == \"2012\"][\"cpi\"].values[0]\n",
    "\n",
    "# merge the movies dataset with the us_inflation dataset on the year column\n",
    "movies = pd.merge(movies, us_cpi, on=\"year\", how=\"left\")\n",
    "\n",
    "# calculate adjusted revenue and budget according to the formula\n",
    "movies[\"revenue_adjusted\"] = (\n",
    "    movies[\"revenue\"] / movies[\"cpi\"]\n",
    ") * cpi_base_year\n",
    "movies[\"budget_adjusted\"] = (\n",
    "    movies[\"budget\"] / movies[\"cpi\"]\n",
    ") * cpi_base_year"
   ]
  },
  {
   "cell_type": "markdown",
   "metadata": {},
   "source": [
    "- When adjusted for inflation, how does the gross revenue of older movies compare to recent modern movies?"
   ]
  },
  {
   "cell_type": "markdown",
   "metadata": {},
   "source": [
    "We'll plot the original revenue and the inflation-adjusted revenue over time, in order to see the difference."
   ]
  },
  {
   "cell_type": "code",
   "execution_count": 58,
   "metadata": {},
   "outputs": [
    {
     "data": {
      "image/png": "[encoded data removed]",
      "text/plain": [
       "<Figure size 1200x600 with 1 Axes>"
      ]
     },
     "metadata": {},
     "output_type": "display_data"
    }
   ],
   "source": [
    "# group by year and get the movie with max revenue and revenue_inflation\n",
    "annual_revenue = movies.groupby(pd.to_datetime(movies[\"year\"]))[\n",
    "    [\"revenue\", \"revenue_adjusted\"]\n",
    "].max()\n",
    "\n",
    "plt.figure(figsize=(12, 6))\n",
    "\n",
    "plt.plot(\n",
    "    annual_revenue.index, \n",
    "    annual_revenue[\"revenue\"], \n",
    "    label=\"Revenue\", \n",
    "    color = \"#E66100\",\n",
    ")\n",
    "plt.plot(\n",
    "    annual_revenue.index,\n",
    "    annual_revenue[\"revenue_adjusted\"],\n",
    "    label=\"Inflation-Adjusted Revenue\",\n",
    "    color = \"#5D3A9B\",\n",
    ")\n",
    "\n",
    "plt.title(\"Movie Revenue Over Time - Movie With Highest Revenue Each Year\")\n",
    "plt.xlabel(\"Year\")\n",
    "plt.ylabel(\"Revenue\")\n",
    "plt.legend()\n",
    "plt.show()"
   ]
  },
  {
   "cell_type": "markdown",
   "metadata": {},
   "source": [
    "From the plot we can see the revenues of the highest-grossing movie of each year with their inflation-adjusted equivalents. \n",
    "As we expected,  the inflation-adjusted revenues are higher than the reported revenues as the value of money decreases over time due to inflation. We can also see that the impact of inflation is more pronounced in earlier decades, as seen by the greater distance between the two lines."
   ]
  },
  {
   "cell_type": "markdown",
   "metadata": {},
   "source": [
    "After adjusting the revenue for inflation, the peaks in the revenue trends become more pronounced. We can see that some older movies actually have higher inflation-adjusted revenues than newer ones, which wouldn't be apparent if we only looked at nominal revenues."
   ]
  },
  {
   "cell_type": "code",
   "execution_count": 59,
   "metadata": {},
   "outputs": [
    {
     "data": {
      "text/html": [
       "<div>\n",
       "<style scoped>\n",
       "    .dataframe tbody tr th:only-of-type {\n",
       "        vertical-align: middle;\n",
       "    }\n",
       "\n",
       "    .dataframe tbody tr th {\n",
       "        vertical-align: top;\n",
       "    }\n",
       "\n",
       "    .dataframe thead th {\n",
       "        text-align: right;\n",
       "    }\n",
       "</style>\n",
       "<table border=\"1\" class=\"dataframe\">\n",
       "  <thead>\n",
       "    <tr style=\"text-align: right;\">\n",
       "      <th></th>\n",
       "      <th>title</th>\n",
       "      <th>year</th>\n",
       "      <th>revenue</th>\n",
       "      <th>revenue_adjusted</th>\n",
       "    </tr>\n",
       "  </thead>\n",
       "  <tbody>\n",
       "    <tr>\n",
       "      <th>1990</th>\n",
       "      <td>Titanic</td>\n",
       "      <td>1997</td>\n",
       "      <td>2.185372e+09</td>\n",
       "      <td>3.125832e+09</td>\n",
       "    </tr>\n",
       "    <tr>\n",
       "      <th>637</th>\n",
       "      <td>Love with the Proper Stranger</td>\n",
       "      <td>1963</td>\n",
       "      <td>4.150049e+08</td>\n",
       "      <td>3.111268e+09</td>\n",
       "    </tr>\n",
       "    <tr>\n",
       "      <th>2132</th>\n",
       "      <td>Avatar</td>\n",
       "      <td>2009</td>\n",
       "      <td>2.782275e+09</td>\n",
       "      <td>2.977544e+09</td>\n",
       "    </tr>\n",
       "    <tr>\n",
       "      <th>7103</th>\n",
       "      <td>Star Wars Episode IV: A New Hope</td>\n",
       "      <td>1977</td>\n",
       "      <td>7.753980e+08</td>\n",
       "      <td>2.937330e+09</td>\n",
       "    </tr>\n",
       "    <tr>\n",
       "      <th>2122</th>\n",
       "      <td>The Exorcist</td>\n",
       "      <td>1973</td>\n",
       "      <td>4.410710e+08</td>\n",
       "      <td>2.280793e+09</td>\n",
       "    </tr>\n",
       "  </tbody>\n",
       "</table>\n",
       "</div>"
      ],
      "text/plain": [
       "                                 title  year       revenue  revenue_adjusted\n",
       "1990                           Titanic  1997  2.185372e+09      3.125832e+09\n",
       "637      Love with the Proper Stranger  1963  4.150049e+08      3.111268e+09\n",
       "2132                            Avatar  2009  2.782275e+09      2.977544e+09\n",
       "7103  Star Wars Episode IV: A New Hope  1977  7.753980e+08      2.937330e+09\n",
       "2122                      The Exorcist  1973  4.410710e+08      2.280793e+09"
      ]
     },
     "execution_count": 59,
     "metadata": {},
     "output_type": "execute_result"
    }
   ],
   "source": [
    "top_movies = movies.sort_values(by=[\"revenue_adjusted\"], ascending=False).head(5)\n",
    "top_movies = top_movies[[\"title\", \"year\", \"revenue\", \"revenue_adjusted\"]]\n",
    "top_movies"
   ]
  },
  {
   "cell_type": "markdown",
   "metadata": {},
   "source": [
    "The movie with the highest nominal revenue is Avatar from 2009, with a revenue of approximately \\\\$ 2.782 billion. However, when we adjust for inflation, Titanic from 1997 shows a greater revenue than Avatar - an adjusted revenue of approximately \\\\$ 3.126 billion, compared to Avatar's adjusted revenue of about \\\\$ 2.978 billion."
   ]
  },
  {
   "cell_type": "markdown",
   "metadata": {},
   "source": [
    "Now we want to see if 'older' movies have a higher revenue than 'newer' movies. We define 'older' movies as movies that were released before 2000 and 'newer' movies as movies that were released after 2000."
   ]
  },
  {
   "cell_type": "code",
   "execution_count": 60,
   "metadata": {},
   "outputs": [
    {
     "name": "stdout",
     "output_type": "stream",
     "text": [
      "Number of movies before 2000:  3551\n",
      "Number of movies after 2000:  3641\n"
     ]
    }
   ],
   "source": [
    "old_movies_revenues = movies[movies[\"year\"].astype(int) < 2000][\n",
    "    \"revenue_adjusted\"\n",
    "]\n",
    "new_movies_revenues = movies[movies[\"year\"].astype(int) >= 2000][\n",
    "    \"revenue_adjusted\"\n",
    "]\n",
    "\n",
    "print(\"Number of movies before 2000: \", len(old_movies_revenues))\n",
    "print(\"Number of movies after 2000: \", len(new_movies_revenues))"
   ]
  },
  {
   "cell_type": "markdown",
   "metadata": {},
   "source": [
    "In order to determine this, we will perform a t-test. The null hypothesis is that there is no significant difference in mean revenues between older and newer movies, while the alternative hypothesis is that there is a significant difference. In this analysis, we will use a 0.05 level of significance. This means that if our p-value is less than 0.05, we will reject the null hypothesis and accept the alternative hypothesis."
   ]
  },
  {
   "cell_type": "code",
   "execution_count": 61,
   "metadata": {},
   "outputs": [
    {
     "name": "stdout",
     "output_type": "stream",
     "text": [
      "Independent sample t-test: \n",
      " t = 3.066214880632238 \n",
      " p = 0.002175923717079693\n",
      "Mean revenue for older movies = 89656715.404 \n",
      "Mean revenue for newer movies = 76972127.711\n"
     ]
    }
   ],
   "source": [
    "mean_revenue_old = old_movies_revenues.mean()\n",
    "mean_revenue_new = new_movies_revenues.mean()\n",
    "\n",
    "# perform a t-test to see if the mean revenue of old movies is significantly higher than the mean revenue of new movies\n",
    "t = ttest_ind(old_movies_revenues.values, new_movies_revenues.values)\n",
    "print(\"Independent sample t-test: \\n t =\", t.statistic, \"\\n p =\", t.pvalue)\n",
    "print(\n",
    "    \"Mean revenue for older movies =\",\n",
    "    \"{:.3f}\".format(mean_revenue_old),\n",
    "    \"\\nMean revenue for newer movies =\",\n",
    "    \"{:.3f}\".format(mean_revenue_new),\n",
    ")"
   ]
  },
  {
   "cell_type": "markdown",
   "metadata": {},
   "source": [
    "The p-value of 0.0022 is less than 0.05, indicating that there is a statistically significant difference between the mean revenues of older movies (released before the year 2000) and newer movies (released in or after the year 2000). Given the mean revenues, we can conclude that older movies have a significantly higher mean revenue than newer movies when adjusted for inflation."
   ]
  },
  {
   "cell_type": "markdown",
   "metadata": {},
   "source": [
    "- Is there a correlation between the inflation adjusted budget and the release year of the movies?"
   ]
  },
  {
   "cell_type": "markdown",
   "metadata": {},
   "source": [
    "We can plot the original budget and the inflation-adjusted budget over time, in order to see the difference."
   ]
  },
  {
   "cell_type": "code",
   "execution_count": 62,
   "metadata": {},
   "outputs": [
    {
     "data": {
      "image/png": "[encoded data removed]",
      "text/plain": [
       "<Figure size 1200x600 with 1 Axes>"
      ]
     },
     "metadata": {},
     "output_type": "display_data"
    }
   ],
   "source": [
    "# group by year and get the movie with max budget and revenue_inflation\n",
    "annual_revenue = movies.groupby(pd.to_datetime(movies[\"year\"]))[\n",
    "    [\"budget\", \"budget_adjusted\"]\n",
    "].max()\n",
    "\n",
    "plt.figure(figsize=(12, 6))\n",
    "\n",
    "plt.plot(\n",
    "    annual_revenue.index, \n",
    "    annual_revenue[\"budget\"], \n",
    "    label=\"Budget\", \n",
    "    color = \"#E66100\",\n",
    ")\n",
    "\n",
    "plt.plot(\n",
    "    annual_revenue.index,\n",
    "    annual_revenue[\"budget_adjusted\"],\n",
    "    label=\"Inflation-Adjusted Budget\",\n",
    "    color = \"#5D3A9B\",\n",
    ")\n",
    "\n",
    "plt.title(\"Movie Budget Over Time - Movie With Highest Budget Each Year\")\n",
    "plt.xlabel(\"Year\")\n",
    "plt.ylabel(\"Budget\")\n",
    "plt.legend()\n",
    "plt.show()"
   ]
  },
  {
   "cell_type": "markdown",
   "metadata": {},
   "source": [
    "Again as expected, the inflation-adjusted budgets are consistently higher than the nominal budgets, illustrating the impact of inflation over time. Both the nominal and inflation-adjusted budget lines show an overall upward trend, indicating that the budgets for the high-budget movies per year have been increasing over the decades."
   ]
  },
  {
   "cell_type": "markdown",
   "metadata": {},
   "source": [
    "We'll do a pearson correlation between the inflation-adjusted budget and year to see if there is actually a correlation between the two."
   ]
  },
  {
   "cell_type": "code",
   "execution_count": 63,
   "metadata": {},
   "outputs": [
    {
     "name": "stdout",
     "output_type": "stream",
     "text": [
      "Pearson's correlation coefficient: 0.13043034760366934\n",
      "P-value: 4.633704347063562e-08\n"
     ]
    }
   ],
   "source": [
    "movies_with_budget = movies.dropna(subset=[\"budget_adjusted\"])\n",
    "pearson_corr_coefficient, p_value = stats.pearsonr(\n",
    "    movies_with_budget[\"year\"].astype(float),\n",
    "    movies_with_budget[\"budget_adjusted\"],\n",
    ")\n",
    "\n",
    "print(f\"Pearson's correlation coefficient: {pearson_corr_coefficient}\")\n",
    "print(f\"P-value: {p_value}\")"
   ]
  },
  {
   "cell_type": "markdown",
   "metadata": {},
   "source": [
    "The weak positive correlation coefficient and the low p-value suggest a statistically significant, yet not strong, linear relationship between the movie's release year and its inflation-adjusted budget."
   ]
  },
  {
   "cell_type": "markdown",
   "metadata": {},
   "source": [
    "The overall upward trend in both nominal and inflation-adjusted movie budgets could be related to broader economic growth, such as increases in GDP. As the economy grows, the movie industry seems to grow with it. We will explore this in the following section."
   ]
  },
  {
   "cell_type": "markdown",
   "metadata": {},
   "source": [
    "### GDP Data ..."
   ]
  },
  {
   "cell_type": "markdown",
   "metadata": {},
   "source": [
    "TODO: ***Is there a correlation between cinema revenue growth and world economic growth?***\n",
    "- How does the increase in cinema gross revenue correlate with global economic growth indicators like the world's GDP?\n",
    "- Are there regional differences in this correlation, and if so, which regions show a stronger relationship?\n"
   ]
  },
  {
   "cell_type": "code",
   "execution_count": 64,
   "metadata": {},
   "outputs": [
    {
     "data": {
      "text/html": [
       "<div>\n",
       "<style scoped>\n",
       "    .dataframe tbody tr th:only-of-type {\n",
       "        vertical-align: middle;\n",
       "    }\n",
       "\n",
       "    .dataframe tbody tr th {\n",
       "        vertical-align: top;\n",
       "    }\n",
       "\n",
       "    .dataframe thead th {\n",
       "        text-align: right;\n",
       "    }\n",
       "</style>\n",
       "<table border=\"1\" class=\"dataframe\">\n",
       "  <thead>\n",
       "    <tr style=\"text-align: right;\">\n",
       "      <th></th>\n",
       "      <th>year</th>\n",
       "      <th>gdp</th>\n",
       "    </tr>\n",
       "  </thead>\n",
       "  <tbody>\n",
       "    <tr>\n",
       "      <th>0</th>\n",
       "      <td>1960</td>\n",
       "      <td>5.433000e+11</td>\n",
       "    </tr>\n",
       "    <tr>\n",
       "      <th>1</th>\n",
       "      <td>1961</td>\n",
       "      <td>5.633000e+11</td>\n",
       "    </tr>\n",
       "    <tr>\n",
       "      <th>2</th>\n",
       "      <td>1962</td>\n",
       "      <td>6.051000e+11</td>\n",
       "    </tr>\n",
       "    <tr>\n",
       "      <th>3</th>\n",
       "      <td>1963</td>\n",
       "      <td>6.386000e+11</td>\n",
       "    </tr>\n",
       "    <tr>\n",
       "      <th>4</th>\n",
       "      <td>1964</td>\n",
       "      <td>6.858000e+11</td>\n",
       "    </tr>\n",
       "  </tbody>\n",
       "</table>\n",
       "</div>"
      ],
      "text/plain": [
       "   year           gdp\n",
       "0  1960  5.433000e+11\n",
       "1  1961  5.633000e+11\n",
       "2  1962  6.051000e+11\n",
       "3  1963  6.386000e+11\n",
       "4  1964  6.858000e+11"
      ]
     },
     "metadata": {},
     "output_type": "display_data"
    }
   ],
   "source": [
    "display(us_gdp.head())"
   ]
  },
  {
   "cell_type": "markdown",
   "metadata": {},
   "source": [
    "---"
   ]
  },
  {
   "cell_type": "markdown",
   "metadata": {},
   "source": [
    "TODO: ***Which factors determine the movie's financial success?***\n",
    "- Do movies with higher budgets produce higher revenues?\n",
    "- How do runtime and genre impact a movie's revenue?\n"
   ]
  },
  {
   "cell_type": "code",
   "execution_count": 65,
   "metadata": {},
   "outputs": [
    {
     "data": {
      "image/png": "[encoded data removed]",
      "text/plain": [
       "<Figure size 1200x600 with 2 Axes>"
      ]
     },
     "metadata": {},
     "output_type": "display_data"
    }
   ],
   "source": [
    "# plotting budget and revenue with a linear y scale (left) and log y scale (right)\n",
    "# linear regression line is also shown on the left plot\n",
    "fig, axes = plt.subplots(1, 2, figsize=(12, 6))\n",
    "sns.regplot(\n",
    "    ax=axes[0],\n",
    "    data=movies_with_budget,\n",
    "    x=\"budget_adjusted\",\n",
    "    y=\"revenue_adjusted\",\n",
    "    line_kws={\"color\": \"red\"},\n",
    ")\n",
    "sns.scatterplot(\n",
    "    ax=axes[1],\n",
    "    data=movies_with_budget,\n",
    "    x=\"budget_adjusted\",\n",
    "    y=\"revenue_adjusted\",\n",
    ")\n",
    "axes[1].set_yscale(\"log\")\n",
    "plt.show()"
   ]
  },
  {
   "cell_type": "markdown",
   "metadata": {},
   "source": [
    "TODO: Comment on the plots"
   ]
  },
  {
   "cell_type": "code",
   "execution_count": 66,
   "metadata": {},
   "outputs": [
    {
     "name": "stdout",
     "output_type": "stream",
     "text": [
      "Pearson Correlation:  PearsonRResult(statistic=0.5706510359479671, pvalue=3.74495474048541e-151)\n",
      "Spearman Correlation:  SignificanceResult(statistic=0.6010321314073527, pvalue=1.1190326937062103e-171)\n"
     ]
    }
   ],
   "source": [
    "# check correlation between budget and revenue with pearson and spearman\n",
    "print(\n",
    "    \"Pearson Correlation: \",\n",
    "    stats.pearsonr(\n",
    "        movies_with_budget[\"budget_adjusted\"],\n",
    "        movies_with_budget[\"revenue_adjusted\"],\n",
    "    ),\n",
    ")\n",
    "print(\n",
    "    \"Spearman Correlation: \",\n",
    "    stats.spearmanr(\n",
    "        movies_with_budget[\"budget_adjusted\"],\n",
    "        movies_with_budget[\"revenue_adjusted\"],\n",
    "    ),\n",
    ")"
   ]
  },
  {
   "cell_type": "markdown",
   "metadata": {},
   "source": [
    "TODO: Comment on this"
   ]
  },
  {
   "cell_type": "markdown",
   "metadata": {},
   "source": [
    "Which 5 movies made the most and the least profit? Could it happen that some movies even made a loss?"
   ]
  },
  {
   "cell_type": "code",
   "execution_count": 67,
   "metadata": {},
   "outputs": [
    {
     "data": {
      "text/html": [
       "<div>\n",
       "<style scoped>\n",
       "    .dataframe tbody tr th:only-of-type {\n",
       "        vertical-align: middle;\n",
       "    }\n",
       "\n",
       "    .dataframe tbody tr th {\n",
       "        vertical-align: top;\n",
       "    }\n",
       "\n",
       "    .dataframe thead th {\n",
       "        text-align: right;\n",
       "    }\n",
       "</style>\n",
       "<table border=\"1\" class=\"dataframe\">\n",
       "  <thead>\n",
       "    <tr style=\"text-align: right;\">\n",
       "      <th></th>\n",
       "      <th>title</th>\n",
       "      <th>year</th>\n",
       "      <th>profit</th>\n",
       "    </tr>\n",
       "  </thead>\n",
       "  <tbody>\n",
       "    <tr>\n",
       "      <th>1990</th>\n",
       "      <td>Titanic</td>\n",
       "      <td>1997</td>\n",
       "      <td>2.839764e+09</td>\n",
       "    </tr>\n",
       "    <tr>\n",
       "      <th>3876</th>\n",
       "      <td>The Sound of Music</td>\n",
       "      <td>1965</td>\n",
       "      <td>2.025826e+09</td>\n",
       "    </tr>\n",
       "    <tr>\n",
       "      <th>5540</th>\n",
       "      <td>Jurassic Park</td>\n",
       "      <td>1993</td>\n",
       "      <td>1.353630e+09</td>\n",
       "    </tr>\n",
       "    <tr>\n",
       "      <th>749</th>\n",
       "      <td>The Lord of the Rings: The Two Towers</td>\n",
       "      <td>2002</td>\n",
       "      <td>1.081178e+09</td>\n",
       "    </tr>\n",
       "    <tr>\n",
       "      <th>1185</th>\n",
       "      <td>Finding Nemo</td>\n",
       "      <td>2003</td>\n",
       "      <td>1.032297e+09</td>\n",
       "    </tr>\n",
       "  </tbody>\n",
       "</table>\n",
       "</div>"
      ],
      "text/plain": [
       "                                      title  year        profit\n",
       "1990                                Titanic  1997  2.839764e+09\n",
       "3876                     The Sound of Music  1965  2.025826e+09\n",
       "5540                          Jurassic Park  1993  1.353630e+09\n",
       "749   The Lord of the Rings: The Two Towers  2002  1.081178e+09\n",
       "1185                           Finding Nemo  2003  1.032297e+09"
      ]
     },
     "metadata": {},
     "output_type": "display_data"
    },
    {
     "name": "stdout",
     "output_type": "stream",
     "text": [
      "Number of movies that made profit:  1209\n"
     ]
    },
    {
     "data": {
      "text/html": [
       "<div>\n",
       "<style scoped>\n",
       "    .dataframe tbody tr th:only-of-type {\n",
       "        vertical-align: middle;\n",
       "    }\n",
       "\n",
       "    .dataframe tbody tr th {\n",
       "        vertical-align: top;\n",
       "    }\n",
       "\n",
       "    .dataframe thead th {\n",
       "        text-align: right;\n",
       "    }\n",
       "</style>\n",
       "<table border=\"1\" class=\"dataframe\">\n",
       "  <thead>\n",
       "    <tr style=\"text-align: right;\">\n",
       "      <th></th>\n",
       "      <th>title</th>\n",
       "      <th>year</th>\n",
       "      <th>profit</th>\n",
       "    </tr>\n",
       "  </thead>\n",
       "  <tbody>\n",
       "    <tr>\n",
       "      <th>5293</th>\n",
       "      <td>The Alamo</td>\n",
       "      <td>2004</td>\n",
       "      <td>-1.448673e+08</td>\n",
       "    </tr>\n",
       "    <tr>\n",
       "      <th>3452</th>\n",
       "      <td>The 13th Warrior</td>\n",
       "      <td>1999</td>\n",
       "      <td>-1.354905e+08</td>\n",
       "    </tr>\n",
       "    <tr>\n",
       "      <th>4335</th>\n",
       "      <td>The Adventures of Pluto Nash</td>\n",
       "      <td>2002</td>\n",
       "      <td>-1.185783e+08</td>\n",
       "    </tr>\n",
       "    <tr>\n",
       "      <th>6693</th>\n",
       "      <td>Mars Needs Moms</td>\n",
       "      <td>2011</td>\n",
       "      <td>-1.133044e+08</td>\n",
       "    </tr>\n",
       "    <tr>\n",
       "      <th>2615</th>\n",
       "      <td>Town &amp; Country</td>\n",
       "      <td>2001</td>\n",
       "      <td>-1.032495e+08</td>\n",
       "    </tr>\n",
       "  </tbody>\n",
       "</table>\n",
       "</div>"
      ],
      "text/plain": [
       "                             title  year        profit\n",
       "5293                     The Alamo  2004 -1.448673e+08\n",
       "3452              The 13th Warrior  1999 -1.354905e+08\n",
       "4335  The Adventures of Pluto Nash  2002 -1.185783e+08\n",
       "6693               Mars Needs Moms  2011 -1.133044e+08\n",
       "2615                Town & Country  2001 -1.032495e+08"
      ]
     },
     "metadata": {},
     "output_type": "display_data"
    },
    {
     "name": "stdout",
     "output_type": "stream",
     "text": [
      "Number of movies that made loss:  527\n"
     ]
    }
   ],
   "source": [
    "movies[\"profit\"] = (\n",
    "    movies[\"revenue_adjusted\"] - movies[\"budget_adjusted\"]\n",
    ")\n",
    "display(\n",
    "    movies.sort_values(by=[\"profit\"], ascending=False).head(5)[\n",
    "        [\"title\", \"year\", \"profit\"]\n",
    "    ]\n",
    ")\n",
    "print(\n",
    "    \"Number of movies that made profit: \",\n",
    "    len(movies[movies[\"profit\"] > 0]),\n",
    ")\n",
    "display(\n",
    "    movies.sort_values(by=[\"profit\"], ascending=True).head(5)[\n",
    "        [\"title\", \"year\", \"profit\"]\n",
    "    ]\n",
    ")\n",
    "print(\n",
    "    \"Number of movies that made loss: \", len(movies[movies[\"profit\"] < 0])\n",
    ")"
   ]
  },
  {
   "cell_type": "markdown",
   "metadata": {},
   "source": [
    "TODO: Comment on the movies + Reference"
   ]
  },
  {
   "cell_type": "markdown",
   "metadata": {},
   "source": [
    "Fun fact: The movies that lost money are called box office bombs!"
   ]
  },
  {
   "cell_type": "markdown",
   "metadata": {},
   "source": [
    "Has the trend of profit changed over time? Should we expect to see more movies with higher profit in the future?"
   ]
  },
  {
   "cell_type": "code",
   "execution_count": 68,
   "metadata": {},
   "outputs": [
    {
     "data": {
      "image/png": "[encoded data removed]",
      "text/plain": [
       "<Figure size 1200x600 with 1 Axes>"
      ]
     },
     "metadata": {},
     "output_type": "display_data"
    }
   ],
   "source": [
    "# plot the profit of movies over time\n",
    "plt.figure(figsize=(12, 6))\n",
    "plt.plot(\n",
    "    movies.groupby(pd.to_datetime(movies[\"year\"]))[\"profit\"].mean(),\n",
    "    label=\"Profit\",\n",
    ")\n",
    "plt.title(\"Movie Profit Over Time - Mean Profit for Each Year\")\n",
    "plt.xlabel(\"Year\")\n",
    "plt.yscale(\"linear\")\n",
    "plt.ylabel(\"Profit\")\n",
    "plt.legend()\n",
    "plt.show()"
   ]
  },
  {
   "cell_type": "markdown",
   "metadata": {},
   "source": [
    "TODO: Comment on this. Comment on mean profit > 0 "
   ]
  },
  {
   "cell_type": "code",
   "execution_count": 69,
   "metadata": {},
   "outputs": [
    {
     "name": "stdout",
     "output_type": "stream",
     "text": [
      "Year with highest profit:  1965\n",
      "Year with lowest profit:  1961\n"
     ]
    }
   ],
   "source": [
    "# create a list storing the profit for each year\n",
    "profit_per_year = []\n",
    "for year in movies[\"year\"].unique():\n",
    "    profit_per_year.append(\n",
    "        movies[movies[\"year\"] == year][\"profit\"].mean()\n",
    "    )\n",
    "\n",
    "# year with the highest and lowest profit\n",
    "print(\n",
    "    \"Year with highest profit: \",\n",
    "    movies[\"year\"].unique()[np.argmax(profit_per_year)],\n",
    ")\n",
    "print(\n",
    "    \"Year with lowest profit: \",\n",
    "    movies[\"year\"].unique()[np.argmin(profit_per_year)],\n",
    ")"
   ]
  },
  {
   "cell_type": "markdown",
   "metadata": {},
   "source": [
    "Here we perform a one-way ANOVA test to check if the mean profit of movies is the same for all years. This would show whether there exists a significant difference in the mean profit of movies for different years.\n",
    "\n"
   ]
  },
  {
   "cell_type": "code",
   "execution_count": 70,
   "metadata": {},
   "outputs": [
    {
     "name": "stdout",
     "output_type": "stream",
     "text": [
      "F_onewayResult(statistic=40.90813182701674, pvalue=4.6351722914999435e-09)\n",
      "SignificanceResult(statistic=-0.4546040961135301, pvalue=0.0006270072495625316)\n"
     ]
    }
   ],
   "source": [
    "print(stats.f_oneway(movies[\"year\"].unique(), profit_per_year))\n",
    "print(stats.spearmanr(movies[\"year\"].unique(), profit_per_year))"
   ]
  },
  {
   "cell_type": "markdown",
   "metadata": {},
   "source": [
    "We can see with the one way Anova test that the means are different for different years, so we can reject the null hypothesis. However, the statistic is small, so the difference is not very significant. Additionally, with the Spearman correlation test we can see that there is a weak negative correlation between the year and the profit. This means that the profit decreases over time, as can also be seen on the plot. We cannot clearly separate the factors that influence the decrease in profit, but following this trend we should expect that the profit will decrease in the future as well."
   ]
  },
  {
   "cell_type": "markdown",
   "metadata": {},
   "source": [
    "What were the chances of a movie making an outstanding profit in the past?"
   ]
  },
  {
   "cell_type": "code",
   "execution_count": 71,
   "metadata": {},
   "outputs": [
    {
     "data": {
      "image/png": "[encoded data removed]",
      "text/plain": [
       "<Figure size 1200x600 with 1 Axes>"
      ]
     },
     "metadata": {},
     "output_type": "display_data"
    }
   ],
   "source": [
    "all_profits = movies[movies[\"budget\"] > 0][[\"profit\", \"budget\"]]\n",
    "plt.figure(figsize=(12, 6))\n",
    "sns.boxplot(\n",
    "    data=all_profits[\"profit\"], flierprops=dict(markerfacecolor=\"r\", marker=\"o\")\n",
    ")\n",
    "plt.title(\"Profit Distribution\")\n",
    "plt.xlabel(\"Profit\")\n",
    "plt.yscale(\"linear\")\n",
    "plt.show()"
   ]
  },
  {
   "cell_type": "markdown",
   "metadata": {},
   "source": [
    "TODO: Try to find a better plot!!!!!!!!!!!!!!!!!!!!!!!!!!! Idea is to find movies with above average profit (>95%)"
   ]
  },
  {
   "cell_type": "markdown",
   "metadata": {},
   "source": [
    "We will try to briefly characterize the red dots (outliers) from the above boxplot."
   ]
  },
  {
   "cell_type": "code",
   "execution_count": 73,
   "metadata": {},
   "outputs": [
    {
     "name": "stdout",
     "output_type": "stream",
     "text": [
      "Number of movies with an exceptional profit:  171\n",
      "Chances of a movie making exceptional profit in the past:  9.81 %\n"
     ]
    }
   ],
   "source": [
    "# calculate the number of positive outliers in the boxplot distribution\n",
    "q1 = all_profits[\"profit\"].quantile(0.25)\n",
    "q3 = all_profits[\"profit\"].quantile(0.75)\n",
    "iqr = q3 - q1\n",
    "upper_bound = q3 + (1.5 * iqr)\n",
    "exceptional_profits = all_profits[all_profits[\"profit\"] > upper_bound]\n",
    "print(\"Number of movies with an exceptional profit: \", len(exceptional_profits))\n",
    "# print chances of movie making exceptional profit formatted in %\n",
    "print(\n",
    "    \"Chances of a movie making exceptional profit in the past: \",\n",
    "    \"{:.2f}\".format(len(exceptional_profits) / len(all_profits) * 100),\n",
    "    \"%\",\n",
    ")"
   ]
  },
  {
   "cell_type": "markdown",
   "metadata": {},
   "source": [
    "TODO: Maybe write a comment here, that this is not EXACLTY precise, but we assume that the data is equally representative of the ..."
   ]
  },
  {
   "cell_type": "markdown",
   "metadata": {},
   "source": [
    "TODO: Comment that not everything is dependent on the profit/budget...."
   ]
  },
  {
   "cell_type": "markdown",
   "metadata": {},
   "source": [
    "Furthermore, we want to analyze movies that had a high return on investment (ROI). These are the movies that had a high return on investment despite having a possibly low budget. Here are some differences in terms of representing profit and ROI: Scale: - Profit: real monetary amount gained or lost - ROI: percentage of the original investment that was gained or lost Direction: - Profit: positive or negative financial gain - ROI: positive or negative percentage of the original investment Interpretation: - Profit: straightforward absolute measure of financial success or failure in terms of dollars - ROI: relative measure of financial success or failure in terms of percentage of the original investment"
   ]
  },
  {
   "cell_type": "code",
   "execution_count": 74,
   "metadata": {},
   "outputs": [
    {
     "data": {
      "text/html": [
       "<div>\n",
       "<style scoped>\n",
       "    .dataframe tbody tr th:only-of-type {\n",
       "        vertical-align: middle;\n",
       "    }\n",
       "\n",
       "    .dataframe tbody tr th {\n",
       "        vertical-align: top;\n",
       "    }\n",
       "\n",
       "    .dataframe thead th {\n",
       "        text-align: right;\n",
       "    }\n",
       "</style>\n",
       "<table border=\"1\" class=\"dataframe\">\n",
       "  <thead>\n",
       "    <tr style=\"text-align: right;\">\n",
       "      <th></th>\n",
       "      <th>title</th>\n",
       "      <th>year</th>\n",
       "      <th>roi</th>\n",
       "    </tr>\n",
       "  </thead>\n",
       "  <tbody>\n",
       "    <tr>\n",
       "      <th>3551</th>\n",
       "      <td>Night of the Living Dead</td>\n",
       "      <td>1968</td>\n",
       "      <td>36742.105263</td>\n",
       "    </tr>\n",
       "    <tr>\n",
       "      <th>4467</th>\n",
       "      <td>Mad Max</td>\n",
       "      <td>1979</td>\n",
       "      <td>24900.000000</td>\n",
       "    </tr>\n",
       "    <tr>\n",
       "      <th>1092</th>\n",
       "      <td>Halloween</td>\n",
       "      <td>1978</td>\n",
       "      <td>23233.333333</td>\n",
       "    </tr>\n",
       "    <tr>\n",
       "      <th>7027</th>\n",
       "      <td>Rocky</td>\n",
       "      <td>1976</td>\n",
       "      <td>22400.000000</td>\n",
       "    </tr>\n",
       "    <tr>\n",
       "      <th>5136</th>\n",
       "      <td>Joe</td>\n",
       "      <td>1970</td>\n",
       "      <td>18125.711321</td>\n",
       "    </tr>\n",
       "  </tbody>\n",
       "</table>\n",
       "</div>"
      ],
      "text/plain": [
       "                         title  year           roi\n",
       "3551  Night of the Living Dead  1968  36742.105263\n",
       "4467                   Mad Max  1979  24900.000000\n",
       "1092                 Halloween  1978  23233.333333\n",
       "7027                     Rocky  1976  22400.000000\n",
       "5136                       Joe  1970  18125.711321"
      ]
     },
     "metadata": {},
     "output_type": "display_data"
    }
   ],
   "source": [
    "# calculate ROI for movies with budget > 0\n",
    "movies[\"roi\"] = (\n",
    "    movies[\"profit\"] / movies[\"budget_adjusted\"]\n",
    ") * 100\n",
    "\n",
    "# remove inf and NaN rows due to division of zero\n",
    "movies = movies.replace([np.inf, -np.inf], np.nan)\n",
    "movies = movies.dropna(subset=[\"roi\"])\n",
    "\n",
    "# identify top 5 movies with highest ROI\n",
    "display(\n",
    "    movies.sort_values(by=[\"roi\"], ascending=False).head(5)[\n",
    "        [\"title\", \"year\", \"roi\"]\n",
    "    ]\n",
    ")"
   ]
  },
  {
   "cell_type": "markdown",
   "metadata": {},
   "source": [
    "We can see these movies are different from the ones that had the highest profit. They had a much lower budget, but a much higher ROI. This means that they had a much higher return on investment, despite having a lower budget."
   ]
  },
  {
   "cell_type": "code",
   "execution_count": 75,
   "metadata": {},
   "outputs": [
    {
     "name": "stdout",
     "output_type": "stream",
     "text": [
      "Pearson Correlation:  PearsonRResult(statistic=0.23146281706390906, pvalue=1.246601857354523e-22)\n"
     ]
    }
   ],
   "source": [
    "# correlation between profit and roi\n",
    "print(\n",
    "    \"Pearson Correlation: \",\n",
    "    stats.pearsonr(movies[\"profit\"], movies[\"roi\"]),\n",
    ")"
   ]
  },
  {
   "cell_type": "markdown",
   "metadata": {},
   "source": [
    "TODO: Comment shortly why this is the case"
   ]
  },
  {
   "cell_type": "code",
   "execution_count": null,
   "metadata": {},
   "outputs": [],
   "source": []
  },
  {
   "cell_type": "markdown",
   "metadata": {},
   "source": [
    "### Which factors determine the movie's financial success?"
   ]
  },
  {
   "cell_type": "markdown",
   "metadata": {},
   "source": [
    "#### Movie Runtime"
   ]
  },
  {
   "cell_type": "markdown",
   "metadata": {},
   "source": [
    "What is the distribution of the movie runtime?"
   ]
  },
  {
   "cell_type": "code",
   "execution_count": 76,
   "metadata": {},
   "outputs": [
    {
     "data": {
      "image/png": "[encoded data removed]",
      "text/plain": [
       "<Figure size 640x480 with 1 Axes>"
      ]
     },
     "metadata": {},
     "output_type": "display_data"
    },
    {
     "name": "stdout",
     "output_type": "stream",
     "text": [
      "Average movie runtime (minutes):  108 ± 18\n"
     ]
    }
   ],
   "source": [
    "# runtime distribution histogram\n",
    "sns.histplot( data=movies, x=\"runtime\", bins='auto', kde=True)\n",
    "plt.title(\"Movie Runtime Distribution\")\n",
    "plt.xlabel(\"Runtime\")\n",
    "plt.grid(axis=\"x\")\n",
    "plt.show()\n",
    "\n",
    "print(\"Average movie runtime (minutes): \", round(movies[\"runtime\"].mean()), u\"\\u00B1\", round(movies[\"runtime\"].std()))"
   ]
  },
  {
   "cell_type": "markdown",
   "metadata": {},
   "source": [
    "Finding the relationship between budget, revenue and profit vs. runtime"
   ]
  },
  {
   "cell_type": "code",
   "execution_count": 102,
   "metadata": {},
   "outputs": [
    {
     "data": {
      "image/png": "[encoded data removed]",
      "text/plain": [
       "<Figure size 1800x600 with 4 Axes>"
      ]
     },
     "metadata": {},
     "output_type": "display_data"
    }
   ],
   "source": [
    "# plot budget, revenue and profit vs. runtime as 2d histograms with darker color where there are more points\n",
    "fig, axes = plt.subplots(1, 3, figsize=(18, 6))\n",
    "\n",
    "# Budget vs. Runtime\n",
    "sns.histplot(\n",
    "    ax=axes[0],\n",
    "    data=movies,\n",
    "    x=\"runtime\",\n",
    "    y=\"budget_adjusted\",\n",
    "    bins=35,\n",
    "    cmap=\"magma\",\n",
    "    log_scale=(False, True),\n",
    ")\n",
    "axes[0].set_title(\"Budget vs. Runtime\", fontsize=14)\n",
    "axes[0].set_xlabel(\"Runtime (minutes)\", fontsize=12)\n",
    "axes[0].set_ylabel(\"Budget (Adjusted)\", fontsize=12)\n",
    "axes[0].grid(True)\n",
    "\n",
    "# Revenue vs. Runtime\n",
    "sns.histplot(\n",
    "    ax=axes[1],\n",
    "    data=movies,\n",
    "    x=\"runtime\",\n",
    "    y=\"revenue_adjusted\",\n",
    "    bins=35,\n",
    "    cmap=\"magma\",\n",
    "    log_scale=(False, True),\n",
    ")\n",
    "axes[1].set_title(\"Revenue vs. Runtime\", fontsize=14)\n",
    "axes[1].set_xlabel(\"Runtime (minutes)\", fontsize=12)\n",
    "axes[1].set_ylabel(\"Revenue (Adjusted)\", fontsize=12)\n",
    "axes[1].grid(True)\n",
    "\n",
    "# Profit vs. Runtime\n",
    "sns.histplot(\n",
    "    ax=axes[2],\n",
    "    data=movies[movies[\"profit\"] > 0],\n",
    "    x=\"runtime\",\n",
    "    y=\"profit\",\n",
    "    bins=35,\n",
    "    cbar=True,\n",
    "    cbar_kws={\"shrink\": 0.9},\n",
    "    cmap=\"magma\",\n",
    "    log_scale=(False, True),\n",
    ")\n",
    "axes[2].set_title(\"Profit vs. Runtime\", fontsize=14)\n",
    "axes[2].set_xlabel(\"Runtime (minutes)\", fontsize=12)\n",
    "axes[2].set_ylabel(\"Profit\", fontsize=12)\n",
    "axes[2].grid(True)\n",
    "\n",
    "plt.tight_layout()\n",
    "plt.show()"
   ]
  },
  {
   "cell_type": "code",
   "execution_count": 81,
   "metadata": {},
   "outputs": [
    {
     "data": {
      "image/png": "[encoded data removed]",
      "text/plain": [
       "<Figure size 1200x600 with 4 Axes>"
      ]
     },
     "metadata": {},
     "output_type": "display_data"
    }
   ],
   "source": [
    "# plot budget, revenue and profit vs. runtime as 2d histograms with darker color where there are more points\n",
    "fig, axes = plt.subplots(1, 3, figsize=(12, 6))\n",
    "sns.histplot(\n",
    "    ax=axes[0],\n",
    "    data=movies,\n",
    "    x=\"runtime\",\n",
    "    y=\"budget_adjusted\",\n",
    "    bins=35,\n",
    "    cmap=\"Blues\",\n",
    "    log_scale=(False, True),\n",
    ")\n",
    "sns.histplot(\n",
    "    ax=axes[1],\n",
    "    data=movies,\n",
    "    x=\"runtime\",\n",
    "    y=\"revenue_adjusted\",\n",
    "    bins=35,\n",
    "    cmap=\"Blues\",\n",
    "    log_scale=(False, True),\n",
    ")\n",
    "sns.histplot(\n",
    "    ax=axes[2],\n",
    "    data=movies[movies[\"profit\"] > 0],\n",
    "    x=\"runtime\",\n",
    "    y=\"profit\",\n",
    "    bins=35,\n",
    "    cbar=True,\n",
    "    cbar_kws={\"shrink\": 0.9},\n",
    "    cmap=\"Blues\",\n",
    "    log_scale=(False, True),\n",
    ")\n",
    "axes[0].set_title(\"Budget vs. Runtime\")\n",
    "axes[0].set_xlabel(\"Runtime (minutes)\")\n",
    "axes[0].set_ylabel(\"Budget\")\n",
    "axes[1].set_title(\"Revenue vs. Runtime\")\n",
    "axes[1].set_xlabel(\"Runtime (minutes)\")\n",
    "axes[1].set_ylabel(\"Revenue\")\n",
    "axes[2].set_title(\"Profit vs. Runtime\")\n",
    "axes[2].set_xlabel(\"Runtime (minutes)\")\n",
    "axes[2].set_ylabel(\"Profit\")\n",
    "plt.tight_layout()\n",
    "plt.show()"
   ]
  },
  {
   "cell_type": "markdown",
   "metadata": {},
   "source": [
    "TODO: Comment on plots"
   ]
  },
  {
   "cell_type": "code",
   "execution_count": 103,
   "metadata": {},
   "outputs": [
    {
     "name": "stdout",
     "output_type": "stream",
     "text": [
      "Spearman Correlation between runtime and budget:  SignificanceResult(statistic=0.31731757036107716, pvalue=4.5264092153197776e-42)\n",
      "Spearman Correlation between runtime and revenue:  SignificanceResult(statistic=0.3013580071769405, pvalue=6.398004389404881e-38)\n",
      "Spearman Correlation between runtime and profit:  SignificanceResult(statistic=0.20218302505785563, pvalue=1.5533541967716372e-17)\n"
     ]
    }
   ],
   "source": [
    "# Spearmann correlation between runtime and budget, revenue and profit\n",
    "print(\n",
    "    \"Spearman Correlation between runtime and budget: \",\n",
    "    stats.spearmanr(movies[\"runtime\"], movies[\"budget_adjusted\"]),\n",
    ")\n",
    "print(\n",
    "    \"Spearman Correlation between runtime and revenue: \",\n",
    "    stats.spearmanr(movies[\"runtime\"], movies[\"revenue_adjusted\"]),\n",
    ")\n",
    "print(\n",
    "    \"Spearman Correlation between runtime and profit: \",\n",
    "    stats.spearmanr(movies[\"runtime\"], movies[\"profit\"]),\n",
    ")"
   ]
  },
  {
   "cell_type": "markdown",
   "metadata": {},
   "source": [
    "TODO: Comment on results (spearman because runtime is categorical)"
   ]
  },
  {
   "cell_type": "code",
   "execution_count": 104,
   "metadata": {},
   "outputs": [
    {
     "data": {
      "text/plain": [
       "<Axes: xlabel='runtime', ylabel='profit'>"
      ]
     },
     "execution_count": 104,
     "metadata": {},
     "output_type": "execute_result"
    },
    {
     "data": {
      "image/png": "[encoded data removed]",
      "text/plain": [
       "<Figure size 640x480 with 1 Axes>"
      ]
     },
     "metadata": {},
     "output_type": "display_data"
    }
   ],
   "source": [
    "# scatter plot of runtime vs. profit\n",
    "sns.regplot(\n",
    "    data=movies[movies[\"runtime\"] < 160],\n",
    "    x=\"runtime\",\n",
    "    y=\"profit\",\n",
    "    ci=95,\n",
    "    line_kws={\"color\": \"red\"},\n",
    ")"
   ]
  },
  {
   "cell_type": "markdown",
   "metadata": {},
   "source": [
    "Todo: Comment on line and how its not really interpretable\n",
    "\n",
    "Todo: Comment on why we make a regression analysis"
   ]
  },
  {
   "cell_type": "code",
   "execution_count": 105,
   "metadata": {},
   "outputs": [
    {
     "name": "stdout",
     "output_type": "stream",
     "text": [
      "                            OLS Regression Results                            \n",
      "==============================================================================\n",
      "Dep. Variable:                 profit   R-squared:                       0.079\n",
      "Model:                            OLS   Adj. R-squared:                  0.078\n",
      "Method:                 Least Squares   F-statistic:                     148.4\n",
      "Date:                Thu, 16 Nov 2023   Prob (F-statistic):           8.23e-33\n",
      "Time:                        01:25:26   Log-Likelihood:                -35492.\n",
      "No. Observations:                1743   AIC:                         7.099e+04\n",
      "Df Residuals:                    1741   BIC:                         7.100e+04\n",
      "Df Model:                           1                                         \n",
      "Covariance Type:            nonrobust                                         \n",
      "==============================================================================\n",
      "                 coef    std err          t      P>|t|      [0.025      0.975]\n",
      "------------------------------------------------------------------------------\n",
      "Intercept  -2.105e+08   2.44e+07     -8.645      0.000   -2.58e+08   -1.63e+08\n",
      "runtime       2.7e+06   2.22e+05     12.180      0.000    2.27e+06    3.14e+06\n",
      "==============================================================================\n",
      "Omnibus:                     1698.712   Durbin-Watson:                   2.005\n",
      "Prob(Omnibus):                  0.000   Jarque-Bera (JB):           129482.779\n",
      "Skew:                           4.444   Prob(JB):                         0.00\n",
      "Kurtosis:                      44.278   Cond. No.                         662.\n",
      "==============================================================================\n",
      "\n",
      "Notes:\n",
      "[1] Standard Errors assume that the covariance matrix of the errors is correctly specified.\n"
     ]
    }
   ],
   "source": [
    "reg = smf.ols(\n",
    "    formula=\"profit ~ runtime\",\n",
    "    data=movies,\n",
    ").fit()\n",
    "print(reg.summary())"
   ]
  },
  {
   "cell_type": "markdown",
   "metadata": {},
   "source": [
    "Todo: Comment"
   ]
  },
  {
   "cell_type": "code",
   "execution_count": 106,
   "metadata": {},
   "outputs": [
    {
     "data": {
      "image/png": "[encoded data removed]",
      "text/plain": [
       "<Figure size 1200x600 with 1 Axes>"
      ]
     },
     "metadata": {},
     "output_type": "display_data"
    }
   ],
   "source": [
    "# median profit in 10 minute intervals\n",
    "median_profit = movies[movies[\"profit\"]>0].groupby(\n",
    "    pd.cut(movies[\"runtime\"], np.arange(75, 150, 10))\n",
    ")[\"profit\"].median()\n",
    "median_budget = movies[movies[\"profit\"]>0].groupby(\n",
    "    pd.cut(movies[\"runtime\"], np.arange(75, 150, 10))\n",
    ")[\"budget_adjusted\"].median()\n",
    "\n",
    "# change the intervals to strings\n",
    "median_profit.index = median_profit.index.astype(str)\n",
    "median_budget.index = median_budget.index.astype(str)\n",
    "\n",
    "# plot\n",
    "fig, ax = plt.subplots(figsize=(12, 6))\n",
    "ax.bar(\n",
    "    median_profit.index,\n",
    "    median_profit,\n",
    "    width=0.4,\n",
    "    color=\"b\",\n",
    "    align=\"center\",\n",
    "    label=\"Profit\",\n",
    ")\n",
    "ax.bar(\n",
    "    median_budget.index,\n",
    "    median_budget,\n",
    "    width=0.2,\n",
    "    color=\"r\",\n",
    "    align=\"edge\",\n",
    "    label=\"Budget\",\n",
    ")\n",
    "ax.set_title(\"Median Profit and Budget per 10-minute Runtime Interval\")\n",
    "ax.set_xlabel(\"Runtime Interval\")\n",
    "ax.set_ylabel(\"Median Profit and Budget\")\n",
    "ax.legend()\n",
    "plt.show()"
   ]
  },
  {
   "cell_type": "markdown",
   "metadata": {},
   "source": [
    "TODO: Comment that profit increases linearly, but ROI is similar rate. Longer movie more money needed to produce it, but not necessarily more real ROI"
   ]
  },
  {
   "cell_type": "code",
   "execution_count": 108,
   "metadata": {},
   "outputs": [
    {
     "data": {
      "text/plain": [
       "runtime\n",
       "(75, 85]      174.370796\n",
       "(85, 95]      203.916069\n",
       "(95, 105]     181.648533\n",
       "(105, 115]    190.750000\n",
       "(115, 125]    207.930453\n",
       "(125, 135]    229.866680\n",
       "(135, 145]    248.205995\n",
       "Name: roi, dtype: float64"
      ]
     },
     "execution_count": 108,
     "metadata": {},
     "output_type": "execute_result"
    }
   ],
   "source": [
    "# ROI per each runtime interval\n",
    "movies[movies[\"profit\"]>0].groupby(\n",
    "    pd.cut(movies[\"runtime\"], np.arange(75, 150, 10))\n",
    ")[\"roi\"].median()"
   ]
  }
 ],
 "metadata": {
  "kernelspec": {
   "display_name": "Python [conda env:ada] *",
   "language": "python",
   "name": "conda-env-ada-py"
  },
  "language_info": {
   "codemirror_mode": {
    "name": "ipython",
    "version": 3
   },
   "file_extension": ".py",
   "mimetype": "text/x-python",
   "name": "python",
   "nbconvert_exporter": "python",
   "pygments_lexer": "ipython3",
   "version": "3.9.18"
  }
 },
 "nbformat": 4,
 "nbformat_minor": 2
}
