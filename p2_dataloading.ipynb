{
 "cells": [
  {
   "cell_type": "code",
   "execution_count": 1,
   "metadata": {},
   "outputs": [],
   "source": [
    "import numpy as np\n",
    "import pandas as pd\n",
    "import seaborn as sns\n",
    "import matplotlib.pyplot as plt\n",
    "from helpers import find_duplicates\n",
    "from scipy.stats import ttest_ind\n",
    "from scipy import stats"
   ]
  },
  {
   "cell_type": "markdown",
   "metadata": {},
   "source": [
    "# Project Milestone 2"
   ]
  },
  {
   "cell_type": "markdown",
   "metadata": {},
   "source": [
    "This notebook contians initial data exploration and analysis for the Project Milestone 2."
   ]
  },
  {
   "cell_type": "markdown",
   "metadata": {},
   "source": [
    "____________________________"
   ]
  },
  {
   "cell_type": "markdown",
   "metadata": {},
   "source": [
    "## Data Processing"
   ]
  },
  {
   "cell_type": "markdown",
   "metadata": {},
   "source": [
    "### Loading the Data"
   ]
  },
  {
   "cell_type": "code",
   "execution_count": 2,
   "metadata": {},
   "outputs": [],
   "source": [
    "# main data path and relative paths to the datasets\n",
    "DATA_PATH = \"data/\"\n",
    "DATA_PATH_MOVIESUMMARIES = DATA_PATH + \"MovieSummaries/\"\n",
    "DATA_PATH_MOVIELENS = DATA_PATH + \"MovieLens/\"\n",
    "DATA_PATH_IMDB = DATA_PATH + \"IMDBData/\"\n",
    "DATA_PATH_FINANCIAL = DATA_PATH + \"Financial/\"\n",
    "\n",
    "DATASET_PATH = {\n",
    "    \"movie_metadata\": DATA_PATH_MOVIESUMMARIES + \"movie.metadata.tsv\",\n",
    "    \"movie_budget\": DATA_PATH_MOVIELENS + \"movies_metadata.csv\",\n",
    "    \"imdb_ratings\": DATA_PATH_IMDB + \"title.ratings.tsv\",\n",
    "    \"imdb_basics\": DATA_PATH_IMDB + \"title.basics.tsv\",\n",
    "    \"cpi_data\": DATA_PATH_FINANCIAL + \"CPI.csv\",\n",
    "    \"gdp_data\": DATA_PATH_FINANCIAL + \"GDP.csv\",\n",
    "}\n",
    "DATASET_COLUMNS = {\n",
    "    \"movie_metadata\": [\n",
    "        \"wikipedia_id\",\n",
    "        \"freebase_movie_id\",\n",
    "        \"title\",\n",
    "        \"release_date\",\n",
    "        \"revenue\",\n",
    "        \"runtime\",\n",
    "        \"languages\",\n",
    "        \"countries\",\n",
    "        \"genres\",\n",
    "    ],\n",
    "    \"movie_budget\": [\n",
    "        \"budget\",\n",
    "        \"imdb_id\",\n",
    "        \"original_title\",\n",
    "        \"popularity\",\n",
    "        \"release_date\",\n",
    "        \"revenue\",\n",
    "        \"runtime\",\n",
    "        \"title\",\n",
    "        \"vote_average\",\n",
    "        \"vote_count\",\n",
    "    ],\n",
    "    \"imdb_ratings\": [\"imdb_id\", \"imdb_rating\", \"num_votes\"],\n",
    "    \"imdb_basics\": [\n",
    "        \"imdb_id\",\n",
    "        \"title_type\",\n",
    "        \"primary_title\",\n",
    "        \"title\",\n",
    "        \"is_adult\",\n",
    "        \"year\",\n",
    "        \"end_year\",\n",
    "        \"runtime\",\n",
    "        \"genres\",\n",
    "    ],\n",
    "}"
   ]
  },
  {
   "cell_type": "code",
   "execution_count": 3,
   "metadata": {},
   "outputs": [],
   "source": [
    "# data types for the datasets\n",
    "DATASET_TYPES = {\n",
    "    \"movie_metadata\": {\n",
    "        \"wikipedia_id\": \"string\",\n",
    "        \"freebase_movie_id\": \"string\",\n",
    "        \"title\": \"string\",\n",
    "        \"release_date\": \"string\",\n",
    "        \"revenue\": \"float64\",\n",
    "        \"runtime\": \"string\",\n",
    "        \"languages\": \"object\",\n",
    "        \"countries\": \"object\",\n",
    "        \"genres\": \"object\",\n",
    "    },\n",
    "    \"movie_budget\": {\n",
    "        \"budget\": \"object\",\n",
    "        \"imdb_id\": \"string\",\n",
    "        \"original_title\": \"object\",\n",
    "        \"popularity\": \"object\",\n",
    "        \"release_date\": \"object\",\n",
    "        \"revenue\": \"float64\",\n",
    "        \"runtime\": \"string\",\n",
    "        \"title\": \"object\",\n",
    "        \"vote_average\": \"float64\",\n",
    "        \"vote_count\": \"float64\",\n",
    "    },\n",
    "    \"imdb_ratings\": {\n",
    "        \"imdb_id\": \"string\",\n",
    "        \"imdb_rating\": \"float64\",\n",
    "        \"num_votes\": \"int64\",\n",
    "    },\n",
    "    \"imdb_basics\": {\n",
    "        \"imdb_id\": \"string\",\n",
    "        \"title_type\": \"string\",\n",
    "        \"primary_title\": \"string\",\n",
    "        \"title\": \"string\",\n",
    "        \"is_adult\": \"string\",\n",
    "        \"year\": \"string\",\n",
    "        \"end_year\": \"string\",\n",
    "        \"runtime\": \"string\",\n",
    "        \"genres\": \"string\",\n",
    "    },\n",
    "}"
   ]
  },
  {
   "cell_type": "code",
   "execution_count": 4,
   "metadata": {},
   "outputs": [],
   "source": [
    "# load the datasets as pandas dataframes\n",
    "movie_metadata = pd.read_csv(\n",
    "    DATASET_PATH[\"movie_metadata\"],\n",
    "    sep=\"\\t\",\n",
    "    names=DATASET_COLUMNS[\"movie_metadata\"],\n",
    "    index_col=False,\n",
    "    header=None,\n",
    "    dtype=DATASET_TYPES[\"movie_metadata\"],\n",
    ")\n",
    "movie_budget = pd.read_csv(\n",
    "    DATASET_PATH[\"movie_budget\"],\n",
    "    sep=\",\",\n",
    "    usecols=DATASET_COLUMNS[\"movie_budget\"],\n",
    "    index_col=False,\n",
    "    header=0,\n",
    "    dtype=DATASET_TYPES[\"movie_budget\"],\n",
    ")\n",
    "imdb_ratings = pd.read_csv(\n",
    "    DATASET_PATH[\"imdb_ratings\"],\n",
    "    sep=\"\\t\",\n",
    "    names=DATASET_COLUMNS[\"imdb_ratings\"],\n",
    "    index_col=False,\n",
    "    header=0,\n",
    "    dtype=DATASET_TYPES[\"imdb_ratings\"],\n",
    ")\n",
    "imdb_basics = pd.read_csv(\n",
    "    DATASET_PATH[\"imdb_basics\"],\n",
    "    sep=\"\\t\",\n",
    "    names=DATASET_COLUMNS[\"imdb_basics\"],\n",
    "    index_col=False,\n",
    "    header=0,\n",
    "    dtype=DATASET_TYPES[\"imdb_basics\"],\n",
    ")\n",
    "cpi_data = pd.read_csv(\n",
    "    DATASET_PATH[\"cpi_data\"],\n",
    "    sep=\",\",\n",
    "    index_col=False,\n",
    "    skiprows=4,\n",
    "    header=0,\n",
    ")\n",
    "gdp_data = pd.read_csv(\n",
    "    DATASET_PATH[\"gdp_data\"],\n",
    "    sep=\",\",\n",
    "    index_col=False,\n",
    "    skiprows=4,\n",
    "    header=0,\n",
    ")"
   ]
  },
  {
   "cell_type": "code",
   "execution_count": 5,
   "metadata": {},
   "outputs": [
    {
     "name": "stdout",
     "output_type": "stream",
     "text": [
      "Movie Metadata Shape:  (81741, 9)\n",
      "MovieLens Budget Shape:  (45466, 10)\n",
      "IMDB Ratings Shape:  (1368131, 3)\n",
      "IMDB Basics Shape:  (10309011, 9)\n",
      "CPI Data Shape:  (266, 68)\n",
      "GDP Data Shape:  (266, 68)\n"
     ]
    }
   ],
   "source": [
    "# print the shapes of the datasets\n",
    "print(\"Movie Metadata Shape: \", movie_metadata.shape)\n",
    "print(\"MovieLens Budget Shape: \", movie_budget.shape)\n",
    "print(\"IMDB Ratings Shape: \", imdb_ratings.shape)\n",
    "print(\"IMDB Basics Shape: \", imdb_basics.shape)\n",
    "print(\"CPI Data Shape: \", cpi_data.shape)\n",
    "print(\"GDP Data Shape: \", gdp_data.shape)"
   ]
  },
  {
   "cell_type": "markdown",
   "metadata": {},
   "source": [
    "### Data Handling"
   ]
  },
  {
   "cell_type": "markdown",
   "metadata": {},
   "source": [
    "##### Dataset: `movie_metadata`"
   ]
  },
  {
   "cell_type": "code",
   "execution_count": 6,
   "metadata": {},
   "outputs": [
    {
     "name": "stdout",
     "output_type": "stream",
     "text": [
      "Total amount of rows that contain a NaN value:  73498\n"
     ]
    },
    {
     "data": {
      "text/html": [
       "<div>\n",
       "<style scoped>\n",
       "    .dataframe tbody tr th:only-of-type {\n",
       "        vertical-align: middle;\n",
       "    }\n",
       "\n",
       "    .dataframe tbody tr th {\n",
       "        vertical-align: top;\n",
       "    }\n",
       "\n",
       "    .dataframe thead th {\n",
       "        text-align: right;\n",
       "    }\n",
       "</style>\n",
       "<table border=\"1\" class=\"dataframe\">\n",
       "  <thead>\n",
       "    <tr style=\"text-align: right;\">\n",
       "      <th></th>\n",
       "      <th>nan_sum</th>\n",
       "      <th>nan_percentage</th>\n",
       "    </tr>\n",
       "  </thead>\n",
       "  <tbody>\n",
       "    <tr>\n",
       "      <th>wikipedia_id</th>\n",
       "      <td>0</td>\n",
       "      <td>0.000000</td>\n",
       "    </tr>\n",
       "    <tr>\n",
       "      <th>freebase_movie_id</th>\n",
       "      <td>0</td>\n",
       "      <td>0.000000</td>\n",
       "    </tr>\n",
       "    <tr>\n",
       "      <th>title</th>\n",
       "      <td>0</td>\n",
       "      <td>0.000000</td>\n",
       "    </tr>\n",
       "    <tr>\n",
       "      <th>release_date</th>\n",
       "      <td>6902</td>\n",
       "      <td>8.443743</td>\n",
       "    </tr>\n",
       "    <tr>\n",
       "      <th>revenue</th>\n",
       "      <td>73340</td>\n",
       "      <td>89.722416</td>\n",
       "    </tr>\n",
       "    <tr>\n",
       "      <th>runtime</th>\n",
       "      <td>20450</td>\n",
       "      <td>25.018045</td>\n",
       "    </tr>\n",
       "    <tr>\n",
       "      <th>languages</th>\n",
       "      <td>0</td>\n",
       "      <td>0.000000</td>\n",
       "    </tr>\n",
       "    <tr>\n",
       "      <th>countries</th>\n",
       "      <td>0</td>\n",
       "      <td>0.000000</td>\n",
       "    </tr>\n",
       "    <tr>\n",
       "      <th>genres</th>\n",
       "      <td>0</td>\n",
       "      <td>0.000000</td>\n",
       "    </tr>\n",
       "  </tbody>\n",
       "</table>\n",
       "</div>"
      ],
      "text/plain": [
       "                   nan_sum  nan_percentage\n",
       "wikipedia_id             0        0.000000\n",
       "freebase_movie_id        0        0.000000\n",
       "title                    0        0.000000\n",
       "release_date          6902        8.443743\n",
       "revenue              73340       89.722416\n",
       "runtime              20450       25.018045\n",
       "languages                0        0.000000\n",
       "countries                0        0.000000\n",
       "genres                   0        0.000000"
      ]
     },
     "execution_count": 6,
     "metadata": {},
     "output_type": "execute_result"
    }
   ],
   "source": [
    "print(\n",
    "    \"Total amount of rows that contain a NaN value: \",\n",
    "    movie_metadata.isna().any(axis=1).sum(),\n",
    ")\n",
    "pd.DataFrame(\n",
    "    {\n",
    "        \"nan_sum\": movie_metadata.isna().sum(),\n",
    "        \"nan_percentage\": movie_metadata.isna().mean() * 100,\n",
    "    }\n",
    ")"
   ]
  },
  {
   "cell_type": "markdown",
   "metadata": {},
   "source": [
    "We are mainly interested in the box office revenue, so we will drop all rows where this value is missing.\n",
    "Additionally, we want to merge the CMU movies dataset with the IMDB dataset on title, year and runtime, so we need to drop the rows with missing values in these columns as well."
   ]
  },
  {
   "cell_type": "code",
   "execution_count": 7,
   "metadata": {},
   "outputs": [],
   "source": [
    "movie_metadata = movie_metadata.dropna(subset=[\"revenue\", \"release_date\", \"runtime\"])\n",
    "\n",
    "# runtime was converted from float to string, so the \".0\" needs to be removed\n",
    "movie_metadata[\"runtime\"] = movie_metadata[\"runtime\"].astype(str).str.replace(\".0\", \"\")\n",
    "\n",
    "# make a column year extracting the year from the release date\n",
    "movie_metadata[\"year\"] = movie_metadata[\"release_date\"].str[:4]"
   ]
  },
  {
   "cell_type": "markdown",
   "metadata": {},
   "source": [
    "We need to check for duplicates in order to only have unique movies in the dataset."
   ]
  },
  {
   "cell_type": "code",
   "execution_count": 8,
   "metadata": {},
   "outputs": [
    {
     "data": {
      "text/plain": [
       "\"No duplicates found in the specified columns: ['title', 'release_date', 'runtime']\""
      ]
     },
     "execution_count": 8,
     "metadata": {},
     "output_type": "execute_result"
    }
   ],
   "source": [
    "# see if there are any duplicates in the movie metadata dataset\n",
    "find_duplicates(movie_metadata, [\"title\", \"release_date\", \"runtime\"])"
   ]
  },
  {
   "cell_type": "code",
   "execution_count": 9,
   "metadata": {},
   "outputs": [
    {
     "data": {
      "text/html": [
       "<div>\n",
       "<style scoped>\n",
       "    .dataframe tbody tr th:only-of-type {\n",
       "        vertical-align: middle;\n",
       "    }\n",
       "\n",
       "    .dataframe tbody tr th {\n",
       "        vertical-align: top;\n",
       "    }\n",
       "\n",
       "    .dataframe thead th {\n",
       "        text-align: right;\n",
       "    }\n",
       "</style>\n",
       "<table border=\"1\" class=\"dataframe\">\n",
       "  <thead>\n",
       "    <tr style=\"text-align: right;\">\n",
       "      <th></th>\n",
       "      <th>wikipedia_id</th>\n",
       "      <th>freebase_movie_id</th>\n",
       "      <th>title</th>\n",
       "      <th>release_date</th>\n",
       "      <th>revenue</th>\n",
       "      <th>runtime</th>\n",
       "      <th>languages</th>\n",
       "      <th>countries</th>\n",
       "      <th>genres</th>\n",
       "      <th>year</th>\n",
       "    </tr>\n",
       "  </thead>\n",
       "  <tbody>\n",
       "    <tr>\n",
       "      <th>0</th>\n",
       "      <td>975900</td>\n",
       "      <td>/m/03vyhn</td>\n",
       "      <td>Ghosts of Mars</td>\n",
       "      <td>2001-08-24</td>\n",
       "      <td>14010832.0</td>\n",
       "      <td>98</td>\n",
       "      <td>{\"/m/02h40lc\": \"English Language\"}</td>\n",
       "      <td>{\"/m/09c7w0\": \"United States of America\"}</td>\n",
       "      <td>{\"/m/01jfsb\": \"Thriller\", \"/m/06n90\": \"Science...</td>\n",
       "      <td>2001</td>\n",
       "    </tr>\n",
       "    <tr>\n",
       "      <th>7</th>\n",
       "      <td>10408933</td>\n",
       "      <td>/m/02qc0j7</td>\n",
       "      <td>Alexander's Ragtime Band</td>\n",
       "      <td>1938-08-16</td>\n",
       "      <td>3600000.0</td>\n",
       "      <td>106</td>\n",
       "      <td>{\"/m/02h40lc\": \"English Language\"}</td>\n",
       "      <td>{\"/m/09c7w0\": \"United States of America\"}</td>\n",
       "      <td>{\"/m/04t36\": \"Musical\", \"/m/01z4y\": \"Comedy\", ...</td>\n",
       "      <td>1938</td>\n",
       "    </tr>\n",
       "    <tr>\n",
       "      <th>13</th>\n",
       "      <td>171005</td>\n",
       "      <td>/m/016ywb</td>\n",
       "      <td>Henry V</td>\n",
       "      <td>1989-11-08</td>\n",
       "      <td>10161099.0</td>\n",
       "      <td>137</td>\n",
       "      <td>{\"/m/02h40lc\": \"English Language\"}</td>\n",
       "      <td>{\"/m/07ssc\": \"United Kingdom\"}</td>\n",
       "      <td>{\"/m/04xvh5\": \"Costume drama\", \"/m/082gq\": \"Wa...</td>\n",
       "      <td>1989</td>\n",
       "    </tr>\n",
       "    <tr>\n",
       "      <th>17</th>\n",
       "      <td>77856</td>\n",
       "      <td>/m/0kcn7</td>\n",
       "      <td>Mary Poppins</td>\n",
       "      <td>1964-08-27</td>\n",
       "      <td>102272727.0</td>\n",
       "      <td>139</td>\n",
       "      <td>{\"/m/02h40lc\": \"English Language\"}</td>\n",
       "      <td>{\"/m/09c7w0\": \"United States of America\"}</td>\n",
       "      <td>{\"/m/0hj3myq\": \"Children's/Family\", \"/m/04t36\"...</td>\n",
       "      <td>1964</td>\n",
       "    </tr>\n",
       "    <tr>\n",
       "      <th>21</th>\n",
       "      <td>612710</td>\n",
       "      <td>/m/02wjqm</td>\n",
       "      <td>New Rose Hotel</td>\n",
       "      <td>1999-10-01</td>\n",
       "      <td>21521.0</td>\n",
       "      <td>92</td>\n",
       "      <td>{\"/m/02h40lc\": \"English Language\"}</td>\n",
       "      <td>{\"/m/09c7w0\": \"United States of America\"}</td>\n",
       "      <td>{\"/m/01jfsb\": \"Thriller\", \"/m/06n90\": \"Science...</td>\n",
       "      <td>1999</td>\n",
       "    </tr>\n",
       "  </tbody>\n",
       "</table>\n",
       "</div>"
      ],
      "text/plain": [
       "   wikipedia_id freebase_movie_id                     title release_date  \\\n",
       "0        975900         /m/03vyhn            Ghosts of Mars   2001-08-24   \n",
       "7      10408933        /m/02qc0j7  Alexander's Ragtime Band   1938-08-16   \n",
       "13       171005         /m/016ywb                   Henry V   1989-11-08   \n",
       "17        77856          /m/0kcn7              Mary Poppins   1964-08-27   \n",
       "21       612710         /m/02wjqm            New Rose Hotel   1999-10-01   \n",
       "\n",
       "        revenue runtime                           languages  \\\n",
       "0    14010832.0      98  {\"/m/02h40lc\": \"English Language\"}   \n",
       "7     3600000.0     106  {\"/m/02h40lc\": \"English Language\"}   \n",
       "13   10161099.0     137  {\"/m/02h40lc\": \"English Language\"}   \n",
       "17  102272727.0     139  {\"/m/02h40lc\": \"English Language\"}   \n",
       "21      21521.0      92  {\"/m/02h40lc\": \"English Language\"}   \n",
       "\n",
       "                                    countries  \\\n",
       "0   {\"/m/09c7w0\": \"United States of America\"}   \n",
       "7   {\"/m/09c7w0\": \"United States of America\"}   \n",
       "13             {\"/m/07ssc\": \"United Kingdom\"}   \n",
       "17  {\"/m/09c7w0\": \"United States of America\"}   \n",
       "21  {\"/m/09c7w0\": \"United States of America\"}   \n",
       "\n",
       "                                               genres  year  \n",
       "0   {\"/m/01jfsb\": \"Thriller\", \"/m/06n90\": \"Science...  2001  \n",
       "7   {\"/m/04t36\": \"Musical\", \"/m/01z4y\": \"Comedy\", ...  1938  \n",
       "13  {\"/m/04xvh5\": \"Costume drama\", \"/m/082gq\": \"Wa...  1989  \n",
       "17  {\"/m/0hj3myq\": \"Children's/Family\", \"/m/04t36\"...  1964  \n",
       "21  {\"/m/01jfsb\": \"Thriller\", \"/m/06n90\": \"Science...  1999  "
      ]
     },
     "metadata": {},
     "output_type": "display_data"
    }
   ],
   "source": [
    "display(movie_metadata.head())"
   ]
  },
  {
   "cell_type": "markdown",
   "metadata": {},
   "source": [
    "##### Dataset: `movie_budget`\n",
    "\n",
    "We will use this external dataset to append the budget of the movies to our main movie dataset. This would help us to better understand the correlation between the budget and the revenue of the movies and explore the profitability of the movies."
   ]
  },
  {
   "cell_type": "code",
   "execution_count": 10,
   "metadata": {},
   "outputs": [
    {
     "name": "stdout",
     "output_type": "stream",
     "text": [
      "Total amount of rows that contain a NaN value:  348\n"
     ]
    },
    {
     "data": {
      "text/html": [
       "<div>\n",
       "<style scoped>\n",
       "    .dataframe tbody tr th:only-of-type {\n",
       "        vertical-align: middle;\n",
       "    }\n",
       "\n",
       "    .dataframe tbody tr th {\n",
       "        vertical-align: top;\n",
       "    }\n",
       "\n",
       "    .dataframe thead th {\n",
       "        text-align: right;\n",
       "    }\n",
       "</style>\n",
       "<table border=\"1\" class=\"dataframe\">\n",
       "  <thead>\n",
       "    <tr style=\"text-align: right;\">\n",
       "      <th></th>\n",
       "      <th>nan_sum</th>\n",
       "      <th>nan_percentage</th>\n",
       "    </tr>\n",
       "  </thead>\n",
       "  <tbody>\n",
       "    <tr>\n",
       "      <th>budget</th>\n",
       "      <td>0</td>\n",
       "      <td>0.000000</td>\n",
       "    </tr>\n",
       "    <tr>\n",
       "      <th>imdb_id</th>\n",
       "      <td>17</td>\n",
       "      <td>0.037391</td>\n",
       "    </tr>\n",
       "    <tr>\n",
       "      <th>original_title</th>\n",
       "      <td>0</td>\n",
       "      <td>0.000000</td>\n",
       "    </tr>\n",
       "    <tr>\n",
       "      <th>popularity</th>\n",
       "      <td>5</td>\n",
       "      <td>0.010997</td>\n",
       "    </tr>\n",
       "    <tr>\n",
       "      <th>release_date</th>\n",
       "      <td>87</td>\n",
       "      <td>0.191352</td>\n",
       "    </tr>\n",
       "    <tr>\n",
       "      <th>revenue</th>\n",
       "      <td>6</td>\n",
       "      <td>0.013197</td>\n",
       "    </tr>\n",
       "    <tr>\n",
       "      <th>runtime</th>\n",
       "      <td>263</td>\n",
       "      <td>0.578454</td>\n",
       "    </tr>\n",
       "    <tr>\n",
       "      <th>title</th>\n",
       "      <td>6</td>\n",
       "      <td>0.013197</td>\n",
       "    </tr>\n",
       "    <tr>\n",
       "      <th>vote_average</th>\n",
       "      <td>6</td>\n",
       "      <td>0.013197</td>\n",
       "    </tr>\n",
       "    <tr>\n",
       "      <th>vote_count</th>\n",
       "      <td>6</td>\n",
       "      <td>0.013197</td>\n",
       "    </tr>\n",
       "  </tbody>\n",
       "</table>\n",
       "</div>"
      ],
      "text/plain": [
       "                nan_sum  nan_percentage\n",
       "budget                0        0.000000\n",
       "imdb_id              17        0.037391\n",
       "original_title        0        0.000000\n",
       "popularity            5        0.010997\n",
       "release_date         87        0.191352\n",
       "revenue               6        0.013197\n",
       "runtime             263        0.578454\n",
       "title                 6        0.013197\n",
       "vote_average          6        0.013197\n",
       "vote_count            6        0.013197"
      ]
     },
     "execution_count": 10,
     "metadata": {},
     "output_type": "execute_result"
    }
   ],
   "source": [
    "# the nans in this dataset are represented as \"\\\\N\" in the csv file, so we need to replace them with np.nan\n",
    "movie_budget = movie_budget.replace(\"\\\\N\", np.nan)\n",
    "\n",
    "print(\n",
    "    \"Total amount of rows that contain a NaN value: \",\n",
    "    movie_budget.isna().any(axis=1).sum(),\n",
    ")\n",
    "pd.DataFrame(\n",
    "    {\n",
    "        \"nan_sum\": movie_budget.isna().sum(),\n",
    "        \"nan_percentage\": movie_budget.isna().mean() * 100,\n",
    "    }\n",
    ")"
   ]
  },
  {
   "cell_type": "code",
   "execution_count": 11,
   "metadata": {},
   "outputs": [],
   "source": [
    "# drop all rows with missing values in the imdb_id column\n",
    "movie_budget = movie_budget.dropna(subset=[\"imdb_id\"])\n",
    "\n",
    "# drop the columns which are present in movie_metadata\n",
    "movie_budget = movie_budget.drop(\n",
    "    columns=[\"original_title\", \"revenue\", \"release_date\", \"runtime\", \"title\"]\n",
    ")\n",
    "\n",
    "# convert to float, non-convertible values become NaN\n",
    "movie_budget[\"budget\"] = pd.to_numeric(movie_budget[\"budget\"], errors=\"coerce\")\n",
    "movie_budget.dropna(subset=[\"budget\"], inplace=True)"
   ]
  },
  {
   "cell_type": "code",
   "execution_count": 12,
   "metadata": {},
   "outputs": [
    {
     "data": {
      "text/html": [
       "<div>\n",
       "<style scoped>\n",
       "    .dataframe tbody tr th:only-of-type {\n",
       "        vertical-align: middle;\n",
       "    }\n",
       "\n",
       "    .dataframe tbody tr th {\n",
       "        vertical-align: top;\n",
       "    }\n",
       "\n",
       "    .dataframe thead th {\n",
       "        text-align: right;\n",
       "    }\n",
       "</style>\n",
       "<table border=\"1\" class=\"dataframe\">\n",
       "  <thead>\n",
       "    <tr style=\"text-align: right;\">\n",
       "      <th></th>\n",
       "      <th>budget</th>\n",
       "      <th>imdb_id</th>\n",
       "      <th>popularity</th>\n",
       "      <th>vote_average</th>\n",
       "      <th>vote_count</th>\n",
       "    </tr>\n",
       "  </thead>\n",
       "  <tbody>\n",
       "    <tr>\n",
       "      <th>38871</th>\n",
       "      <td>0.0</td>\n",
       "      <td>tt0022537</td>\n",
       "      <td>0.002362</td>\n",
       "      <td>0.0</td>\n",
       "      <td>0.0</td>\n",
       "    </tr>\n",
       "    <tr>\n",
       "      <th>16167</th>\n",
       "      <td>0.0</td>\n",
       "      <td>tt0022537</td>\n",
       "      <td>0.002362</td>\n",
       "      <td>0.0</td>\n",
       "      <td>0.0</td>\n",
       "    </tr>\n",
       "    <tr>\n",
       "      <th>949</th>\n",
       "      <td>4.0</td>\n",
       "      <td>tt0022879</td>\n",
       "      <td>1.914697</td>\n",
       "      <td>6.2</td>\n",
       "      <td>29.0</td>\n",
       "    </tr>\n",
       "    <tr>\n",
       "      <th>15074</th>\n",
       "      <td>4.0</td>\n",
       "      <td>tt0022879</td>\n",
       "      <td>2.411191</td>\n",
       "      <td>6.2</td>\n",
       "      <td>29.0</td>\n",
       "    </tr>\n",
       "    <tr>\n",
       "      <th>838</th>\n",
       "      <td>0.0</td>\n",
       "      <td>tt0046468</td>\n",
       "      <td>0.096079</td>\n",
       "      <td>0.0</td>\n",
       "      <td>0.0</td>\n",
       "    </tr>\n",
       "    <tr>\n",
       "      <th>30001</th>\n",
       "      <td>0.0</td>\n",
       "      <td>tt0046468</td>\n",
       "      <td>0.619388</td>\n",
       "      <td>0.0</td>\n",
       "      <td>0.0</td>\n",
       "    </tr>\n",
       "    <tr>\n",
       "      <th>7345</th>\n",
       "      <td>0.0</td>\n",
       "      <td>tt0062229</td>\n",
       "      <td>9.091288</td>\n",
       "      <td>7.9</td>\n",
       "      <td>187.0</td>\n",
       "    </tr>\n",
       "    <tr>\n",
       "      <th>9165</th>\n",
       "      <td>0.0</td>\n",
       "      <td>tt0062229</td>\n",
       "      <td>9.091288</td>\n",
       "      <td>7.9</td>\n",
       "      <td>187.0</td>\n",
       "    </tr>\n",
       "    <tr>\n",
       "      <th>29374</th>\n",
       "      <td>0.0</td>\n",
       "      <td>tt0067306</td>\n",
       "      <td>0.187901</td>\n",
       "      <td>8.0</td>\n",
       "      <td>3.0</td>\n",
       "    </tr>\n",
       "    <tr>\n",
       "      <th>15702</th>\n",
       "      <td>0.0</td>\n",
       "      <td>tt0067306</td>\n",
       "      <td>0.187901</td>\n",
       "      <td>8.0</td>\n",
       "      <td>3.0</td>\n",
       "    </tr>\n",
       "  </tbody>\n",
       "</table>\n",
       "</div>"
      ],
      "text/plain": [
       "       budget    imdb_id popularity  vote_average  vote_count\n",
       "38871     0.0  tt0022537   0.002362           0.0         0.0\n",
       "16167     0.0  tt0022537   0.002362           0.0         0.0\n",
       "949       4.0  tt0022879   1.914697           6.2        29.0\n",
       "15074     4.0  tt0022879   2.411191           6.2        29.0\n",
       "838       0.0  tt0046468   0.096079           0.0         0.0\n",
       "30001     0.0  tt0046468   0.619388           0.0         0.0\n",
       "7345      0.0  tt0062229   9.091288           7.9       187.0\n",
       "9165      0.0  tt0062229   9.091288           7.9       187.0\n",
       "29374     0.0  tt0067306   0.187901           8.0         3.0\n",
       "15702     0.0  tt0067306   0.187901           8.0         3.0"
      ]
     },
     "execution_count": 12,
     "metadata": {},
     "output_type": "execute_result"
    }
   ],
   "source": [
    "find_duplicates(movie_budget, [\"imdb_id\"]).head(10)"
   ]
  },
  {
   "cell_type": "code",
   "execution_count": 13,
   "metadata": {},
   "outputs": [],
   "source": [
    "# drop duplicates since there are some movies with the same imdb id\n",
    "movie_budget = movie_budget.drop_duplicates(subset=[\"imdb_id\"])"
   ]
  },
  {
   "cell_type": "code",
   "execution_count": 14,
   "metadata": {},
   "outputs": [
    {
     "data": {
      "text/html": [
       "<div>\n",
       "<style scoped>\n",
       "    .dataframe tbody tr th:only-of-type {\n",
       "        vertical-align: middle;\n",
       "    }\n",
       "\n",
       "    .dataframe tbody tr th {\n",
       "        vertical-align: top;\n",
       "    }\n",
       "\n",
       "    .dataframe thead th {\n",
       "        text-align: right;\n",
       "    }\n",
       "</style>\n",
       "<table border=\"1\" class=\"dataframe\">\n",
       "  <thead>\n",
       "    <tr style=\"text-align: right;\">\n",
       "      <th></th>\n",
       "      <th>budget</th>\n",
       "      <th>imdb_id</th>\n",
       "      <th>popularity</th>\n",
       "      <th>vote_average</th>\n",
       "      <th>vote_count</th>\n",
       "    </tr>\n",
       "  </thead>\n",
       "  <tbody>\n",
       "    <tr>\n",
       "      <th>0</th>\n",
       "      <td>30000000.0</td>\n",
       "      <td>tt0114709</td>\n",
       "      <td>21.946943</td>\n",
       "      <td>7.7</td>\n",
       "      <td>5415.0</td>\n",
       "    </tr>\n",
       "    <tr>\n",
       "      <th>1</th>\n",
       "      <td>65000000.0</td>\n",
       "      <td>tt0113497</td>\n",
       "      <td>17.015539</td>\n",
       "      <td>6.9</td>\n",
       "      <td>2413.0</td>\n",
       "    </tr>\n",
       "    <tr>\n",
       "      <th>2</th>\n",
       "      <td>0.0</td>\n",
       "      <td>tt0113228</td>\n",
       "      <td>11.7129</td>\n",
       "      <td>6.5</td>\n",
       "      <td>92.0</td>\n",
       "    </tr>\n",
       "    <tr>\n",
       "      <th>3</th>\n",
       "      <td>16000000.0</td>\n",
       "      <td>tt0114885</td>\n",
       "      <td>3.859495</td>\n",
       "      <td>6.1</td>\n",
       "      <td>34.0</td>\n",
       "    </tr>\n",
       "    <tr>\n",
       "      <th>4</th>\n",
       "      <td>0.0</td>\n",
       "      <td>tt0113041</td>\n",
       "      <td>8.387519</td>\n",
       "      <td>5.7</td>\n",
       "      <td>173.0</td>\n",
       "    </tr>\n",
       "  </tbody>\n",
       "</table>\n",
       "</div>"
      ],
      "text/plain": [
       "       budget    imdb_id popularity  vote_average  vote_count\n",
       "0  30000000.0  tt0114709  21.946943           7.7      5415.0\n",
       "1  65000000.0  tt0113497  17.015539           6.9      2413.0\n",
       "2         0.0  tt0113228    11.7129           6.5        92.0\n",
       "3  16000000.0  tt0114885   3.859495           6.1        34.0\n",
       "4         0.0  tt0113041   8.387519           5.7       173.0"
      ]
     },
     "metadata": {},
     "output_type": "display_data"
    }
   ],
   "source": [
    "display(movie_budget.head())"
   ]
  },
  {
   "cell_type": "markdown",
   "metadata": {},
   "source": [
    "##### Dataset: `imdb_ratings`"
   ]
  },
  {
   "cell_type": "code",
   "execution_count": 15,
   "metadata": {},
   "outputs": [
    {
     "name": "stdout",
     "output_type": "stream",
     "text": [
      "Total amount of rows that contain a NaN value:  0\n"
     ]
    },
    {
     "data": {
      "text/html": [
       "<div>\n",
       "<style scoped>\n",
       "    .dataframe tbody tr th:only-of-type {\n",
       "        vertical-align: middle;\n",
       "    }\n",
       "\n",
       "    .dataframe tbody tr th {\n",
       "        vertical-align: top;\n",
       "    }\n",
       "\n",
       "    .dataframe thead th {\n",
       "        text-align: right;\n",
       "    }\n",
       "</style>\n",
       "<table border=\"1\" class=\"dataframe\">\n",
       "  <thead>\n",
       "    <tr style=\"text-align: right;\">\n",
       "      <th></th>\n",
       "      <th>nan_sum</th>\n",
       "      <th>nan_percentage</th>\n",
       "    </tr>\n",
       "  </thead>\n",
       "  <tbody>\n",
       "    <tr>\n",
       "      <th>imdb_id</th>\n",
       "      <td>0</td>\n",
       "      <td>0.0</td>\n",
       "    </tr>\n",
       "    <tr>\n",
       "      <th>imdb_rating</th>\n",
       "      <td>0</td>\n",
       "      <td>0.0</td>\n",
       "    </tr>\n",
       "    <tr>\n",
       "      <th>num_votes</th>\n",
       "      <td>0</td>\n",
       "      <td>0.0</td>\n",
       "    </tr>\n",
       "  </tbody>\n",
       "</table>\n",
       "</div>"
      ],
      "text/plain": [
       "             nan_sum  nan_percentage\n",
       "imdb_id            0             0.0\n",
       "imdb_rating        0             0.0\n",
       "num_votes          0             0.0"
      ]
     },
     "execution_count": 15,
     "metadata": {},
     "output_type": "execute_result"
    }
   ],
   "source": [
    "# the nans in this dataset (if any) are represented as \"\\\\N\" in the csv file, so we need to replace them\n",
    "imdb_ratings = imdb_ratings.replace(\"\\\\N\", np.nan)\n",
    "\n",
    "print(\n",
    "    \"Total amount of rows that contain a NaN value: \",\n",
    "    imdb_ratings.isna().any(axis=1).sum(),\n",
    ")\n",
    "pd.DataFrame(\n",
    "    {\n",
    "        \"nan_sum\": imdb_ratings.isna().sum(),\n",
    "        \"nan_percentage\": imdb_ratings.isna().mean() * 100,\n",
    "    }\n",
    ")"
   ]
  },
  {
   "cell_type": "code",
   "execution_count": 16,
   "metadata": {},
   "outputs": [
    {
     "data": {
      "text/plain": [
       "\"No duplicates found in the specified columns: ['imdb_id']\""
      ]
     },
     "execution_count": 16,
     "metadata": {},
     "output_type": "execute_result"
    }
   ],
   "source": [
    "find_duplicates(imdb_ratings, [\"imdb_id\"])"
   ]
  },
  {
   "cell_type": "code",
   "execution_count": 17,
   "metadata": {},
   "outputs": [
    {
     "data": {
      "text/html": [
       "<div>\n",
       "<style scoped>\n",
       "    .dataframe tbody tr th:only-of-type {\n",
       "        vertical-align: middle;\n",
       "    }\n",
       "\n",
       "    .dataframe tbody tr th {\n",
       "        vertical-align: top;\n",
       "    }\n",
       "\n",
       "    .dataframe thead th {\n",
       "        text-align: right;\n",
       "    }\n",
       "</style>\n",
       "<table border=\"1\" class=\"dataframe\">\n",
       "  <thead>\n",
       "    <tr style=\"text-align: right;\">\n",
       "      <th></th>\n",
       "      <th>imdb_id</th>\n",
       "      <th>imdb_rating</th>\n",
       "      <th>num_votes</th>\n",
       "    </tr>\n",
       "  </thead>\n",
       "  <tbody>\n",
       "    <tr>\n",
       "      <th>0</th>\n",
       "      <td>tt0000001</td>\n",
       "      <td>5.7</td>\n",
       "      <td>2007</td>\n",
       "    </tr>\n",
       "    <tr>\n",
       "      <th>1</th>\n",
       "      <td>tt0000002</td>\n",
       "      <td>5.8</td>\n",
       "      <td>269</td>\n",
       "    </tr>\n",
       "    <tr>\n",
       "      <th>2</th>\n",
       "      <td>tt0000003</td>\n",
       "      <td>6.5</td>\n",
       "      <td>1909</td>\n",
       "    </tr>\n",
       "    <tr>\n",
       "      <th>3</th>\n",
       "      <td>tt0000004</td>\n",
       "      <td>5.5</td>\n",
       "      <td>178</td>\n",
       "    </tr>\n",
       "    <tr>\n",
       "      <th>4</th>\n",
       "      <td>tt0000005</td>\n",
       "      <td>6.2</td>\n",
       "      <td>2691</td>\n",
       "    </tr>\n",
       "  </tbody>\n",
       "</table>\n",
       "</div>"
      ],
      "text/plain": [
       "     imdb_id  imdb_rating  num_votes\n",
       "0  tt0000001          5.7       2007\n",
       "1  tt0000002          5.8        269\n",
       "2  tt0000003          6.5       1909\n",
       "3  tt0000004          5.5        178\n",
       "4  tt0000005          6.2       2691"
      ]
     },
     "metadata": {},
     "output_type": "display_data"
    }
   ],
   "source": [
    "display(imdb_ratings.head())"
   ]
  },
  {
   "cell_type": "markdown",
   "metadata": {},
   "source": [
    "##### Dataset: `imdb_basics`"
   ]
  },
  {
   "cell_type": "code",
   "execution_count": 18,
   "metadata": {},
   "outputs": [
    {
     "name": "stdout",
     "output_type": "stream",
     "text": [
      "Total amount of rows that contain a NaN value:  10255916\n"
     ]
    },
    {
     "data": {
      "text/html": [
       "<div>\n",
       "<style scoped>\n",
       "    .dataframe tbody tr th:only-of-type {\n",
       "        vertical-align: middle;\n",
       "    }\n",
       "\n",
       "    .dataframe tbody tr th {\n",
       "        vertical-align: top;\n",
       "    }\n",
       "\n",
       "    .dataframe thead th {\n",
       "        text-align: right;\n",
       "    }\n",
       "</style>\n",
       "<table border=\"1\" class=\"dataframe\">\n",
       "  <thead>\n",
       "    <tr style=\"text-align: right;\">\n",
       "      <th></th>\n",
       "      <th>nan_sum</th>\n",
       "      <th>nan_percentage</th>\n",
       "    </tr>\n",
       "  </thead>\n",
       "  <tbody>\n",
       "    <tr>\n",
       "      <th>imdb_id</th>\n",
       "      <td>0</td>\n",
       "      <td>0.000000</td>\n",
       "    </tr>\n",
       "    <tr>\n",
       "      <th>title_type</th>\n",
       "      <td>0</td>\n",
       "      <td>0.000000</td>\n",
       "    </tr>\n",
       "    <tr>\n",
       "      <th>primary_title</th>\n",
       "      <td>17</td>\n",
       "      <td>0.000165</td>\n",
       "    </tr>\n",
       "    <tr>\n",
       "      <th>title</th>\n",
       "      <td>17</td>\n",
       "      <td>0.000165</td>\n",
       "    </tr>\n",
       "    <tr>\n",
       "      <th>is_adult</th>\n",
       "      <td>1</td>\n",
       "      <td>0.000010</td>\n",
       "    </tr>\n",
       "    <tr>\n",
       "      <th>year</th>\n",
       "      <td>1381604</td>\n",
       "      <td>13.401906</td>\n",
       "    </tr>\n",
       "    <tr>\n",
       "      <th>end_year</th>\n",
       "      <td>10194381</td>\n",
       "      <td>98.888060</td>\n",
       "    </tr>\n",
       "    <tr>\n",
       "      <th>runtime</th>\n",
       "      <td>7203485</td>\n",
       "      <td>69.875617</td>\n",
       "    </tr>\n",
       "    <tr>\n",
       "      <th>genres</th>\n",
       "      <td>460237</td>\n",
       "      <td>4.464415</td>\n",
       "    </tr>\n",
       "  </tbody>\n",
       "</table>\n",
       "</div>"
      ],
      "text/plain": [
       "                nan_sum  nan_percentage\n",
       "imdb_id               0        0.000000\n",
       "title_type            0        0.000000\n",
       "primary_title        17        0.000165\n",
       "title                17        0.000165\n",
       "is_adult              1        0.000010\n",
       "year            1381604       13.401906\n",
       "end_year       10194381       98.888060\n",
       "runtime         7203485       69.875617\n",
       "genres           460237        4.464415"
      ]
     },
     "execution_count": 18,
     "metadata": {},
     "output_type": "execute_result"
    }
   ],
   "source": [
    "# # the nans in this dataset are represented as \"\\\\N\" in the csv file, so we need to replace them\n",
    "imdb_basics = imdb_basics.replace(\"\\\\N\", np.nan)\n",
    "\n",
    "print(\n",
    "    \"Total amount of rows that contain a NaN value: \",\n",
    "    imdb_basics.isna().any(axis=1).sum(),\n",
    ")\n",
    "pd.DataFrame(\n",
    "    {\n",
    "        \"nan_sum\": imdb_basics.isna().sum(),\n",
    "        \"nan_percentage\": imdb_basics.isna().mean() * 100,\n",
    "    }\n",
    ")"
   ]
  },
  {
   "cell_type": "markdown",
   "metadata": {},
   "source": [
    "We will drop all rows with missing values in the title, year and runtime columns, since we are joining the movie_metadata on these keys later"
   ]
  },
  {
   "cell_type": "code",
   "execution_count": 19,
   "metadata": {},
   "outputs": [],
   "source": [
    "imdb_basics = imdb_basics.dropna(subset=[\"title\", \"year\", \"runtime\"])\n",
    "\n",
    "# drop the columns which are present in movie_metadata and column end_year since it is almost always NaN\n",
    "imdb_basics = imdb_basics.drop(columns=[\"end_year\", \"genres\"])"
   ]
  },
  {
   "cell_type": "code",
   "execution_count": 20,
   "metadata": {},
   "outputs": [
    {
     "data": {
      "text/plain": [
       "\"No duplicates found in the specified columns: ['imdb_id']\""
      ]
     },
     "execution_count": 20,
     "metadata": {},
     "output_type": "execute_result"
    }
   ],
   "source": [
    "find_duplicates(imdb_ratings, [\"imdb_id\"])"
   ]
  },
  {
   "cell_type": "code",
   "execution_count": 21,
   "metadata": {},
   "outputs": [
    {
     "data": {
      "text/html": [
       "<div>\n",
       "<style scoped>\n",
       "    .dataframe tbody tr th:only-of-type {\n",
       "        vertical-align: middle;\n",
       "    }\n",
       "\n",
       "    .dataframe tbody tr th {\n",
       "        vertical-align: top;\n",
       "    }\n",
       "\n",
       "    .dataframe thead th {\n",
       "        text-align: right;\n",
       "    }\n",
       "</style>\n",
       "<table border=\"1\" class=\"dataframe\">\n",
       "  <thead>\n",
       "    <tr style=\"text-align: right;\">\n",
       "      <th></th>\n",
       "      <th>imdb_id</th>\n",
       "      <th>title_type</th>\n",
       "      <th>primary_title</th>\n",
       "      <th>title</th>\n",
       "      <th>is_adult</th>\n",
       "      <th>year</th>\n",
       "      <th>runtime</th>\n",
       "    </tr>\n",
       "  </thead>\n",
       "  <tbody>\n",
       "    <tr>\n",
       "      <th>0</th>\n",
       "      <td>tt0000001</td>\n",
       "      <td>short</td>\n",
       "      <td>Carmencita</td>\n",
       "      <td>Carmencita</td>\n",
       "      <td>0</td>\n",
       "      <td>1894</td>\n",
       "      <td>1</td>\n",
       "    </tr>\n",
       "    <tr>\n",
       "      <th>1</th>\n",
       "      <td>tt0000002</td>\n",
       "      <td>short</td>\n",
       "      <td>Le clown et ses chiens</td>\n",
       "      <td>Le clown et ses chiens</td>\n",
       "      <td>0</td>\n",
       "      <td>1892</td>\n",
       "      <td>5</td>\n",
       "    </tr>\n",
       "    <tr>\n",
       "      <th>2</th>\n",
       "      <td>tt0000003</td>\n",
       "      <td>short</td>\n",
       "      <td>Pauvre Pierrot</td>\n",
       "      <td>Pauvre Pierrot</td>\n",
       "      <td>0</td>\n",
       "      <td>1892</td>\n",
       "      <td>4</td>\n",
       "    </tr>\n",
       "    <tr>\n",
       "      <th>3</th>\n",
       "      <td>tt0000004</td>\n",
       "      <td>short</td>\n",
       "      <td>Un bon bock</td>\n",
       "      <td>Un bon bock</td>\n",
       "      <td>0</td>\n",
       "      <td>1892</td>\n",
       "      <td>12</td>\n",
       "    </tr>\n",
       "    <tr>\n",
       "      <th>4</th>\n",
       "      <td>tt0000005</td>\n",
       "      <td>short</td>\n",
       "      <td>Blacksmith Scene</td>\n",
       "      <td>Blacksmith Scene</td>\n",
       "      <td>0</td>\n",
       "      <td>1893</td>\n",
       "      <td>1</td>\n",
       "    </tr>\n",
       "  </tbody>\n",
       "</table>\n",
       "</div>"
      ],
      "text/plain": [
       "     imdb_id title_type           primary_title                   title  \\\n",
       "0  tt0000001      short              Carmencita              Carmencita   \n",
       "1  tt0000002      short  Le clown et ses chiens  Le clown et ses chiens   \n",
       "2  tt0000003      short          Pauvre Pierrot          Pauvre Pierrot   \n",
       "3  tt0000004      short             Un bon bock             Un bon bock   \n",
       "4  tt0000005      short        Blacksmith Scene        Blacksmith Scene   \n",
       "\n",
       "  is_adult  year runtime  \n",
       "0        0  1894       1  \n",
       "1        0  1892       5  \n",
       "2        0  1892       4  \n",
       "3        0  1892      12  \n",
       "4        0  1893       1  "
      ]
     },
     "metadata": {},
     "output_type": "display_data"
    }
   ],
   "source": [
    "display(imdb_basics.head())"
   ]
  },
  {
   "cell_type": "markdown",
   "metadata": {},
   "source": [
    "##### Dataset: `us_cpi`"
   ]
  },
  {
   "cell_type": "code",
   "execution_count": 22,
   "metadata": {},
   "outputs": [],
   "source": [
    "# since revenue, budget are in USD we only need the inflation data for the US\n",
    "us_cpi = cpi_data[cpi_data[\"Country Name\"] == \"United States\"]\n",
    "\n",
    "# drop last column and other columns that are not needed\n",
    "us_cpi = us_cpi.drop(\n",
    "    columns=[\"Unnamed: 67\", \"Indicator Name\", \"Indicator Code\", \"Country Code\"]\n",
    ")\n",
    "\n",
    "# drop columns with year > 2012, since we only need have movie data until 2012\n",
    "us_cpi = us_cpi.drop(columns=us_cpi.columns[us_cpi.columns > \"2012\"])\n",
    "\n",
    "# transpose the dataframe\n",
    "us_cpi = us_cpi.transpose().reset_index()\n",
    "\n",
    "# rename column index to year and column 251 to cpi\n",
    "us_cpi = us_cpi.rename(columns={\"index\": \"year\", 251: \"cpi\"})"
   ]
  },
  {
   "cell_type": "code",
   "execution_count": 23,
   "metadata": {},
   "outputs": [
    {
     "data": {
      "text/html": [
       "<div>\n",
       "<style scoped>\n",
       "    .dataframe tbody tr th:only-of-type {\n",
       "        vertical-align: middle;\n",
       "    }\n",
       "\n",
       "    .dataframe tbody tr th {\n",
       "        vertical-align: top;\n",
       "    }\n",
       "\n",
       "    .dataframe thead th {\n",
       "        text-align: right;\n",
       "    }\n",
       "</style>\n",
       "<table border=\"1\" class=\"dataframe\">\n",
       "  <thead>\n",
       "    <tr style=\"text-align: right;\">\n",
       "      <th></th>\n",
       "      <th>year</th>\n",
       "      <th>cpi</th>\n",
       "    </tr>\n",
       "  </thead>\n",
       "  <tbody>\n",
       "    <tr>\n",
       "      <th>0</th>\n",
       "      <td>1960</td>\n",
       "      <td>13.563061</td>\n",
       "    </tr>\n",
       "    <tr>\n",
       "      <th>1</th>\n",
       "      <td>1961</td>\n",
       "      <td>13.708284</td>\n",
       "    </tr>\n",
       "    <tr>\n",
       "      <th>2</th>\n",
       "      <td>1962</td>\n",
       "      <td>13.872615</td>\n",
       "    </tr>\n",
       "    <tr>\n",
       "      <th>3</th>\n",
       "      <td>1963</td>\n",
       "      <td>14.044590</td>\n",
       "    </tr>\n",
       "    <tr>\n",
       "      <th>4</th>\n",
       "      <td>1964</td>\n",
       "      <td>14.224207</td>\n",
       "    </tr>\n",
       "  </tbody>\n",
       "</table>\n",
       "</div>"
      ],
      "text/plain": [
       "   year        cpi\n",
       "0  1960  13.563061\n",
       "1  1961  13.708284\n",
       "2  1962  13.872615\n",
       "3  1963  14.044590\n",
       "4  1964  14.224207"
      ]
     },
     "metadata": {},
     "output_type": "display_data"
    }
   ],
   "source": [
    "display(us_cpi.head())"
   ]
  },
  {
   "cell_type": "markdown",
   "metadata": {},
   "source": [
    "##### Dataset: `us_gdp`"
   ]
  },
  {
   "cell_type": "code",
   "execution_count": 24,
   "metadata": {},
   "outputs": [],
   "source": [
    "# since revenue, budget are in USD we only need the data for the US\n",
    "us_gdp = gdp_data[gdp_data[\"Country Name\"] == \"United States\"]\n",
    "\n",
    "# drop last column and other columns that are not needed\n",
    "us_gdp = us_gdp.drop(\n",
    "    columns=[\"Unnamed: 67\", \"Indicator Name\", \"Indicator Code\", \"Country Code\"]\n",
    ")\n",
    "\n",
    "# drop columns with year > 2012\n",
    "us_gdp = us_gdp.drop(columns=us_gdp.columns[us_gdp.columns > \"2012\"])\n",
    "\n",
    "# transpose the dataframe\n",
    "us_gdp = us_gdp.transpose().reset_index()\n",
    "\n",
    "# rename column index to year and column 251 to gdp\n",
    "us_gdp = us_gdp.rename(columns={\"index\": \"year\", 251: \"gdp\"})\n",
    "\n",
    "# drop first row since it contains the column names\n",
    "us_gdp = us_gdp.drop([0])"
   ]
  },
  {
   "cell_type": "code",
   "execution_count": 25,
   "metadata": {},
   "outputs": [
    {
     "data": {
      "text/html": [
       "<div>\n",
       "<style scoped>\n",
       "    .dataframe tbody tr th:only-of-type {\n",
       "        vertical-align: middle;\n",
       "    }\n",
       "\n",
       "    .dataframe tbody tr th {\n",
       "        vertical-align: top;\n",
       "    }\n",
       "\n",
       "    .dataframe thead th {\n",
       "        text-align: right;\n",
       "    }\n",
       "</style>\n",
       "<table border=\"1\" class=\"dataframe\">\n",
       "  <thead>\n",
       "    <tr style=\"text-align: right;\">\n",
       "      <th></th>\n",
       "      <th>year</th>\n",
       "      <th>gdp</th>\n",
       "    </tr>\n",
       "  </thead>\n",
       "  <tbody>\n",
       "    <tr>\n",
       "      <th>1</th>\n",
       "      <td>1961</td>\n",
       "      <td>5.633000e+11</td>\n",
       "    </tr>\n",
       "    <tr>\n",
       "      <th>2</th>\n",
       "      <td>1962</td>\n",
       "      <td>6.051000e+11</td>\n",
       "    </tr>\n",
       "    <tr>\n",
       "      <th>3</th>\n",
       "      <td>1963</td>\n",
       "      <td>6.386000e+11</td>\n",
       "    </tr>\n",
       "    <tr>\n",
       "      <th>4</th>\n",
       "      <td>1964</td>\n",
       "      <td>6.858000e+11</td>\n",
       "    </tr>\n",
       "    <tr>\n",
       "      <th>5</th>\n",
       "      <td>1965</td>\n",
       "      <td>7.437000e+11</td>\n",
       "    </tr>\n",
       "  </tbody>\n",
       "</table>\n",
       "</div>"
      ],
      "text/plain": [
       "   year           gdp\n",
       "1  1961  5.633000e+11\n",
       "2  1962  6.051000e+11\n",
       "3  1963  6.386000e+11\n",
       "4  1964  6.858000e+11\n",
       "5  1965  7.437000e+11"
      ]
     },
     "metadata": {},
     "output_type": "display_data"
    }
   ],
   "source": [
    "display(us_gdp.head())"
   ]
  },
  {
   "cell_type": "markdown",
   "metadata": {},
   "source": [
    "### Expanding and merging the data"
   ]
  },
  {
   "cell_type": "markdown",
   "metadata": {},
   "source": [
    "Now that we have cleaned all of the datasets, we can enrich the initial movie dataset with the external datasets."
   ]
  },
  {
   "cell_type": "markdown",
   "metadata": {},
   "source": [
    "First we will merge the `imdb_ratings` and `imdb_basics` dataframes, in order to complete the imdb dataset.\n",
    "After that, we will expand the newly created imdb dataset with `movie_budget` data."
   ]
  },
  {
   "cell_type": "code",
   "execution_count": 26,
   "metadata": {},
   "outputs": [
    {
     "data": {
      "text/html": [
       "<div>\n",
       "<style scoped>\n",
       "    .dataframe tbody tr th:only-of-type {\n",
       "        vertical-align: middle;\n",
       "    }\n",
       "\n",
       "    .dataframe tbody tr th {\n",
       "        vertical-align: top;\n",
       "    }\n",
       "\n",
       "    .dataframe thead th {\n",
       "        text-align: right;\n",
       "    }\n",
       "</style>\n",
       "<table border=\"1\" class=\"dataframe\">\n",
       "  <thead>\n",
       "    <tr style=\"text-align: right;\">\n",
       "      <th></th>\n",
       "      <th>imdb_id</th>\n",
       "      <th>title_type</th>\n",
       "      <th>primary_title</th>\n",
       "      <th>title</th>\n",
       "      <th>is_adult</th>\n",
       "      <th>year</th>\n",
       "      <th>runtime</th>\n",
       "      <th>imdb_rating</th>\n",
       "      <th>num_votes</th>\n",
       "      <th>budget</th>\n",
       "      <th>popularity</th>\n",
       "      <th>vote_average</th>\n",
       "      <th>vote_count</th>\n",
       "    </tr>\n",
       "  </thead>\n",
       "  <tbody>\n",
       "    <tr>\n",
       "      <th>0</th>\n",
       "      <td>tt0000001</td>\n",
       "      <td>short</td>\n",
       "      <td>Carmencita</td>\n",
       "      <td>Carmencita</td>\n",
       "      <td>0</td>\n",
       "      <td>1894</td>\n",
       "      <td>1</td>\n",
       "      <td>5.7</td>\n",
       "      <td>2007.0</td>\n",
       "      <td>0.0</td>\n",
       "      <td>1.273072</td>\n",
       "      <td>4.9</td>\n",
       "      <td>18.0</td>\n",
       "    </tr>\n",
       "    <tr>\n",
       "      <th>1</th>\n",
       "      <td>tt0000002</td>\n",
       "      <td>short</td>\n",
       "      <td>Le clown et ses chiens</td>\n",
       "      <td>Le clown et ses chiens</td>\n",
       "      <td>0</td>\n",
       "      <td>1892</td>\n",
       "      <td>5</td>\n",
       "      <td>5.8</td>\n",
       "      <td>269.0</td>\n",
       "      <td>NaN</td>\n",
       "      <td>NaN</td>\n",
       "      <td>NaN</td>\n",
       "      <td>NaN</td>\n",
       "    </tr>\n",
       "    <tr>\n",
       "      <th>2</th>\n",
       "      <td>tt0000003</td>\n",
       "      <td>short</td>\n",
       "      <td>Pauvre Pierrot</td>\n",
       "      <td>Pauvre Pierrot</td>\n",
       "      <td>0</td>\n",
       "      <td>1892</td>\n",
       "      <td>4</td>\n",
       "      <td>6.5</td>\n",
       "      <td>1909.0</td>\n",
       "      <td>0.0</td>\n",
       "      <td>0.673164</td>\n",
       "      <td>6.1</td>\n",
       "      <td>19.0</td>\n",
       "    </tr>\n",
       "    <tr>\n",
       "      <th>3</th>\n",
       "      <td>tt0000004</td>\n",
       "      <td>short</td>\n",
       "      <td>Un bon bock</td>\n",
       "      <td>Un bon bock</td>\n",
       "      <td>0</td>\n",
       "      <td>1892</td>\n",
       "      <td>12</td>\n",
       "      <td>5.5</td>\n",
       "      <td>178.0</td>\n",
       "      <td>NaN</td>\n",
       "      <td>NaN</td>\n",
       "      <td>NaN</td>\n",
       "      <td>NaN</td>\n",
       "    </tr>\n",
       "    <tr>\n",
       "      <th>4</th>\n",
       "      <td>tt0000005</td>\n",
       "      <td>short</td>\n",
       "      <td>Blacksmith Scene</td>\n",
       "      <td>Blacksmith Scene</td>\n",
       "      <td>0</td>\n",
       "      <td>1893</td>\n",
       "      <td>1</td>\n",
       "      <td>6.2</td>\n",
       "      <td>2691.0</td>\n",
       "      <td>0.0</td>\n",
       "      <td>1.061591</td>\n",
       "      <td>5.8</td>\n",
       "      <td>19.0</td>\n",
       "    </tr>\n",
       "  </tbody>\n",
       "</table>\n",
       "</div>"
      ],
      "text/plain": [
       "     imdb_id title_type           primary_title                   title  \\\n",
       "0  tt0000001      short              Carmencita              Carmencita   \n",
       "1  tt0000002      short  Le clown et ses chiens  Le clown et ses chiens   \n",
       "2  tt0000003      short          Pauvre Pierrot          Pauvre Pierrot   \n",
       "3  tt0000004      short             Un bon bock             Un bon bock   \n",
       "4  tt0000005      short        Blacksmith Scene        Blacksmith Scene   \n",
       "\n",
       "  is_adult  year runtime  imdb_rating  num_votes  budget popularity  \\\n",
       "0        0  1894       1          5.7     2007.0     0.0   1.273072   \n",
       "1        0  1892       5          5.8      269.0     NaN        NaN   \n",
       "2        0  1892       4          6.5     1909.0     0.0   0.673164   \n",
       "3        0  1892      12          5.5      178.0     NaN        NaN   \n",
       "4        0  1893       1          6.2     2691.0     0.0   1.061591   \n",
       "\n",
       "   vote_average  vote_count  \n",
       "0           4.9        18.0  \n",
       "1           NaN         NaN  \n",
       "2           6.1        19.0  \n",
       "3           NaN         NaN  \n",
       "4           5.8        19.0  "
      ]
     },
     "metadata": {},
     "output_type": "display_data"
    }
   ],
   "source": [
    "# merge the imdb datasets\n",
    "imdb_dataset_temp = pd.merge(imdb_basics, imdb_ratings, on=\"imdb_id\", how=\"left\")\n",
    "# populate imdb dataset with movie budget data\n",
    "imdb_dataset = pd.merge(\n",
    "    imdb_dataset_temp,\n",
    "    movie_budget,\n",
    "    on=\"imdb_id\",\n",
    "    how=\"left\",\n",
    ")\n",
    "display(imdb_dataset.head())"
   ]
  },
  {
   "cell_type": "markdown",
   "metadata": {},
   "source": [
    "Next, we will merge the imdb_dataset containing the budget, with the `movie_metadata` dataset. We will do this by using the movie title, runtime, and release year as a key."
   ]
  },
  {
   "cell_type": "code",
   "execution_count": 27,
   "metadata": {},
   "outputs": [
    {
     "data": {
      "text/html": [
       "<div>\n",
       "<style scoped>\n",
       "    .dataframe tbody tr th:only-of-type {\n",
       "        vertical-align: middle;\n",
       "    }\n",
       "\n",
       "    .dataframe tbody tr th {\n",
       "        vertical-align: top;\n",
       "    }\n",
       "\n",
       "    .dataframe thead th {\n",
       "        text-align: right;\n",
       "    }\n",
       "</style>\n",
       "<table border=\"1\" class=\"dataframe\">\n",
       "  <thead>\n",
       "    <tr style=\"text-align: right;\">\n",
       "      <th></th>\n",
       "      <th>wikipedia_id</th>\n",
       "      <th>freebase_movie_id</th>\n",
       "      <th>title</th>\n",
       "      <th>release_date</th>\n",
       "      <th>revenue</th>\n",
       "      <th>runtime</th>\n",
       "      <th>languages</th>\n",
       "      <th>countries</th>\n",
       "      <th>genres</th>\n",
       "      <th>year</th>\n",
       "      <th>imdb_id</th>\n",
       "      <th>title_type</th>\n",
       "      <th>primary_title</th>\n",
       "      <th>is_adult</th>\n",
       "      <th>imdb_rating</th>\n",
       "      <th>num_votes</th>\n",
       "      <th>budget</th>\n",
       "      <th>popularity</th>\n",
       "      <th>vote_average</th>\n",
       "      <th>vote_count</th>\n",
       "    </tr>\n",
       "  </thead>\n",
       "  <tbody>\n",
       "    <tr>\n",
       "      <th>0</th>\n",
       "      <td>975900</td>\n",
       "      <td>/m/03vyhn</td>\n",
       "      <td>Ghosts of Mars</td>\n",
       "      <td>2001-08-24</td>\n",
       "      <td>14010832.0</td>\n",
       "      <td>98</td>\n",
       "      <td>{\"/m/02h40lc\": \"English Language\"}</td>\n",
       "      <td>{\"/m/09c7w0\": \"United States of America\"}</td>\n",
       "      <td>{\"/m/01jfsb\": \"Thriller\", \"/m/06n90\": \"Science...</td>\n",
       "      <td>2001</td>\n",
       "      <td>tt0228333</td>\n",
       "      <td>movie</td>\n",
       "      <td>Ghosts of Mars</td>\n",
       "      <td>0</td>\n",
       "      <td>4.9</td>\n",
       "      <td>56918.0</td>\n",
       "      <td>28000000.0</td>\n",
       "      <td>7.058599</td>\n",
       "      <td>4.8</td>\n",
       "      <td>299.0</td>\n",
       "    </tr>\n",
       "    <tr>\n",
       "      <th>1</th>\n",
       "      <td>10408933</td>\n",
       "      <td>/m/02qc0j7</td>\n",
       "      <td>Alexander's Ragtime Band</td>\n",
       "      <td>1938-08-16</td>\n",
       "      <td>3600000.0</td>\n",
       "      <td>106</td>\n",
       "      <td>{\"/m/02h40lc\": \"English Language\"}</td>\n",
       "      <td>{\"/m/09c7w0\": \"United States of America\"}</td>\n",
       "      <td>{\"/m/04t36\": \"Musical\", \"/m/01z4y\": \"Comedy\", ...</td>\n",
       "      <td>1938</td>\n",
       "      <td>tt0029852</td>\n",
       "      <td>movie</td>\n",
       "      <td>Alexander's Ragtime Band</td>\n",
       "      <td>0</td>\n",
       "      <td>6.8</td>\n",
       "      <td>2268.0</td>\n",
       "      <td>2000000.0</td>\n",
       "      <td>0.632261</td>\n",
       "      <td>4.8</td>\n",
       "      <td>6.0</td>\n",
       "    </tr>\n",
       "    <tr>\n",
       "      <th>2</th>\n",
       "      <td>171005</td>\n",
       "      <td>/m/016ywb</td>\n",
       "      <td>Henry V</td>\n",
       "      <td>1989-11-08</td>\n",
       "      <td>10161099.0</td>\n",
       "      <td>137</td>\n",
       "      <td>{\"/m/02h40lc\": \"English Language\"}</td>\n",
       "      <td>{\"/m/07ssc\": \"United Kingdom\"}</td>\n",
       "      <td>{\"/m/04xvh5\": \"Costume drama\", \"/m/082gq\": \"Wa...</td>\n",
       "      <td>1989</td>\n",
       "      <td>tt0097499</td>\n",
       "      <td>movie</td>\n",
       "      <td>Henry V</td>\n",
       "      <td>0</td>\n",
       "      <td>7.5</td>\n",
       "      <td>31200.0</td>\n",
       "      <td>9000000.0</td>\n",
       "      <td>7.307967</td>\n",
       "      <td>7.4</td>\n",
       "      <td>73.0</td>\n",
       "    </tr>\n",
       "    <tr>\n",
       "      <th>3</th>\n",
       "      <td>77856</td>\n",
       "      <td>/m/0kcn7</td>\n",
       "      <td>Mary Poppins</td>\n",
       "      <td>1964-08-27</td>\n",
       "      <td>102272727.0</td>\n",
       "      <td>139</td>\n",
       "      <td>{\"/m/02h40lc\": \"English Language\"}</td>\n",
       "      <td>{\"/m/09c7w0\": \"United States of America\"}</td>\n",
       "      <td>{\"/m/0hj3myq\": \"Children's/Family\", \"/m/04t36\"...</td>\n",
       "      <td>1964</td>\n",
       "      <td>tt0058331</td>\n",
       "      <td>movie</td>\n",
       "      <td>Mary Poppins</td>\n",
       "      <td>0</td>\n",
       "      <td>7.8</td>\n",
       "      <td>181780.0</td>\n",
       "      <td>6000000.0</td>\n",
       "      <td>15.11549</td>\n",
       "      <td>7.4</td>\n",
       "      <td>1217.0</td>\n",
       "    </tr>\n",
       "    <tr>\n",
       "      <th>4</th>\n",
       "      <td>612710</td>\n",
       "      <td>/m/02wjqm</td>\n",
       "      <td>New Rose Hotel</td>\n",
       "      <td>1999-10-01</td>\n",
       "      <td>21521.0</td>\n",
       "      <td>92</td>\n",
       "      <td>{\"/m/02h40lc\": \"English Language\"}</td>\n",
       "      <td>{\"/m/09c7w0\": \"United States of America\"}</td>\n",
       "      <td>{\"/m/01jfsb\": \"Thriller\", \"/m/06n90\": \"Science...</td>\n",
       "      <td>1999</td>\n",
       "      <td>&lt;NA&gt;</td>\n",
       "      <td>&lt;NA&gt;</td>\n",
       "      <td>&lt;NA&gt;</td>\n",
       "      <td>&lt;NA&gt;</td>\n",
       "      <td>NaN</td>\n",
       "      <td>NaN</td>\n",
       "      <td>NaN</td>\n",
       "      <td>NaN</td>\n",
       "      <td>NaN</td>\n",
       "      <td>NaN</td>\n",
       "    </tr>\n",
       "  </tbody>\n",
       "</table>\n",
       "</div>"
      ],
      "text/plain": [
       "  wikipedia_id freebase_movie_id                     title release_date  \\\n",
       "0       975900         /m/03vyhn            Ghosts of Mars   2001-08-24   \n",
       "1     10408933        /m/02qc0j7  Alexander's Ragtime Band   1938-08-16   \n",
       "2       171005         /m/016ywb                   Henry V   1989-11-08   \n",
       "3        77856          /m/0kcn7              Mary Poppins   1964-08-27   \n",
       "4       612710         /m/02wjqm            New Rose Hotel   1999-10-01   \n",
       "\n",
       "       revenue runtime                           languages  \\\n",
       "0   14010832.0      98  {\"/m/02h40lc\": \"English Language\"}   \n",
       "1    3600000.0     106  {\"/m/02h40lc\": \"English Language\"}   \n",
       "2   10161099.0     137  {\"/m/02h40lc\": \"English Language\"}   \n",
       "3  102272727.0     139  {\"/m/02h40lc\": \"English Language\"}   \n",
       "4      21521.0      92  {\"/m/02h40lc\": \"English Language\"}   \n",
       "\n",
       "                                   countries  \\\n",
       "0  {\"/m/09c7w0\": \"United States of America\"}   \n",
       "1  {\"/m/09c7w0\": \"United States of America\"}   \n",
       "2             {\"/m/07ssc\": \"United Kingdom\"}   \n",
       "3  {\"/m/09c7w0\": \"United States of America\"}   \n",
       "4  {\"/m/09c7w0\": \"United States of America\"}   \n",
       "\n",
       "                                              genres  year    imdb_id  \\\n",
       "0  {\"/m/01jfsb\": \"Thriller\", \"/m/06n90\": \"Science...  2001  tt0228333   \n",
       "1  {\"/m/04t36\": \"Musical\", \"/m/01z4y\": \"Comedy\", ...  1938  tt0029852   \n",
       "2  {\"/m/04xvh5\": \"Costume drama\", \"/m/082gq\": \"Wa...  1989  tt0097499   \n",
       "3  {\"/m/0hj3myq\": \"Children's/Family\", \"/m/04t36\"...  1964  tt0058331   \n",
       "4  {\"/m/01jfsb\": \"Thriller\", \"/m/06n90\": \"Science...  1999       <NA>   \n",
       "\n",
       "  title_type             primary_title is_adult  imdb_rating  num_votes  \\\n",
       "0      movie            Ghosts of Mars        0          4.9    56918.0   \n",
       "1      movie  Alexander's Ragtime Band        0          6.8     2268.0   \n",
       "2      movie                   Henry V        0          7.5    31200.0   \n",
       "3      movie              Mary Poppins        0          7.8   181780.0   \n",
       "4       <NA>                      <NA>     <NA>          NaN        NaN   \n",
       "\n",
       "       budget popularity  vote_average  vote_count  \n",
       "0  28000000.0   7.058599           4.8       299.0  \n",
       "1   2000000.0   0.632261           4.8         6.0  \n",
       "2   9000000.0   7.307967           7.4        73.0  \n",
       "3   6000000.0   15.11549           7.4      1217.0  \n",
       "4         NaN        NaN           NaN         NaN  "
      ]
     },
     "metadata": {},
     "output_type": "display_data"
    }
   ],
   "source": [
    "movies_merged = pd.merge(\n",
    "    movie_metadata,\n",
    "    imdb_dataset,\n",
    "    on=[\"title\", \"year\", \"runtime\"],\n",
    "    how=\"left\",\n",
    ")\n",
    "display(movies_merged.head())"
   ]
  },
  {
   "cell_type": "markdown",
   "metadata": {},
   "source": [
    "### Inflation-adjusted Revenue and Budget According to CPI"
   ]
  },
  {
   "cell_type": "markdown",
   "metadata": {},
   "source": [
    "The earliest year for GDP is 1961, so we drop all movies before 1961 "
   ]
  },
  {
   "cell_type": "code",
   "execution_count": 28,
   "metadata": {},
   "outputs": [],
   "source": [
    "movies_merged = movies_merged[movies_merged[\"year\"] >= \"1961\"]"
   ]
  },
  {
   "cell_type": "code",
   "execution_count": 29,
   "metadata": {},
   "outputs": [
    {
     "data": {
      "image/png": "[encoded data removed]",
      "text/plain": [
       "<Figure size 1200x600 with 1 Axes>"
      ]
     },
     "metadata": {},
     "output_type": "display_data"
    }
   ],
   "source": [
    "# plot the mean revenue for each year\n",
    "mean_revenue = movies_merged.groupby(pd.to_datetime(movies_merged[\"year\"]))[\n",
    "    [\"revenue\"]\n",
    "].max()\n",
    "\n",
    "plt.figure(figsize=(12, 6))\n",
    "plt.plot(mean_revenue.index, mean_revenue[\"revenue\"], label=\"Mean Revenue\")\n",
    "plt.title(\"Movie Revenue Over Time - Mean Revenue for Each Year\")\n",
    "plt.xlabel(\"Year\")\n",
    "plt.ylabel(\"Revenue\")\n",
    "plt.legend()\n",
    "plt.show()"
   ]
  },
  {
   "cell_type": "markdown",
   "metadata": {},
   "source": [
    "As we can see, the mean revenue per year is increasing over time. To accurately compare movie revenues over time, we need to account for inflation. Without this adjustment, comparing movies from different eras becomes misleading. Older movies, which might have been very successful, will seem less profitable due to the lower ticket prices at their time."
   ]
  },
  {
   "cell_type": "markdown",
   "metadata": {},
   "source": [
    "The Consumer Price Index is calculated by measuring the price in one period for a fixed basket of consumer goods and services compared to previous periods."
   ]
  },
  {
   "cell_type": "markdown",
   "metadata": {},
   "source": [
    "- **Formula**: \n",
    "  $$ \\text{Adjusted Value} = \\left( \\frac{\\text{Current Value}}{\\text{CPI in Current Year}} \\right) \\times \\text{CPI Base Year} $$\n",
    "\n",
    "- `Current Value`: The original revenue or budget of the movie.\n",
    "- `CPI in Current Year`: The Consumer Price Index in the year the movie was released.\n",
    "- `CPI Base Year`: The Consumer Price Index in the base year (2012).\n"
   ]
  },
  {
   "cell_type": "markdown",
   "metadata": {},
   "source": [
    "We'll add two new columns to the dataset, one for the revenue adjusted for inflation and one for the budget adjusted for inflation."
   ]
  },
  {
   "cell_type": "code",
   "execution_count": 30,
   "metadata": {},
   "outputs": [],
   "source": [
    "# as our base year we choose 2012\n",
    "cpi_base_year = us_cpi[us_cpi[\"year\"] == \"2012\"][\"cpi\"].values[0]\n",
    "\n",
    "# merge the movies_merged dataset with the us_inflation dataset on the year column\n",
    "movies_merged = pd.merge(movies_merged, us_cpi, left_on=\"year\", right_on=\"year\")\n",
    "\n",
    "# calculate adjusted revenue and budget according to the formula\n",
    "movies_merged[\"revenue_adjusted\"] = (\n",
    "    movies_merged[\"revenue\"] / movies_merged[\"cpi\"]\n",
    ") * cpi_base_year\n",
    "movies_merged[\"budget_adjusted\"] = (\n",
    "    movies_merged[\"budget\"] / movies_merged[\"cpi\"]\n",
    ") * cpi_base_year"
   ]
  },
  {
   "cell_type": "markdown",
   "metadata": {},
   "source": [
    "Next we'll plot the original revenue and the inflation-adjusted revenue over time, in order to see the difference."
   ]
  },
  {
   "cell_type": "code",
   "execution_count": 31,
   "metadata": {},
   "outputs": [
    {
     "data": {
      "image/png": "[encoded data removed]",
      "text/plain": [
       "<Figure size 1200x600 with 1 Axes>"
      ]
     },
     "metadata": {},
     "output_type": "display_data"
    }
   ],
   "source": [
    "# group by year and get the movie with max revenue and revenue_inflation\n",
    "annual_revenue = movies_merged.groupby(pd.to_datetime(movies_merged[\"year\"]))[\n",
    "    [\"revenue\", \"revenue_adjusted\"]\n",
    "].max()\n",
    "\n",
    "plt.figure(figsize=(12, 6))\n",
    "plt.plot(annual_revenue.index, annual_revenue[\"revenue\"], label=\"Revenue\")\n",
    "plt.plot(\n",
    "    annual_revenue.index,\n",
    "    annual_revenue[\"revenue_adjusted\"],\n",
    "    label=\"Inflation-Adjusted Revenue\",\n",
    ")\n",
    "plt.title(\"Movie Revenue Over Time - Movie With Highest Revenue Each Year\")\n",
    "plt.xlabel(\"Year\")\n",
    "plt.ylabel(\"Revenue\")\n",
    "plt.legend()\n",
    "plt.show()"
   ]
  },
  {
   "cell_type": "markdown",
   "metadata": {},
   "source": [
    "From the plot we can see the revenues of the highest-grossing movie of each year with their inflation-adjusted equivalents. \n",
    "As we expected,  the inflation-adjusted revenues are higher than the reported revenues as the value of money decreases over time due to inflation. We can also see that the impact of inflation is more pronounced in earlier decades, as seen by the greater distance between the two lines."
   ]
  },
  {
   "cell_type": "markdown",
   "metadata": {},
   "source": [
    "After adjusting the revenue for inflation, the peaks in the revenue trends become more pronounced. We can see that some older movies actually have higher inflation-adjusted revenues than newer ones, which wouldn't be apparent if we only looked at nominal revenues."
   ]
  },
  {
   "cell_type": "code",
   "execution_count": 32,
   "metadata": {},
   "outputs": [
    {
     "data": {
      "text/html": [
       "<div>\n",
       "<style scoped>\n",
       "    .dataframe tbody tr th:only-of-type {\n",
       "        vertical-align: middle;\n",
       "    }\n",
       "\n",
       "    .dataframe tbody tr th {\n",
       "        vertical-align: top;\n",
       "    }\n",
       "\n",
       "    .dataframe thead th {\n",
       "        text-align: right;\n",
       "    }\n",
       "</style>\n",
       "<table border=\"1\" class=\"dataframe\">\n",
       "  <thead>\n",
       "    <tr style=\"text-align: right;\">\n",
       "      <th></th>\n",
       "      <th>title</th>\n",
       "      <th>year</th>\n",
       "      <th>revenue</th>\n",
       "      <th>revenue_adjusted</th>\n",
       "    </tr>\n",
       "  </thead>\n",
       "  <tbody>\n",
       "    <tr>\n",
       "      <th>3533</th>\n",
       "      <td>Titanic</td>\n",
       "      <td>1997</td>\n",
       "      <td>2.185372e+09</td>\n",
       "      <td>3.125832e+09</td>\n",
       "    </tr>\n",
       "    <tr>\n",
       "      <th>6830</th>\n",
       "      <td>Love with the Proper Stranger</td>\n",
       "      <td>1963</td>\n",
       "      <td>4.150049e+08</td>\n",
       "      <td>3.111268e+09</td>\n",
       "    </tr>\n",
       "    <tr>\n",
       "      <th>1837</th>\n",
       "      <td>Avatar</td>\n",
       "      <td>2009</td>\n",
       "      <td>2.782275e+09</td>\n",
       "      <td>2.977544e+09</td>\n",
       "    </tr>\n",
       "    <tr>\n",
       "      <th>7037</th>\n",
       "      <td>Star Wars Episode IV: A New Hope</td>\n",
       "      <td>1977</td>\n",
       "      <td>7.753980e+08</td>\n",
       "      <td>2.937330e+09</td>\n",
       "    </tr>\n",
       "    <tr>\n",
       "      <th>7048</th>\n",
       "      <td>The Exorcist</td>\n",
       "      <td>1973</td>\n",
       "      <td>4.410710e+08</td>\n",
       "      <td>2.280793e+09</td>\n",
       "    </tr>\n",
       "  </tbody>\n",
       "</table>\n",
       "</div>"
      ],
      "text/plain": [
       "                                 title  year       revenue  revenue_adjusted\n",
       "3533                           Titanic  1997  2.185372e+09      3.125832e+09\n",
       "6830     Love with the Proper Stranger  1963  4.150049e+08      3.111268e+09\n",
       "1837                            Avatar  2009  2.782275e+09      2.977544e+09\n",
       "7037  Star Wars Episode IV: A New Hope  1977  7.753980e+08      2.937330e+09\n",
       "7048                      The Exorcist  1973  4.410710e+08      2.280793e+09"
      ]
     },
     "execution_count": 32,
     "metadata": {},
     "output_type": "execute_result"
    }
   ],
   "source": [
    "top_movies = movies_merged.sort_values(by=[\"revenue_adjusted\"], ascending=False).head(5)\n",
    "top_movies = top_movies[[\"title\", \"year\", \"revenue\", \"revenue_adjusted\"]]\n",
    "top_movies"
   ]
  },
  {
   "cell_type": "markdown",
   "metadata": {},
   "source": [
    "The movie with the highest nominal revenue is Avatar from 2009, with a revenue of approximately $2.782 billion. However, when we adjust for inflation, Titanic from 1997 shows a greater revenue than Avatar - an adjusted revenue of approximately $3.126 billion, compared to Avatar's adjusted revenue of about $2.978 billion."
   ]
  },
  {
   "cell_type": "markdown",
   "metadata": {},
   "source": [
    "Now we want to see if 'older' movies have a higher revenue than 'newer' movies. We define 'older' movies as movies that were released before 2000 and 'newer' movies as movies that were released after 2000"
   ]
  },
  {
   "cell_type": "code",
   "execution_count": 33,
   "metadata": {},
   "outputs": [
    {
     "name": "stdout",
     "output_type": "stream",
     "text": [
      "Number of movies before 2000:  3537\n",
      "Number of movies after 2000:  3641\n"
     ]
    }
   ],
   "source": [
    "old_movies_revenues = movies_merged[movies_merged[\"year\"].astype(int) < 2000][\n",
    "    \"revenue_adjusted\"\n",
    "]\n",
    "new_movies_revenues = movies_merged[movies_merged[\"year\"].astype(int) >= 2000][\n",
    "    \"revenue_adjusted\"\n",
    "]\n",
    "\n",
    "print(\"Number of movies before 2000: \", len(old_movies_revenues))\n",
    "print(\"Number of movies after 2000: \", len(new_movies_revenues))"
   ]
  },
  {
   "cell_type": "code",
   "execution_count": 34,
   "metadata": {},
   "outputs": [
    {
     "name": "stdout",
     "output_type": "stream",
     "text": [
      "Independent sample t-test: \n",
      " t = 3.0527201343754853 \n",
      " p = 0.0022760745178851327\n",
      "Mean revenue for older movies = 89618796.442 \n",
      "Mean revenue for newer movies = 76972127.711\n"
     ]
    }
   ],
   "source": [
    "mean_revenue_old = old_movies_revenues.mean()\n",
    "mean_revenue_new = new_movies_revenues.mean()\n",
    "\n",
    "# perform a t-test to see if the mean revenue of old movies is significantly higher than the mean revenue of new movies\n",
    "t = ttest_ind(old_movies_revenues.values, new_movies_revenues.values)\n",
    "print(\"Independent sample t-test: \\n t =\", t.statistic, \"\\n p =\", t.pvalue)\n",
    "print(\n",
    "    \"Mean revenue for older movies =\",\n",
    "    \"{:.3f}\".format(mean_revenue_old),\n",
    "    \"\\nMean revenue for newer movies =\",\n",
    "    \"{:.3f}\".format(mean_revenue_new),\n",
    ")"
   ]
  },
  {
   "cell_type": "markdown",
   "metadata": {},
   "source": [
    "The independent sample t-test results indicate that there is a statistically significant difference between the mean revenues of older movies (released before the year 2000) and newer movies (released in or after the year 2000). Given these results, we can conclude that older movies have a significantly higher mean revenue than newer movies when adjusted for inflation."
   ]
  },
  {
   "cell_type": "markdown",
   "metadata": {},
   "source": [
    "We can also plot the original budget and the inflation-adjusted budget over time, in order to see the difference."
   ]
  },
  {
   "cell_type": "code",
   "execution_count": 35,
   "metadata": {},
   "outputs": [
    {
     "data": {
      "image/png": "[encoded data removed]",
      "text/plain": [
       "<Figure size 1200x600 with 1 Axes>"
      ]
     },
     "metadata": {},
     "output_type": "display_data"
    }
   ],
   "source": [
    "# group by year and get the movie with max budget and revenue_inflation\n",
    "annual_revenue = movies_merged.groupby(pd.to_datetime(movies_merged[\"year\"]))[\n",
    "    [\"budget\", \"budget_adjusted\"]\n",
    "].max()\n",
    "\n",
    "plt.figure(figsize=(12, 6))\n",
    "plt.plot(annual_revenue.index, annual_revenue[\"budget\"], label=\"Budget\")\n",
    "plt.plot(\n",
    "    annual_revenue.index,\n",
    "    annual_revenue[\"budget_adjusted\"],\n",
    "    label=\"Inflation-Adjusted Budget\",\n",
    ")\n",
    "plt.title(\"Movie Budget Over Time - Movie With Highest Budget Each Year\")\n",
    "plt.xlabel(\"Year\")\n",
    "plt.ylabel(\"Budget\")\n",
    "plt.legend()\n",
    "plt.show()"
   ]
  },
  {
   "cell_type": "markdown",
   "metadata": {},
   "source": [
    "Again as expected, the inflation-adjusted budgets are consistently higher than the nominal budgets, illustrating the impact of inflation over time. Both the nominal and inflation-adjusted budget lines show an overall upward trend, indicating that the budgets for the high-budget movies per year have been increasing over the decades."
   ]
  },
  {
   "cell_type": "markdown",
   "metadata": {},
   "source": [
    "We'll do a pearson correlation between the budget and year to see if there is actually a correlation between the two."
   ]
  },
  {
   "cell_type": "code",
   "execution_count": 36,
   "metadata": {},
   "outputs": [
    {
     "name": "stdout",
     "output_type": "stream",
     "text": [
      "Pearson's correlation coefficient: 0.19802094707414603\n",
      "P-value: 3.99341715311617e-27\n"
     ]
    }
   ],
   "source": [
    "movies_merged_with_budgets = movies_merged.dropna(subset=[\"budget_adjusted\"])\n",
    "pearson_corr_coefficient, p_value = stats.pearsonr(\n",
    "    movies_merged_with_budgets[\"year\"].astype(float),\n",
    "    movies_merged_with_budgets[\"budget_adjusted\"],\n",
    ")\n",
    "\n",
    "print(f\"Pearson's correlation coefficient: {pearson_corr_coefficient}\")\n",
    "print(f\"P-value: {p_value}\")"
   ]
  },
  {
   "cell_type": "markdown",
   "metadata": {},
   "source": [
    "This indicates a statistically significant positive linear relationship between the year of the movie's release and its inflation-adjusted budget."
   ]
  },
  {
   "cell_type": "markdown",
   "metadata": {},
   "source": [
    "The overall upward trend in both nominal and inflation-adjusted movie budgets could be related to broader economic growth, such as increases in Gross Domestic Product (GDP). As the economy grows, the movie industry grows with it."
   ]
  },
  {
   "cell_type": "markdown",
   "metadata": {},
   "source": [
    "### GDP Data ..."
   ]
  },
  {
   "cell_type": "code",
   "execution_count": 37,
   "metadata": {},
   "outputs": [
    {
     "data": {
      "text/html": [
       "<div>\n",
       "<style scoped>\n",
       "    .dataframe tbody tr th:only-of-type {\n",
       "        vertical-align: middle;\n",
       "    }\n",
       "\n",
       "    .dataframe tbody tr th {\n",
       "        vertical-align: top;\n",
       "    }\n",
       "\n",
       "    .dataframe thead th {\n",
       "        text-align: right;\n",
       "    }\n",
       "</style>\n",
       "<table border=\"1\" class=\"dataframe\">\n",
       "  <thead>\n",
       "    <tr style=\"text-align: right;\">\n",
       "      <th></th>\n",
       "      <th>year</th>\n",
       "      <th>gdp</th>\n",
       "    </tr>\n",
       "  </thead>\n",
       "  <tbody>\n",
       "    <tr>\n",
       "      <th>1</th>\n",
       "      <td>1961</td>\n",
       "      <td>5.633000e+11</td>\n",
       "    </tr>\n",
       "    <tr>\n",
       "      <th>2</th>\n",
       "      <td>1962</td>\n",
       "      <td>6.051000e+11</td>\n",
       "    </tr>\n",
       "    <tr>\n",
       "      <th>3</th>\n",
       "      <td>1963</td>\n",
       "      <td>6.386000e+11</td>\n",
       "    </tr>\n",
       "    <tr>\n",
       "      <th>4</th>\n",
       "      <td>1964</td>\n",
       "      <td>6.858000e+11</td>\n",
       "    </tr>\n",
       "    <tr>\n",
       "      <th>5</th>\n",
       "      <td>1965</td>\n",
       "      <td>7.437000e+11</td>\n",
       "    </tr>\n",
       "  </tbody>\n",
       "</table>\n",
       "</div>"
      ],
      "text/plain": [
       "   year           gdp\n",
       "1  1961  5.633000e+11\n",
       "2  1962  6.051000e+11\n",
       "3  1963  6.386000e+11\n",
       "4  1964  6.858000e+11\n",
       "5  1965  7.437000e+11"
      ]
     },
     "metadata": {},
     "output_type": "display_data"
    }
   ],
   "source": [
    "display(us_gdp.head())"
   ]
  },
  {
   "cell_type": "markdown",
   "metadata": {},
   "source": [
    "TODO: ***Is there a correlation between cinema revenue growth and world economic growth?***\n",
    "- How does the increase in cinema gross revenue correlate with global economic growth indicators like the world's GDP?\n",
    "- Are there regional differences in this correlation, and if so, which regions show a stronger relationship?\n"
   ]
  },
  {
   "cell_type": "markdown",
   "metadata": {},
   "source": [
    "---"
   ]
  },
  {
   "cell_type": "markdown",
   "metadata": {},
   "source": [
    "TODO: \n",
    "***Inflation Adjustment and Comparative Analysis of Movie Revenues:***\n",
    "- When adjusted for inflation, how does the gross revenue of older movies compare to recent modern movies?\n"
   ]
  },
  {
   "cell_type": "markdown",
   "metadata": {},
   "source": [
    "TODO: ***Which factors determine the movie's financial success?***\n",
    "- Do movies with higher budgets produce higher revenues?\n",
    "- How do runtime and genre impact a movie's revenue?\n"
   ]
  },
  {
   "cell_type": "code",
   "execution_count": 38,
   "metadata": {},
   "outputs": [
    {
     "data": {
      "image/png": "[encoded data removed]",
      "text/plain": [
       "<Figure size 1200x600 with 2 Axes>"
      ]
     },
     "metadata": {},
     "output_type": "display_data"
    }
   ],
   "source": [
    "# plotting budget and revenue with a linear y scale (left) and log y scale (right)\n",
    "# linear regression line is also shown on the left plot\n",
    "fig, axes = plt.subplots(1, 2, figsize=(12, 6))\n",
    "sns.regplot(\n",
    "    ax=axes[0],\n",
    "    data=movies_merged[movies_merged[\"budget\"] > 0],\n",
    "    x=\"budget_adjusted\",\n",
    "    y=\"revenue_adjusted\",\n",
    "    line_kws={\"color\": \"red\"},\n",
    ")\n",
    "sns.scatterplot(\n",
    "    ax=axes[1],\n",
    "    data=movies_merged[movies_merged[\"budget\"] > 0],\n",
    "    x=\"budget_adjusted\",\n",
    "    y=\"revenue_adjusted\",\n",
    ")\n",
    "axes[1].set_yscale(\"log\")\n",
    "plt.show()"
   ]
  },
  {
   "cell_type": "code",
   "execution_count": 39,
   "metadata": {},
   "outputs": [
    {
     "name": "stdout",
     "output_type": "stream",
     "text": [
      "Pearson Correlation:  PearsonRResult(statistic=0.5724566337607276, pvalue=1.6009645455038403e-153)\n",
      "Spearman Correlation:  SignificanceResult(statistic=0.6065418845886248, pvalue=4.8997242761544745e-177)\n"
     ]
    }
   ],
   "source": [
    "# check correlation between budget and revenue with pearson and spearman\n",
    "print(\n",
    "    \"Pearson Correlation: \",\n",
    "    stats.pearsonr(\n",
    "        movies_merged[movies_merged[\"budget\"] > 0][\"budget_adjusted\"],\n",
    "        movies_merged[movies_merged[\"budget\"] > 0][\"revenue_adjusted\"],\n",
    "    ),\n",
    ")\n",
    "print(\n",
    "    \"Spearman Correlation: \",\n",
    "    stats.spearmanr(\n",
    "        movies_merged[movies_merged[\"budget\"] > 0][\"budget_adjusted\"],\n",
    "        movies_merged[movies_merged[\"budget\"] > 0][\"revenue_adjusted\"],\n",
    "    ),\n",
    ")"
   ]
  },
  {
   "cell_type": "markdown",
   "metadata": {},
   "source": [
    "Which 5 movies made the most and the least profit? Could it happen that some movies even made a loss?"
   ]
  },
  {
   "cell_type": "code",
   "execution_count": 40,
   "metadata": {},
   "outputs": [
    {
     "data": {
      "text/html": [
       "<div>\n",
       "<style scoped>\n",
       "    .dataframe tbody tr th:only-of-type {\n",
       "        vertical-align: middle;\n",
       "    }\n",
       "\n",
       "    .dataframe tbody tr th {\n",
       "        vertical-align: top;\n",
       "    }\n",
       "\n",
       "    .dataframe thead th {\n",
       "        text-align: right;\n",
       "    }\n",
       "</style>\n",
       "<table border=\"1\" class=\"dataframe\">\n",
       "  <thead>\n",
       "    <tr style=\"text-align: right;\">\n",
       "      <th></th>\n",
       "      <th>title</th>\n",
       "      <th>year</th>\n",
       "      <th>profit</th>\n",
       "    </tr>\n",
       "  </thead>\n",
       "  <tbody>\n",
       "    <tr>\n",
       "      <th>3533</th>\n",
       "      <td>Titanic</td>\n",
       "      <td>1997</td>\n",
       "      <td>2.839764e+09</td>\n",
       "    </tr>\n",
       "    <tr>\n",
       "      <th>5928</th>\n",
       "      <td>The Sound of Music</td>\n",
       "      <td>1965</td>\n",
       "      <td>2.025826e+09</td>\n",
       "    </tr>\n",
       "    <tr>\n",
       "      <th>3427</th>\n",
       "      <td>Jurassic Park</td>\n",
       "      <td>1993</td>\n",
       "      <td>1.353630e+09</td>\n",
       "    </tr>\n",
       "    <tr>\n",
       "      <th>4006</th>\n",
       "      <td>The Lord of the Rings: The Two Towers</td>\n",
       "      <td>2002</td>\n",
       "      <td>1.081178e+09</td>\n",
       "    </tr>\n",
       "    <tr>\n",
       "      <th>2743</th>\n",
       "      <td>Finding Nemo</td>\n",
       "      <td>2003</td>\n",
       "      <td>1.032297e+09</td>\n",
       "    </tr>\n",
       "  </tbody>\n",
       "</table>\n",
       "</div>"
      ],
      "text/plain": [
       "                                      title  year        profit\n",
       "3533                                Titanic  1997  2.839764e+09\n",
       "5928                     The Sound of Music  1965  2.025826e+09\n",
       "3427                          Jurassic Park  1993  1.353630e+09\n",
       "4006  The Lord of the Rings: The Two Towers  2002  1.081178e+09\n",
       "2743                           Finding Nemo  2003  1.032297e+09"
      ]
     },
     "metadata": {},
     "output_type": "display_data"
    },
    {
     "name": "stdout",
     "output_type": "stream",
     "text": [
      "Number of movies that made profit:  2377\n"
     ]
    },
    {
     "data": {
      "text/html": [
       "<div>\n",
       "<style scoped>\n",
       "    .dataframe tbody tr th:only-of-type {\n",
       "        vertical-align: middle;\n",
       "    }\n",
       "\n",
       "    .dataframe tbody tr th {\n",
       "        vertical-align: top;\n",
       "    }\n",
       "\n",
       "    .dataframe thead th {\n",
       "        text-align: right;\n",
       "    }\n",
       "</style>\n",
       "<table border=\"1\" class=\"dataframe\">\n",
       "  <thead>\n",
       "    <tr style=\"text-align: right;\">\n",
       "      <th></th>\n",
       "      <th>title</th>\n",
       "      <th>year</th>\n",
       "      <th>profit</th>\n",
       "    </tr>\n",
       "  </thead>\n",
       "  <tbody>\n",
       "    <tr>\n",
       "      <th>5552</th>\n",
       "      <td>The Alamo</td>\n",
       "      <td>2004</td>\n",
       "      <td>-1.448673e+08</td>\n",
       "    </tr>\n",
       "    <tr>\n",
       "      <th>472</th>\n",
       "      <td>The 13th Warrior</td>\n",
       "      <td>1999</td>\n",
       "      <td>-1.354905e+08</td>\n",
       "    </tr>\n",
       "    <tr>\n",
       "      <th>4119</th>\n",
       "      <td>The Adventures of Pluto Nash</td>\n",
       "      <td>2002</td>\n",
       "      <td>-1.185783e+08</td>\n",
       "    </tr>\n",
       "    <tr>\n",
       "      <th>5903</th>\n",
       "      <td>Mars Needs Moms</td>\n",
       "      <td>2011</td>\n",
       "      <td>-1.133044e+08</td>\n",
       "    </tr>\n",
       "    <tr>\n",
       "      <th>71</th>\n",
       "      <td>Town &amp; Country</td>\n",
       "      <td>2001</td>\n",
       "      <td>-1.032495e+08</td>\n",
       "    </tr>\n",
       "  </tbody>\n",
       "</table>\n",
       "</div>"
      ],
      "text/plain": [
       "                             title  year        profit\n",
       "5552                     The Alamo  2004 -1.448673e+08\n",
       "472               The 13th Warrior  1999 -1.354905e+08\n",
       "4119  The Adventures of Pluto Nash  2002 -1.185783e+08\n",
       "5903               Mars Needs Moms  2011 -1.133044e+08\n",
       "71                  Town & Country  2001 -1.032495e+08"
      ]
     },
     "metadata": {},
     "output_type": "display_data"
    },
    {
     "name": "stdout",
     "output_type": "stream",
     "text": [
      "Number of movies that made loss:  527\n"
     ]
    }
   ],
   "source": [
    "movies_merged[\"profit\"] = (\n",
    "    movies_merged[\"revenue_adjusted\"] - movies_merged[\"budget_adjusted\"]\n",
    ")\n",
    "display(\n",
    "    movies_merged.sort_values(by=[\"profit\"], ascending=False).head(5)[\n",
    "        [\"title\", \"year\", \"profit\"]\n",
    "    ]\n",
    ")\n",
    "print(\n",
    "    \"Number of movies that made profit: \",\n",
    "    len(movies_merged[movies_merged[\"profit\"] > 0]),\n",
    ")\n",
    "display(\n",
    "    movies_merged.sort_values(by=[\"profit\"], ascending=True).head(5)[\n",
    "        [\"title\", \"year\", \"profit\"]\n",
    "    ]\n",
    ")\n",
    "print(\n",
    "    \"Number of movies that made loss: \", len(movies_merged[movies_merged[\"profit\"] < 0])\n",
    ")"
   ]
  },
  {
   "cell_type": "markdown",
   "metadata": {},
   "source": [
    "Fun fact: The movies that lost money are called box office bombs!"
   ]
  },
  {
   "cell_type": "markdown",
   "metadata": {},
   "source": [
    "Has the trend of profit changed over time? Should we expect to see more movies with higher profit in the future?"
   ]
  },
  {
   "cell_type": "code",
   "execution_count": 41,
   "metadata": {},
   "outputs": [
    {
     "data": {
      "image/png": "[encoded data removed]",
      "text/plain": [
       "<Figure size 1200x600 with 1 Axes>"
      ]
     },
     "metadata": {},
     "output_type": "display_data"
    }
   ],
   "source": [
    "# plot the profit of movies over time\n",
    "plt.figure(figsize=(12, 6))\n",
    "plt.plot(\n",
    "    movies_merged.groupby(pd.to_datetime(movies_merged[\"year\"]))[\"profit\"].mean(),\n",
    "    label=\"Profit\",\n",
    ")\n",
    "plt.title(\"Movie Profit Over Time\")\n",
    "plt.xlabel(\"Year\")\n",
    "plt.yscale(\"log\")\n",
    "plt.ylabel(\"Profit\")\n",
    "plt.legend()\n",
    "plt.show()"
   ]
  },
  {
   "cell_type": "code",
   "execution_count": 42,
   "metadata": {},
   "outputs": [
    {
     "name": "stdout",
     "output_type": "stream",
     "text": [
      "Year with highest profit:  1965\n",
      "Year with lowest profit:  2005\n"
     ]
    }
   ],
   "source": [
    "# create a list storing the profit for each year\n",
    "profit_per_year = []\n",
    "for year in movies_merged[\"year\"].unique():\n",
    "    profit_per_year.append(\n",
    "        movies_merged[movies_merged[\"year\"] == year][\"profit\"].mean()\n",
    "    )\n",
    "\n",
    "# year with the highest and lowest profit\n",
    "print(\n",
    "    \"Year with highest profit: \",\n",
    "    movies_merged[\"year\"].unique()[np.argmax(profit_per_year)],\n",
    ")\n",
    "print(\n",
    "    \"Year with lowest profit: \",\n",
    "    movies_merged[\"year\"].unique()[np.argmin(profit_per_year)],\n",
    ")"
   ]
  },
  {
   "cell_type": "markdown",
   "metadata": {},
   "source": [
    "Here we perform a one-way ANOVA test to check if the mean profit of movies is the same for all years. This would show whether there exists a significant difference in the mean profit of movies for different years.\n",
    "\n"
   ]
  },
  {
   "cell_type": "code",
   "execution_count": 43,
   "metadata": {},
   "outputs": [
    {
     "name": "stdout",
     "output_type": "stream",
     "text": [
      "F_onewayResult(statistic=59.844030527654624, pvalue=7.593443868291866e-12)\n",
      "SignificanceResult(statistic=-0.6290446512422094, pvalue=5.902103012475865e-07)\n"
     ]
    }
   ],
   "source": [
    "print(stats.f_oneway(movies_merged[\"year\"].unique(), profit_per_year))\n",
    "print(stats.spearmanr(movies_merged[\"year\"].unique(), profit_per_year))"
   ]
  },
  {
   "cell_type": "markdown",
   "metadata": {},
   "source": [
    "We can see with the one way Anova test that the means are different for different years, so we can reject the null hypothesis. However, the statistic is small, so the difference is not very significant. Additionally, with the Spearman correlation test we can see that there is a weak negative correlation between the year and the profit. This means that the profit decreases over time, as can also be seen on the plot. We cannot clearly separate the factors that influence the decrease in profit, but following this trend we should expect that the profit will decrease in the future as well."
   ]
  },
  {
   "cell_type": "markdown",
   "metadata": {},
   "source": [
    "What were the chances of a movie making an outstanding profit in the past?"
   ]
  },
  {
   "cell_type": "code",
   "execution_count": 44,
   "metadata": {},
   "outputs": [
    {
     "data": {
      "image/png": "[encoded data removed]",
      "text/plain": [
       "<Figure size 1200x600 with 1 Axes>"
      ]
     },
     "metadata": {},
     "output_type": "display_data"
    }
   ],
   "source": [
    "all_profits = movies_merged[movies_merged[\"budget\"] > 0][[\"profit\", \"budget\"]]\n",
    "plt.figure(figsize=(12, 6))\n",
    "sns.boxplot(\n",
    "    data=all_profits[\"profit\"], flierprops=dict(markerfacecolor=\"r\", marker=\"o\")\n",
    ")\n",
    "plt.title(\"Profit Distribution\")\n",
    "plt.xlabel(\"Profit\")\n",
    "plt.yscale(\"linear\")\n",
    "plt.show()"
   ]
  },
  {
   "cell_type": "markdown",
   "metadata": {},
   "source": [
    "We will try to briefly characterize the red dots (outliers) from the above boxplot."
   ]
  },
  {
   "cell_type": "code",
   "execution_count": 45,
   "metadata": {},
   "outputs": [
    {
     "name": "stdout",
     "output_type": "stream",
     "text": [
      "Number of movies with an exceptional profit:  177\n",
      "Chances of a movie making exceptional profit in the past:  10.07 %\n"
     ]
    }
   ],
   "source": [
    "# calculate the number of positive outliers in the boxplot distribution\n",
    "q1 = all_profits[\"profit\"].quantile(0.25)\n",
    "q3 = all_profits[\"profit\"].quantile(0.75)\n",
    "iqr = q3 - q1\n",
    "upper_bound = q3 + (1.5 * iqr)\n",
    "exceptional_profits = all_profits[all_profits[\"profit\"] > upper_bound]\n",
    "print(\"Number of movies with an exceptional profit: \", len(exceptional_profits))\n",
    "# print chances of movie making exceptional profit formatted in %\n",
    "print(\n",
    "    \"Chances of a movie making exceptional profit in the past: \",\n",
    "    \"{:.2f}\".format(len(exceptional_profits) / len(all_profits) * 100),\n",
    "    \"%\",\n",
    ")"
   ]
  },
  {
   "cell_type": "markdown",
   "metadata": {},
   "source": [
    "Furthermore, we want to analyze movies that had a high return on investment (ROI). These are the movies that had a high return on investment despite having a possibly low budget. Here are some differences in terms of representing profit and ROI: Scale: - Profit: real monetary amount gained or lost - ROI: percentage of the original investment that was gained or lost Direction: - Profit: positive or negative financial gain - ROI: positive or negative percentage of the original investment Interpretation: - Profit: straightforward absolute measure of financial success or failure in terms of dollars - ROI: relative measure of financial success or failure in terms of percentage of the original investment"
   ]
  },
  {
   "cell_type": "code",
   "execution_count": 56,
   "metadata": {},
   "outputs": [
    {
     "data": {
      "text/html": [
       "<div>\n",
       "<style scoped>\n",
       "    .dataframe tbody tr th:only-of-type {\n",
       "        vertical-align: middle;\n",
       "    }\n",
       "\n",
       "    .dataframe tbody tr th {\n",
       "        vertical-align: top;\n",
       "    }\n",
       "\n",
       "    .dataframe thead th {\n",
       "        text-align: right;\n",
       "    }\n",
       "</style>\n",
       "<table border=\"1\" class=\"dataframe\">\n",
       "  <thead>\n",
       "    <tr style=\"text-align: right;\">\n",
       "      <th></th>\n",
       "      <th>wikipedia_id</th>\n",
       "      <th>freebase_movie_id</th>\n",
       "      <th>title</th>\n",
       "      <th>release_date</th>\n",
       "      <th>revenue</th>\n",
       "      <th>runtime</th>\n",
       "      <th>languages</th>\n",
       "      <th>countries</th>\n",
       "      <th>genres</th>\n",
       "      <th>year</th>\n",
       "      <th>...</th>\n",
       "      <th>num_votes</th>\n",
       "      <th>budget</th>\n",
       "      <th>popularity</th>\n",
       "      <th>vote_average</th>\n",
       "      <th>vote_count</th>\n",
       "      <th>cpi</th>\n",
       "      <th>revenue_adjusted</th>\n",
       "      <th>budget_adjusted</th>\n",
       "      <th>profit</th>\n",
       "      <th>roi</th>\n",
       "    </tr>\n",
       "  </thead>\n",
       "  <tbody>\n",
       "    <tr>\n",
       "      <th>2574</th>\n",
       "      <td>3815680</td>\n",
       "      <td>/m/0b1dth</td>\n",
       "      <td>Slam</td>\n",
       "      <td>1998-10-07</td>\n",
       "      <td>1009819.0</td>\n",
       "      <td>100</td>\n",
       "      <td>{\"/m/02h40lc\": \"English Language\"}</td>\n",
       "      <td>{\"/m/09c7w0\": \"United States of America\"}</td>\n",
       "      <td>{\"/m/0lsxr\": \"Crime Fiction\", \"/m/026v1nw\": \"H...</td>\n",
       "      <td>1998</td>\n",
       "      <td>...</td>\n",
       "      <td>2411.0</td>\n",
       "      <td>1.0</td>\n",
       "      <td>0.555304</td>\n",
       "      <td>6.7</td>\n",
       "      <td>7.0</td>\n",
       "      <td>74.755433</td>\n",
       "      <td>1.422309e+06</td>\n",
       "      <td>1.40848</td>\n",
       "      <td>1.422308e+06</td>\n",
       "      <td>100981800.0</td>\n",
       "    </tr>\n",
       "  </tbody>\n",
       "</table>\n",
       "<p>1 rows × 25 columns</p>\n",
       "</div>"
      ],
      "text/plain": [
       "     wikipedia_id freebase_movie_id title release_date    revenue runtime  \\\n",
       "2574      3815680         /m/0b1dth  Slam   1998-10-07  1009819.0     100   \n",
       "\n",
       "                               languages  \\\n",
       "2574  {\"/m/02h40lc\": \"English Language\"}   \n",
       "\n",
       "                                      countries  \\\n",
       "2574  {\"/m/09c7w0\": \"United States of America\"}   \n",
       "\n",
       "                                                 genres  year  ... num_votes  \\\n",
       "2574  {\"/m/0lsxr\": \"Crime Fiction\", \"/m/026v1nw\": \"H...  1998  ...    2411.0   \n",
       "\n",
       "     budget popularity vote_average  vote_count        cpi  revenue_adjusted  \\\n",
       "2574    1.0   0.555304          6.7         7.0  74.755433      1.422309e+06   \n",
       "\n",
       "     budget_adjusted        profit          roi  \n",
       "2574         1.40848  1.422308e+06  100981800.0  \n",
       "\n",
       "[1 rows x 25 columns]"
      ]
     },
     "execution_count": 56,
     "metadata": {},
     "output_type": "execute_result"
    }
   ],
   "source": [
    "movies_merged[movies_merged[\"title\"] == \"Slam\"]"
   ]
  },
  {
   "cell_type": "code",
   "execution_count": 46,
   "metadata": {},
   "outputs": [
    {
     "data": {
      "text/html": [
       "<div>\n",
       "<style scoped>\n",
       "    .dataframe tbody tr th:only-of-type {\n",
       "        vertical-align: middle;\n",
       "    }\n",
       "\n",
       "    .dataframe tbody tr th {\n",
       "        vertical-align: top;\n",
       "    }\n",
       "\n",
       "    .dataframe thead th {\n",
       "        text-align: right;\n",
       "    }\n",
       "</style>\n",
       "<table border=\"1\" class=\"dataframe\">\n",
       "  <thead>\n",
       "    <tr style=\"text-align: right;\">\n",
       "      <th></th>\n",
       "      <th>title</th>\n",
       "      <th>year</th>\n",
       "      <th>roi</th>\n",
       "    </tr>\n",
       "  </thead>\n",
       "  <tbody>\n",
       "    <tr>\n",
       "      <th>4617</th>\n",
       "      <td>Less Than Zero</td>\n",
       "      <td>1987</td>\n",
       "      <td>1.239638e+09</td>\n",
       "    </tr>\n",
       "    <tr>\n",
       "      <th>2122</th>\n",
       "      <td>The Prophecy</td>\n",
       "      <td>1995</td>\n",
       "      <td>2.014484e+08</td>\n",
       "    </tr>\n",
       "    <tr>\n",
       "      <th>2574</th>\n",
       "      <td>Slam</td>\n",
       "      <td>1998</td>\n",
       "      <td>1.009818e+08</td>\n",
       "    </tr>\n",
       "    <tr>\n",
       "      <th>2112</th>\n",
       "      <td>Miami Rhapsody</td>\n",
       "      <td>1995</td>\n",
       "      <td>8.702125e+07</td>\n",
       "    </tr>\n",
       "    <tr>\n",
       "      <th>3382</th>\n",
       "      <td>Striking Distance</td>\n",
       "      <td>1993</td>\n",
       "      <td>8.035946e+07</td>\n",
       "    </tr>\n",
       "  </tbody>\n",
       "</table>\n",
       "</div>"
      ],
      "text/plain": [
       "                  title  year           roi\n",
       "4617     Less Than Zero  1987  1.239638e+09\n",
       "2122       The Prophecy  1995  2.014484e+08\n",
       "2574               Slam  1998  1.009818e+08\n",
       "2112     Miami Rhapsody  1995  8.702125e+07\n",
       "3382  Striking Distance  1993  8.035946e+07"
      ]
     },
     "metadata": {},
     "output_type": "display_data"
    }
   ],
   "source": [
    "# calculate ROI for movies with budget > 0\n",
    "movies_merged[\"roi\"] = (\n",
    "    movies_merged[\"profit\"] / movies_merged[\"budget_adjusted\"]\n",
    ") * 100\n",
    "\n",
    "# remove inf and NaN rows due to division of zero\n",
    "movies_merged = movies_merged.replace([np.inf, -np.inf], np.nan)\n",
    "movies_merged = movies_merged.dropna(subset=[\"roi\"])\n",
    "\n",
    "# identify top 5 movies with highest ROI\n",
    "display(\n",
    "    movies_merged.sort_values(by=[\"roi\"], ascending=False).head(5)[\n",
    "        [\"title\", \"year\", \"roi\"]\n",
    "    ]\n",
    ")"
   ]
  },
  {
   "cell_type": "markdown",
   "metadata": {},
   "source": [
    "We can see these movies are different from the ones that had the highest profit. They had a much lower budget, but a much higher ROI. This means that they had a much higher return on investment, despite having a lower budget."
   ]
  },
  {
   "cell_type": "markdown",
   "metadata": {},
   "source": []
  },
  {
   "cell_type": "markdown",
   "metadata": {},
   "source": []
  }
 ],
 "metadata": {
  "kernelspec": {
   "display_name": "ada",
   "language": "python",
   "name": "python3"
  },
  "language_info": {
   "codemirror_mode": {
    "name": "ipython",
    "version": 3
   },
   "file_extension": ".py",
   "mimetype": "text/x-python",
   "name": "python",
   "nbconvert_exporter": "python",
   "pygments_lexer": "ipython3",
   "version": "3.9.18"
  }
 },
 "nbformat": 4,
 "nbformat_minor": 2
}
